{
  "nbformat": 4,
  "nbformat_minor": 0,
  "metadata": {
    "colab": {
      "name": "Satellite_image_classification.ipynb",
      "provenance": [],
      "collapsed_sections": []
    },
    "kernelspec": {
      "name": "python3",
      "display_name": "Python 3"
    }
  },
  "cells": [
    {
      "cell_type": "code",
      "metadata": {
        "colab": {
          "base_uri": "https://localhost:8080/"
        },
        "id": "FdmGA2eUl3eV",
        "outputId": "5b939a90-b54d-49d0-e3e8-ca3656b031a2"
      },
      "source": [
        "!apt install unzip\n",
        "!unzip '/content/data.zip' -d '/content/data'"
      ],
      "execution_count": null,
      "outputs": [
        {
          "output_type": "stream",
          "text": [
            "\u001b[1;30;43mStreaming output truncated to the last 5000 lines.\u001b[0m\n",
            "  inflating: /content/data/data/River_1449.jpg  \n",
            "  inflating: /content/data/data/River_145.jpg  \n",
            "  inflating: /content/data/data/River_1450.jpg  \n",
            "  inflating: /content/data/data/River_1451.jpg  \n",
            "  inflating: /content/data/data/River_1452.jpg  \n",
            "  inflating: /content/data/data/River_1453.jpg  \n",
            "  inflating: /content/data/data/River_1454.jpg  \n",
            "  inflating: /content/data/data/River_1455.jpg  \n",
            "  inflating: /content/data/data/River_1456.jpg  \n",
            "  inflating: /content/data/data/River_1457.jpg  \n",
            "  inflating: /content/data/data/River_1458.jpg  \n",
            "  inflating: /content/data/data/River_1459.jpg  \n",
            "  inflating: /content/data/data/River_146.jpg  \n",
            "  inflating: /content/data/data/River_1460.jpg  \n",
            "  inflating: /content/data/data/River_1461.jpg  \n",
            "  inflating: /content/data/data/River_1462.jpg  \n",
            "  inflating: /content/data/data/River_1463.jpg  \n",
            "  inflating: /content/data/data/River_1464.jpg  \n",
            "  inflating: /content/data/data/River_1465.jpg  \n",
            "  inflating: /content/data/data/River_1466.jpg  \n",
            "  inflating: /content/data/data/River_1467.jpg  \n",
            "  inflating: /content/data/data/River_1468.jpg  \n",
            "  inflating: /content/data/data/River_1469.jpg  \n",
            "  inflating: /content/data/data/River_147.jpg  \n",
            "  inflating: /content/data/data/River_1470.jpg  \n",
            "  inflating: /content/data/data/River_1471.jpg  \n",
            "  inflating: /content/data/data/River_1472.jpg  \n",
            "  inflating: /content/data/data/River_1473.jpg  \n",
            "  inflating: /content/data/data/River_1474.jpg  \n",
            "  inflating: /content/data/data/River_1475.jpg  \n",
            "  inflating: /content/data/data/River_1476.jpg  \n",
            "  inflating: /content/data/data/River_1477.jpg  \n",
            "  inflating: /content/data/data/River_1478.jpg  \n",
            "  inflating: /content/data/data/River_1479.jpg  \n",
            "  inflating: /content/data/data/River_148.jpg  \n",
            "  inflating: /content/data/data/River_1480.jpg  \n",
            "  inflating: /content/data/data/River_1481.jpg  \n",
            "  inflating: /content/data/data/River_1482.jpg  \n",
            "  inflating: /content/data/data/River_1483.jpg  \n",
            "  inflating: /content/data/data/River_1484.jpg  \n",
            "  inflating: /content/data/data/River_1485.jpg  \n",
            "  inflating: /content/data/data/River_1486.jpg  \n",
            "  inflating: /content/data/data/River_1487.jpg  \n",
            "  inflating: /content/data/data/River_1488.jpg  \n",
            "  inflating: /content/data/data/River_1489.jpg  \n",
            "  inflating: /content/data/data/River_149.jpg  \n",
            "  inflating: /content/data/data/River_1490.jpg  \n",
            "  inflating: /content/data/data/River_1491.jpg  \n",
            "  inflating: /content/data/data/River_1492.jpg  \n",
            "  inflating: /content/data/data/River_1493.jpg  \n",
            "  inflating: /content/data/data/River_1494.jpg  \n",
            "  inflating: /content/data/data/River_1495.jpg  \n",
            "  inflating: /content/data/data/River_1496.jpg  \n",
            "  inflating: /content/data/data/River_1497.jpg  \n",
            "  inflating: /content/data/data/River_1498.jpg  \n",
            "  inflating: /content/data/data/River_1499.jpg  \n",
            "  inflating: /content/data/data/River_15.jpg  \n",
            "  inflating: /content/data/data/River_150.jpg  \n",
            "  inflating: /content/data/data/River_1500.jpg  \n",
            "  inflating: /content/data/data/River_1501.jpg  \n",
            "  inflating: /content/data/data/River_1502.jpg  \n",
            "  inflating: /content/data/data/River_1503.jpg  \n",
            "  inflating: /content/data/data/River_1504.jpg  \n",
            "  inflating: /content/data/data/River_1505.jpg  \n",
            "  inflating: /content/data/data/River_1506.jpg  \n",
            "  inflating: /content/data/data/River_1507.jpg  \n",
            "  inflating: /content/data/data/River_1508.jpg  \n",
            "  inflating: /content/data/data/River_1509.jpg  \n",
            "  inflating: /content/data/data/River_151.jpg  \n",
            "  inflating: /content/data/data/River_1510.jpg  \n",
            "  inflating: /content/data/data/River_1511.jpg  \n",
            "  inflating: /content/data/data/River_1512.jpg  \n",
            "  inflating: /content/data/data/River_1513.jpg  \n",
            "  inflating: /content/data/data/River_1514.jpg  \n",
            "  inflating: /content/data/data/River_1515.jpg  \n",
            "  inflating: /content/data/data/River_1516.jpg  \n",
            "  inflating: /content/data/data/River_1517.jpg  \n",
            "  inflating: /content/data/data/River_1518.jpg  \n",
            "  inflating: /content/data/data/River_1519.jpg  \n",
            "  inflating: /content/data/data/River_152.jpg  \n",
            "  inflating: /content/data/data/River_1520.jpg  \n",
            "  inflating: /content/data/data/River_1521.jpg  \n",
            "  inflating: /content/data/data/River_1522.jpg  \n",
            "  inflating: /content/data/data/River_1523.jpg  \n",
            "  inflating: /content/data/data/River_1524.jpg  \n",
            "  inflating: /content/data/data/River_1525.jpg  \n",
            "  inflating: /content/data/data/River_1526.jpg  \n",
            "  inflating: /content/data/data/River_1527.jpg  \n",
            "  inflating: /content/data/data/River_1528.jpg  \n",
            "  inflating: /content/data/data/River_1529.jpg  \n",
            "  inflating: /content/data/data/River_153.jpg  \n",
            "  inflating: /content/data/data/River_1530.jpg  \n",
            "  inflating: /content/data/data/River_1531.jpg  \n",
            "  inflating: /content/data/data/River_1532.jpg  \n",
            "  inflating: /content/data/data/River_1533.jpg  \n",
            "  inflating: /content/data/data/River_1534.jpg  \n",
            "  inflating: /content/data/data/River_1535.jpg  \n",
            "  inflating: /content/data/data/River_1536.jpg  \n",
            "  inflating: /content/data/data/River_1537.jpg  \n",
            "  inflating: /content/data/data/River_1538.jpg  \n",
            "  inflating: /content/data/data/River_1539.jpg  \n",
            "  inflating: /content/data/data/River_154.jpg  \n",
            "  inflating: /content/data/data/River_1540.jpg  \n",
            "  inflating: /content/data/data/River_1541.jpg  \n",
            "  inflating: /content/data/data/River_1542.jpg  \n",
            "  inflating: /content/data/data/River_1543.jpg  \n",
            "  inflating: /content/data/data/River_1544.jpg  \n",
            "  inflating: /content/data/data/River_1545.jpg  \n",
            "  inflating: /content/data/data/River_1546.jpg  \n",
            "  inflating: /content/data/data/River_1547.jpg  \n",
            "  inflating: /content/data/data/River_1548.jpg  \n",
            "  inflating: /content/data/data/River_1549.jpg  \n",
            "  inflating: /content/data/data/River_155.jpg  \n",
            "  inflating: /content/data/data/River_1550.jpg  \n",
            "  inflating: /content/data/data/River_1551.jpg  \n",
            "  inflating: /content/data/data/River_1552.jpg  \n",
            "  inflating: /content/data/data/River_1553.jpg  \n",
            "  inflating: /content/data/data/River_1554.jpg  \n",
            "  inflating: /content/data/data/River_1555.jpg  \n",
            "  inflating: /content/data/data/River_1556.jpg  \n",
            "  inflating: /content/data/data/River_1557.jpg  \n",
            "  inflating: /content/data/data/River_1558.jpg  \n",
            "  inflating: /content/data/data/River_1559.jpg  \n",
            "  inflating: /content/data/data/River_156.jpg  \n",
            "  inflating: /content/data/data/River_1560.jpg  \n",
            "  inflating: /content/data/data/River_1561.jpg  \n",
            "  inflating: /content/data/data/River_1562.jpg  \n",
            "  inflating: /content/data/data/River_1563.jpg  \n",
            "  inflating: /content/data/data/River_1564.jpg  \n",
            "  inflating: /content/data/data/River_1565.jpg  \n",
            "  inflating: /content/data/data/River_1566.jpg  \n",
            "  inflating: /content/data/data/River_1567.jpg  \n",
            "  inflating: /content/data/data/River_1568.jpg  \n",
            "  inflating: /content/data/data/River_1569.jpg  \n",
            "  inflating: /content/data/data/River_157.jpg  \n",
            "  inflating: /content/data/data/River_1570.jpg  \n",
            "  inflating: /content/data/data/River_1571.jpg  \n",
            "  inflating: /content/data/data/River_1572.jpg  \n",
            "  inflating: /content/data/data/River_1573.jpg  \n",
            "  inflating: /content/data/data/River_1574.jpg  \n",
            "  inflating: /content/data/data/River_1575.jpg  \n",
            "  inflating: /content/data/data/River_1576.jpg  \n",
            "  inflating: /content/data/data/River_1577.jpg  \n",
            "  inflating: /content/data/data/River_1578.jpg  \n",
            "  inflating: /content/data/data/River_1579.jpg  \n",
            "  inflating: /content/data/data/River_158.jpg  \n",
            "  inflating: /content/data/data/River_1580.jpg  \n",
            "  inflating: /content/data/data/River_1581.jpg  \n",
            "  inflating: /content/data/data/River_1582.jpg  \n",
            "  inflating: /content/data/data/River_1583.jpg  \n",
            "  inflating: /content/data/data/River_1584.jpg  \n",
            "  inflating: /content/data/data/River_1585.jpg  \n",
            "  inflating: /content/data/data/River_1586.jpg  \n",
            "  inflating: /content/data/data/River_1587.jpg  \n",
            "  inflating: /content/data/data/River_1588.jpg  \n",
            "  inflating: /content/data/data/River_1589.jpg  \n",
            "  inflating: /content/data/data/River_159.jpg  \n",
            "  inflating: /content/data/data/River_1590.jpg  \n",
            "  inflating: /content/data/data/River_1591.jpg  \n",
            "  inflating: /content/data/data/River_1592.jpg  \n",
            "  inflating: /content/data/data/River_1593.jpg  \n",
            "  inflating: /content/data/data/River_1594.jpg  \n",
            "  inflating: /content/data/data/River_1595.jpg  \n",
            "  inflating: /content/data/data/River_1596.jpg  \n",
            "  inflating: /content/data/data/River_1597.jpg  \n",
            "  inflating: /content/data/data/River_1598.jpg  \n",
            "  inflating: /content/data/data/River_1599.jpg  \n",
            "  inflating: /content/data/data/River_16.jpg  \n",
            "  inflating: /content/data/data/River_160.jpg  \n",
            "  inflating: /content/data/data/River_1600.jpg  \n",
            "  inflating: /content/data/data/River_1601.jpg  \n",
            "  inflating: /content/data/data/River_1602.jpg  \n",
            "  inflating: /content/data/data/River_1603.jpg  \n",
            "  inflating: /content/data/data/River_1604.jpg  \n",
            "  inflating: /content/data/data/River_1605.jpg  \n",
            "  inflating: /content/data/data/River_1606.jpg  \n",
            "  inflating: /content/data/data/River_1607.jpg  \n",
            "  inflating: /content/data/data/River_1608.jpg  \n",
            "  inflating: /content/data/data/River_1609.jpg  \n",
            "  inflating: /content/data/data/River_161.jpg  \n",
            "  inflating: /content/data/data/River_1610.jpg  \n",
            "  inflating: /content/data/data/River_1611.jpg  \n",
            "  inflating: /content/data/data/River_1612.jpg  \n",
            "  inflating: /content/data/data/River_1613.jpg  \n",
            "  inflating: /content/data/data/River_1614.jpg  \n",
            "  inflating: /content/data/data/River_1615.jpg  \n",
            "  inflating: /content/data/data/River_1616.jpg  \n",
            "  inflating: /content/data/data/River_1617.jpg  \n",
            "  inflating: /content/data/data/River_1618.jpg  \n",
            "  inflating: /content/data/data/River_1619.jpg  \n",
            "  inflating: /content/data/data/River_162.jpg  \n",
            "  inflating: /content/data/data/River_1620.jpg  \n",
            "  inflating: /content/data/data/River_1621.jpg  \n",
            "  inflating: /content/data/data/River_1622.jpg  \n",
            "  inflating: /content/data/data/River_1623.jpg  \n",
            "  inflating: /content/data/data/River_1624.jpg  \n",
            "  inflating: /content/data/data/River_1625.jpg  \n",
            "  inflating: /content/data/data/River_1626.jpg  \n",
            "  inflating: /content/data/data/River_1627.jpg  \n",
            "  inflating: /content/data/data/River_1628.jpg  \n",
            "  inflating: /content/data/data/River_1629.jpg  \n",
            "  inflating: /content/data/data/River_163.jpg  \n",
            "  inflating: /content/data/data/River_1630.jpg  \n",
            "  inflating: /content/data/data/River_1631.jpg  \n",
            "  inflating: /content/data/data/River_1632.jpg  \n",
            "  inflating: /content/data/data/River_1633.jpg  \n",
            "  inflating: /content/data/data/River_1634.jpg  \n",
            "  inflating: /content/data/data/River_1635.jpg  \n",
            "  inflating: /content/data/data/River_1636.jpg  \n",
            "  inflating: /content/data/data/River_1637.jpg  \n",
            "  inflating: /content/data/data/River_1638.jpg  \n",
            "  inflating: /content/data/data/River_1639.jpg  \n",
            "  inflating: /content/data/data/River_164.jpg  \n",
            "  inflating: /content/data/data/River_1640.jpg  \n",
            "  inflating: /content/data/data/River_1641.jpg  \n",
            "  inflating: /content/data/data/River_1642.jpg  \n",
            "  inflating: /content/data/data/River_1643.jpg  \n",
            "  inflating: /content/data/data/River_1644.jpg  \n",
            "  inflating: /content/data/data/River_1645.jpg  \n",
            "  inflating: /content/data/data/River_1646.jpg  \n",
            "  inflating: /content/data/data/River_1647.jpg  \n",
            "  inflating: /content/data/data/River_1648.jpg  \n",
            "  inflating: /content/data/data/River_1649.jpg  \n",
            "  inflating: /content/data/data/River_165.jpg  \n",
            "  inflating: /content/data/data/River_1650.jpg  \n",
            "  inflating: /content/data/data/River_1651.jpg  \n",
            "  inflating: /content/data/data/River_1652.jpg  \n",
            "  inflating: /content/data/data/River_1653.jpg  \n",
            "  inflating: /content/data/data/River_1654.jpg  \n",
            "  inflating: /content/data/data/River_1655.jpg  \n",
            "  inflating: /content/data/data/River_1656.jpg  \n",
            "  inflating: /content/data/data/River_1657.jpg  \n",
            "  inflating: /content/data/data/River_1658.jpg  \n",
            "  inflating: /content/data/data/River_1659.jpg  \n",
            "  inflating: /content/data/data/River_166.jpg  \n",
            "  inflating: /content/data/data/River_1660.jpg  \n",
            "  inflating: /content/data/data/River_1661.jpg  \n",
            "  inflating: /content/data/data/River_1662.jpg  \n",
            "  inflating: /content/data/data/River_1663.jpg  \n",
            "  inflating: /content/data/data/River_1664.jpg  \n",
            "  inflating: /content/data/data/River_1665.jpg  \n",
            "  inflating: /content/data/data/River_1666.jpg  \n",
            "  inflating: /content/data/data/River_1667.jpg  \n",
            "  inflating: /content/data/data/River_1668.jpg  \n",
            "  inflating: /content/data/data/River_1669.jpg  \n",
            "  inflating: /content/data/data/River_167.jpg  \n",
            "  inflating: /content/data/data/River_1670.jpg  \n",
            "  inflating: /content/data/data/River_1671.jpg  \n",
            "  inflating: /content/data/data/River_1672.jpg  \n",
            "  inflating: /content/data/data/River_1673.jpg  \n",
            "  inflating: /content/data/data/River_1674.jpg  \n",
            "  inflating: /content/data/data/River_1675.jpg  \n",
            "  inflating: /content/data/data/River_1676.jpg  \n",
            "  inflating: /content/data/data/River_1677.jpg  \n",
            "  inflating: /content/data/data/River_1678.jpg  \n",
            "  inflating: /content/data/data/River_1679.jpg  \n",
            "  inflating: /content/data/data/River_168.jpg  \n",
            "  inflating: /content/data/data/River_1680.jpg  \n",
            "  inflating: /content/data/data/River_1681.jpg  \n",
            "  inflating: /content/data/data/River_1682.jpg  \n",
            "  inflating: /content/data/data/River_1683.jpg  \n",
            "  inflating: /content/data/data/River_1684.jpg  \n",
            "  inflating: /content/data/data/River_1685.jpg  \n",
            "  inflating: /content/data/data/River_1686.jpg  \n",
            "  inflating: /content/data/data/River_1687.jpg  \n",
            "  inflating: /content/data/data/River_1688.jpg  \n",
            "  inflating: /content/data/data/River_1689.jpg  \n",
            "  inflating: /content/data/data/River_169.jpg  \n",
            "  inflating: /content/data/data/River_1690.jpg  \n",
            "  inflating: /content/data/data/River_1691.jpg  \n",
            "  inflating: /content/data/data/River_1692.jpg  \n",
            "  inflating: /content/data/data/River_1693.jpg  \n",
            "  inflating: /content/data/data/River_1694.jpg  \n",
            "  inflating: /content/data/data/River_1695.jpg  \n",
            "  inflating: /content/data/data/River_1696.jpg  \n",
            "  inflating: /content/data/data/River_1697.jpg  \n",
            "  inflating: /content/data/data/River_1698.jpg  \n",
            "  inflating: /content/data/data/River_1699.jpg  \n",
            "  inflating: /content/data/data/River_17.jpg  \n",
            "  inflating: /content/data/data/River_170.jpg  \n",
            "  inflating: /content/data/data/River_1700.jpg  \n",
            "  inflating: /content/data/data/River_1701.jpg  \n",
            "  inflating: /content/data/data/River_1702.jpg  \n",
            "  inflating: /content/data/data/River_1703.jpg  \n",
            "  inflating: /content/data/data/River_1704.jpg  \n",
            "  inflating: /content/data/data/River_1705.jpg  \n",
            "  inflating: /content/data/data/River_1706.jpg  \n",
            "  inflating: /content/data/data/River_1707.jpg  \n",
            "  inflating: /content/data/data/River_1708.jpg  \n",
            "  inflating: /content/data/data/River_1709.jpg  \n",
            "  inflating: /content/data/data/River_171.jpg  \n",
            "  inflating: /content/data/data/River_1710.jpg  \n",
            "  inflating: /content/data/data/River_1711.jpg  \n",
            "  inflating: /content/data/data/River_1712.jpg  \n",
            "  inflating: /content/data/data/River_1713.jpg  \n",
            "  inflating: /content/data/data/River_1714.jpg  \n",
            "  inflating: /content/data/data/River_1715.jpg  \n",
            "  inflating: /content/data/data/River_1716.jpg  \n",
            "  inflating: /content/data/data/River_1717.jpg  \n",
            "  inflating: /content/data/data/River_1718.jpg  \n",
            "  inflating: /content/data/data/River_1719.jpg  \n",
            "  inflating: /content/data/data/River_172.jpg  \n",
            "  inflating: /content/data/data/River_1720.jpg  \n",
            "  inflating: /content/data/data/River_1721.jpg  \n",
            "  inflating: /content/data/data/River_1722.jpg  \n",
            "  inflating: /content/data/data/River_1723.jpg  \n",
            "  inflating: /content/data/data/River_1724.jpg  \n",
            "  inflating: /content/data/data/River_1725.jpg  \n",
            "  inflating: /content/data/data/River_1726.jpg  \n",
            "  inflating: /content/data/data/River_1727.jpg  \n",
            "  inflating: /content/data/data/River_1728.jpg  \n",
            "  inflating: /content/data/data/River_1729.jpg  \n",
            "  inflating: /content/data/data/River_173.jpg  \n",
            "  inflating: /content/data/data/River_1730.jpg  \n",
            "  inflating: /content/data/data/River_1731.jpg  \n",
            "  inflating: /content/data/data/River_1732.jpg  \n",
            "  inflating: /content/data/data/River_1733.jpg  \n",
            "  inflating: /content/data/data/River_1734.jpg  \n",
            "  inflating: /content/data/data/River_1735.jpg  \n",
            "  inflating: /content/data/data/River_1736.jpg  \n",
            "  inflating: /content/data/data/River_1737.jpg  \n",
            "  inflating: /content/data/data/River_1738.jpg  \n",
            "  inflating: /content/data/data/River_1739.jpg  \n",
            "  inflating: /content/data/data/River_174.jpg  \n",
            "  inflating: /content/data/data/River_1740.jpg  \n",
            "  inflating: /content/data/data/River_1741.jpg  \n",
            "  inflating: /content/data/data/River_1742.jpg  \n",
            "  inflating: /content/data/data/River_1743.jpg  \n",
            "  inflating: /content/data/data/River_1744.jpg  \n",
            "  inflating: /content/data/data/River_1745.jpg  \n",
            "  inflating: /content/data/data/River_1746.jpg  \n",
            "  inflating: /content/data/data/River_1747.jpg  \n",
            "  inflating: /content/data/data/River_1748.jpg  \n",
            "  inflating: /content/data/data/River_1749.jpg  \n",
            "  inflating: /content/data/data/River_175.jpg  \n",
            "  inflating: /content/data/data/River_1750.jpg  \n",
            "  inflating: /content/data/data/River_1751.jpg  \n",
            "  inflating: /content/data/data/River_1752.jpg  \n",
            "  inflating: /content/data/data/River_1753.jpg  \n",
            "  inflating: /content/data/data/River_1754.jpg  \n",
            "  inflating: /content/data/data/River_1755.jpg  \n",
            "  inflating: /content/data/data/River_1756.jpg  \n",
            "  inflating: /content/data/data/River_1757.jpg  \n",
            "  inflating: /content/data/data/River_1758.jpg  \n",
            "  inflating: /content/data/data/River_1759.jpg  \n",
            "  inflating: /content/data/data/River_176.jpg  \n",
            "  inflating: /content/data/data/River_1760.jpg  \n",
            "  inflating: /content/data/data/River_1761.jpg  \n",
            "  inflating: /content/data/data/River_1762.jpg  \n",
            "  inflating: /content/data/data/River_1763.jpg  \n",
            "  inflating: /content/data/data/River_1764.jpg  \n",
            "  inflating: /content/data/data/River_1765.jpg  \n",
            "  inflating: /content/data/data/River_1766.jpg  \n",
            "  inflating: /content/data/data/River_1767.jpg  \n",
            "  inflating: /content/data/data/River_1768.jpg  \n",
            "  inflating: /content/data/data/River_1769.jpg  \n",
            "  inflating: /content/data/data/River_177.jpg  \n",
            "  inflating: /content/data/data/River_1770.jpg  \n",
            "  inflating: /content/data/data/River_1771.jpg  \n",
            "  inflating: /content/data/data/River_1772.jpg  \n",
            "  inflating: /content/data/data/River_1773.jpg  \n",
            "  inflating: /content/data/data/River_1774.jpg  \n",
            "  inflating: /content/data/data/River_1775.jpg  \n",
            "  inflating: /content/data/data/River_1776.jpg  \n",
            "  inflating: /content/data/data/River_1777.jpg  \n",
            "  inflating: /content/data/data/River_1778.jpg  \n",
            "  inflating: /content/data/data/River_1779.jpg  \n",
            "  inflating: /content/data/data/River_178.jpg  \n",
            "  inflating: /content/data/data/River_1780.jpg  \n",
            "  inflating: /content/data/data/River_1781.jpg  \n",
            "  inflating: /content/data/data/River_1782.jpg  \n",
            "  inflating: /content/data/data/River_1783.jpg  \n",
            "  inflating: /content/data/data/River_1784.jpg  \n",
            "  inflating: /content/data/data/River_1785.jpg  \n",
            "  inflating: /content/data/data/River_1786.jpg  \n",
            "  inflating: /content/data/data/River_1787.jpg  \n",
            "  inflating: /content/data/data/River_1788.jpg  \n",
            "  inflating: /content/data/data/River_1789.jpg  \n",
            "  inflating: /content/data/data/River_179.jpg  \n",
            "  inflating: /content/data/data/River_1790.jpg  \n",
            "  inflating: /content/data/data/River_1791.jpg  \n",
            "  inflating: /content/data/data/River_1792.jpg  \n",
            "  inflating: /content/data/data/River_1793.jpg  \n",
            "  inflating: /content/data/data/River_1794.jpg  \n",
            "  inflating: /content/data/data/River_1795.jpg  \n",
            "  inflating: /content/data/data/River_1796.jpg  \n",
            "  inflating: /content/data/data/River_1797.jpg  \n",
            "  inflating: /content/data/data/River_1798.jpg  \n",
            "  inflating: /content/data/data/River_1799.jpg  \n",
            "  inflating: /content/data/data/River_18.jpg  \n",
            "  inflating: /content/data/data/River_180.jpg  \n",
            "  inflating: /content/data/data/River_1800.jpg  \n",
            "  inflating: /content/data/data/River_1801.jpg  \n",
            "  inflating: /content/data/data/River_1802.jpg  \n",
            "  inflating: /content/data/data/River_1803.jpg  \n",
            "  inflating: /content/data/data/River_1804.jpg  \n",
            "  inflating: /content/data/data/River_1805.jpg  \n",
            "  inflating: /content/data/data/River_1806.jpg  \n",
            "  inflating: /content/data/data/River_1807.jpg  \n",
            "  inflating: /content/data/data/River_1808.jpg  \n",
            "  inflating: /content/data/data/River_1809.jpg  \n",
            "  inflating: /content/data/data/River_181.jpg  \n",
            "  inflating: /content/data/data/River_1810.jpg  \n",
            "  inflating: /content/data/data/River_1811.jpg  \n",
            "  inflating: /content/data/data/River_1812.jpg  \n",
            "  inflating: /content/data/data/River_1813.jpg  \n",
            "  inflating: /content/data/data/River_1814.jpg  \n",
            "  inflating: /content/data/data/River_1815.jpg  \n",
            "  inflating: /content/data/data/River_1816.jpg  \n",
            "  inflating: /content/data/data/River_1817.jpg  \n",
            "  inflating: /content/data/data/River_1818.jpg  \n",
            "  inflating: /content/data/data/River_1819.jpg  \n",
            "  inflating: /content/data/data/River_182.jpg  \n",
            "  inflating: /content/data/data/River_1820.jpg  \n",
            "  inflating: /content/data/data/River_1821.jpg  \n",
            "  inflating: /content/data/data/River_1822.jpg  \n",
            "  inflating: /content/data/data/River_1823.jpg  \n",
            "  inflating: /content/data/data/River_1824.jpg  \n",
            "  inflating: /content/data/data/River_1825.jpg  \n",
            "  inflating: /content/data/data/River_1826.jpg  \n",
            "  inflating: /content/data/data/River_1827.jpg  \n",
            "  inflating: /content/data/data/River_1828.jpg  \n",
            "  inflating: /content/data/data/River_1829.jpg  \n",
            "  inflating: /content/data/data/River_183.jpg  \n",
            "  inflating: /content/data/data/River_1830.jpg  \n",
            "  inflating: /content/data/data/River_1831.jpg  \n",
            "  inflating: /content/data/data/River_1832.jpg  \n",
            "  inflating: /content/data/data/River_1833.jpg  \n",
            "  inflating: /content/data/data/River_1834.jpg  \n",
            "  inflating: /content/data/data/River_1835.jpg  \n",
            "  inflating: /content/data/data/River_1836.jpg  \n",
            "  inflating: /content/data/data/River_1837.jpg  \n",
            "  inflating: /content/data/data/River_1838.jpg  \n",
            "  inflating: /content/data/data/River_1839.jpg  \n",
            "  inflating: /content/data/data/River_184.jpg  \n",
            "  inflating: /content/data/data/River_1840.jpg  \n",
            "  inflating: /content/data/data/River_1841.jpg  \n",
            "  inflating: /content/data/data/River_1842.jpg  \n",
            "  inflating: /content/data/data/River_1843.jpg  \n",
            "  inflating: /content/data/data/River_1844.jpg  \n",
            "  inflating: /content/data/data/River_1845.jpg  \n",
            "  inflating: /content/data/data/River_1846.jpg  \n",
            "  inflating: /content/data/data/River_1847.jpg  \n",
            "  inflating: /content/data/data/River_1848.jpg  \n",
            "  inflating: /content/data/data/River_1849.jpg  \n",
            "  inflating: /content/data/data/River_185.jpg  \n",
            "  inflating: /content/data/data/River_1850.jpg  \n",
            "  inflating: /content/data/data/River_1851.jpg  \n",
            "  inflating: /content/data/data/River_1852.jpg  \n",
            "  inflating: /content/data/data/River_1853.jpg  \n",
            "  inflating: /content/data/data/River_1854.jpg  \n",
            "  inflating: /content/data/data/River_1855.jpg  \n",
            "  inflating: /content/data/data/River_1856.jpg  \n",
            "  inflating: /content/data/data/River_1857.jpg  \n",
            "  inflating: /content/data/data/River_1858.jpg  \n",
            "  inflating: /content/data/data/River_1859.jpg  \n",
            "  inflating: /content/data/data/River_186.jpg  \n",
            "  inflating: /content/data/data/River_1860.jpg  \n",
            "  inflating: /content/data/data/River_1861.jpg  \n",
            "  inflating: /content/data/data/River_1862.jpg  \n",
            "  inflating: /content/data/data/River_1863.jpg  \n",
            "  inflating: /content/data/data/River_1864.jpg  \n",
            "  inflating: /content/data/data/River_1865.jpg  \n",
            "  inflating: /content/data/data/River_1866.jpg  \n",
            "  inflating: /content/data/data/River_1867.jpg  \n",
            "  inflating: /content/data/data/River_1868.jpg  \n",
            "  inflating: /content/data/data/River_1869.jpg  \n",
            "  inflating: /content/data/data/River_187.jpg  \n",
            "  inflating: /content/data/data/River_1870.jpg  \n",
            "  inflating: /content/data/data/River_1871.jpg  \n",
            "  inflating: /content/data/data/River_1872.jpg  \n",
            "  inflating: /content/data/data/River_1873.jpg  \n",
            "  inflating: /content/data/data/River_1874.jpg  \n",
            "  inflating: /content/data/data/River_1875.jpg  \n",
            "  inflating: /content/data/data/River_1876.jpg  \n",
            "  inflating: /content/data/data/River_1877.jpg  \n",
            "  inflating: /content/data/data/River_1878.jpg  \n",
            "  inflating: /content/data/data/River_1879.jpg  \n",
            "  inflating: /content/data/data/River_188.jpg  \n",
            "  inflating: /content/data/data/River_1880.jpg  \n",
            "  inflating: /content/data/data/River_1881.jpg  \n",
            "  inflating: /content/data/data/River_1882.jpg  \n",
            "  inflating: /content/data/data/River_1883.jpg  \n",
            "  inflating: /content/data/data/River_1884.jpg  \n",
            "  inflating: /content/data/data/River_1885.jpg  \n",
            "  inflating: /content/data/data/River_1886.jpg  \n",
            "  inflating: /content/data/data/River_1887.jpg  \n",
            "  inflating: /content/data/data/River_1888.jpg  \n",
            "  inflating: /content/data/data/River_1889.jpg  \n",
            "  inflating: /content/data/data/River_189.jpg  \n",
            "  inflating: /content/data/data/River_1890.jpg  \n",
            "  inflating: /content/data/data/River_1891.jpg  \n",
            "  inflating: /content/data/data/River_1892.jpg  \n",
            "  inflating: /content/data/data/River_1893.jpg  \n",
            "  inflating: /content/data/data/River_1894.jpg  \n",
            "  inflating: /content/data/data/River_1895.jpg  \n",
            "  inflating: /content/data/data/River_1896.jpg  \n",
            "  inflating: /content/data/data/River_1897.jpg  \n",
            "  inflating: /content/data/data/River_1898.jpg  \n",
            "  inflating: /content/data/data/River_1899.jpg  \n",
            "  inflating: /content/data/data/River_19.jpg  \n",
            "  inflating: /content/data/data/River_190.jpg  \n",
            "  inflating: /content/data/data/River_1900.jpg  \n",
            "  inflating: /content/data/data/River_1901.jpg  \n",
            "  inflating: /content/data/data/River_1902.jpg  \n",
            "  inflating: /content/data/data/River_1903.jpg  \n",
            "  inflating: /content/data/data/River_1904.jpg  \n",
            "  inflating: /content/data/data/River_1905.jpg  \n",
            "  inflating: /content/data/data/River_1906.jpg  \n",
            "  inflating: /content/data/data/River_1907.jpg  \n",
            "  inflating: /content/data/data/River_1908.jpg  \n",
            "  inflating: /content/data/data/River_1909.jpg  \n",
            "  inflating: /content/data/data/River_191.jpg  \n",
            "  inflating: /content/data/data/River_1910.jpg  \n",
            "  inflating: /content/data/data/River_1911.jpg  \n",
            "  inflating: /content/data/data/River_1912.jpg  \n",
            "  inflating: /content/data/data/River_1913.jpg  \n",
            "  inflating: /content/data/data/River_1914.jpg  \n",
            "  inflating: /content/data/data/River_1915.jpg  \n",
            "  inflating: /content/data/data/River_1916.jpg  \n",
            "  inflating: /content/data/data/River_1917.jpg  \n",
            "  inflating: /content/data/data/River_1918.jpg  \n",
            "  inflating: /content/data/data/River_1919.jpg  \n",
            "  inflating: /content/data/data/River_192.jpg  \n",
            "  inflating: /content/data/data/River_1920.jpg  \n",
            "  inflating: /content/data/data/River_1921.jpg  \n",
            "  inflating: /content/data/data/River_1922.jpg  \n",
            "  inflating: /content/data/data/River_1923.jpg  \n",
            "  inflating: /content/data/data/River_1924.jpg  \n",
            "  inflating: /content/data/data/River_1925.jpg  \n",
            "  inflating: /content/data/data/River_1926.jpg  \n",
            "  inflating: /content/data/data/River_1927.jpg  \n",
            "  inflating: /content/data/data/River_1928.jpg  \n",
            "  inflating: /content/data/data/River_1929.jpg  \n",
            "  inflating: /content/data/data/River_193.jpg  \n",
            "  inflating: /content/data/data/River_1930.jpg  \n",
            "  inflating: /content/data/data/River_1931.jpg  \n",
            "  inflating: /content/data/data/River_1932.jpg  \n",
            "  inflating: /content/data/data/River_1933.jpg  \n",
            "  inflating: /content/data/data/River_1934.jpg  \n",
            "  inflating: /content/data/data/River_1935.jpg  \n",
            "  inflating: /content/data/data/River_1936.jpg  \n",
            "  inflating: /content/data/data/River_1937.jpg  \n",
            "  inflating: /content/data/data/River_1938.jpg  \n",
            "  inflating: /content/data/data/River_1939.jpg  \n",
            "  inflating: /content/data/data/River_194.jpg  \n",
            "  inflating: /content/data/data/River_1940.jpg  \n",
            "  inflating: /content/data/data/River_1941.jpg  \n",
            "  inflating: /content/data/data/River_1942.jpg  \n",
            "  inflating: /content/data/data/River_1943.jpg  \n",
            "  inflating: /content/data/data/River_1944.jpg  \n",
            "  inflating: /content/data/data/River_1945.jpg  \n",
            "  inflating: /content/data/data/River_1946.jpg  \n",
            "  inflating: /content/data/data/River_1947.jpg  \n",
            "  inflating: /content/data/data/River_1948.jpg  \n",
            "  inflating: /content/data/data/River_1949.jpg  \n",
            "  inflating: /content/data/data/River_195.jpg  \n",
            "  inflating: /content/data/data/River_1950.jpg  \n",
            "  inflating: /content/data/data/River_1951.jpg  \n",
            "  inflating: /content/data/data/River_1952.jpg  \n",
            "  inflating: /content/data/data/River_1953.jpg  \n",
            "  inflating: /content/data/data/River_1954.jpg  \n",
            "  inflating: /content/data/data/River_1955.jpg  \n",
            "  inflating: /content/data/data/River_1956.jpg  \n",
            "  inflating: /content/data/data/River_1957.jpg  \n",
            "  inflating: /content/data/data/River_1958.jpg  \n",
            "  inflating: /content/data/data/River_1959.jpg  \n",
            "  inflating: /content/data/data/River_196.jpg  \n",
            "  inflating: /content/data/data/River_1960.jpg  \n",
            "  inflating: /content/data/data/River_1961.jpg  \n",
            "  inflating: /content/data/data/River_1962.jpg  \n",
            "  inflating: /content/data/data/River_1963.jpg  \n",
            "  inflating: /content/data/data/River_1964.jpg  \n",
            "  inflating: /content/data/data/River_1965.jpg  \n",
            "  inflating: /content/data/data/River_1966.jpg  \n",
            "  inflating: /content/data/data/River_1967.jpg  \n",
            "  inflating: /content/data/data/River_1968.jpg  \n",
            "  inflating: /content/data/data/River_1969.jpg  \n",
            "  inflating: /content/data/data/River_197.jpg  \n",
            "  inflating: /content/data/data/River_1970.jpg  \n",
            "  inflating: /content/data/data/River_1971.jpg  \n",
            "  inflating: /content/data/data/River_1972.jpg  \n",
            "  inflating: /content/data/data/River_1973.jpg  \n",
            "  inflating: /content/data/data/River_1974.jpg  \n",
            "  inflating: /content/data/data/River_1975.jpg  \n",
            "  inflating: /content/data/data/River_1976.jpg  \n",
            "  inflating: /content/data/data/River_1977.jpg  \n",
            "  inflating: /content/data/data/River_1978.jpg  \n",
            "  inflating: /content/data/data/River_1979.jpg  \n",
            "  inflating: /content/data/data/River_198.jpg  \n",
            "  inflating: /content/data/data/River_1980.jpg  \n",
            "  inflating: /content/data/data/River_1981.jpg  \n",
            "  inflating: /content/data/data/River_1982.jpg  \n",
            "  inflating: /content/data/data/River_1983.jpg  \n",
            "  inflating: /content/data/data/River_1984.jpg  \n",
            "  inflating: /content/data/data/River_1985.jpg  \n",
            "  inflating: /content/data/data/River_1986.jpg  \n",
            "  inflating: /content/data/data/River_1987.jpg  \n",
            "  inflating: /content/data/data/River_1988.jpg  \n",
            "  inflating: /content/data/data/River_1989.jpg  \n",
            "  inflating: /content/data/data/River_199.jpg  \n",
            "  inflating: /content/data/data/River_1990.jpg  \n",
            "  inflating: /content/data/data/River_1991.jpg  \n",
            "  inflating: /content/data/data/River_1992.jpg  \n",
            "  inflating: /content/data/data/River_1993.jpg  \n",
            "  inflating: /content/data/data/River_1994.jpg  \n",
            "  inflating: /content/data/data/River_1995.jpg  \n",
            "  inflating: /content/data/data/River_1996.jpg  \n",
            "  inflating: /content/data/data/River_1997.jpg  \n",
            "  inflating: /content/data/data/River_1998.jpg  \n",
            "  inflating: /content/data/data/River_1999.jpg  \n",
            "  inflating: /content/data/data/River_2.jpg  \n",
            "  inflating: /content/data/data/River_20.jpg  \n",
            "  inflating: /content/data/data/River_200.jpg  \n",
            "  inflating: /content/data/data/River_2000.jpg  \n",
            "  inflating: /content/data/data/River_2001.jpg  \n",
            "  inflating: /content/data/data/River_2002.jpg  \n",
            "  inflating: /content/data/data/River_2003.jpg  \n",
            "  inflating: /content/data/data/River_2004.jpg  \n",
            "  inflating: /content/data/data/River_2005.jpg  \n",
            "  inflating: /content/data/data/River_2006.jpg  \n",
            "  inflating: /content/data/data/River_2007.jpg  \n",
            "  inflating: /content/data/data/River_2008.jpg  \n",
            "  inflating: /content/data/data/River_2009.jpg  \n",
            "  inflating: /content/data/data/River_201.jpg  \n",
            "  inflating: /content/data/data/River_2010.jpg  \n",
            "  inflating: /content/data/data/River_2011.jpg  \n",
            "  inflating: /content/data/data/River_2012.jpg  \n",
            "  inflating: /content/data/data/River_2013.jpg  \n",
            "  inflating: /content/data/data/River_2014.jpg  \n",
            "  inflating: /content/data/data/River_2015.jpg  \n",
            "  inflating: /content/data/data/River_2016.jpg  \n",
            "  inflating: /content/data/data/River_2017.jpg  \n",
            "  inflating: /content/data/data/River_2018.jpg  \n",
            "  inflating: /content/data/data/River_2019.jpg  \n",
            "  inflating: /content/data/data/River_202.jpg  \n",
            "  inflating: /content/data/data/River_2020.jpg  \n",
            "  inflating: /content/data/data/River_2021.jpg  \n",
            "  inflating: /content/data/data/River_2022.jpg  \n",
            "  inflating: /content/data/data/River_2023.jpg  \n",
            "  inflating: /content/data/data/River_2024.jpg  \n",
            "  inflating: /content/data/data/River_2025.jpg  \n",
            "  inflating: /content/data/data/River_2026.jpg  \n",
            "  inflating: /content/data/data/River_2027.jpg  \n",
            "  inflating: /content/data/data/River_2028.jpg  \n",
            "  inflating: /content/data/data/River_2029.jpg  \n",
            "  inflating: /content/data/data/River_203.jpg  \n",
            "  inflating: /content/data/data/River_2030.jpg  \n",
            "  inflating: /content/data/data/River_2031.jpg  \n",
            "  inflating: /content/data/data/River_2032.jpg  \n",
            "  inflating: /content/data/data/River_2033.jpg  \n",
            "  inflating: /content/data/data/River_2034.jpg  \n",
            "  inflating: /content/data/data/River_2035.jpg  \n",
            "  inflating: /content/data/data/River_2036.jpg  \n",
            "  inflating: /content/data/data/River_2037.jpg  \n",
            "  inflating: /content/data/data/River_2038.jpg  \n",
            "  inflating: /content/data/data/River_2039.jpg  \n",
            "  inflating: /content/data/data/River_204.jpg  \n",
            "  inflating: /content/data/data/River_2040.jpg  \n",
            "  inflating: /content/data/data/River_2041.jpg  \n",
            "  inflating: /content/data/data/River_2042.jpg  \n",
            "  inflating: /content/data/data/River_2043.jpg  \n",
            "  inflating: /content/data/data/River_2044.jpg  \n",
            "  inflating: /content/data/data/River_2045.jpg  \n",
            "  inflating: /content/data/data/River_2046.jpg  \n",
            "  inflating: /content/data/data/River_2047.jpg  \n",
            "  inflating: /content/data/data/River_2048.jpg  \n",
            "  inflating: /content/data/data/River_2049.jpg  \n",
            "  inflating: /content/data/data/River_205.jpg  \n",
            "  inflating: /content/data/data/River_2050.jpg  \n",
            "  inflating: /content/data/data/River_2051.jpg  \n",
            "  inflating: /content/data/data/River_2052.jpg  \n",
            "  inflating: /content/data/data/River_2053.jpg  \n",
            "  inflating: /content/data/data/River_2054.jpg  \n",
            "  inflating: /content/data/data/River_2055.jpg  \n",
            "  inflating: /content/data/data/River_2056.jpg  \n",
            "  inflating: /content/data/data/River_2057.jpg  \n",
            "  inflating: /content/data/data/River_2058.jpg  \n",
            "  inflating: /content/data/data/River_2059.jpg  \n",
            "  inflating: /content/data/data/River_206.jpg  \n",
            "  inflating: /content/data/data/River_2060.jpg  \n",
            "  inflating: /content/data/data/River_2061.jpg  \n",
            "  inflating: /content/data/data/River_2062.jpg  \n",
            "  inflating: /content/data/data/River_2063.jpg  \n",
            "  inflating: /content/data/data/River_2064.jpg  \n",
            "  inflating: /content/data/data/River_2065.jpg  \n",
            "  inflating: /content/data/data/River_2066.jpg  \n",
            "  inflating: /content/data/data/River_2067.jpg  \n",
            "  inflating: /content/data/data/River_2068.jpg  \n",
            "  inflating: /content/data/data/River_2069.jpg  \n",
            "  inflating: /content/data/data/River_207.jpg  \n",
            "  inflating: /content/data/data/River_2070.jpg  \n",
            "  inflating: /content/data/data/River_2071.jpg  \n",
            "  inflating: /content/data/data/River_2072.jpg  \n",
            "  inflating: /content/data/data/River_2073.jpg  \n",
            "  inflating: /content/data/data/River_2074.jpg  \n",
            "  inflating: /content/data/data/River_2075.jpg  \n",
            "  inflating: /content/data/data/River_2076.jpg  \n",
            "  inflating: /content/data/data/River_2077.jpg  \n",
            "  inflating: /content/data/data/River_2078.jpg  \n",
            "  inflating: /content/data/data/River_2079.jpg  \n",
            "  inflating: /content/data/data/River_208.jpg  \n",
            "  inflating: /content/data/data/River_2080.jpg  \n",
            "  inflating: /content/data/data/River_2081.jpg  \n",
            "  inflating: /content/data/data/River_2082.jpg  \n",
            "  inflating: /content/data/data/River_2083.jpg  \n",
            "  inflating: /content/data/data/River_2084.jpg  \n",
            "  inflating: /content/data/data/River_2085.jpg  \n",
            "  inflating: /content/data/data/River_2086.jpg  \n",
            "  inflating: /content/data/data/River_2087.jpg  \n",
            "  inflating: /content/data/data/River_2088.jpg  \n",
            "  inflating: /content/data/data/River_2089.jpg  \n",
            "  inflating: /content/data/data/River_209.jpg  \n",
            "  inflating: /content/data/data/River_2090.jpg  \n",
            "  inflating: /content/data/data/River_2091.jpg  \n",
            "  inflating: /content/data/data/River_2092.jpg  \n",
            "  inflating: /content/data/data/River_2093.jpg  \n",
            "  inflating: /content/data/data/River_2094.jpg  \n",
            "  inflating: /content/data/data/River_2095.jpg  \n",
            "  inflating: /content/data/data/River_2096.jpg  \n",
            "  inflating: /content/data/data/River_2097.jpg  \n",
            "  inflating: /content/data/data/River_2098.jpg  \n",
            "  inflating: /content/data/data/River_2099.jpg  \n",
            "  inflating: /content/data/data/River_21.jpg  \n",
            "  inflating: /content/data/data/River_210.jpg  \n",
            "  inflating: /content/data/data/River_2100.jpg  \n",
            "  inflating: /content/data/data/River_2101.jpg  \n",
            "  inflating: /content/data/data/River_2102.jpg  \n",
            "  inflating: /content/data/data/River_2103.jpg  \n",
            "  inflating: /content/data/data/River_2104.jpg  \n",
            "  inflating: /content/data/data/River_2105.jpg  \n",
            "  inflating: /content/data/data/River_2106.jpg  \n",
            "  inflating: /content/data/data/River_2107.jpg  \n",
            "  inflating: /content/data/data/River_2108.jpg  \n",
            "  inflating: /content/data/data/River_2109.jpg  \n",
            "  inflating: /content/data/data/River_211.jpg  \n",
            "  inflating: /content/data/data/River_2110.jpg  \n",
            "  inflating: /content/data/data/River_2111.jpg  \n",
            "  inflating: /content/data/data/River_2112.jpg  \n",
            "  inflating: /content/data/data/River_2113.jpg  \n",
            "  inflating: /content/data/data/River_2114.jpg  \n",
            "  inflating: /content/data/data/River_2115.jpg  \n",
            "  inflating: /content/data/data/River_2116.jpg  \n",
            "  inflating: /content/data/data/River_2117.jpg  \n",
            "  inflating: /content/data/data/River_2118.jpg  \n",
            "  inflating: /content/data/data/River_2119.jpg  \n",
            "  inflating: /content/data/data/River_212.jpg  \n",
            "  inflating: /content/data/data/River_2120.jpg  \n",
            "  inflating: /content/data/data/River_2121.jpg  \n",
            "  inflating: /content/data/data/River_2122.jpg  \n",
            "  inflating: /content/data/data/River_2123.jpg  \n",
            "  inflating: /content/data/data/River_2124.jpg  \n",
            "  inflating: /content/data/data/River_2125.jpg  \n",
            "  inflating: /content/data/data/River_2126.jpg  \n",
            "  inflating: /content/data/data/River_2127.jpg  \n",
            "  inflating: /content/data/data/River_2128.jpg  \n",
            "  inflating: /content/data/data/River_2129.jpg  \n",
            "  inflating: /content/data/data/River_213.jpg  \n",
            "  inflating: /content/data/data/River_2130.jpg  \n",
            "  inflating: /content/data/data/River_2131.jpg  \n",
            "  inflating: /content/data/data/River_2132.jpg  \n",
            "  inflating: /content/data/data/River_2133.jpg  \n",
            "  inflating: /content/data/data/River_2134.jpg  \n",
            "  inflating: /content/data/data/River_2135.jpg  \n",
            "  inflating: /content/data/data/River_2136.jpg  \n",
            "  inflating: /content/data/data/River_2137.jpg  \n",
            "  inflating: /content/data/data/River_2138.jpg  \n",
            "  inflating: /content/data/data/River_2139.jpg  \n",
            "  inflating: /content/data/data/River_214.jpg  \n",
            "  inflating: /content/data/data/River_2140.jpg  \n",
            "  inflating: /content/data/data/River_2141.jpg  \n",
            "  inflating: /content/data/data/River_2142.jpg  \n",
            "  inflating: /content/data/data/River_2143.jpg  \n",
            "  inflating: /content/data/data/River_2144.jpg  \n",
            "  inflating: /content/data/data/River_2145.jpg  \n",
            "  inflating: /content/data/data/River_2146.jpg  \n",
            "  inflating: /content/data/data/River_2147.jpg  \n",
            "  inflating: /content/data/data/River_2148.jpg  \n",
            "  inflating: /content/data/data/River_2149.jpg  \n",
            "  inflating: /content/data/data/River_215.jpg  \n",
            "  inflating: /content/data/data/River_2150.jpg  \n",
            "  inflating: /content/data/data/River_2151.jpg  \n",
            "  inflating: /content/data/data/River_2152.jpg  \n",
            "  inflating: /content/data/data/River_2153.jpg  \n",
            "  inflating: /content/data/data/River_2154.jpg  \n",
            "  inflating: /content/data/data/River_2155.jpg  \n",
            "  inflating: /content/data/data/River_2156.jpg  \n",
            "  inflating: /content/data/data/River_2157.jpg  \n",
            "  inflating: /content/data/data/River_2158.jpg  \n",
            "  inflating: /content/data/data/River_2159.jpg  \n",
            "  inflating: /content/data/data/River_216.jpg  \n",
            "  inflating: /content/data/data/River_2160.jpg  \n",
            "  inflating: /content/data/data/River_2161.jpg  \n",
            "  inflating: /content/data/data/River_2162.jpg  \n",
            "  inflating: /content/data/data/River_2163.jpg  \n",
            "  inflating: /content/data/data/River_2164.jpg  \n",
            "  inflating: /content/data/data/River_2165.jpg  \n",
            "  inflating: /content/data/data/River_2166.jpg  \n",
            "  inflating: /content/data/data/River_2167.jpg  \n",
            "  inflating: /content/data/data/River_2168.jpg  \n",
            "  inflating: /content/data/data/River_2169.jpg  \n",
            "  inflating: /content/data/data/River_217.jpg  \n",
            "  inflating: /content/data/data/River_2170.jpg  \n",
            "  inflating: /content/data/data/River_2171.jpg  \n",
            "  inflating: /content/data/data/River_2172.jpg  \n",
            "  inflating: /content/data/data/River_2173.jpg  \n",
            "  inflating: /content/data/data/River_2174.jpg  \n",
            "  inflating: /content/data/data/River_2175.jpg  \n",
            "  inflating: /content/data/data/River_2176.jpg  \n",
            "  inflating: /content/data/data/River_2177.jpg  \n",
            "  inflating: /content/data/data/River_2178.jpg  \n",
            "  inflating: /content/data/data/River_2179.jpg  \n",
            "  inflating: /content/data/data/River_218.jpg  \n",
            "  inflating: /content/data/data/River_2180.jpg  \n",
            "  inflating: /content/data/data/River_2181.jpg  \n",
            "  inflating: /content/data/data/River_2182.jpg  \n",
            "  inflating: /content/data/data/River_2183.jpg  \n",
            "  inflating: /content/data/data/River_2184.jpg  \n",
            "  inflating: /content/data/data/River_2185.jpg  \n",
            "  inflating: /content/data/data/River_2186.jpg  \n",
            "  inflating: /content/data/data/River_2187.jpg  \n",
            "  inflating: /content/data/data/River_2188.jpg  \n",
            "  inflating: /content/data/data/River_2189.jpg  \n",
            "  inflating: /content/data/data/River_219.jpg  \n",
            "  inflating: /content/data/data/River_2190.jpg  \n",
            "  inflating: /content/data/data/River_2191.jpg  \n",
            "  inflating: /content/data/data/River_2192.jpg  \n",
            "  inflating: /content/data/data/River_2193.jpg  \n",
            "  inflating: /content/data/data/River_2194.jpg  \n",
            "  inflating: /content/data/data/River_2195.jpg  \n",
            "  inflating: /content/data/data/River_2196.jpg  \n",
            "  inflating: /content/data/data/River_2197.jpg  \n",
            "  inflating: /content/data/data/River_2198.jpg  \n",
            "  inflating: /content/data/data/River_2199.jpg  \n",
            "  inflating: /content/data/data/River_22.jpg  \n",
            "  inflating: /content/data/data/River_220.jpg  \n",
            "  inflating: /content/data/data/River_2200.jpg  \n",
            "  inflating: /content/data/data/River_2201.jpg  \n",
            "  inflating: /content/data/data/River_2202.jpg  \n",
            "  inflating: /content/data/data/River_2203.jpg  \n",
            "  inflating: /content/data/data/River_2204.jpg  \n",
            "  inflating: /content/data/data/River_2205.jpg  \n",
            "  inflating: /content/data/data/River_2206.jpg  \n",
            "  inflating: /content/data/data/River_2207.jpg  \n",
            "  inflating: /content/data/data/River_2208.jpg  \n",
            "  inflating: /content/data/data/River_2209.jpg  \n",
            "  inflating: /content/data/data/River_221.jpg  \n",
            "  inflating: /content/data/data/River_2210.jpg  \n",
            "  inflating: /content/data/data/River_2211.jpg  \n",
            "  inflating: /content/data/data/River_2212.jpg  \n",
            "  inflating: /content/data/data/River_2213.jpg  \n",
            "  inflating: /content/data/data/River_2214.jpg  \n",
            "  inflating: /content/data/data/River_2215.jpg  \n",
            "  inflating: /content/data/data/River_2216.jpg  \n",
            "  inflating: /content/data/data/River_2217.jpg  \n",
            "  inflating: /content/data/data/River_2218.jpg  \n",
            "  inflating: /content/data/data/River_2219.jpg  \n",
            "  inflating: /content/data/data/River_222.jpg  \n",
            "  inflating: /content/data/data/River_2220.jpg  \n",
            "  inflating: /content/data/data/River_2221.jpg  \n",
            "  inflating: /content/data/data/River_2222.jpg  \n",
            "  inflating: /content/data/data/River_2223.jpg  \n",
            "  inflating: /content/data/data/River_2224.jpg  \n",
            "  inflating: /content/data/data/River_2225.jpg  \n",
            "  inflating: /content/data/data/River_2226.jpg  \n",
            "  inflating: /content/data/data/River_2227.jpg  \n",
            "  inflating: /content/data/data/River_2228.jpg  \n",
            "  inflating: /content/data/data/River_2229.jpg  \n",
            "  inflating: /content/data/data/River_223.jpg  \n",
            "  inflating: /content/data/data/River_2230.jpg  \n",
            "  inflating: /content/data/data/River_2231.jpg  \n",
            "  inflating: /content/data/data/River_2232.jpg  \n",
            "  inflating: /content/data/data/River_2233.jpg  \n",
            "  inflating: /content/data/data/River_2234.jpg  \n",
            "  inflating: /content/data/data/River_2235.jpg  \n",
            "  inflating: /content/data/data/River_2236.jpg  \n",
            "  inflating: /content/data/data/River_2237.jpg  \n",
            "  inflating: /content/data/data/River_2238.jpg  \n",
            "  inflating: /content/data/data/River_2239.jpg  \n",
            "  inflating: /content/data/data/River_224.jpg  \n",
            "  inflating: /content/data/data/River_2240.jpg  \n",
            "  inflating: /content/data/data/River_2241.jpg  \n",
            "  inflating: /content/data/data/River_2242.jpg  \n",
            "  inflating: /content/data/data/River_2243.jpg  \n",
            "  inflating: /content/data/data/River_2244.jpg  \n",
            "  inflating: /content/data/data/River_2245.jpg  \n",
            "  inflating: /content/data/data/River_2246.jpg  \n",
            "  inflating: /content/data/data/River_2247.jpg  \n",
            "  inflating: /content/data/data/River_2248.jpg  \n",
            "  inflating: /content/data/data/River_2249.jpg  \n",
            "  inflating: /content/data/data/River_225.jpg  \n",
            "  inflating: /content/data/data/River_2250.jpg  \n",
            "  inflating: /content/data/data/River_2251.jpg  \n",
            "  inflating: /content/data/data/River_2252.jpg  \n",
            "  inflating: /content/data/data/River_2253.jpg  \n",
            "  inflating: /content/data/data/River_2254.jpg  \n",
            "  inflating: /content/data/data/River_2255.jpg  \n",
            "  inflating: /content/data/data/River_2256.jpg  \n",
            "  inflating: /content/data/data/River_2257.jpg  \n",
            "  inflating: /content/data/data/River_2258.jpg  \n",
            "  inflating: /content/data/data/River_2259.jpg  \n",
            "  inflating: /content/data/data/River_226.jpg  \n",
            "  inflating: /content/data/data/River_2260.jpg  \n",
            "  inflating: /content/data/data/River_2261.jpg  \n",
            "  inflating: /content/data/data/River_2262.jpg  \n",
            "  inflating: /content/data/data/River_2263.jpg  \n",
            "  inflating: /content/data/data/River_2264.jpg  \n",
            "  inflating: /content/data/data/River_2265.jpg  \n",
            "  inflating: /content/data/data/River_2266.jpg  \n",
            "  inflating: /content/data/data/River_2267.jpg  \n",
            "  inflating: /content/data/data/River_2268.jpg  \n",
            "  inflating: /content/data/data/River_2269.jpg  \n",
            "  inflating: /content/data/data/River_227.jpg  \n",
            "  inflating: /content/data/data/River_2270.jpg  \n",
            "  inflating: /content/data/data/River_2271.jpg  \n",
            "  inflating: /content/data/data/River_2272.jpg  \n",
            "  inflating: /content/data/data/River_2273.jpg  \n",
            "  inflating: /content/data/data/River_2274.jpg  \n",
            "  inflating: /content/data/data/River_2275.jpg  \n",
            "  inflating: /content/data/data/River_2276.jpg  \n",
            "  inflating: /content/data/data/River_2277.jpg  \n",
            "  inflating: /content/data/data/River_2278.jpg  \n",
            "  inflating: /content/data/data/River_2279.jpg  \n",
            "  inflating: /content/data/data/River_228.jpg  \n",
            "  inflating: /content/data/data/River_2280.jpg  \n",
            "  inflating: /content/data/data/River_2281.jpg  \n",
            "  inflating: /content/data/data/River_2282.jpg  \n",
            "  inflating: /content/data/data/River_2283.jpg  \n",
            "  inflating: /content/data/data/River_2284.jpg  \n",
            "  inflating: /content/data/data/River_2285.jpg  \n",
            "  inflating: /content/data/data/River_2286.jpg  \n",
            "  inflating: /content/data/data/River_2287.jpg  \n",
            "  inflating: /content/data/data/River_2288.jpg  \n",
            "  inflating: /content/data/data/River_2289.jpg  \n",
            "  inflating: /content/data/data/River_229.jpg  \n",
            "  inflating: /content/data/data/River_2290.jpg  \n",
            "  inflating: /content/data/data/River_2291.jpg  \n",
            "  inflating: /content/data/data/River_2292.jpg  \n",
            "  inflating: /content/data/data/River_2293.jpg  \n",
            "  inflating: /content/data/data/River_2294.jpg  \n",
            "  inflating: /content/data/data/River_2295.jpg  \n",
            "  inflating: /content/data/data/River_2296.jpg  \n",
            "  inflating: /content/data/data/River_2297.jpg  \n",
            "  inflating: /content/data/data/River_2298.jpg  \n",
            "  inflating: /content/data/data/River_2299.jpg  \n",
            "  inflating: /content/data/data/River_23.jpg  \n",
            "  inflating: /content/data/data/River_230.jpg  \n",
            "  inflating: /content/data/data/River_2300.jpg  \n",
            "  inflating: /content/data/data/River_2301.jpg  \n",
            "  inflating: /content/data/data/River_2302.jpg  \n",
            "  inflating: /content/data/data/River_2303.jpg  \n",
            "  inflating: /content/data/data/River_2304.jpg  \n",
            "  inflating: /content/data/data/River_2305.jpg  \n",
            "  inflating: /content/data/data/River_2306.jpg  \n",
            "  inflating: /content/data/data/River_2307.jpg  \n",
            "  inflating: /content/data/data/River_2308.jpg  \n",
            "  inflating: /content/data/data/River_2309.jpg  \n",
            "  inflating: /content/data/data/River_231.jpg  \n",
            "  inflating: /content/data/data/River_2310.jpg  \n",
            "  inflating: /content/data/data/River_2311.jpg  \n",
            "  inflating: /content/data/data/River_2312.jpg  \n",
            "  inflating: /content/data/data/River_2313.jpg  \n",
            "  inflating: /content/data/data/River_2314.jpg  \n",
            "  inflating: /content/data/data/River_2315.jpg  \n",
            "  inflating: /content/data/data/River_2316.jpg  \n",
            "  inflating: /content/data/data/River_2317.jpg  \n",
            "  inflating: /content/data/data/River_2318.jpg  \n",
            "  inflating: /content/data/data/River_2319.jpg  \n",
            "  inflating: /content/data/data/River_232.jpg  \n",
            "  inflating: /content/data/data/River_2320.jpg  \n",
            "  inflating: /content/data/data/River_2321.jpg  \n",
            "  inflating: /content/data/data/River_2322.jpg  \n",
            "  inflating: /content/data/data/River_2323.jpg  \n",
            "  inflating: /content/data/data/River_2324.jpg  \n",
            "  inflating: /content/data/data/River_2325.jpg  \n",
            "  inflating: /content/data/data/River_2326.jpg  \n",
            "  inflating: /content/data/data/River_2327.jpg  \n",
            "  inflating: /content/data/data/River_2328.jpg  \n",
            "  inflating: /content/data/data/River_2329.jpg  \n",
            "  inflating: /content/data/data/River_233.jpg  \n",
            "  inflating: /content/data/data/River_2330.jpg  \n",
            "  inflating: /content/data/data/River_2331.jpg  \n",
            "  inflating: /content/data/data/River_2332.jpg  \n",
            "  inflating: /content/data/data/River_2333.jpg  \n",
            "  inflating: /content/data/data/River_2334.jpg  \n",
            "  inflating: /content/data/data/River_2335.jpg  \n",
            "  inflating: /content/data/data/River_2336.jpg  \n",
            "  inflating: /content/data/data/River_2337.jpg  \n",
            "  inflating: /content/data/data/River_2338.jpg  \n",
            "  inflating: /content/data/data/River_2339.jpg  \n",
            "  inflating: /content/data/data/River_234.jpg  \n",
            "  inflating: /content/data/data/River_2340.jpg  \n",
            "  inflating: /content/data/data/River_2341.jpg  \n",
            "  inflating: /content/data/data/River_2342.jpg  \n",
            "  inflating: /content/data/data/River_2343.jpg  \n",
            "  inflating: /content/data/data/River_2344.jpg  \n",
            "  inflating: /content/data/data/River_2345.jpg  \n",
            "  inflating: /content/data/data/River_2346.jpg  \n",
            "  inflating: /content/data/data/River_2347.jpg  \n",
            "  inflating: /content/data/data/River_2348.jpg  \n",
            "  inflating: /content/data/data/River_2349.jpg  \n",
            "  inflating: /content/data/data/River_235.jpg  \n",
            "  inflating: /content/data/data/River_2350.jpg  \n",
            "  inflating: /content/data/data/River_2351.jpg  \n",
            "  inflating: /content/data/data/River_2352.jpg  \n",
            "  inflating: /content/data/data/River_2353.jpg  \n",
            "  inflating: /content/data/data/River_2354.jpg  \n",
            "  inflating: /content/data/data/River_2355.jpg  \n",
            "  inflating: /content/data/data/River_2356.jpg  \n",
            "  inflating: /content/data/data/River_2357.jpg  \n",
            "  inflating: /content/data/data/River_2358.jpg  \n",
            "  inflating: /content/data/data/River_2359.jpg  \n",
            "  inflating: /content/data/data/River_236.jpg  \n",
            "  inflating: /content/data/data/River_2360.jpg  \n",
            "  inflating: /content/data/data/River_2361.jpg  \n",
            "  inflating: /content/data/data/River_2362.jpg  \n",
            "  inflating: /content/data/data/River_2363.jpg  \n",
            "  inflating: /content/data/data/River_2364.jpg  \n",
            "  inflating: /content/data/data/River_2365.jpg  \n",
            "  inflating: /content/data/data/River_2366.jpg  \n",
            "  inflating: /content/data/data/River_2367.jpg  \n",
            "  inflating: /content/data/data/River_2368.jpg  \n",
            "  inflating: /content/data/data/River_2369.jpg  \n",
            "  inflating: /content/data/data/River_237.jpg  \n",
            "  inflating: /content/data/data/River_2370.jpg  \n",
            "  inflating: /content/data/data/River_2371.jpg  \n",
            "  inflating: /content/data/data/River_2372.jpg  \n",
            "  inflating: /content/data/data/River_2373.jpg  \n",
            "  inflating: /content/data/data/River_2374.jpg  \n",
            "  inflating: /content/data/data/River_2375.jpg  \n",
            "  inflating: /content/data/data/River_2376.jpg  \n",
            "  inflating: /content/data/data/River_2377.jpg  \n",
            "  inflating: /content/data/data/River_2378.jpg  \n",
            "  inflating: /content/data/data/River_2379.jpg  \n",
            "  inflating: /content/data/data/River_238.jpg  \n",
            "  inflating: /content/data/data/River_2380.jpg  \n",
            "  inflating: /content/data/data/River_2381.jpg  \n",
            "  inflating: /content/data/data/River_2382.jpg  \n",
            "  inflating: /content/data/data/River_2383.jpg  \n",
            "  inflating: /content/data/data/River_2384.jpg  \n",
            "  inflating: /content/data/data/River_2385.jpg  \n",
            "  inflating: /content/data/data/River_2386.jpg  \n",
            "  inflating: /content/data/data/River_2387.jpg  \n",
            "  inflating: /content/data/data/River_2388.jpg  \n",
            "  inflating: /content/data/data/River_2389.jpg  \n",
            "  inflating: /content/data/data/River_239.jpg  \n",
            "  inflating: /content/data/data/River_2390.jpg  \n",
            "  inflating: /content/data/data/River_2391.jpg  \n",
            "  inflating: /content/data/data/River_2392.jpg  \n",
            "  inflating: /content/data/data/River_2393.jpg  \n",
            "  inflating: /content/data/data/River_2394.jpg  \n",
            "  inflating: /content/data/data/River_2395.jpg  \n",
            "  inflating: /content/data/data/River_2396.jpg  \n",
            "  inflating: /content/data/data/River_2397.jpg  \n",
            "  inflating: /content/data/data/River_2398.jpg  \n",
            "  inflating: /content/data/data/River_2399.jpg  \n",
            "  inflating: /content/data/data/River_24.jpg  \n",
            "  inflating: /content/data/data/River_240.jpg  \n",
            "  inflating: /content/data/data/River_2400.jpg  \n",
            "  inflating: /content/data/data/River_2401.jpg  \n",
            "  inflating: /content/data/data/River_2402.jpg  \n",
            "  inflating: /content/data/data/River_2403.jpg  \n",
            "  inflating: /content/data/data/River_2404.jpg  \n",
            "  inflating: /content/data/data/River_2405.jpg  \n",
            "  inflating: /content/data/data/River_2406.jpg  \n",
            "  inflating: /content/data/data/River_2407.jpg  \n",
            "  inflating: /content/data/data/River_2408.jpg  \n",
            "  inflating: /content/data/data/River_2409.jpg  \n",
            "  inflating: /content/data/data/River_241.jpg  \n",
            "  inflating: /content/data/data/River_2410.jpg  \n",
            "  inflating: /content/data/data/River_2411.jpg  \n",
            "  inflating: /content/data/data/River_2412.jpg  \n",
            "  inflating: /content/data/data/River_2413.jpg  \n",
            "  inflating: /content/data/data/River_2414.jpg  \n",
            "  inflating: /content/data/data/River_2415.jpg  \n",
            "  inflating: /content/data/data/River_2416.jpg  \n",
            "  inflating: /content/data/data/River_2417.jpg  \n",
            "  inflating: /content/data/data/River_2418.jpg  \n",
            "  inflating: /content/data/data/River_2419.jpg  \n",
            "  inflating: /content/data/data/River_242.jpg  \n",
            "  inflating: /content/data/data/River_2420.jpg  \n",
            "  inflating: /content/data/data/River_2421.jpg  \n",
            "  inflating: /content/data/data/River_2422.jpg  \n",
            "  inflating: /content/data/data/River_2423.jpg  \n",
            "  inflating: /content/data/data/River_2424.jpg  \n",
            "  inflating: /content/data/data/River_2425.jpg  \n",
            "  inflating: /content/data/data/River_2426.jpg  \n",
            "  inflating: /content/data/data/River_2427.jpg  \n",
            "  inflating: /content/data/data/River_2428.jpg  \n",
            "  inflating: /content/data/data/River_2429.jpg  \n",
            "  inflating: /content/data/data/River_243.jpg  \n",
            "  inflating: /content/data/data/River_2430.jpg  \n",
            "  inflating: /content/data/data/River_2431.jpg  \n",
            "  inflating: /content/data/data/River_2432.jpg  \n",
            "  inflating: /content/data/data/River_2433.jpg  \n",
            "  inflating: /content/data/data/River_2434.jpg  \n",
            "  inflating: /content/data/data/River_2435.jpg  \n",
            "  inflating: /content/data/data/River_2436.jpg  \n",
            "  inflating: /content/data/data/River_2437.jpg  \n",
            "  inflating: /content/data/data/River_2438.jpg  \n",
            "  inflating: /content/data/data/River_2439.jpg  \n",
            "  inflating: /content/data/data/River_244.jpg  \n",
            "  inflating: /content/data/data/River_2440.jpg  \n",
            "  inflating: /content/data/data/River_2441.jpg  \n",
            "  inflating: /content/data/data/River_2442.jpg  \n",
            "  inflating: /content/data/data/River_2443.jpg  \n",
            "  inflating: /content/data/data/River_2444.jpg  \n",
            "  inflating: /content/data/data/River_2445.jpg  \n",
            "  inflating: /content/data/data/River_2446.jpg  \n",
            "  inflating: /content/data/data/River_2447.jpg  \n",
            "  inflating: /content/data/data/River_2448.jpg  \n",
            "  inflating: /content/data/data/River_2449.jpg  \n",
            "  inflating: /content/data/data/River_245.jpg  \n",
            "  inflating: /content/data/data/River_2450.jpg  \n",
            "  inflating: /content/data/data/River_2451.jpg  \n",
            "  inflating: /content/data/data/River_2452.jpg  \n",
            "  inflating: /content/data/data/River_2453.jpg  \n",
            "  inflating: /content/data/data/River_2454.jpg  \n",
            "  inflating: /content/data/data/River_2455.jpg  \n",
            "  inflating: /content/data/data/River_2456.jpg  \n",
            "  inflating: /content/data/data/River_2457.jpg  \n",
            "  inflating: /content/data/data/River_2458.jpg  \n",
            "  inflating: /content/data/data/River_2459.jpg  \n",
            "  inflating: /content/data/data/River_246.jpg  \n",
            "  inflating: /content/data/data/River_2460.jpg  \n",
            "  inflating: /content/data/data/River_2461.jpg  \n",
            "  inflating: /content/data/data/River_2462.jpg  \n",
            "  inflating: /content/data/data/River_2463.jpg  \n",
            "  inflating: /content/data/data/River_2464.jpg  \n",
            "  inflating: /content/data/data/River_2465.jpg  \n",
            "  inflating: /content/data/data/River_2466.jpg  \n",
            "  inflating: /content/data/data/River_2467.jpg  \n",
            "  inflating: /content/data/data/River_2468.jpg  \n",
            "  inflating: /content/data/data/River_2469.jpg  \n",
            "  inflating: /content/data/data/River_247.jpg  \n",
            "  inflating: /content/data/data/River_2470.jpg  \n",
            "  inflating: /content/data/data/River_2471.jpg  \n",
            "  inflating: /content/data/data/River_2472.jpg  \n",
            "  inflating: /content/data/data/River_2473.jpg  \n",
            "  inflating: /content/data/data/River_2474.jpg  \n",
            "  inflating: /content/data/data/River_2475.jpg  \n",
            "  inflating: /content/data/data/River_2476.jpg  \n",
            "  inflating: /content/data/data/River_2477.jpg  \n",
            "  inflating: /content/data/data/River_2478.jpg  \n",
            "  inflating: /content/data/data/River_2479.jpg  \n",
            "  inflating: /content/data/data/River_248.jpg  \n",
            "  inflating: /content/data/data/River_2480.jpg  \n",
            "  inflating: /content/data/data/River_2481.jpg  \n",
            "  inflating: /content/data/data/River_2482.jpg  \n",
            "  inflating: /content/data/data/River_2483.jpg  \n",
            "  inflating: /content/data/data/River_2484.jpg  \n",
            "  inflating: /content/data/data/River_2485.jpg  \n",
            "  inflating: /content/data/data/River_2486.jpg  \n",
            "  inflating: /content/data/data/River_2487.jpg  \n",
            "  inflating: /content/data/data/River_2488.jpg  \n",
            "  inflating: /content/data/data/River_2489.jpg  \n",
            "  inflating: /content/data/data/River_249.jpg  \n",
            "  inflating: /content/data/data/River_2490.jpg  \n",
            "  inflating: /content/data/data/River_2491.jpg  \n",
            "  inflating: /content/data/data/River_2492.jpg  \n",
            "  inflating: /content/data/data/River_2493.jpg  \n",
            "  inflating: /content/data/data/River_2494.jpg  \n",
            "  inflating: /content/data/data/River_2495.jpg  \n",
            "  inflating: /content/data/data/River_2496.jpg  \n",
            "  inflating: /content/data/data/River_2497.jpg  \n",
            "  inflating: /content/data/data/River_2498.jpg  \n",
            "  inflating: /content/data/data/River_2499.jpg  \n",
            "  inflating: /content/data/data/River_25.jpg  \n",
            "  inflating: /content/data/data/River_250.jpg  \n",
            "  inflating: /content/data/data/River_2500.jpg  \n",
            "  inflating: /content/data/data/River_251.jpg  \n",
            "  inflating: /content/data/data/River_252.jpg  \n",
            "  inflating: /content/data/data/River_253.jpg  \n",
            "  inflating: /content/data/data/River_254.jpg  \n",
            "  inflating: /content/data/data/River_255.jpg  \n",
            "  inflating: /content/data/data/River_256.jpg  \n",
            "  inflating: /content/data/data/River_257.jpg  \n",
            "  inflating: /content/data/data/River_258.jpg  \n",
            "  inflating: /content/data/data/River_259.jpg  \n",
            "  inflating: /content/data/data/River_26.jpg  \n",
            "  inflating: /content/data/data/River_260.jpg  \n",
            "  inflating: /content/data/data/River_261.jpg  \n",
            "  inflating: /content/data/data/River_262.jpg  \n",
            "  inflating: /content/data/data/River_263.jpg  \n",
            "  inflating: /content/data/data/River_264.jpg  \n",
            "  inflating: /content/data/data/River_265.jpg  \n",
            "  inflating: /content/data/data/River_266.jpg  \n",
            "  inflating: /content/data/data/River_267.jpg  \n",
            "  inflating: /content/data/data/River_268.jpg  \n",
            "  inflating: /content/data/data/River_269.jpg  \n",
            "  inflating: /content/data/data/River_27.jpg  \n",
            "  inflating: /content/data/data/River_270.jpg  \n",
            "  inflating: /content/data/data/River_271.jpg  \n",
            "  inflating: /content/data/data/River_272.jpg  \n",
            "  inflating: /content/data/data/River_273.jpg  \n",
            "  inflating: /content/data/data/River_274.jpg  \n",
            "  inflating: /content/data/data/River_275.jpg  \n",
            "  inflating: /content/data/data/River_276.jpg  \n",
            "  inflating: /content/data/data/River_277.jpg  \n",
            "  inflating: /content/data/data/River_278.jpg  \n",
            "  inflating: /content/data/data/River_279.jpg  \n",
            "  inflating: /content/data/data/River_28.jpg  \n",
            "  inflating: /content/data/data/River_280.jpg  \n",
            "  inflating: /content/data/data/River_281.jpg  \n",
            "  inflating: /content/data/data/River_282.jpg  \n",
            "  inflating: /content/data/data/River_283.jpg  \n",
            "  inflating: /content/data/data/River_284.jpg  \n",
            "  inflating: /content/data/data/River_285.jpg  \n",
            "  inflating: /content/data/data/River_286.jpg  \n",
            "  inflating: /content/data/data/River_287.jpg  \n",
            "  inflating: /content/data/data/River_288.jpg  \n",
            "  inflating: /content/data/data/River_289.jpg  \n",
            "  inflating: /content/data/data/River_29.jpg  \n",
            "  inflating: /content/data/data/River_290.jpg  \n",
            "  inflating: /content/data/data/River_291.jpg  \n",
            "  inflating: /content/data/data/River_292.jpg  \n",
            "  inflating: /content/data/data/River_293.jpg  \n",
            "  inflating: /content/data/data/River_294.jpg  \n",
            "  inflating: /content/data/data/River_295.jpg  \n",
            "  inflating: /content/data/data/River_296.jpg  \n",
            "  inflating: /content/data/data/River_297.jpg  \n",
            "  inflating: /content/data/data/River_298.jpg  \n",
            "  inflating: /content/data/data/River_299.jpg  \n",
            "  inflating: /content/data/data/River_3.jpg  \n",
            "  inflating: /content/data/data/River_30.jpg  \n",
            "  inflating: /content/data/data/River_300.jpg  \n",
            "  inflating: /content/data/data/River_301.jpg  \n",
            "  inflating: /content/data/data/River_302.jpg  \n",
            "  inflating: /content/data/data/River_303.jpg  \n",
            "  inflating: /content/data/data/River_304.jpg  \n",
            "  inflating: /content/data/data/River_305.jpg  \n",
            "  inflating: /content/data/data/River_306.jpg  \n",
            "  inflating: /content/data/data/River_307.jpg  \n",
            "  inflating: /content/data/data/River_308.jpg  \n",
            "  inflating: /content/data/data/River_309.jpg  \n",
            "  inflating: /content/data/data/River_31.jpg  \n",
            "  inflating: /content/data/data/River_310.jpg  \n",
            "  inflating: /content/data/data/River_311.jpg  \n",
            "  inflating: /content/data/data/River_312.jpg  \n",
            "  inflating: /content/data/data/River_313.jpg  \n",
            "  inflating: /content/data/data/River_314.jpg  \n",
            "  inflating: /content/data/data/River_315.jpg  \n",
            "  inflating: /content/data/data/River_316.jpg  \n",
            "  inflating: /content/data/data/River_317.jpg  \n",
            "  inflating: /content/data/data/River_318.jpg  \n",
            "  inflating: /content/data/data/River_319.jpg  \n",
            "  inflating: /content/data/data/River_32.jpg  \n",
            "  inflating: /content/data/data/River_320.jpg  \n",
            "  inflating: /content/data/data/River_321.jpg  \n",
            "  inflating: /content/data/data/River_322.jpg  \n",
            "  inflating: /content/data/data/River_323.jpg  \n",
            "  inflating: /content/data/data/River_324.jpg  \n",
            "  inflating: /content/data/data/River_325.jpg  \n",
            "  inflating: /content/data/data/River_326.jpg  \n",
            "  inflating: /content/data/data/River_327.jpg  \n",
            "  inflating: /content/data/data/River_328.jpg  \n",
            "  inflating: /content/data/data/River_329.jpg  \n",
            "  inflating: /content/data/data/River_33.jpg  \n",
            "  inflating: /content/data/data/River_330.jpg  \n",
            "  inflating: /content/data/data/River_331.jpg  \n",
            "  inflating: /content/data/data/River_332.jpg  \n",
            "  inflating: /content/data/data/River_333.jpg  \n",
            "  inflating: /content/data/data/River_334.jpg  \n",
            "  inflating: /content/data/data/River_335.jpg  \n",
            "  inflating: /content/data/data/River_336.jpg  \n",
            "  inflating: /content/data/data/River_337.jpg  \n",
            "  inflating: /content/data/data/River_338.jpg  \n",
            "  inflating: /content/data/data/River_339.jpg  \n",
            "  inflating: /content/data/data/River_34.jpg  \n",
            "  inflating: /content/data/data/River_340.jpg  \n",
            "  inflating: /content/data/data/River_341.jpg  \n",
            "  inflating: /content/data/data/River_342.jpg  \n",
            "  inflating: /content/data/data/River_343.jpg  \n",
            "  inflating: /content/data/data/River_344.jpg  \n",
            "  inflating: /content/data/data/River_345.jpg  \n",
            "  inflating: /content/data/data/River_346.jpg  \n",
            "  inflating: /content/data/data/River_347.jpg  \n",
            "  inflating: /content/data/data/River_348.jpg  \n",
            "  inflating: /content/data/data/River_349.jpg  \n",
            "  inflating: /content/data/data/River_35.jpg  \n",
            "  inflating: /content/data/data/River_350.jpg  \n",
            "  inflating: /content/data/data/River_351.jpg  \n",
            "  inflating: /content/data/data/River_352.jpg  \n",
            "  inflating: /content/data/data/River_353.jpg  \n",
            "  inflating: /content/data/data/River_354.jpg  \n",
            "  inflating: /content/data/data/River_355.jpg  \n",
            "  inflating: /content/data/data/River_356.jpg  \n",
            "  inflating: /content/data/data/River_357.jpg  \n",
            "  inflating: /content/data/data/River_358.jpg  \n",
            "  inflating: /content/data/data/River_359.jpg  \n",
            "  inflating: /content/data/data/River_36.jpg  \n",
            "  inflating: /content/data/data/River_360.jpg  \n",
            "  inflating: /content/data/data/River_361.jpg  \n",
            "  inflating: /content/data/data/River_362.jpg  \n",
            "  inflating: /content/data/data/River_363.jpg  \n",
            "  inflating: /content/data/data/River_364.jpg  \n",
            "  inflating: /content/data/data/River_365.jpg  \n",
            "  inflating: /content/data/data/River_366.jpg  \n",
            "  inflating: /content/data/data/River_367.jpg  \n",
            "  inflating: /content/data/data/River_368.jpg  \n",
            "  inflating: /content/data/data/River_369.jpg  \n",
            "  inflating: /content/data/data/River_37.jpg  \n",
            "  inflating: /content/data/data/River_370.jpg  \n",
            "  inflating: /content/data/data/River_371.jpg  \n",
            "  inflating: /content/data/data/River_372.jpg  \n",
            "  inflating: /content/data/data/River_373.jpg  \n",
            "  inflating: /content/data/data/River_374.jpg  \n",
            "  inflating: /content/data/data/River_375.jpg  \n",
            "  inflating: /content/data/data/River_376.jpg  \n",
            "  inflating: /content/data/data/River_377.jpg  \n",
            "  inflating: /content/data/data/River_378.jpg  \n",
            "  inflating: /content/data/data/River_379.jpg  \n",
            "  inflating: /content/data/data/River_38.jpg  \n",
            "  inflating: /content/data/data/River_380.jpg  \n",
            "  inflating: /content/data/data/River_381.jpg  \n",
            "  inflating: /content/data/data/River_382.jpg  \n",
            "  inflating: /content/data/data/River_383.jpg  \n",
            "  inflating: /content/data/data/River_384.jpg  \n",
            "  inflating: /content/data/data/River_385.jpg  \n",
            "  inflating: /content/data/data/River_386.jpg  \n",
            "  inflating: /content/data/data/River_387.jpg  \n",
            "  inflating: /content/data/data/River_388.jpg  \n",
            "  inflating: /content/data/data/River_389.jpg  \n",
            "  inflating: /content/data/data/River_39.jpg  \n",
            "  inflating: /content/data/data/River_390.jpg  \n",
            "  inflating: /content/data/data/River_391.jpg  \n",
            "  inflating: /content/data/data/River_392.jpg  \n",
            "  inflating: /content/data/data/River_393.jpg  \n",
            "  inflating: /content/data/data/River_394.jpg  \n",
            "  inflating: /content/data/data/River_395.jpg  \n",
            "  inflating: /content/data/data/River_396.jpg  \n",
            "  inflating: /content/data/data/River_397.jpg  \n",
            "  inflating: /content/data/data/River_398.jpg  \n",
            "  inflating: /content/data/data/River_399.jpg  \n",
            "  inflating: /content/data/data/River_4.jpg  \n",
            "  inflating: /content/data/data/River_40.jpg  \n",
            "  inflating: /content/data/data/River_400.jpg  \n",
            "  inflating: /content/data/data/River_401.jpg  \n",
            "  inflating: /content/data/data/River_402.jpg  \n",
            "  inflating: /content/data/data/River_403.jpg  \n",
            "  inflating: /content/data/data/River_404.jpg  \n",
            "  inflating: /content/data/data/River_405.jpg  \n",
            "  inflating: /content/data/data/River_406.jpg  \n",
            "  inflating: /content/data/data/River_407.jpg  \n",
            "  inflating: /content/data/data/River_408.jpg  \n",
            "  inflating: /content/data/data/River_409.jpg  \n",
            "  inflating: /content/data/data/River_41.jpg  \n",
            "  inflating: /content/data/data/River_410.jpg  \n",
            "  inflating: /content/data/data/River_411.jpg  \n",
            "  inflating: /content/data/data/River_412.jpg  \n",
            "  inflating: /content/data/data/River_413.jpg  \n",
            "  inflating: /content/data/data/River_414.jpg  \n",
            "  inflating: /content/data/data/River_415.jpg  \n",
            "  inflating: /content/data/data/River_416.jpg  \n",
            "  inflating: /content/data/data/River_417.jpg  \n",
            "  inflating: /content/data/data/River_418.jpg  \n",
            "  inflating: /content/data/data/River_419.jpg  \n",
            "  inflating: /content/data/data/River_42.jpg  \n",
            "  inflating: /content/data/data/River_420.jpg  \n",
            "  inflating: /content/data/data/River_421.jpg  \n",
            "  inflating: /content/data/data/River_422.jpg  \n",
            "  inflating: /content/data/data/River_423.jpg  \n",
            "  inflating: /content/data/data/River_424.jpg  \n",
            "  inflating: /content/data/data/River_425.jpg  \n",
            "  inflating: /content/data/data/River_426.jpg  \n",
            "  inflating: /content/data/data/River_427.jpg  \n",
            "  inflating: /content/data/data/River_428.jpg  \n",
            "  inflating: /content/data/data/River_429.jpg  \n",
            "  inflating: /content/data/data/River_43.jpg  \n",
            "  inflating: /content/data/data/River_430.jpg  \n",
            "  inflating: /content/data/data/River_431.jpg  \n",
            "  inflating: /content/data/data/River_432.jpg  \n",
            "  inflating: /content/data/data/River_433.jpg  \n",
            "  inflating: /content/data/data/River_434.jpg  \n",
            "  inflating: /content/data/data/River_435.jpg  \n",
            "  inflating: /content/data/data/River_436.jpg  \n",
            "  inflating: /content/data/data/River_437.jpg  \n",
            "  inflating: /content/data/data/River_438.jpg  \n",
            "  inflating: /content/data/data/River_439.jpg  \n",
            "  inflating: /content/data/data/River_44.jpg  \n",
            "  inflating: /content/data/data/River_440.jpg  \n",
            "  inflating: /content/data/data/River_441.jpg  \n",
            "  inflating: /content/data/data/River_442.jpg  \n",
            "  inflating: /content/data/data/River_443.jpg  \n",
            "  inflating: /content/data/data/River_444.jpg  \n",
            "  inflating: /content/data/data/River_445.jpg  \n",
            "  inflating: /content/data/data/River_446.jpg  \n",
            "  inflating: /content/data/data/River_447.jpg  \n",
            "  inflating: /content/data/data/River_448.jpg  \n",
            "  inflating: /content/data/data/River_449.jpg  \n",
            "  inflating: /content/data/data/River_45.jpg  \n",
            "  inflating: /content/data/data/River_450.jpg  \n",
            "  inflating: /content/data/data/River_451.jpg  \n",
            "  inflating: /content/data/data/River_452.jpg  \n",
            "  inflating: /content/data/data/River_453.jpg  \n",
            "  inflating: /content/data/data/River_454.jpg  \n",
            "  inflating: /content/data/data/River_455.jpg  \n",
            "  inflating: /content/data/data/River_456.jpg  \n",
            "  inflating: /content/data/data/River_457.jpg  \n",
            "  inflating: /content/data/data/River_458.jpg  \n",
            "  inflating: /content/data/data/River_459.jpg  \n",
            "  inflating: /content/data/data/River_46.jpg  \n",
            "  inflating: /content/data/data/River_460.jpg  \n",
            "  inflating: /content/data/data/River_461.jpg  \n",
            "  inflating: /content/data/data/River_462.jpg  \n",
            "  inflating: /content/data/data/River_463.jpg  \n",
            "  inflating: /content/data/data/River_464.jpg  \n",
            "  inflating: /content/data/data/River_465.jpg  \n",
            "  inflating: /content/data/data/River_466.jpg  \n",
            "  inflating: /content/data/data/River_467.jpg  \n",
            "  inflating: /content/data/data/River_468.jpg  \n",
            "  inflating: /content/data/data/River_469.jpg  \n",
            "  inflating: /content/data/data/River_47.jpg  \n",
            "  inflating: /content/data/data/River_470.jpg  \n",
            "  inflating: /content/data/data/River_471.jpg  \n",
            "  inflating: /content/data/data/River_472.jpg  \n",
            "  inflating: /content/data/data/River_473.jpg  \n",
            "  inflating: /content/data/data/River_474.jpg  \n",
            "  inflating: /content/data/data/River_475.jpg  \n",
            "  inflating: /content/data/data/River_476.jpg  \n",
            "  inflating: /content/data/data/River_477.jpg  \n",
            "  inflating: /content/data/data/River_478.jpg  \n",
            "  inflating: /content/data/data/River_479.jpg  \n",
            "  inflating: /content/data/data/River_48.jpg  \n",
            "  inflating: /content/data/data/River_480.jpg  \n",
            "  inflating: /content/data/data/River_481.jpg  \n",
            "  inflating: /content/data/data/River_482.jpg  \n",
            "  inflating: /content/data/data/River_483.jpg  \n",
            "  inflating: /content/data/data/River_484.jpg  \n",
            "  inflating: /content/data/data/River_485.jpg  \n",
            "  inflating: /content/data/data/River_486.jpg  \n",
            "  inflating: /content/data/data/River_487.jpg  \n",
            "  inflating: /content/data/data/River_488.jpg  \n",
            "  inflating: /content/data/data/River_489.jpg  \n",
            "  inflating: /content/data/data/River_49.jpg  \n",
            "  inflating: /content/data/data/River_490.jpg  \n",
            "  inflating: /content/data/data/River_491.jpg  \n",
            "  inflating: /content/data/data/River_492.jpg  \n",
            "  inflating: /content/data/data/River_493.jpg  \n",
            "  inflating: /content/data/data/River_494.jpg  \n",
            "  inflating: /content/data/data/River_495.jpg  \n",
            "  inflating: /content/data/data/River_496.jpg  \n",
            "  inflating: /content/data/data/River_497.jpg  \n",
            "  inflating: /content/data/data/River_498.jpg  \n",
            "  inflating: /content/data/data/River_499.jpg  \n",
            "  inflating: /content/data/data/River_5.jpg  \n",
            "  inflating: /content/data/data/River_50.jpg  \n",
            "  inflating: /content/data/data/River_500.jpg  \n",
            "  inflating: /content/data/data/River_501.jpg  \n",
            "  inflating: /content/data/data/River_502.jpg  \n",
            "  inflating: /content/data/data/River_503.jpg  \n",
            "  inflating: /content/data/data/River_504.jpg  \n",
            "  inflating: /content/data/data/River_505.jpg  \n",
            "  inflating: /content/data/data/River_506.jpg  \n",
            "  inflating: /content/data/data/River_507.jpg  \n",
            "  inflating: /content/data/data/River_508.jpg  \n",
            "  inflating: /content/data/data/River_509.jpg  \n",
            "  inflating: /content/data/data/River_51.jpg  \n",
            "  inflating: /content/data/data/River_510.jpg  \n",
            "  inflating: /content/data/data/River_511.jpg  \n",
            "  inflating: /content/data/data/River_512.jpg  \n",
            "  inflating: /content/data/data/River_513.jpg  \n",
            "  inflating: /content/data/data/River_514.jpg  \n",
            "  inflating: /content/data/data/River_515.jpg  \n",
            "  inflating: /content/data/data/River_516.jpg  \n",
            "  inflating: /content/data/data/River_517.jpg  \n",
            "  inflating: /content/data/data/River_518.jpg  \n",
            "  inflating: /content/data/data/River_519.jpg  \n",
            "  inflating: /content/data/data/River_52.jpg  \n",
            "  inflating: /content/data/data/River_520.jpg  \n",
            "  inflating: /content/data/data/River_521.jpg  \n",
            "  inflating: /content/data/data/River_522.jpg  \n",
            "  inflating: /content/data/data/River_523.jpg  \n",
            "  inflating: /content/data/data/River_524.jpg  \n",
            "  inflating: /content/data/data/River_525.jpg  \n",
            "  inflating: /content/data/data/River_526.jpg  \n",
            "  inflating: /content/data/data/River_527.jpg  \n",
            "  inflating: /content/data/data/River_528.jpg  \n",
            "  inflating: /content/data/data/River_529.jpg  \n",
            "  inflating: /content/data/data/River_53.jpg  \n",
            "  inflating: /content/data/data/River_530.jpg  \n",
            "  inflating: /content/data/data/River_531.jpg  \n",
            "  inflating: /content/data/data/River_532.jpg  \n",
            "  inflating: /content/data/data/River_533.jpg  \n",
            "  inflating: /content/data/data/River_534.jpg  \n",
            "  inflating: /content/data/data/River_535.jpg  \n",
            "  inflating: /content/data/data/River_536.jpg  \n",
            "  inflating: /content/data/data/River_537.jpg  \n",
            "  inflating: /content/data/data/River_538.jpg  \n",
            "  inflating: /content/data/data/River_539.jpg  \n",
            "  inflating: /content/data/data/River_54.jpg  \n",
            "  inflating: /content/data/data/River_540.jpg  \n",
            "  inflating: /content/data/data/River_541.jpg  \n",
            "  inflating: /content/data/data/River_542.jpg  \n",
            "  inflating: /content/data/data/River_543.jpg  \n",
            "  inflating: /content/data/data/River_544.jpg  \n",
            "  inflating: /content/data/data/River_545.jpg  \n",
            "  inflating: /content/data/data/River_546.jpg  \n",
            "  inflating: /content/data/data/River_547.jpg  \n",
            "  inflating: /content/data/data/River_548.jpg  \n",
            "  inflating: /content/data/data/River_549.jpg  \n",
            "  inflating: /content/data/data/River_55.jpg  \n",
            "  inflating: /content/data/data/River_550.jpg  \n",
            "  inflating: /content/data/data/River_551.jpg  \n",
            "  inflating: /content/data/data/River_552.jpg  \n",
            "  inflating: /content/data/data/River_553.jpg  \n",
            "  inflating: /content/data/data/River_554.jpg  \n",
            "  inflating: /content/data/data/River_555.jpg  \n",
            "  inflating: /content/data/data/River_556.jpg  \n",
            "  inflating: /content/data/data/River_557.jpg  \n",
            "  inflating: /content/data/data/River_558.jpg  \n",
            "  inflating: /content/data/data/River_559.jpg  \n",
            "  inflating: /content/data/data/River_56.jpg  \n",
            "  inflating: /content/data/data/River_560.jpg  \n",
            "  inflating: /content/data/data/River_561.jpg  \n",
            "  inflating: /content/data/data/River_562.jpg  \n",
            "  inflating: /content/data/data/River_563.jpg  \n",
            "  inflating: /content/data/data/River_564.jpg  \n",
            "  inflating: /content/data/data/River_565.jpg  \n",
            "  inflating: /content/data/data/River_566.jpg  \n",
            "  inflating: /content/data/data/River_567.jpg  \n",
            "  inflating: /content/data/data/River_568.jpg  \n",
            "  inflating: /content/data/data/River_569.jpg  \n",
            "  inflating: /content/data/data/River_57.jpg  \n",
            "  inflating: /content/data/data/River_570.jpg  \n",
            "  inflating: /content/data/data/River_571.jpg  \n",
            "  inflating: /content/data/data/River_572.jpg  \n",
            "  inflating: /content/data/data/River_573.jpg  \n",
            "  inflating: /content/data/data/River_574.jpg  \n",
            "  inflating: /content/data/data/River_575.jpg  \n",
            "  inflating: /content/data/data/River_576.jpg  \n",
            "  inflating: /content/data/data/River_577.jpg  \n",
            "  inflating: /content/data/data/River_578.jpg  \n",
            "  inflating: /content/data/data/River_579.jpg  \n",
            "  inflating: /content/data/data/River_58.jpg  \n",
            "  inflating: /content/data/data/River_580.jpg  \n",
            "  inflating: /content/data/data/River_581.jpg  \n",
            "  inflating: /content/data/data/River_582.jpg  \n",
            "  inflating: /content/data/data/River_583.jpg  \n",
            "  inflating: /content/data/data/River_584.jpg  \n",
            "  inflating: /content/data/data/River_585.jpg  \n",
            "  inflating: /content/data/data/River_586.jpg  \n",
            "  inflating: /content/data/data/River_587.jpg  \n",
            "  inflating: /content/data/data/River_588.jpg  \n",
            "  inflating: /content/data/data/River_589.jpg  \n",
            "  inflating: /content/data/data/River_59.jpg  \n",
            "  inflating: /content/data/data/River_590.jpg  \n",
            "  inflating: /content/data/data/River_591.jpg  \n",
            "  inflating: /content/data/data/River_592.jpg  \n",
            "  inflating: /content/data/data/River_593.jpg  \n",
            "  inflating: /content/data/data/River_594.jpg  \n",
            "  inflating: /content/data/data/River_595.jpg  \n",
            "  inflating: /content/data/data/River_596.jpg  \n",
            "  inflating: /content/data/data/River_597.jpg  \n",
            "  inflating: /content/data/data/River_598.jpg  \n",
            "  inflating: /content/data/data/River_599.jpg  \n",
            "  inflating: /content/data/data/River_6.jpg  \n",
            "  inflating: /content/data/data/River_60.jpg  \n",
            "  inflating: /content/data/data/River_600.jpg  \n",
            "  inflating: /content/data/data/River_601.jpg  \n",
            "  inflating: /content/data/data/River_602.jpg  \n",
            "  inflating: /content/data/data/River_603.jpg  \n",
            "  inflating: /content/data/data/River_604.jpg  \n",
            "  inflating: /content/data/data/River_605.jpg  \n",
            "  inflating: /content/data/data/River_606.jpg  \n",
            "  inflating: /content/data/data/River_607.jpg  \n",
            "  inflating: /content/data/data/River_608.jpg  \n",
            "  inflating: /content/data/data/River_609.jpg  \n",
            "  inflating: /content/data/data/River_61.jpg  \n",
            "  inflating: /content/data/data/River_610.jpg  \n",
            "  inflating: /content/data/data/River_611.jpg  \n",
            "  inflating: /content/data/data/River_612.jpg  \n",
            "  inflating: /content/data/data/River_613.jpg  \n",
            "  inflating: /content/data/data/River_614.jpg  \n",
            "  inflating: /content/data/data/River_615.jpg  \n",
            "  inflating: /content/data/data/River_616.jpg  \n",
            "  inflating: /content/data/data/River_617.jpg  \n",
            "  inflating: /content/data/data/River_618.jpg  \n",
            "  inflating: /content/data/data/River_619.jpg  \n",
            "  inflating: /content/data/data/River_62.jpg  \n",
            "  inflating: /content/data/data/River_620.jpg  \n",
            "  inflating: /content/data/data/River_621.jpg  \n",
            "  inflating: /content/data/data/River_622.jpg  \n",
            "  inflating: /content/data/data/River_623.jpg  \n",
            "  inflating: /content/data/data/River_624.jpg  \n",
            "  inflating: /content/data/data/River_625.jpg  \n",
            "  inflating: /content/data/data/River_626.jpg  \n",
            "  inflating: /content/data/data/River_627.jpg  \n",
            "  inflating: /content/data/data/River_628.jpg  \n",
            "  inflating: /content/data/data/River_629.jpg  \n",
            "  inflating: /content/data/data/River_63.jpg  \n",
            "  inflating: /content/data/data/River_630.jpg  \n",
            "  inflating: /content/data/data/River_631.jpg  \n",
            "  inflating: /content/data/data/River_632.jpg  \n",
            "  inflating: /content/data/data/River_633.jpg  \n",
            "  inflating: /content/data/data/River_634.jpg  \n",
            "  inflating: /content/data/data/River_635.jpg  \n",
            "  inflating: /content/data/data/River_636.jpg  \n",
            "  inflating: /content/data/data/River_637.jpg  \n",
            "  inflating: /content/data/data/River_638.jpg  \n",
            "  inflating: /content/data/data/River_639.jpg  \n",
            "  inflating: /content/data/data/River_64.jpg  \n",
            "  inflating: /content/data/data/River_640.jpg  \n",
            "  inflating: /content/data/data/River_641.jpg  \n",
            "  inflating: /content/data/data/River_642.jpg  \n",
            "  inflating: /content/data/data/River_643.jpg  \n",
            "  inflating: /content/data/data/River_644.jpg  \n",
            "  inflating: /content/data/data/River_645.jpg  \n",
            "  inflating: /content/data/data/River_646.jpg  \n",
            "  inflating: /content/data/data/River_647.jpg  \n",
            "  inflating: /content/data/data/River_648.jpg  \n",
            "  inflating: /content/data/data/River_649.jpg  \n",
            "  inflating: /content/data/data/River_65.jpg  \n",
            "  inflating: /content/data/data/River_650.jpg  \n",
            "  inflating: /content/data/data/River_651.jpg  \n",
            "  inflating: /content/data/data/River_652.jpg  \n",
            "  inflating: /content/data/data/River_653.jpg  \n",
            "  inflating: /content/data/data/River_654.jpg  \n",
            "  inflating: /content/data/data/River_655.jpg  \n",
            "  inflating: /content/data/data/River_656.jpg  \n",
            "  inflating: /content/data/data/River_657.jpg  \n",
            "  inflating: /content/data/data/River_658.jpg  \n",
            "  inflating: /content/data/data/River_659.jpg  \n",
            "  inflating: /content/data/data/River_66.jpg  \n",
            "  inflating: /content/data/data/River_660.jpg  \n",
            "  inflating: /content/data/data/River_661.jpg  \n",
            "  inflating: /content/data/data/River_662.jpg  \n",
            "  inflating: /content/data/data/River_663.jpg  \n",
            "  inflating: /content/data/data/River_664.jpg  \n",
            "  inflating: /content/data/data/River_665.jpg  \n",
            "  inflating: /content/data/data/River_666.jpg  \n",
            "  inflating: /content/data/data/River_667.jpg  \n",
            "  inflating: /content/data/data/River_668.jpg  \n",
            "  inflating: /content/data/data/River_669.jpg  \n",
            "  inflating: /content/data/data/River_67.jpg  \n",
            "  inflating: /content/data/data/River_670.jpg  \n",
            "  inflating: /content/data/data/River_671.jpg  \n",
            "  inflating: /content/data/data/River_672.jpg  \n",
            "  inflating: /content/data/data/River_673.jpg  \n",
            "  inflating: /content/data/data/River_674.jpg  \n",
            "  inflating: /content/data/data/River_675.jpg  \n",
            "  inflating: /content/data/data/River_676.jpg  \n",
            "  inflating: /content/data/data/River_677.jpg  \n",
            "  inflating: /content/data/data/River_678.jpg  \n",
            "  inflating: /content/data/data/River_679.jpg  \n",
            "  inflating: /content/data/data/River_68.jpg  \n",
            "  inflating: /content/data/data/River_680.jpg  \n",
            "  inflating: /content/data/data/River_681.jpg  \n",
            "  inflating: /content/data/data/River_682.jpg  \n",
            "  inflating: /content/data/data/River_683.jpg  \n",
            "  inflating: /content/data/data/River_684.jpg  \n",
            "  inflating: /content/data/data/River_685.jpg  \n",
            "  inflating: /content/data/data/River_686.jpg  \n",
            "  inflating: /content/data/data/River_687.jpg  \n",
            "  inflating: /content/data/data/River_688.jpg  \n",
            "  inflating: /content/data/data/River_689.jpg  \n",
            "  inflating: /content/data/data/River_69.jpg  \n",
            "  inflating: /content/data/data/River_690.jpg  \n",
            "  inflating: /content/data/data/River_691.jpg  \n",
            "  inflating: /content/data/data/River_692.jpg  \n",
            "  inflating: /content/data/data/River_693.jpg  \n",
            "  inflating: /content/data/data/River_694.jpg  \n",
            "  inflating: /content/data/data/River_695.jpg  \n",
            "  inflating: /content/data/data/River_696.jpg  \n",
            "  inflating: /content/data/data/River_697.jpg  \n",
            "  inflating: /content/data/data/River_698.jpg  \n",
            "  inflating: /content/data/data/River_699.jpg  \n",
            "  inflating: /content/data/data/River_7.jpg  \n",
            "  inflating: /content/data/data/River_70.jpg  \n",
            "  inflating: /content/data/data/River_700.jpg  \n",
            "  inflating: /content/data/data/River_701.jpg  \n",
            "  inflating: /content/data/data/River_702.jpg  \n",
            "  inflating: /content/data/data/River_703.jpg  \n",
            "  inflating: /content/data/data/River_704.jpg  \n",
            "  inflating: /content/data/data/River_705.jpg  \n",
            "  inflating: /content/data/data/River_706.jpg  \n",
            "  inflating: /content/data/data/River_707.jpg  \n",
            "  inflating: /content/data/data/River_708.jpg  \n",
            "  inflating: /content/data/data/River_709.jpg  \n",
            "  inflating: /content/data/data/River_71.jpg  \n",
            "  inflating: /content/data/data/River_710.jpg  \n",
            "  inflating: /content/data/data/River_711.jpg  \n",
            "  inflating: /content/data/data/River_712.jpg  \n",
            "  inflating: /content/data/data/River_713.jpg  \n",
            "  inflating: /content/data/data/River_714.jpg  \n",
            "  inflating: /content/data/data/River_715.jpg  \n",
            "  inflating: /content/data/data/River_716.jpg  \n",
            "  inflating: /content/data/data/River_717.jpg  \n",
            "  inflating: /content/data/data/River_718.jpg  \n",
            "  inflating: /content/data/data/River_719.jpg  \n",
            "  inflating: /content/data/data/River_72.jpg  \n",
            "  inflating: /content/data/data/River_720.jpg  \n",
            "  inflating: /content/data/data/River_721.jpg  \n",
            "  inflating: /content/data/data/River_722.jpg  \n",
            "  inflating: /content/data/data/River_723.jpg  \n",
            "  inflating: /content/data/data/River_724.jpg  \n",
            "  inflating: /content/data/data/River_725.jpg  \n",
            "  inflating: /content/data/data/River_726.jpg  \n",
            "  inflating: /content/data/data/River_727.jpg  \n",
            "  inflating: /content/data/data/River_728.jpg  \n",
            "  inflating: /content/data/data/River_729.jpg  \n",
            "  inflating: /content/data/data/River_73.jpg  \n",
            "  inflating: /content/data/data/River_730.jpg  \n",
            "  inflating: /content/data/data/River_731.jpg  \n",
            "  inflating: /content/data/data/River_732.jpg  \n",
            "  inflating: /content/data/data/River_733.jpg  \n",
            "  inflating: /content/data/data/River_734.jpg  \n",
            "  inflating: /content/data/data/River_735.jpg  \n",
            "  inflating: /content/data/data/River_736.jpg  \n",
            "  inflating: /content/data/data/River_737.jpg  \n",
            "  inflating: /content/data/data/River_738.jpg  \n",
            "  inflating: /content/data/data/River_739.jpg  \n",
            "  inflating: /content/data/data/River_74.jpg  \n",
            "  inflating: /content/data/data/River_740.jpg  \n",
            "  inflating: /content/data/data/River_741.jpg  \n",
            "  inflating: /content/data/data/River_742.jpg  \n",
            "  inflating: /content/data/data/River_743.jpg  \n",
            "  inflating: /content/data/data/River_744.jpg  \n",
            "  inflating: /content/data/data/River_745.jpg  \n",
            "  inflating: /content/data/data/River_746.jpg  \n",
            "  inflating: /content/data/data/River_747.jpg  \n",
            "  inflating: /content/data/data/River_748.jpg  \n",
            "  inflating: /content/data/data/River_749.jpg  \n",
            "  inflating: /content/data/data/River_75.jpg  \n",
            "  inflating: /content/data/data/River_750.jpg  \n",
            "  inflating: /content/data/data/River_751.jpg  \n",
            "  inflating: /content/data/data/River_752.jpg  \n",
            "  inflating: /content/data/data/River_753.jpg  \n",
            "  inflating: /content/data/data/River_754.jpg  \n",
            "  inflating: /content/data/data/River_755.jpg  \n",
            "  inflating: /content/data/data/River_756.jpg  \n",
            "  inflating: /content/data/data/River_757.jpg  \n",
            "  inflating: /content/data/data/River_758.jpg  \n",
            "  inflating: /content/data/data/River_759.jpg  \n",
            "  inflating: /content/data/data/River_76.jpg  \n",
            "  inflating: /content/data/data/River_760.jpg  \n",
            "  inflating: /content/data/data/River_761.jpg  \n",
            "  inflating: /content/data/data/River_762.jpg  \n",
            "  inflating: /content/data/data/River_763.jpg  \n",
            "  inflating: /content/data/data/River_764.jpg  \n",
            "  inflating: /content/data/data/River_765.jpg  \n",
            "  inflating: /content/data/data/River_766.jpg  \n",
            "  inflating: /content/data/data/River_767.jpg  \n",
            "  inflating: /content/data/data/River_768.jpg  \n",
            "  inflating: /content/data/data/River_769.jpg  \n",
            "  inflating: /content/data/data/River_77.jpg  \n",
            "  inflating: /content/data/data/River_770.jpg  \n",
            "  inflating: /content/data/data/River_771.jpg  \n",
            "  inflating: /content/data/data/River_772.jpg  \n",
            "  inflating: /content/data/data/River_773.jpg  \n",
            "  inflating: /content/data/data/River_774.jpg  \n",
            "  inflating: /content/data/data/River_775.jpg  \n",
            "  inflating: /content/data/data/River_776.jpg  \n",
            "  inflating: /content/data/data/River_777.jpg  \n",
            "  inflating: /content/data/data/River_778.jpg  \n",
            "  inflating: /content/data/data/River_779.jpg  \n",
            "  inflating: /content/data/data/River_78.jpg  \n",
            "  inflating: /content/data/data/River_780.jpg  \n",
            "  inflating: /content/data/data/River_781.jpg  \n",
            "  inflating: /content/data/data/River_782.jpg  \n",
            "  inflating: /content/data/data/River_783.jpg  \n",
            "  inflating: /content/data/data/River_784.jpg  \n",
            "  inflating: /content/data/data/River_785.jpg  \n",
            "  inflating: /content/data/data/River_786.jpg  \n",
            "  inflating: /content/data/data/River_787.jpg  \n",
            "  inflating: /content/data/data/River_788.jpg  \n",
            "  inflating: /content/data/data/River_789.jpg  \n",
            "  inflating: /content/data/data/River_79.jpg  \n",
            "  inflating: /content/data/data/River_790.jpg  \n",
            "  inflating: /content/data/data/River_791.jpg  \n",
            "  inflating: /content/data/data/River_792.jpg  \n",
            "  inflating: /content/data/data/River_793.jpg  \n",
            "  inflating: /content/data/data/River_794.jpg  \n",
            "  inflating: /content/data/data/River_795.jpg  \n",
            "  inflating: /content/data/data/River_796.jpg  \n",
            "  inflating: /content/data/data/River_797.jpg  \n",
            "  inflating: /content/data/data/River_798.jpg  \n",
            "  inflating: /content/data/data/River_799.jpg  \n",
            "  inflating: /content/data/data/River_8.jpg  \n",
            "  inflating: /content/data/data/River_80.jpg  \n",
            "  inflating: /content/data/data/River_800.jpg  \n",
            "  inflating: /content/data/data/River_801.jpg  \n",
            "  inflating: /content/data/data/River_802.jpg  \n",
            "  inflating: /content/data/data/River_803.jpg  \n",
            "  inflating: /content/data/data/River_804.jpg  \n",
            "  inflating: /content/data/data/River_805.jpg  \n",
            "  inflating: /content/data/data/River_806.jpg  \n",
            "  inflating: /content/data/data/River_807.jpg  \n",
            "  inflating: /content/data/data/River_808.jpg  \n",
            "  inflating: /content/data/data/River_809.jpg  \n",
            "  inflating: /content/data/data/River_81.jpg  \n",
            "  inflating: /content/data/data/River_810.jpg  \n",
            "  inflating: /content/data/data/River_811.jpg  \n",
            "  inflating: /content/data/data/River_812.jpg  \n",
            "  inflating: /content/data/data/River_813.jpg  \n",
            "  inflating: /content/data/data/River_814.jpg  \n",
            "  inflating: /content/data/data/River_815.jpg  \n",
            "  inflating: /content/data/data/River_816.jpg  \n",
            "  inflating: /content/data/data/River_817.jpg  \n",
            "  inflating: /content/data/data/River_818.jpg  \n",
            "  inflating: /content/data/data/River_819.jpg  \n",
            "  inflating: /content/data/data/River_82.jpg  \n",
            "  inflating: /content/data/data/River_820.jpg  \n",
            "  inflating: /content/data/data/River_821.jpg  \n",
            "  inflating: /content/data/data/River_822.jpg  \n",
            "  inflating: /content/data/data/River_823.jpg  \n",
            "  inflating: /content/data/data/River_824.jpg  \n",
            "  inflating: /content/data/data/River_825.jpg  \n",
            "  inflating: /content/data/data/River_826.jpg  \n",
            "  inflating: /content/data/data/River_827.jpg  \n",
            "  inflating: /content/data/data/River_828.jpg  \n",
            "  inflating: /content/data/data/River_829.jpg  \n",
            "  inflating: /content/data/data/River_83.jpg  \n",
            "  inflating: /content/data/data/River_830.jpg  \n",
            "  inflating: /content/data/data/River_831.jpg  \n",
            "  inflating: /content/data/data/River_832.jpg  \n",
            "  inflating: /content/data/data/River_833.jpg  \n",
            "  inflating: /content/data/data/River_834.jpg  \n",
            "  inflating: /content/data/data/River_835.jpg  \n",
            "  inflating: /content/data/data/River_836.jpg  \n",
            "  inflating: /content/data/data/River_837.jpg  \n",
            "  inflating: /content/data/data/River_838.jpg  \n",
            "  inflating: /content/data/data/River_839.jpg  \n",
            "  inflating: /content/data/data/River_84.jpg  \n",
            "  inflating: /content/data/data/River_840.jpg  \n",
            "  inflating: /content/data/data/River_841.jpg  \n",
            "  inflating: /content/data/data/River_842.jpg  \n",
            "  inflating: /content/data/data/River_843.jpg  \n",
            "  inflating: /content/data/data/River_844.jpg  \n",
            "  inflating: /content/data/data/River_845.jpg  \n",
            "  inflating: /content/data/data/River_846.jpg  \n",
            "  inflating: /content/data/data/River_847.jpg  \n",
            "  inflating: /content/data/data/River_848.jpg  \n",
            "  inflating: /content/data/data/River_849.jpg  \n",
            "  inflating: /content/data/data/River_85.jpg  \n",
            "  inflating: /content/data/data/River_850.jpg  \n",
            "  inflating: /content/data/data/River_851.jpg  \n",
            "  inflating: /content/data/data/River_852.jpg  \n",
            "  inflating: /content/data/data/River_853.jpg  \n",
            "  inflating: /content/data/data/River_854.jpg  \n",
            "  inflating: /content/data/data/River_855.jpg  \n",
            "  inflating: /content/data/data/River_856.jpg  \n",
            "  inflating: /content/data/data/River_857.jpg  \n",
            "  inflating: /content/data/data/River_858.jpg  \n",
            "  inflating: /content/data/data/River_859.jpg  \n",
            "  inflating: /content/data/data/River_86.jpg  \n",
            "  inflating: /content/data/data/River_860.jpg  \n",
            "  inflating: /content/data/data/River_861.jpg  \n",
            "  inflating: /content/data/data/River_862.jpg  \n",
            "  inflating: /content/data/data/River_863.jpg  \n",
            "  inflating: /content/data/data/River_864.jpg  \n",
            "  inflating: /content/data/data/River_865.jpg  \n",
            "  inflating: /content/data/data/River_866.jpg  \n",
            "  inflating: /content/data/data/River_867.jpg  \n",
            "  inflating: /content/data/data/River_868.jpg  \n",
            "  inflating: /content/data/data/River_869.jpg  \n",
            "  inflating: /content/data/data/River_87.jpg  \n",
            "  inflating: /content/data/data/River_870.jpg  \n",
            "  inflating: /content/data/data/River_871.jpg  \n",
            "  inflating: /content/data/data/River_872.jpg  \n",
            "  inflating: /content/data/data/River_873.jpg  \n",
            "  inflating: /content/data/data/River_874.jpg  \n",
            "  inflating: /content/data/data/River_875.jpg  \n",
            "  inflating: /content/data/data/River_876.jpg  \n",
            "  inflating: /content/data/data/River_877.jpg  \n",
            "  inflating: /content/data/data/River_878.jpg  \n",
            "  inflating: /content/data/data/River_879.jpg  \n",
            "  inflating: /content/data/data/River_88.jpg  \n",
            "  inflating: /content/data/data/River_880.jpg  \n",
            "  inflating: /content/data/data/River_881.jpg  \n",
            "  inflating: /content/data/data/River_882.jpg  \n",
            "  inflating: /content/data/data/River_883.jpg  \n",
            "  inflating: /content/data/data/River_884.jpg  \n",
            "  inflating: /content/data/data/River_885.jpg  \n",
            "  inflating: /content/data/data/River_886.jpg  \n",
            "  inflating: /content/data/data/River_887.jpg  \n",
            "  inflating: /content/data/data/River_888.jpg  \n",
            "  inflating: /content/data/data/River_889.jpg  \n",
            "  inflating: /content/data/data/River_89.jpg  \n",
            "  inflating: /content/data/data/River_890.jpg  \n",
            "  inflating: /content/data/data/River_891.jpg  \n",
            "  inflating: /content/data/data/River_892.jpg  \n",
            "  inflating: /content/data/data/River_893.jpg  \n",
            "  inflating: /content/data/data/River_894.jpg  \n",
            "  inflating: /content/data/data/River_895.jpg  \n",
            "  inflating: /content/data/data/River_896.jpg  \n",
            "  inflating: /content/data/data/River_897.jpg  \n",
            "  inflating: /content/data/data/River_898.jpg  \n",
            "  inflating: /content/data/data/River_899.jpg  \n",
            "  inflating: /content/data/data/River_9.jpg  \n",
            "  inflating: /content/data/data/River_90.jpg  \n",
            "  inflating: /content/data/data/River_900.jpg  \n",
            "  inflating: /content/data/data/River_901.jpg  \n",
            "  inflating: /content/data/data/River_902.jpg  \n",
            "  inflating: /content/data/data/River_903.jpg  \n",
            "  inflating: /content/data/data/River_904.jpg  \n",
            "  inflating: /content/data/data/River_905.jpg  \n",
            "  inflating: /content/data/data/River_906.jpg  \n",
            "  inflating: /content/data/data/River_907.jpg  \n",
            "  inflating: /content/data/data/River_908.jpg  \n",
            "  inflating: /content/data/data/River_909.jpg  \n",
            "  inflating: /content/data/data/River_91.jpg  \n",
            "  inflating: /content/data/data/River_910.jpg  \n",
            "  inflating: /content/data/data/River_911.jpg  \n",
            "  inflating: /content/data/data/River_912.jpg  \n",
            "  inflating: /content/data/data/River_913.jpg  \n",
            "  inflating: /content/data/data/River_914.jpg  \n",
            "  inflating: /content/data/data/River_915.jpg  \n",
            "  inflating: /content/data/data/River_916.jpg  \n",
            "  inflating: /content/data/data/River_917.jpg  \n",
            "  inflating: /content/data/data/River_918.jpg  \n",
            "  inflating: /content/data/data/River_919.jpg  \n",
            "  inflating: /content/data/data/River_92.jpg  \n",
            "  inflating: /content/data/data/River_920.jpg  \n",
            "  inflating: /content/data/data/River_921.jpg  \n",
            "  inflating: /content/data/data/River_922.jpg  \n",
            "  inflating: /content/data/data/River_923.jpg  \n",
            "  inflating: /content/data/data/River_924.jpg  \n",
            "  inflating: /content/data/data/River_925.jpg  \n",
            "  inflating: /content/data/data/River_926.jpg  \n",
            "  inflating: /content/data/data/River_927.jpg  \n",
            "  inflating: /content/data/data/River_928.jpg  \n",
            "  inflating: /content/data/data/River_929.jpg  \n",
            "  inflating: /content/data/data/River_93.jpg  \n",
            "  inflating: /content/data/data/River_930.jpg  \n",
            "  inflating: /content/data/data/River_931.jpg  \n",
            "  inflating: /content/data/data/River_932.jpg  \n",
            "  inflating: /content/data/data/River_933.jpg  \n",
            "  inflating: /content/data/data/River_934.jpg  \n",
            "  inflating: /content/data/data/River_935.jpg  \n",
            "  inflating: /content/data/data/River_936.jpg  \n",
            "  inflating: /content/data/data/River_937.jpg  \n",
            "  inflating: /content/data/data/River_938.jpg  \n",
            "  inflating: /content/data/data/River_939.jpg  \n",
            "  inflating: /content/data/data/River_94.jpg  \n",
            "  inflating: /content/data/data/River_940.jpg  \n",
            "  inflating: /content/data/data/River_941.jpg  \n",
            "  inflating: /content/data/data/River_942.jpg  \n",
            "  inflating: /content/data/data/River_943.jpg  \n",
            "  inflating: /content/data/data/River_944.jpg  \n",
            "  inflating: /content/data/data/River_945.jpg  \n",
            "  inflating: /content/data/data/River_946.jpg  \n",
            "  inflating: /content/data/data/River_947.jpg  \n",
            "  inflating: /content/data/data/River_948.jpg  \n",
            "  inflating: /content/data/data/River_949.jpg  \n",
            "  inflating: /content/data/data/River_95.jpg  \n",
            "  inflating: /content/data/data/River_950.jpg  \n",
            "  inflating: /content/data/data/River_951.jpg  \n",
            "  inflating: /content/data/data/River_952.jpg  \n",
            "  inflating: /content/data/data/River_953.jpg  \n",
            "  inflating: /content/data/data/River_954.jpg  \n",
            "  inflating: /content/data/data/River_955.jpg  \n",
            "  inflating: /content/data/data/River_956.jpg  \n",
            "  inflating: /content/data/data/River_957.jpg  \n",
            "  inflating: /content/data/data/River_958.jpg  \n",
            "  inflating: /content/data/data/River_959.jpg  \n",
            "  inflating: /content/data/data/River_96.jpg  \n",
            "  inflating: /content/data/data/River_960.jpg  \n",
            "  inflating: /content/data/data/River_961.jpg  \n",
            "  inflating: /content/data/data/River_962.jpg  \n",
            "  inflating: /content/data/data/River_963.jpg  \n",
            "  inflating: /content/data/data/River_964.jpg  \n",
            "  inflating: /content/data/data/River_965.jpg  \n",
            "  inflating: /content/data/data/River_966.jpg  \n",
            "  inflating: /content/data/data/River_967.jpg  \n",
            "  inflating: /content/data/data/River_968.jpg  \n",
            "  inflating: /content/data/data/River_969.jpg  \n",
            "  inflating: /content/data/data/River_97.jpg  \n",
            "  inflating: /content/data/data/River_970.jpg  \n",
            "  inflating: /content/data/data/River_971.jpg  \n",
            "  inflating: /content/data/data/River_972.jpg  \n",
            "  inflating: /content/data/data/River_973.jpg  \n",
            "  inflating: /content/data/data/River_974.jpg  \n",
            "  inflating: /content/data/data/River_975.jpg  \n",
            "  inflating: /content/data/data/River_976.jpg  \n",
            "  inflating: /content/data/data/River_977.jpg  \n",
            "  inflating: /content/data/data/River_978.jpg  \n",
            "  inflating: /content/data/data/River_979.jpg  \n",
            "  inflating: /content/data/data/River_98.jpg  \n",
            "  inflating: /content/data/data/River_980.jpg  \n",
            "  inflating: /content/data/data/River_981.jpg  \n",
            "  inflating: /content/data/data/River_982.jpg  \n",
            "  inflating: /content/data/data/River_983.jpg  \n",
            "  inflating: /content/data/data/River_984.jpg  \n",
            "  inflating: /content/data/data/River_985.jpg  \n",
            "  inflating: /content/data/data/River_986.jpg  \n",
            "  inflating: /content/data/data/River_987.jpg  \n",
            "  inflating: /content/data/data/River_988.jpg  \n",
            "  inflating: /content/data/data/River_989.jpg  \n",
            "  inflating: /content/data/data/River_99.jpg  \n",
            "  inflating: /content/data/data/River_990.jpg  \n",
            "  inflating: /content/data/data/River_991.jpg  \n",
            "  inflating: /content/data/data/River_992.jpg  \n",
            "  inflating: /content/data/data/River_993.jpg  \n",
            "  inflating: /content/data/data/River_994.jpg  \n",
            "  inflating: /content/data/data/River_995.jpg  \n",
            "  inflating: /content/data/data/River_996.jpg  \n",
            "  inflating: /content/data/data/River_997.jpg  \n",
            "  inflating: /content/data/data/River_998.jpg  \n",
            "  inflating: /content/data/data/River_999.jpg  \n",
            "  inflating: /content/data/data/SeaLake_1.jpg  \n",
            "  inflating: /content/data/data/SeaLake_10.jpg  \n",
            "  inflating: /content/data/data/SeaLake_100.jpg  \n",
            "  inflating: /content/data/data/SeaLake_1000.jpg  \n",
            "  inflating: /content/data/data/SeaLake_1001.jpg  \n",
            "  inflating: /content/data/data/SeaLake_1002.jpg  \n",
            "  inflating: /content/data/data/SeaLake_1003.jpg  \n",
            "  inflating: /content/data/data/SeaLake_1004.jpg  \n",
            "  inflating: /content/data/data/SeaLake_1005.jpg  \n",
            "  inflating: /content/data/data/SeaLake_1006.jpg  \n",
            "  inflating: /content/data/data/SeaLake_1007.jpg  \n",
            "  inflating: /content/data/data/SeaLake_1008.jpg  \n",
            "  inflating: /content/data/data/SeaLake_1009.jpg  \n",
            "  inflating: /content/data/data/SeaLake_101.jpg  \n",
            "  inflating: /content/data/data/SeaLake_1010.jpg  \n",
            "  inflating: /content/data/data/SeaLake_1011.jpg  \n",
            "  inflating: /content/data/data/SeaLake_1012.jpg  \n",
            "  inflating: /content/data/data/SeaLake_1013.jpg  \n",
            "  inflating: /content/data/data/SeaLake_1014.jpg  \n",
            "  inflating: /content/data/data/SeaLake_1015.jpg  \n",
            "  inflating: /content/data/data/SeaLake_1016.jpg  \n",
            "  inflating: /content/data/data/SeaLake_1017.jpg  \n",
            "  inflating: /content/data/data/SeaLake_1018.jpg  \n",
            "  inflating: /content/data/data/SeaLake_1019.jpg  \n",
            "  inflating: /content/data/data/SeaLake_102.jpg  \n",
            "  inflating: /content/data/data/SeaLake_1020.jpg  \n",
            "  inflating: /content/data/data/SeaLake_1021.jpg  \n",
            "  inflating: /content/data/data/SeaLake_1022.jpg  \n",
            "  inflating: /content/data/data/SeaLake_1023.jpg  \n",
            "  inflating: /content/data/data/SeaLake_1024.jpg  \n",
            "  inflating: /content/data/data/SeaLake_1025.jpg  \n",
            "  inflating: /content/data/data/SeaLake_1026.jpg  \n",
            "  inflating: /content/data/data/SeaLake_1027.jpg  \n",
            "  inflating: /content/data/data/SeaLake_1028.jpg  \n",
            "  inflating: /content/data/data/SeaLake_1029.jpg  \n",
            "  inflating: /content/data/data/SeaLake_103.jpg  \n",
            "  inflating: /content/data/data/SeaLake_1030.jpg  \n",
            "  inflating: /content/data/data/SeaLake_1031.jpg  \n",
            "  inflating: /content/data/data/SeaLake_1032.jpg  \n",
            "  inflating: /content/data/data/SeaLake_1033.jpg  \n",
            "  inflating: /content/data/data/SeaLake_1034.jpg  \n",
            "  inflating: /content/data/data/SeaLake_1035.jpg  \n",
            "  inflating: /content/data/data/SeaLake_1036.jpg  \n",
            "  inflating: /content/data/data/SeaLake_1037.jpg  \n",
            "  inflating: /content/data/data/SeaLake_1038.jpg  \n",
            "  inflating: /content/data/data/SeaLake_1039.jpg  \n",
            "  inflating: /content/data/data/SeaLake_104.jpg  \n",
            "  inflating: /content/data/data/SeaLake_1040.jpg  \n",
            "  inflating: /content/data/data/SeaLake_1041.jpg  \n",
            "  inflating: /content/data/data/SeaLake_1042.jpg  \n",
            "  inflating: /content/data/data/SeaLake_1043.jpg  \n",
            "  inflating: /content/data/data/SeaLake_1044.jpg  \n",
            "  inflating: /content/data/data/SeaLake_1045.jpg  \n",
            "  inflating: /content/data/data/SeaLake_1046.jpg  \n",
            "  inflating: /content/data/data/SeaLake_1047.jpg  \n",
            "  inflating: /content/data/data/SeaLake_1048.jpg  \n",
            "  inflating: /content/data/data/SeaLake_1049.jpg  \n",
            "  inflating: /content/data/data/SeaLake_105.jpg  \n",
            "  inflating: /content/data/data/SeaLake_1050.jpg  \n",
            "  inflating: /content/data/data/SeaLake_1051.jpg  \n",
            "  inflating: /content/data/data/SeaLake_1052.jpg  \n",
            "  inflating: /content/data/data/SeaLake_1053.jpg  \n",
            "  inflating: /content/data/data/SeaLake_1054.jpg  \n",
            "  inflating: /content/data/data/SeaLake_1055.jpg  \n",
            "  inflating: /content/data/data/SeaLake_1056.jpg  \n",
            "  inflating: /content/data/data/SeaLake_1057.jpg  \n",
            "  inflating: /content/data/data/SeaLake_1058.jpg  \n",
            "  inflating: /content/data/data/SeaLake_1059.jpg  \n",
            "  inflating: /content/data/data/SeaLake_106.jpg  \n",
            "  inflating: /content/data/data/SeaLake_1060.jpg  \n",
            "  inflating: /content/data/data/SeaLake_1061.jpg  \n",
            "  inflating: /content/data/data/SeaLake_1062.jpg  \n",
            "  inflating: /content/data/data/SeaLake_1063.jpg  \n",
            "  inflating: /content/data/data/SeaLake_1064.jpg  \n",
            "  inflating: /content/data/data/SeaLake_1065.jpg  \n",
            "  inflating: /content/data/data/SeaLake_1066.jpg  \n",
            "  inflating: /content/data/data/SeaLake_1067.jpg  \n",
            "  inflating: /content/data/data/SeaLake_1068.jpg  \n",
            "  inflating: /content/data/data/SeaLake_1069.jpg  \n",
            "  inflating: /content/data/data/SeaLake_107.jpg  \n",
            "  inflating: /content/data/data/SeaLake_1070.jpg  \n",
            "  inflating: /content/data/data/SeaLake_1071.jpg  \n",
            "  inflating: /content/data/data/SeaLake_1072.jpg  \n",
            "  inflating: /content/data/data/SeaLake_1073.jpg  \n",
            "  inflating: /content/data/data/SeaLake_1074.jpg  \n",
            "  inflating: /content/data/data/SeaLake_1075.jpg  \n",
            "  inflating: /content/data/data/SeaLake_1076.jpg  \n",
            "  inflating: /content/data/data/SeaLake_1077.jpg  \n",
            "  inflating: /content/data/data/SeaLake_1078.jpg  \n",
            "  inflating: /content/data/data/SeaLake_1079.jpg  \n",
            "  inflating: /content/data/data/SeaLake_108.jpg  \n",
            "  inflating: /content/data/data/SeaLake_1080.jpg  \n",
            "  inflating: /content/data/data/SeaLake_1081.jpg  \n",
            "  inflating: /content/data/data/SeaLake_1082.jpg  \n",
            "  inflating: /content/data/data/SeaLake_1083.jpg  \n",
            "  inflating: /content/data/data/SeaLake_1084.jpg  \n",
            "  inflating: /content/data/data/SeaLake_1085.jpg  \n",
            "  inflating: /content/data/data/SeaLake_1086.jpg  \n",
            "  inflating: /content/data/data/SeaLake_1087.jpg  \n",
            "  inflating: /content/data/data/SeaLake_1088.jpg  \n",
            "  inflating: /content/data/data/SeaLake_1089.jpg  \n",
            "  inflating: /content/data/data/SeaLake_109.jpg  \n",
            "  inflating: /content/data/data/SeaLake_1090.jpg  \n",
            "  inflating: /content/data/data/SeaLake_1091.jpg  \n",
            "  inflating: /content/data/data/SeaLake_1092.jpg  \n",
            "  inflating: /content/data/data/SeaLake_1093.jpg  \n",
            "  inflating: /content/data/data/SeaLake_1094.jpg  \n",
            "  inflating: /content/data/data/SeaLake_1095.jpg  \n",
            "  inflating: /content/data/data/SeaLake_1096.jpg  \n",
            "  inflating: /content/data/data/SeaLake_1097.jpg  \n",
            "  inflating: /content/data/data/SeaLake_1098.jpg  \n",
            "  inflating: /content/data/data/SeaLake_1099.jpg  \n",
            "  inflating: /content/data/data/SeaLake_11.jpg  \n",
            "  inflating: /content/data/data/SeaLake_110.jpg  \n",
            "  inflating: /content/data/data/SeaLake_1100.jpg  \n",
            "  inflating: /content/data/data/SeaLake_1101.jpg  \n",
            "  inflating: /content/data/data/SeaLake_1102.jpg  \n",
            "  inflating: /content/data/data/SeaLake_1103.jpg  \n",
            "  inflating: /content/data/data/SeaLake_1104.jpg  \n",
            "  inflating: /content/data/data/SeaLake_1105.jpg  \n",
            "  inflating: /content/data/data/SeaLake_1106.jpg  \n",
            "  inflating: /content/data/data/SeaLake_1107.jpg  \n",
            "  inflating: /content/data/data/SeaLake_1108.jpg  \n",
            "  inflating: /content/data/data/SeaLake_1109.jpg  \n",
            "  inflating: /content/data/data/SeaLake_111.jpg  \n",
            "  inflating: /content/data/data/SeaLake_1110.jpg  \n",
            "  inflating: /content/data/data/SeaLake_1111.jpg  \n",
            "  inflating: /content/data/data/SeaLake_1112.jpg  \n",
            "  inflating: /content/data/data/SeaLake_1113.jpg  \n",
            "  inflating: /content/data/data/SeaLake_1114.jpg  \n",
            "  inflating: /content/data/data/SeaLake_1115.jpg  \n",
            "  inflating: /content/data/data/SeaLake_1116.jpg  \n",
            "  inflating: /content/data/data/SeaLake_1117.jpg  \n",
            "  inflating: /content/data/data/SeaLake_1118.jpg  \n",
            "  inflating: /content/data/data/SeaLake_1119.jpg  \n",
            "  inflating: /content/data/data/SeaLake_112.jpg  \n",
            "  inflating: /content/data/data/SeaLake_1120.jpg  \n",
            "  inflating: /content/data/data/SeaLake_1121.jpg  \n",
            "  inflating: /content/data/data/SeaLake_1122.jpg  \n",
            "  inflating: /content/data/data/SeaLake_1123.jpg  \n",
            "  inflating: /content/data/data/SeaLake_1124.jpg  \n",
            "  inflating: /content/data/data/SeaLake_1125.jpg  \n",
            "  inflating: /content/data/data/SeaLake_1126.jpg  \n",
            "  inflating: /content/data/data/SeaLake_1127.jpg  \n",
            "  inflating: /content/data/data/SeaLake_1128.jpg  \n",
            "  inflating: /content/data/data/SeaLake_1129.jpg  \n",
            "  inflating: /content/data/data/SeaLake_113.jpg  \n",
            "  inflating: /content/data/data/SeaLake_1130.jpg  \n",
            "  inflating: /content/data/data/SeaLake_1131.jpg  \n",
            "  inflating: /content/data/data/SeaLake_1132.jpg  \n",
            "  inflating: /content/data/data/SeaLake_1133.jpg  \n",
            "  inflating: /content/data/data/SeaLake_1134.jpg  \n",
            "  inflating: /content/data/data/SeaLake_1135.jpg  \n",
            "  inflating: /content/data/data/SeaLake_1136.jpg  \n",
            "  inflating: /content/data/data/SeaLake_1137.jpg  \n",
            "  inflating: /content/data/data/SeaLake_1138.jpg  \n",
            "  inflating: /content/data/data/SeaLake_1139.jpg  \n",
            "  inflating: /content/data/data/SeaLake_114.jpg  \n",
            "  inflating: /content/data/data/SeaLake_1140.jpg  \n",
            "  inflating: /content/data/data/SeaLake_1141.jpg  \n",
            "  inflating: /content/data/data/SeaLake_1142.jpg  \n",
            "  inflating: /content/data/data/SeaLake_1143.jpg  \n",
            "  inflating: /content/data/data/SeaLake_1144.jpg  \n",
            "  inflating: /content/data/data/SeaLake_1145.jpg  \n",
            "  inflating: /content/data/data/SeaLake_1146.jpg  \n",
            "  inflating: /content/data/data/SeaLake_1147.jpg  \n",
            "  inflating: /content/data/data/SeaLake_1148.jpg  \n",
            "  inflating: /content/data/data/SeaLake_1149.jpg  \n",
            "  inflating: /content/data/data/SeaLake_115.jpg  \n",
            "  inflating: /content/data/data/SeaLake_1150.jpg  \n",
            "  inflating: /content/data/data/SeaLake_1151.jpg  \n",
            "  inflating: /content/data/data/SeaLake_1152.jpg  \n",
            "  inflating: /content/data/data/SeaLake_1153.jpg  \n",
            "  inflating: /content/data/data/SeaLake_1154.jpg  \n",
            "  inflating: /content/data/data/SeaLake_1155.jpg  \n",
            "  inflating: /content/data/data/SeaLake_1156.jpg  \n",
            "  inflating: /content/data/data/SeaLake_1157.jpg  \n",
            "  inflating: /content/data/data/SeaLake_1158.jpg  \n",
            "  inflating: /content/data/data/SeaLake_1159.jpg  \n",
            "  inflating: /content/data/data/SeaLake_116.jpg  \n",
            "  inflating: /content/data/data/SeaLake_1160.jpg  \n",
            "  inflating: /content/data/data/SeaLake_1161.jpg  \n",
            "  inflating: /content/data/data/SeaLake_1162.jpg  \n",
            "  inflating: /content/data/data/SeaLake_1163.jpg  \n",
            "  inflating: /content/data/data/SeaLake_1164.jpg  \n",
            "  inflating: /content/data/data/SeaLake_1165.jpg  \n",
            "  inflating: /content/data/data/SeaLake_1166.jpg  \n",
            "  inflating: /content/data/data/SeaLake_1167.jpg  \n",
            "  inflating: /content/data/data/SeaLake_1168.jpg  \n",
            "  inflating: /content/data/data/SeaLake_1169.jpg  \n",
            "  inflating: /content/data/data/SeaLake_117.jpg  \n",
            "  inflating: /content/data/data/SeaLake_1170.jpg  \n",
            "  inflating: /content/data/data/SeaLake_1171.jpg  \n",
            "  inflating: /content/data/data/SeaLake_1172.jpg  \n",
            "  inflating: /content/data/data/SeaLake_1173.jpg  \n",
            "  inflating: /content/data/data/SeaLake_1174.jpg  \n",
            "  inflating: /content/data/data/SeaLake_1175.jpg  \n",
            "  inflating: /content/data/data/SeaLake_1176.jpg  \n",
            "  inflating: /content/data/data/SeaLake_1177.jpg  \n",
            "  inflating: /content/data/data/SeaLake_1178.jpg  \n",
            "  inflating: /content/data/data/SeaLake_1179.jpg  \n",
            "  inflating: /content/data/data/SeaLake_118.jpg  \n",
            "  inflating: /content/data/data/SeaLake_1180.jpg  \n",
            "  inflating: /content/data/data/SeaLake_1181.jpg  \n",
            "  inflating: /content/data/data/SeaLake_1182.jpg  \n",
            "  inflating: /content/data/data/SeaLake_1183.jpg  \n",
            "  inflating: /content/data/data/SeaLake_1184.jpg  \n",
            "  inflating: /content/data/data/SeaLake_1185.jpg  \n",
            "  inflating: /content/data/data/SeaLake_1186.jpg  \n",
            "  inflating: /content/data/data/SeaLake_1187.jpg  \n",
            "  inflating: /content/data/data/SeaLake_1188.jpg  \n",
            "  inflating: /content/data/data/SeaLake_1189.jpg  \n",
            "  inflating: /content/data/data/SeaLake_119.jpg  \n",
            "  inflating: /content/data/data/SeaLake_1190.jpg  \n",
            "  inflating: /content/data/data/SeaLake_1191.jpg  \n",
            "  inflating: /content/data/data/SeaLake_1192.jpg  \n",
            "  inflating: /content/data/data/SeaLake_1193.jpg  \n",
            "  inflating: /content/data/data/SeaLake_1194.jpg  \n",
            "  inflating: /content/data/data/SeaLake_1195.jpg  \n",
            "  inflating: /content/data/data/SeaLake_1196.jpg  \n",
            "  inflating: /content/data/data/SeaLake_1197.jpg  \n",
            "  inflating: /content/data/data/SeaLake_1198.jpg  \n",
            "  inflating: /content/data/data/SeaLake_1199.jpg  \n",
            "  inflating: /content/data/data/SeaLake_12.jpg  \n",
            "  inflating: /content/data/data/SeaLake_120.jpg  \n",
            "  inflating: /content/data/data/SeaLake_1200.jpg  \n",
            "  inflating: /content/data/data/SeaLake_1201.jpg  \n",
            "  inflating: /content/data/data/SeaLake_1202.jpg  \n",
            "  inflating: /content/data/data/SeaLake_1203.jpg  \n",
            "  inflating: /content/data/data/SeaLake_1204.jpg  \n",
            "  inflating: /content/data/data/SeaLake_1205.jpg  \n",
            "  inflating: /content/data/data/SeaLake_1206.jpg  \n",
            "  inflating: /content/data/data/SeaLake_1207.jpg  \n",
            "  inflating: /content/data/data/SeaLake_1208.jpg  \n",
            "  inflating: /content/data/data/SeaLake_1209.jpg  \n",
            "  inflating: /content/data/data/SeaLake_121.jpg  \n",
            "  inflating: /content/data/data/SeaLake_1210.jpg  \n",
            "  inflating: /content/data/data/SeaLake_1211.jpg  \n",
            "  inflating: /content/data/data/SeaLake_1212.jpg  \n",
            "  inflating: /content/data/data/SeaLake_1213.jpg  \n",
            "  inflating: /content/data/data/SeaLake_1214.jpg  \n",
            "  inflating: /content/data/data/SeaLake_1215.jpg  \n",
            "  inflating: /content/data/data/SeaLake_1216.jpg  \n",
            "  inflating: /content/data/data/SeaLake_1217.jpg  \n",
            "  inflating: /content/data/data/SeaLake_1218.jpg  \n",
            "  inflating: /content/data/data/SeaLake_1219.jpg  \n",
            "  inflating: /content/data/data/SeaLake_122.jpg  \n",
            "  inflating: /content/data/data/SeaLake_1220.jpg  \n",
            "  inflating: /content/data/data/SeaLake_1221.jpg  \n",
            "  inflating: /content/data/data/SeaLake_1222.jpg  \n",
            "  inflating: /content/data/data/SeaLake_1223.jpg  \n",
            "  inflating: /content/data/data/SeaLake_1224.jpg  \n",
            "  inflating: /content/data/data/SeaLake_1225.jpg  \n",
            "  inflating: /content/data/data/SeaLake_1226.jpg  \n",
            "  inflating: /content/data/data/SeaLake_1227.jpg  \n",
            "  inflating: /content/data/data/SeaLake_1228.jpg  \n",
            "  inflating: /content/data/data/SeaLake_1229.jpg  \n",
            "  inflating: /content/data/data/SeaLake_123.jpg  \n",
            "  inflating: /content/data/data/SeaLake_1230.jpg  \n",
            "  inflating: /content/data/data/SeaLake_1231.jpg  \n",
            "  inflating: /content/data/data/SeaLake_1232.jpg  \n",
            "  inflating: /content/data/data/SeaLake_1233.jpg  \n",
            "  inflating: /content/data/data/SeaLake_1234.jpg  \n",
            "  inflating: /content/data/data/SeaLake_1235.jpg  \n",
            "  inflating: /content/data/data/SeaLake_1236.jpg  \n",
            "  inflating: /content/data/data/SeaLake_1237.jpg  \n",
            "  inflating: /content/data/data/SeaLake_1238.jpg  \n",
            "  inflating: /content/data/data/SeaLake_1239.jpg  \n",
            "  inflating: /content/data/data/SeaLake_124.jpg  \n",
            "  inflating: /content/data/data/SeaLake_1240.jpg  \n",
            "  inflating: /content/data/data/SeaLake_1241.jpg  \n",
            "  inflating: /content/data/data/SeaLake_1242.jpg  \n",
            "  inflating: /content/data/data/SeaLake_1243.jpg  \n",
            "  inflating: /content/data/data/SeaLake_1244.jpg  \n",
            "  inflating: /content/data/data/SeaLake_1245.jpg  \n",
            "  inflating: /content/data/data/SeaLake_1246.jpg  \n",
            "  inflating: /content/data/data/SeaLake_1247.jpg  \n",
            "  inflating: /content/data/data/SeaLake_1248.jpg  \n",
            "  inflating: /content/data/data/SeaLake_1249.jpg  \n",
            "  inflating: /content/data/data/SeaLake_125.jpg  \n",
            "  inflating: /content/data/data/SeaLake_1250.jpg  \n",
            "  inflating: /content/data/data/SeaLake_1251.jpg  \n",
            "  inflating: /content/data/data/SeaLake_1252.jpg  \n",
            "  inflating: /content/data/data/SeaLake_1253.jpg  \n",
            "  inflating: /content/data/data/SeaLake_1254.jpg  \n",
            "  inflating: /content/data/data/SeaLake_1255.jpg  \n",
            "  inflating: /content/data/data/SeaLake_1256.jpg  \n",
            "  inflating: /content/data/data/SeaLake_1257.jpg  \n",
            "  inflating: /content/data/data/SeaLake_1258.jpg  \n",
            "  inflating: /content/data/data/SeaLake_1259.jpg  \n",
            "  inflating: /content/data/data/SeaLake_126.jpg  \n",
            "  inflating: /content/data/data/SeaLake_1260.jpg  \n",
            "  inflating: /content/data/data/SeaLake_1261.jpg  \n",
            "  inflating: /content/data/data/SeaLake_1262.jpg  \n",
            "  inflating: /content/data/data/SeaLake_1263.jpg  \n",
            "  inflating: /content/data/data/SeaLake_1264.jpg  \n",
            "  inflating: /content/data/data/SeaLake_1265.jpg  \n",
            "  inflating: /content/data/data/SeaLake_1266.jpg  \n",
            "  inflating: /content/data/data/SeaLake_1267.jpg  \n",
            "  inflating: /content/data/data/SeaLake_1268.jpg  \n",
            "  inflating: /content/data/data/SeaLake_1269.jpg  \n",
            "  inflating: /content/data/data/SeaLake_127.jpg  \n",
            "  inflating: /content/data/data/SeaLake_1270.jpg  \n",
            "  inflating: /content/data/data/SeaLake_1271.jpg  \n",
            "  inflating: /content/data/data/SeaLake_1272.jpg  \n",
            "  inflating: /content/data/data/SeaLake_1273.jpg  \n",
            "  inflating: /content/data/data/SeaLake_1274.jpg  \n",
            "  inflating: /content/data/data/SeaLake_1275.jpg  \n",
            "  inflating: /content/data/data/SeaLake_1276.jpg  \n",
            "  inflating: /content/data/data/SeaLake_1277.jpg  \n",
            "  inflating: /content/data/data/SeaLake_1278.jpg  \n",
            "  inflating: /content/data/data/SeaLake_1279.jpg  \n",
            "  inflating: /content/data/data/SeaLake_128.jpg  \n",
            "  inflating: /content/data/data/SeaLake_1280.jpg  \n",
            "  inflating: /content/data/data/SeaLake_1281.jpg  \n",
            "  inflating: /content/data/data/SeaLake_1282.jpg  \n",
            "  inflating: /content/data/data/SeaLake_1283.jpg  \n",
            "  inflating: /content/data/data/SeaLake_1284.jpg  \n",
            "  inflating: /content/data/data/SeaLake_1285.jpg  \n",
            "  inflating: /content/data/data/SeaLake_1286.jpg  \n",
            "  inflating: /content/data/data/SeaLake_1287.jpg  \n",
            "  inflating: /content/data/data/SeaLake_1288.jpg  \n",
            "  inflating: /content/data/data/SeaLake_1289.jpg  \n",
            "  inflating: /content/data/data/SeaLake_129.jpg  \n",
            "  inflating: /content/data/data/SeaLake_1290.jpg  \n",
            "  inflating: /content/data/data/SeaLake_1291.jpg  \n",
            "  inflating: /content/data/data/SeaLake_1292.jpg  \n",
            "  inflating: /content/data/data/SeaLake_1293.jpg  \n",
            "  inflating: /content/data/data/SeaLake_1294.jpg  \n",
            "  inflating: /content/data/data/SeaLake_1295.jpg  \n",
            "  inflating: /content/data/data/SeaLake_1296.jpg  \n",
            "  inflating: /content/data/data/SeaLake_1297.jpg  \n",
            "  inflating: /content/data/data/SeaLake_1298.jpg  \n",
            "  inflating: /content/data/data/SeaLake_1299.jpg  \n",
            "  inflating: /content/data/data/SeaLake_13.jpg  \n",
            "  inflating: /content/data/data/SeaLake_130.jpg  \n",
            "  inflating: /content/data/data/SeaLake_1300.jpg  \n",
            "  inflating: /content/data/data/SeaLake_1301.jpg  \n",
            "  inflating: /content/data/data/SeaLake_1302.jpg  \n",
            "  inflating: /content/data/data/SeaLake_1303.jpg  \n",
            "  inflating: /content/data/data/SeaLake_1304.jpg  \n",
            "  inflating: /content/data/data/SeaLake_1305.jpg  \n",
            "  inflating: /content/data/data/SeaLake_1306.jpg  \n",
            "  inflating: /content/data/data/SeaLake_1307.jpg  \n",
            "  inflating: /content/data/data/SeaLake_1308.jpg  \n",
            "  inflating: /content/data/data/SeaLake_1309.jpg  \n",
            "  inflating: /content/data/data/SeaLake_131.jpg  \n",
            "  inflating: /content/data/data/SeaLake_1310.jpg  \n",
            "  inflating: /content/data/data/SeaLake_1311.jpg  \n",
            "  inflating: /content/data/data/SeaLake_1312.jpg  \n",
            "  inflating: /content/data/data/SeaLake_1313.jpg  \n",
            "  inflating: /content/data/data/SeaLake_1314.jpg  \n",
            "  inflating: /content/data/data/SeaLake_1315.jpg  \n",
            "  inflating: /content/data/data/SeaLake_1316.jpg  \n",
            "  inflating: /content/data/data/SeaLake_1317.jpg  \n",
            "  inflating: /content/data/data/SeaLake_1318.jpg  \n",
            "  inflating: /content/data/data/SeaLake_1319.jpg  \n",
            "  inflating: /content/data/data/SeaLake_132.jpg  \n",
            "  inflating: /content/data/data/SeaLake_1320.jpg  \n",
            "  inflating: /content/data/data/SeaLake_1321.jpg  \n",
            "  inflating: /content/data/data/SeaLake_1322.jpg  \n",
            "  inflating: /content/data/data/SeaLake_1323.jpg  \n",
            "  inflating: /content/data/data/SeaLake_1324.jpg  \n",
            "  inflating: /content/data/data/SeaLake_1325.jpg  \n",
            "  inflating: /content/data/data/SeaLake_1326.jpg  \n",
            "  inflating: /content/data/data/SeaLake_1327.jpg  \n",
            "  inflating: /content/data/data/SeaLake_1328.jpg  \n",
            "  inflating: /content/data/data/SeaLake_1329.jpg  \n",
            "  inflating: /content/data/data/SeaLake_133.jpg  \n",
            "  inflating: /content/data/data/SeaLake_1330.jpg  \n",
            "  inflating: /content/data/data/SeaLake_1331.jpg  \n",
            "  inflating: /content/data/data/SeaLake_1332.jpg  \n",
            "  inflating: /content/data/data/SeaLake_1333.jpg  \n",
            "  inflating: /content/data/data/SeaLake_1334.jpg  \n",
            "  inflating: /content/data/data/SeaLake_1335.jpg  \n",
            "  inflating: /content/data/data/SeaLake_1336.jpg  \n",
            "  inflating: /content/data/data/SeaLake_1337.jpg  \n",
            "  inflating: /content/data/data/SeaLake_1338.jpg  \n",
            "  inflating: /content/data/data/SeaLake_1339.jpg  \n",
            "  inflating: /content/data/data/SeaLake_134.jpg  \n",
            "  inflating: /content/data/data/SeaLake_1340.jpg  \n",
            "  inflating: /content/data/data/SeaLake_1341.jpg  \n",
            "  inflating: /content/data/data/SeaLake_1342.jpg  \n",
            "  inflating: /content/data/data/SeaLake_1343.jpg  \n",
            "  inflating: /content/data/data/SeaLake_1344.jpg  \n",
            "  inflating: /content/data/data/SeaLake_1345.jpg  \n",
            "  inflating: /content/data/data/SeaLake_1346.jpg  \n",
            "  inflating: /content/data/data/SeaLake_1347.jpg  \n",
            "  inflating: /content/data/data/SeaLake_1348.jpg  \n",
            "  inflating: /content/data/data/SeaLake_1349.jpg  \n",
            "  inflating: /content/data/data/SeaLake_135.jpg  \n",
            "  inflating: /content/data/data/SeaLake_1350.jpg  \n",
            "  inflating: /content/data/data/SeaLake_1351.jpg  \n",
            "  inflating: /content/data/data/SeaLake_1352.jpg  \n",
            "  inflating: /content/data/data/SeaLake_1353.jpg  \n",
            "  inflating: /content/data/data/SeaLake_1354.jpg  \n",
            "  inflating: /content/data/data/SeaLake_1355.jpg  \n",
            "  inflating: /content/data/data/SeaLake_1356.jpg  \n",
            "  inflating: /content/data/data/SeaLake_1357.jpg  \n",
            "  inflating: /content/data/data/SeaLake_1358.jpg  \n",
            "  inflating: /content/data/data/SeaLake_1359.jpg  \n",
            "  inflating: /content/data/data/SeaLake_136.jpg  \n",
            "  inflating: /content/data/data/SeaLake_1360.jpg  \n",
            "  inflating: /content/data/data/SeaLake_1361.jpg  \n",
            "  inflating: /content/data/data/SeaLake_1362.jpg  \n",
            "  inflating: /content/data/data/SeaLake_1363.jpg  \n",
            "  inflating: /content/data/data/SeaLake_1364.jpg  \n",
            "  inflating: /content/data/data/SeaLake_1365.jpg  \n",
            "  inflating: /content/data/data/SeaLake_1366.jpg  \n",
            "  inflating: /content/data/data/SeaLake_1367.jpg  \n",
            "  inflating: /content/data/data/SeaLake_1368.jpg  \n",
            "  inflating: /content/data/data/SeaLake_1369.jpg  \n",
            "  inflating: /content/data/data/SeaLake_137.jpg  \n",
            "  inflating: /content/data/data/SeaLake_1370.jpg  \n",
            "  inflating: /content/data/data/SeaLake_1371.jpg  \n",
            "  inflating: /content/data/data/SeaLake_1372.jpg  \n",
            "  inflating: /content/data/data/SeaLake_1373.jpg  \n",
            "  inflating: /content/data/data/SeaLake_1374.jpg  \n",
            "  inflating: /content/data/data/SeaLake_1375.jpg  \n",
            "  inflating: /content/data/data/SeaLake_1376.jpg  \n",
            "  inflating: /content/data/data/SeaLake_1377.jpg  \n",
            "  inflating: /content/data/data/SeaLake_1378.jpg  \n",
            "  inflating: /content/data/data/SeaLake_1379.jpg  \n",
            "  inflating: /content/data/data/SeaLake_138.jpg  \n",
            "  inflating: /content/data/data/SeaLake_1380.jpg  \n",
            "  inflating: /content/data/data/SeaLake_1381.jpg  \n",
            "  inflating: /content/data/data/SeaLake_1382.jpg  \n",
            "  inflating: /content/data/data/SeaLake_1383.jpg  \n",
            "  inflating: /content/data/data/SeaLake_1384.jpg  \n",
            "  inflating: /content/data/data/SeaLake_1385.jpg  \n",
            "  inflating: /content/data/data/SeaLake_1386.jpg  \n",
            "  inflating: /content/data/data/SeaLake_1387.jpg  \n",
            "  inflating: /content/data/data/SeaLake_1388.jpg  \n",
            "  inflating: /content/data/data/SeaLake_1389.jpg  \n",
            "  inflating: /content/data/data/SeaLake_139.jpg  \n",
            "  inflating: /content/data/data/SeaLake_1390.jpg  \n",
            "  inflating: /content/data/data/SeaLake_1391.jpg  \n",
            "  inflating: /content/data/data/SeaLake_1392.jpg  \n",
            "  inflating: /content/data/data/SeaLake_1393.jpg  \n",
            "  inflating: /content/data/data/SeaLake_1394.jpg  \n",
            "  inflating: /content/data/data/SeaLake_1395.jpg  \n",
            "  inflating: /content/data/data/SeaLake_1396.jpg  \n",
            "  inflating: /content/data/data/SeaLake_1397.jpg  \n",
            "  inflating: /content/data/data/SeaLake_1398.jpg  \n",
            "  inflating: /content/data/data/SeaLake_1399.jpg  \n",
            "  inflating: /content/data/data/SeaLake_14.jpg  \n",
            "  inflating: /content/data/data/SeaLake_140.jpg  \n",
            "  inflating: /content/data/data/SeaLake_1400.jpg  \n",
            "  inflating: /content/data/data/SeaLake_1401.jpg  \n",
            "  inflating: /content/data/data/SeaLake_1402.jpg  \n",
            "  inflating: /content/data/data/SeaLake_1403.jpg  \n",
            "  inflating: /content/data/data/SeaLake_1404.jpg  \n",
            "  inflating: /content/data/data/SeaLake_1405.jpg  \n",
            "  inflating: /content/data/data/SeaLake_1406.jpg  \n",
            "  inflating: /content/data/data/SeaLake_1407.jpg  \n",
            "  inflating: /content/data/data/SeaLake_1408.jpg  \n",
            "  inflating: /content/data/data/SeaLake_1409.jpg  \n",
            "  inflating: /content/data/data/SeaLake_141.jpg  \n",
            "  inflating: /content/data/data/SeaLake_1410.jpg  \n",
            "  inflating: /content/data/data/SeaLake_1411.jpg  \n",
            "  inflating: /content/data/data/SeaLake_1412.jpg  \n",
            "  inflating: /content/data/data/SeaLake_1413.jpg  \n",
            "  inflating: /content/data/data/SeaLake_1414.jpg  \n",
            "  inflating: /content/data/data/SeaLake_1415.jpg  \n",
            "  inflating: /content/data/data/SeaLake_1416.jpg  \n",
            "  inflating: /content/data/data/SeaLake_1417.jpg  \n",
            "  inflating: /content/data/data/SeaLake_1418.jpg  \n",
            "  inflating: /content/data/data/SeaLake_1419.jpg  \n",
            "  inflating: /content/data/data/SeaLake_142.jpg  \n",
            "  inflating: /content/data/data/SeaLake_1420.jpg  \n",
            "  inflating: /content/data/data/SeaLake_1421.jpg  \n",
            "  inflating: /content/data/data/SeaLake_1422.jpg  \n",
            "  inflating: /content/data/data/SeaLake_1423.jpg  \n",
            "  inflating: /content/data/data/SeaLake_1424.jpg  \n",
            "  inflating: /content/data/data/SeaLake_1425.jpg  \n",
            "  inflating: /content/data/data/SeaLake_1426.jpg  \n",
            "  inflating: /content/data/data/SeaLake_1427.jpg  \n",
            "  inflating: /content/data/data/SeaLake_1428.jpg  \n",
            "  inflating: /content/data/data/SeaLake_1429.jpg  \n",
            "  inflating: /content/data/data/SeaLake_143.jpg  \n",
            "  inflating: /content/data/data/SeaLake_1430.jpg  \n",
            "  inflating: /content/data/data/SeaLake_1431.jpg  \n",
            "  inflating: /content/data/data/SeaLake_1432.jpg  \n",
            "  inflating: /content/data/data/SeaLake_1433.jpg  \n",
            "  inflating: /content/data/data/SeaLake_1434.jpg  \n",
            "  inflating: /content/data/data/SeaLake_1435.jpg  \n",
            "  inflating: /content/data/data/SeaLake_1436.jpg  \n",
            "  inflating: /content/data/data/SeaLake_1437.jpg  \n",
            "  inflating: /content/data/data/SeaLake_1438.jpg  \n",
            "  inflating: /content/data/data/SeaLake_1439.jpg  \n",
            "  inflating: /content/data/data/SeaLake_144.jpg  \n",
            "  inflating: /content/data/data/SeaLake_1440.jpg  \n",
            "  inflating: /content/data/data/SeaLake_1441.jpg  \n",
            "  inflating: /content/data/data/SeaLake_1442.jpg  \n",
            "  inflating: /content/data/data/SeaLake_1443.jpg  \n",
            "  inflating: /content/data/data/SeaLake_1444.jpg  \n",
            "  inflating: /content/data/data/SeaLake_1445.jpg  \n",
            "  inflating: /content/data/data/SeaLake_1446.jpg  \n",
            "  inflating: /content/data/data/SeaLake_1447.jpg  \n",
            "  inflating: /content/data/data/SeaLake_1448.jpg  \n",
            "  inflating: /content/data/data/SeaLake_1449.jpg  \n",
            "  inflating: /content/data/data/SeaLake_145.jpg  \n",
            "  inflating: /content/data/data/SeaLake_1450.jpg  \n",
            "  inflating: /content/data/data/SeaLake_1451.jpg  \n",
            "  inflating: /content/data/data/SeaLake_1452.jpg  \n",
            "  inflating: /content/data/data/SeaLake_1453.jpg  \n",
            "  inflating: /content/data/data/SeaLake_1454.jpg  \n",
            "  inflating: /content/data/data/SeaLake_1455.jpg  \n",
            "  inflating: /content/data/data/SeaLake_1456.jpg  \n",
            "  inflating: /content/data/data/SeaLake_1457.jpg  \n",
            "  inflating: /content/data/data/SeaLake_1458.jpg  \n",
            "  inflating: /content/data/data/SeaLake_1459.jpg  \n",
            "  inflating: /content/data/data/SeaLake_146.jpg  \n",
            "  inflating: /content/data/data/SeaLake_1460.jpg  \n",
            "  inflating: /content/data/data/SeaLake_1461.jpg  \n",
            "  inflating: /content/data/data/SeaLake_1462.jpg  \n",
            "  inflating: /content/data/data/SeaLake_1463.jpg  \n",
            "  inflating: /content/data/data/SeaLake_1464.jpg  \n",
            "  inflating: /content/data/data/SeaLake_1465.jpg  \n",
            "  inflating: /content/data/data/SeaLake_1466.jpg  \n",
            "  inflating: /content/data/data/SeaLake_1467.jpg  \n",
            "  inflating: /content/data/data/SeaLake_1468.jpg  \n",
            "  inflating: /content/data/data/SeaLake_1469.jpg  \n",
            "  inflating: /content/data/data/SeaLake_147.jpg  \n",
            "  inflating: /content/data/data/SeaLake_1470.jpg  \n",
            "  inflating: /content/data/data/SeaLake_1471.jpg  \n",
            "  inflating: /content/data/data/SeaLake_1472.jpg  \n",
            "  inflating: /content/data/data/SeaLake_1473.jpg  \n",
            "  inflating: /content/data/data/SeaLake_1474.jpg  \n",
            "  inflating: /content/data/data/SeaLake_1475.jpg  \n",
            "  inflating: /content/data/data/SeaLake_1476.jpg  \n",
            "  inflating: /content/data/data/SeaLake_1477.jpg  \n",
            "  inflating: /content/data/data/SeaLake_1478.jpg  \n",
            "  inflating: /content/data/data/SeaLake_1479.jpg  \n",
            "  inflating: /content/data/data/SeaLake_148.jpg  \n",
            "  inflating: /content/data/data/SeaLake_1480.jpg  \n",
            "  inflating: /content/data/data/SeaLake_1481.jpg  \n",
            "  inflating: /content/data/data/SeaLake_1482.jpg  \n",
            "  inflating: /content/data/data/SeaLake_1483.jpg  \n",
            "  inflating: /content/data/data/SeaLake_1484.jpg  \n",
            "  inflating: /content/data/data/SeaLake_1485.jpg  \n",
            "  inflating: /content/data/data/SeaLake_1486.jpg  \n",
            "  inflating: /content/data/data/SeaLake_1487.jpg  \n",
            "  inflating: /content/data/data/SeaLake_1488.jpg  \n",
            "  inflating: /content/data/data/SeaLake_1489.jpg  \n",
            "  inflating: /content/data/data/SeaLake_149.jpg  \n",
            "  inflating: /content/data/data/SeaLake_1490.jpg  \n",
            "  inflating: /content/data/data/SeaLake_1491.jpg  \n",
            "  inflating: /content/data/data/SeaLake_1492.jpg  \n",
            "  inflating: /content/data/data/SeaLake_1493.jpg  \n",
            "  inflating: /content/data/data/SeaLake_1494.jpg  \n",
            "  inflating: /content/data/data/SeaLake_1495.jpg  \n",
            "  inflating: /content/data/data/SeaLake_1496.jpg  \n",
            "  inflating: /content/data/data/SeaLake_1497.jpg  \n",
            "  inflating: /content/data/data/SeaLake_1498.jpg  \n",
            "  inflating: /content/data/data/SeaLake_1499.jpg  \n",
            "  inflating: /content/data/data/SeaLake_15.jpg  \n",
            "  inflating: /content/data/data/SeaLake_150.jpg  \n",
            "  inflating: /content/data/data/SeaLake_1500.jpg  \n",
            "  inflating: /content/data/data/SeaLake_1501.jpg  \n",
            "  inflating: /content/data/data/SeaLake_1502.jpg  \n",
            "  inflating: /content/data/data/SeaLake_1503.jpg  \n",
            "  inflating: /content/data/data/SeaLake_1504.jpg  \n",
            "  inflating: /content/data/data/SeaLake_1505.jpg  \n",
            "  inflating: /content/data/data/SeaLake_1506.jpg  \n",
            "  inflating: /content/data/data/SeaLake_1507.jpg  \n",
            "  inflating: /content/data/data/SeaLake_1508.jpg  \n",
            "  inflating: /content/data/data/SeaLake_1509.jpg  \n",
            "  inflating: /content/data/data/SeaLake_151.jpg  \n",
            "  inflating: /content/data/data/SeaLake_1510.jpg  \n",
            "  inflating: /content/data/data/SeaLake_1511.jpg  \n",
            "  inflating: /content/data/data/SeaLake_1512.jpg  \n",
            "  inflating: /content/data/data/SeaLake_1513.jpg  \n",
            "  inflating: /content/data/data/SeaLake_1514.jpg  \n",
            "  inflating: /content/data/data/SeaLake_1515.jpg  \n",
            "  inflating: /content/data/data/SeaLake_1516.jpg  \n",
            "  inflating: /content/data/data/SeaLake_1517.jpg  \n",
            "  inflating: /content/data/data/SeaLake_1518.jpg  \n",
            "  inflating: /content/data/data/SeaLake_1519.jpg  \n",
            "  inflating: /content/data/data/SeaLake_152.jpg  \n",
            "  inflating: /content/data/data/SeaLake_1520.jpg  \n",
            "  inflating: /content/data/data/SeaLake_1521.jpg  \n",
            "  inflating: /content/data/data/SeaLake_1522.jpg  \n",
            "  inflating: /content/data/data/SeaLake_1523.jpg  \n",
            "  inflating: /content/data/data/SeaLake_1524.jpg  \n",
            "  inflating: /content/data/data/SeaLake_1525.jpg  \n",
            "  inflating: /content/data/data/SeaLake_1526.jpg  \n",
            "  inflating: /content/data/data/SeaLake_1527.jpg  \n",
            "  inflating: /content/data/data/SeaLake_1528.jpg  \n",
            "  inflating: /content/data/data/SeaLake_1529.jpg  \n",
            "  inflating: /content/data/data/SeaLake_153.jpg  \n",
            "  inflating: /content/data/data/SeaLake_1530.jpg  \n",
            "  inflating: /content/data/data/SeaLake_1531.jpg  \n",
            "  inflating: /content/data/data/SeaLake_1532.jpg  \n",
            "  inflating: /content/data/data/SeaLake_1533.jpg  \n",
            "  inflating: /content/data/data/SeaLake_1534.jpg  \n",
            "  inflating: /content/data/data/SeaLake_1535.jpg  \n",
            "  inflating: /content/data/data/SeaLake_1536.jpg  \n",
            "  inflating: /content/data/data/SeaLake_1537.jpg  \n",
            "  inflating: /content/data/data/SeaLake_1538.jpg  \n",
            "  inflating: /content/data/data/SeaLake_1539.jpg  \n",
            "  inflating: /content/data/data/SeaLake_154.jpg  \n",
            "  inflating: /content/data/data/SeaLake_1540.jpg  \n",
            "  inflating: /content/data/data/SeaLake_1541.jpg  \n",
            "  inflating: /content/data/data/SeaLake_1542.jpg  \n",
            "  inflating: /content/data/data/SeaLake_1543.jpg  \n",
            "  inflating: /content/data/data/SeaLake_1544.jpg  \n",
            "  inflating: /content/data/data/SeaLake_1545.jpg  \n",
            "  inflating: /content/data/data/SeaLake_1546.jpg  \n",
            "  inflating: /content/data/data/SeaLake_1547.jpg  \n",
            "  inflating: /content/data/data/SeaLake_1548.jpg  \n",
            "  inflating: /content/data/data/SeaLake_1549.jpg  \n",
            "  inflating: /content/data/data/SeaLake_155.jpg  \n",
            "  inflating: /content/data/data/SeaLake_1550.jpg  \n",
            "  inflating: /content/data/data/SeaLake_1551.jpg  \n",
            "  inflating: /content/data/data/SeaLake_1552.jpg  \n",
            "  inflating: /content/data/data/SeaLake_1553.jpg  \n",
            "  inflating: /content/data/data/SeaLake_1554.jpg  \n",
            "  inflating: /content/data/data/SeaLake_1555.jpg  \n",
            "  inflating: /content/data/data/SeaLake_1556.jpg  \n",
            "  inflating: /content/data/data/SeaLake_1557.jpg  \n",
            "  inflating: /content/data/data/SeaLake_1558.jpg  \n",
            "  inflating: /content/data/data/SeaLake_1559.jpg  \n",
            "  inflating: /content/data/data/SeaLake_156.jpg  \n",
            "  inflating: /content/data/data/SeaLake_1560.jpg  \n",
            "  inflating: /content/data/data/SeaLake_1561.jpg  \n",
            "  inflating: /content/data/data/SeaLake_1562.jpg  \n",
            "  inflating: /content/data/data/SeaLake_1563.jpg  \n",
            "  inflating: /content/data/data/SeaLake_1564.jpg  \n",
            "  inflating: /content/data/data/SeaLake_1565.jpg  \n",
            "  inflating: /content/data/data/SeaLake_1566.jpg  \n",
            "  inflating: /content/data/data/SeaLake_1567.jpg  \n",
            "  inflating: /content/data/data/SeaLake_1568.jpg  \n",
            "  inflating: /content/data/data/SeaLake_1569.jpg  \n",
            "  inflating: /content/data/data/SeaLake_157.jpg  \n",
            "  inflating: /content/data/data/SeaLake_1570.jpg  \n",
            "  inflating: /content/data/data/SeaLake_1571.jpg  \n",
            "  inflating: /content/data/data/SeaLake_1572.jpg  \n",
            "  inflating: /content/data/data/SeaLake_1573.jpg  \n",
            "  inflating: /content/data/data/SeaLake_1574.jpg  \n",
            "  inflating: /content/data/data/SeaLake_1575.jpg  \n",
            "  inflating: /content/data/data/SeaLake_1576.jpg  \n",
            "  inflating: /content/data/data/SeaLake_1577.jpg  \n",
            "  inflating: /content/data/data/SeaLake_1578.jpg  \n",
            "  inflating: /content/data/data/SeaLake_1579.jpg  \n",
            "  inflating: /content/data/data/SeaLake_158.jpg  \n",
            "  inflating: /content/data/data/SeaLake_1580.jpg  \n",
            "  inflating: /content/data/data/SeaLake_1581.jpg  \n",
            "  inflating: /content/data/data/SeaLake_1582.jpg  \n",
            "  inflating: /content/data/data/SeaLake_1583.jpg  \n",
            "  inflating: /content/data/data/SeaLake_1584.jpg  \n",
            "  inflating: /content/data/data/SeaLake_1585.jpg  \n",
            "  inflating: /content/data/data/SeaLake_1586.jpg  \n",
            "  inflating: /content/data/data/SeaLake_1587.jpg  \n",
            "  inflating: /content/data/data/SeaLake_1588.jpg  \n",
            "  inflating: /content/data/data/SeaLake_1589.jpg  \n",
            "  inflating: /content/data/data/SeaLake_159.jpg  \n",
            "  inflating: /content/data/data/SeaLake_1590.jpg  \n",
            "  inflating: /content/data/data/SeaLake_1591.jpg  \n",
            "  inflating: /content/data/data/SeaLake_1592.jpg  \n",
            "  inflating: /content/data/data/SeaLake_1593.jpg  \n",
            "  inflating: /content/data/data/SeaLake_1594.jpg  \n",
            "  inflating: /content/data/data/SeaLake_1595.jpg  \n",
            "  inflating: /content/data/data/SeaLake_1596.jpg  \n",
            "  inflating: /content/data/data/SeaLake_1597.jpg  \n",
            "  inflating: /content/data/data/SeaLake_1598.jpg  \n",
            "  inflating: /content/data/data/SeaLake_1599.jpg  \n",
            "  inflating: /content/data/data/SeaLake_16.jpg  \n",
            "  inflating: /content/data/data/SeaLake_160.jpg  \n",
            "  inflating: /content/data/data/SeaLake_1600.jpg  \n",
            "  inflating: /content/data/data/SeaLake_1601.jpg  \n",
            "  inflating: /content/data/data/SeaLake_1602.jpg  \n",
            "  inflating: /content/data/data/SeaLake_1603.jpg  \n",
            "  inflating: /content/data/data/SeaLake_1604.jpg  \n",
            "  inflating: /content/data/data/SeaLake_1605.jpg  \n",
            "  inflating: /content/data/data/SeaLake_1606.jpg  \n",
            "  inflating: /content/data/data/SeaLake_1607.jpg  \n",
            "  inflating: /content/data/data/SeaLake_1608.jpg  \n",
            "  inflating: /content/data/data/SeaLake_1609.jpg  \n",
            "  inflating: /content/data/data/SeaLake_161.jpg  \n",
            "  inflating: /content/data/data/SeaLake_1610.jpg  \n",
            "  inflating: /content/data/data/SeaLake_1611.jpg  \n",
            "  inflating: /content/data/data/SeaLake_1612.jpg  \n",
            "  inflating: /content/data/data/SeaLake_1613.jpg  \n",
            "  inflating: /content/data/data/SeaLake_1614.jpg  \n",
            "  inflating: /content/data/data/SeaLake_1615.jpg  \n",
            "  inflating: /content/data/data/SeaLake_1616.jpg  \n",
            "  inflating: /content/data/data/SeaLake_1617.jpg  \n",
            "  inflating: /content/data/data/SeaLake_1618.jpg  \n",
            "  inflating: /content/data/data/SeaLake_1619.jpg  \n",
            "  inflating: /content/data/data/SeaLake_162.jpg  \n",
            "  inflating: /content/data/data/SeaLake_1620.jpg  \n",
            "  inflating: /content/data/data/SeaLake_1621.jpg  \n",
            "  inflating: /content/data/data/SeaLake_1622.jpg  \n",
            "  inflating: /content/data/data/SeaLake_1623.jpg  \n",
            "  inflating: /content/data/data/SeaLake_1624.jpg  \n",
            "  inflating: /content/data/data/SeaLake_1625.jpg  \n",
            "  inflating: /content/data/data/SeaLake_1626.jpg  \n",
            "  inflating: /content/data/data/SeaLake_1627.jpg  \n",
            "  inflating: /content/data/data/SeaLake_1628.jpg  \n",
            "  inflating: /content/data/data/SeaLake_1629.jpg  \n",
            "  inflating: /content/data/data/SeaLake_163.jpg  \n",
            "  inflating: /content/data/data/SeaLake_1630.jpg  \n",
            "  inflating: /content/data/data/SeaLake_1631.jpg  \n",
            "  inflating: /content/data/data/SeaLake_1632.jpg  \n",
            "  inflating: /content/data/data/SeaLake_1633.jpg  \n",
            "  inflating: /content/data/data/SeaLake_1634.jpg  \n",
            "  inflating: /content/data/data/SeaLake_1635.jpg  \n",
            "  inflating: /content/data/data/SeaLake_1636.jpg  \n",
            "  inflating: /content/data/data/SeaLake_1637.jpg  \n",
            "  inflating: /content/data/data/SeaLake_1638.jpg  \n",
            "  inflating: /content/data/data/SeaLake_1639.jpg  \n",
            "  inflating: /content/data/data/SeaLake_164.jpg  \n",
            "  inflating: /content/data/data/SeaLake_1640.jpg  \n",
            "  inflating: /content/data/data/SeaLake_1641.jpg  \n",
            "  inflating: /content/data/data/SeaLake_1642.jpg  \n",
            "  inflating: /content/data/data/SeaLake_1643.jpg  \n",
            "  inflating: /content/data/data/SeaLake_1644.jpg  \n",
            "  inflating: /content/data/data/SeaLake_1645.jpg  \n",
            "  inflating: /content/data/data/SeaLake_1646.jpg  \n",
            "  inflating: /content/data/data/SeaLake_1647.jpg  \n",
            "  inflating: /content/data/data/SeaLake_1648.jpg  \n",
            "  inflating: /content/data/data/SeaLake_1649.jpg  \n",
            "  inflating: /content/data/data/SeaLake_165.jpg  \n",
            "  inflating: /content/data/data/SeaLake_1650.jpg  \n",
            "  inflating: /content/data/data/SeaLake_1651.jpg  \n",
            "  inflating: /content/data/data/SeaLake_1652.jpg  \n",
            "  inflating: /content/data/data/SeaLake_1653.jpg  \n",
            "  inflating: /content/data/data/SeaLake_1654.jpg  \n",
            "  inflating: /content/data/data/SeaLake_1655.jpg  \n",
            "  inflating: /content/data/data/SeaLake_1656.jpg  \n",
            "  inflating: /content/data/data/SeaLake_1657.jpg  \n",
            "  inflating: /content/data/data/SeaLake_1658.jpg  \n",
            "  inflating: /content/data/data/SeaLake_1659.jpg  \n",
            "  inflating: /content/data/data/SeaLake_166.jpg  \n",
            "  inflating: /content/data/data/SeaLake_1660.jpg  \n",
            "  inflating: /content/data/data/SeaLake_1661.jpg  \n",
            "  inflating: /content/data/data/SeaLake_1662.jpg  \n",
            "  inflating: /content/data/data/SeaLake_1663.jpg  \n",
            "  inflating: /content/data/data/SeaLake_1664.jpg  \n",
            "  inflating: /content/data/data/SeaLake_1665.jpg  \n",
            "  inflating: /content/data/data/SeaLake_1666.jpg  \n",
            "  inflating: /content/data/data/SeaLake_1667.jpg  \n",
            "  inflating: /content/data/data/SeaLake_1668.jpg  \n",
            "  inflating: /content/data/data/SeaLake_1669.jpg  \n",
            "  inflating: /content/data/data/SeaLake_167.jpg  \n",
            "  inflating: /content/data/data/SeaLake_1670.jpg  \n",
            "  inflating: /content/data/data/SeaLake_1671.jpg  \n",
            "  inflating: /content/data/data/SeaLake_1672.jpg  \n",
            "  inflating: /content/data/data/SeaLake_1673.jpg  \n",
            "  inflating: /content/data/data/SeaLake_1674.jpg  \n",
            "  inflating: /content/data/data/SeaLake_1675.jpg  \n",
            "  inflating: /content/data/data/SeaLake_1676.jpg  \n",
            "  inflating: /content/data/data/SeaLake_1677.jpg  \n",
            "  inflating: /content/data/data/SeaLake_1678.jpg  \n",
            "  inflating: /content/data/data/SeaLake_1679.jpg  \n",
            "  inflating: /content/data/data/SeaLake_168.jpg  \n",
            "  inflating: /content/data/data/SeaLake_1680.jpg  \n",
            "  inflating: /content/data/data/SeaLake_1681.jpg  \n",
            "  inflating: /content/data/data/SeaLake_1682.jpg  \n",
            "  inflating: /content/data/data/SeaLake_1683.jpg  \n",
            "  inflating: /content/data/data/SeaLake_1684.jpg  \n",
            "  inflating: /content/data/data/SeaLake_1685.jpg  \n",
            "  inflating: /content/data/data/SeaLake_1686.jpg  \n",
            "  inflating: /content/data/data/SeaLake_1687.jpg  \n",
            "  inflating: /content/data/data/SeaLake_1688.jpg  \n",
            "  inflating: /content/data/data/SeaLake_1689.jpg  \n",
            "  inflating: /content/data/data/SeaLake_169.jpg  \n",
            "  inflating: /content/data/data/SeaLake_1690.jpg  \n",
            "  inflating: /content/data/data/SeaLake_1691.jpg  \n",
            "  inflating: /content/data/data/SeaLake_1692.jpg  \n",
            "  inflating: /content/data/data/SeaLake_1693.jpg  \n",
            "  inflating: /content/data/data/SeaLake_1694.jpg  \n",
            "  inflating: /content/data/data/SeaLake_1695.jpg  \n",
            "  inflating: /content/data/data/SeaLake_1696.jpg  \n",
            "  inflating: /content/data/data/SeaLake_1697.jpg  \n",
            "  inflating: /content/data/data/SeaLake_1698.jpg  \n",
            "  inflating: /content/data/data/SeaLake_1699.jpg  \n",
            "  inflating: /content/data/data/SeaLake_17.jpg  \n",
            "  inflating: /content/data/data/SeaLake_170.jpg  \n",
            "  inflating: /content/data/data/SeaLake_1700.jpg  \n",
            "  inflating: /content/data/data/SeaLake_1701.jpg  \n",
            "  inflating: /content/data/data/SeaLake_1702.jpg  \n",
            "  inflating: /content/data/data/SeaLake_1703.jpg  \n",
            "  inflating: /content/data/data/SeaLake_1704.jpg  \n",
            "  inflating: /content/data/data/SeaLake_1705.jpg  \n",
            "  inflating: /content/data/data/SeaLake_1706.jpg  \n",
            "  inflating: /content/data/data/SeaLake_1707.jpg  \n",
            "  inflating: /content/data/data/SeaLake_1708.jpg  \n",
            "  inflating: /content/data/data/SeaLake_1709.jpg  \n",
            "  inflating: /content/data/data/SeaLake_171.jpg  \n",
            "  inflating: /content/data/data/SeaLake_1710.jpg  \n",
            "  inflating: /content/data/data/SeaLake_1711.jpg  \n",
            "  inflating: /content/data/data/SeaLake_1712.jpg  \n",
            "  inflating: /content/data/data/SeaLake_1713.jpg  \n",
            "  inflating: /content/data/data/SeaLake_1714.jpg  \n",
            "  inflating: /content/data/data/SeaLake_1715.jpg  \n",
            "  inflating: /content/data/data/SeaLake_1716.jpg  \n",
            "  inflating: /content/data/data/SeaLake_1717.jpg  \n",
            "  inflating: /content/data/data/SeaLake_1718.jpg  \n",
            "  inflating: /content/data/data/SeaLake_1719.jpg  \n",
            "  inflating: /content/data/data/SeaLake_172.jpg  \n",
            "  inflating: /content/data/data/SeaLake_1720.jpg  \n",
            "  inflating: /content/data/data/SeaLake_1721.jpg  \n",
            "  inflating: /content/data/data/SeaLake_1722.jpg  \n",
            "  inflating: /content/data/data/SeaLake_1723.jpg  \n",
            "  inflating: /content/data/data/SeaLake_1724.jpg  \n",
            "  inflating: /content/data/data/SeaLake_1725.jpg  \n",
            "  inflating: /content/data/data/SeaLake_1726.jpg  \n",
            "  inflating: /content/data/data/SeaLake_1727.jpg  \n",
            "  inflating: /content/data/data/SeaLake_1728.jpg  \n",
            "  inflating: /content/data/data/SeaLake_1729.jpg  \n",
            "  inflating: /content/data/data/SeaLake_173.jpg  \n",
            "  inflating: /content/data/data/SeaLake_1730.jpg  \n",
            "  inflating: /content/data/data/SeaLake_1731.jpg  \n",
            "  inflating: /content/data/data/SeaLake_1732.jpg  \n",
            "  inflating: /content/data/data/SeaLake_1733.jpg  \n",
            "  inflating: /content/data/data/SeaLake_1734.jpg  \n",
            "  inflating: /content/data/data/SeaLake_1735.jpg  \n",
            "  inflating: /content/data/data/SeaLake_1736.jpg  \n",
            "  inflating: /content/data/data/SeaLake_1737.jpg  \n",
            "  inflating: /content/data/data/SeaLake_1738.jpg  \n",
            "  inflating: /content/data/data/SeaLake_1739.jpg  \n",
            "  inflating: /content/data/data/SeaLake_174.jpg  \n",
            "  inflating: /content/data/data/SeaLake_1740.jpg  \n",
            "  inflating: /content/data/data/SeaLake_1741.jpg  \n",
            "  inflating: /content/data/data/SeaLake_1742.jpg  \n",
            "  inflating: /content/data/data/SeaLake_1743.jpg  \n",
            "  inflating: /content/data/data/SeaLake_1744.jpg  \n",
            "  inflating: /content/data/data/SeaLake_1745.jpg  \n",
            "  inflating: /content/data/data/SeaLake_1746.jpg  \n",
            "  inflating: /content/data/data/SeaLake_1747.jpg  \n",
            "  inflating: /content/data/data/SeaLake_1748.jpg  \n",
            "  inflating: /content/data/data/SeaLake_1749.jpg  \n",
            "  inflating: /content/data/data/SeaLake_175.jpg  \n",
            "  inflating: /content/data/data/SeaLake_1750.jpg  \n",
            "  inflating: /content/data/data/SeaLake_1751.jpg  \n",
            "  inflating: /content/data/data/SeaLake_1752.jpg  \n",
            "  inflating: /content/data/data/SeaLake_1753.jpg  \n",
            "  inflating: /content/data/data/SeaLake_1754.jpg  \n",
            "  inflating: /content/data/data/SeaLake_1755.jpg  \n",
            "  inflating: /content/data/data/SeaLake_1756.jpg  \n",
            "  inflating: /content/data/data/SeaLake_1757.jpg  \n",
            "  inflating: /content/data/data/SeaLake_1758.jpg  \n",
            "  inflating: /content/data/data/SeaLake_1759.jpg  \n",
            "  inflating: /content/data/data/SeaLake_176.jpg  \n",
            "  inflating: /content/data/data/SeaLake_1760.jpg  \n",
            "  inflating: /content/data/data/SeaLake_1761.jpg  \n",
            "  inflating: /content/data/data/SeaLake_1762.jpg  \n",
            "  inflating: /content/data/data/SeaLake_1763.jpg  \n",
            "  inflating: /content/data/data/SeaLake_1764.jpg  \n",
            "  inflating: /content/data/data/SeaLake_1765.jpg  \n",
            "  inflating: /content/data/data/SeaLake_1766.jpg  \n",
            "  inflating: /content/data/data/SeaLake_1767.jpg  \n",
            "  inflating: /content/data/data/SeaLake_1768.jpg  \n",
            "  inflating: /content/data/data/SeaLake_1769.jpg  \n",
            "  inflating: /content/data/data/SeaLake_177.jpg  \n",
            "  inflating: /content/data/data/SeaLake_1770.jpg  \n",
            "  inflating: /content/data/data/SeaLake_1771.jpg  \n",
            "  inflating: /content/data/data/SeaLake_1772.jpg  \n",
            "  inflating: /content/data/data/SeaLake_1773.jpg  \n",
            "  inflating: /content/data/data/SeaLake_1774.jpg  \n",
            "  inflating: /content/data/data/SeaLake_1775.jpg  \n",
            "  inflating: /content/data/data/SeaLake_1776.jpg  \n",
            "  inflating: /content/data/data/SeaLake_1777.jpg  \n",
            "  inflating: /content/data/data/SeaLake_1778.jpg  \n",
            "  inflating: /content/data/data/SeaLake_1779.jpg  \n",
            "  inflating: /content/data/data/SeaLake_178.jpg  \n",
            "  inflating: /content/data/data/SeaLake_1780.jpg  \n",
            "  inflating: /content/data/data/SeaLake_1781.jpg  \n",
            "  inflating: /content/data/data/SeaLake_1782.jpg  \n",
            "  inflating: /content/data/data/SeaLake_1783.jpg  \n",
            "  inflating: /content/data/data/SeaLake_1784.jpg  \n",
            "  inflating: /content/data/data/SeaLake_1785.jpg  \n",
            "  inflating: /content/data/data/SeaLake_1786.jpg  \n",
            "  inflating: /content/data/data/SeaLake_1787.jpg  \n",
            "  inflating: /content/data/data/SeaLake_1788.jpg  \n",
            "  inflating: /content/data/data/SeaLake_1789.jpg  \n",
            "  inflating: /content/data/data/SeaLake_179.jpg  \n",
            "  inflating: /content/data/data/SeaLake_1790.jpg  \n",
            "  inflating: /content/data/data/SeaLake_1791.jpg  \n",
            "  inflating: /content/data/data/SeaLake_1792.jpg  \n",
            "  inflating: /content/data/data/SeaLake_1793.jpg  \n",
            "  inflating: /content/data/data/SeaLake_1794.jpg  \n",
            "  inflating: /content/data/data/SeaLake_1795.jpg  \n",
            "  inflating: /content/data/data/SeaLake_1796.jpg  \n",
            "  inflating: /content/data/data/SeaLake_1797.jpg  \n",
            "  inflating: /content/data/data/SeaLake_1798.jpg  \n",
            "  inflating: /content/data/data/SeaLake_1799.jpg  \n",
            "  inflating: /content/data/data/SeaLake_18.jpg  \n",
            "  inflating: /content/data/data/SeaLake_180.jpg  \n",
            "  inflating: /content/data/data/SeaLake_1800.jpg  \n",
            "  inflating: /content/data/data/SeaLake_1801.jpg  \n",
            "  inflating: /content/data/data/SeaLake_1802.jpg  \n",
            "  inflating: /content/data/data/SeaLake_1803.jpg  \n",
            "  inflating: /content/data/data/SeaLake_1804.jpg  \n",
            "  inflating: /content/data/data/SeaLake_1805.jpg  \n",
            "  inflating: /content/data/data/SeaLake_1806.jpg  \n",
            "  inflating: /content/data/data/SeaLake_1807.jpg  \n",
            "  inflating: /content/data/data/SeaLake_1808.jpg  \n",
            "  inflating: /content/data/data/SeaLake_1809.jpg  \n",
            "  inflating: /content/data/data/SeaLake_181.jpg  \n",
            "  inflating: /content/data/data/SeaLake_1810.jpg  \n",
            "  inflating: /content/data/data/SeaLake_1811.jpg  \n",
            "  inflating: /content/data/data/SeaLake_1812.jpg  \n",
            "  inflating: /content/data/data/SeaLake_1813.jpg  \n",
            "  inflating: /content/data/data/SeaLake_1814.jpg  \n",
            "  inflating: /content/data/data/SeaLake_1815.jpg  \n",
            "  inflating: /content/data/data/SeaLake_1816.jpg  \n",
            "  inflating: /content/data/data/SeaLake_1817.jpg  \n",
            "  inflating: /content/data/data/SeaLake_1818.jpg  \n",
            "  inflating: /content/data/data/SeaLake_1819.jpg  \n",
            "  inflating: /content/data/data/SeaLake_182.jpg  \n",
            "  inflating: /content/data/data/SeaLake_1820.jpg  \n",
            "  inflating: /content/data/data/SeaLake_1821.jpg  \n",
            "  inflating: /content/data/data/SeaLake_1822.jpg  \n",
            "  inflating: /content/data/data/SeaLake_1823.jpg  \n",
            "  inflating: /content/data/data/SeaLake_1824.jpg  \n",
            "  inflating: /content/data/data/SeaLake_1825.jpg  \n",
            "  inflating: /content/data/data/SeaLake_1826.jpg  \n",
            "  inflating: /content/data/data/SeaLake_1827.jpg  \n",
            "  inflating: /content/data/data/SeaLake_1828.jpg  \n",
            "  inflating: /content/data/data/SeaLake_1829.jpg  \n",
            "  inflating: /content/data/data/SeaLake_183.jpg  \n",
            "  inflating: /content/data/data/SeaLake_1830.jpg  \n",
            "  inflating: /content/data/data/SeaLake_1831.jpg  \n",
            "  inflating: /content/data/data/SeaLake_1832.jpg  \n",
            "  inflating: /content/data/data/SeaLake_1833.jpg  \n",
            "  inflating: /content/data/data/SeaLake_1834.jpg  \n",
            "  inflating: /content/data/data/SeaLake_1835.jpg  \n",
            "  inflating: /content/data/data/SeaLake_1836.jpg  \n",
            "  inflating: /content/data/data/SeaLake_1837.jpg  \n",
            "  inflating: /content/data/data/SeaLake_1838.jpg  \n",
            "  inflating: /content/data/data/SeaLake_1839.jpg  \n",
            "  inflating: /content/data/data/SeaLake_184.jpg  \n",
            "  inflating: /content/data/data/SeaLake_1840.jpg  \n",
            "  inflating: /content/data/data/SeaLake_1841.jpg  \n",
            "  inflating: /content/data/data/SeaLake_1842.jpg  \n",
            "  inflating: /content/data/data/SeaLake_1843.jpg  \n",
            "  inflating: /content/data/data/SeaLake_1844.jpg  \n",
            "  inflating: /content/data/data/SeaLake_1845.jpg  \n",
            "  inflating: /content/data/data/SeaLake_1846.jpg  \n",
            "  inflating: /content/data/data/SeaLake_1847.jpg  \n",
            "  inflating: /content/data/data/SeaLake_1848.jpg  \n",
            "  inflating: /content/data/data/SeaLake_1849.jpg  \n",
            "  inflating: /content/data/data/SeaLake_185.jpg  \n",
            "  inflating: /content/data/data/SeaLake_1850.jpg  \n",
            "  inflating: /content/data/data/SeaLake_1851.jpg  \n",
            "  inflating: /content/data/data/SeaLake_1852.jpg  \n",
            "  inflating: /content/data/data/SeaLake_1853.jpg  \n",
            "  inflating: /content/data/data/SeaLake_1854.jpg  \n",
            "  inflating: /content/data/data/SeaLake_1855.jpg  \n",
            "  inflating: /content/data/data/SeaLake_1856.jpg  \n",
            "  inflating: /content/data/data/SeaLake_1857.jpg  \n",
            "  inflating: /content/data/data/SeaLake_1858.jpg  \n",
            "  inflating: /content/data/data/SeaLake_1859.jpg  \n",
            "  inflating: /content/data/data/SeaLake_186.jpg  \n",
            "  inflating: /content/data/data/SeaLake_1860.jpg  \n",
            "  inflating: /content/data/data/SeaLake_1861.jpg  \n",
            "  inflating: /content/data/data/SeaLake_1862.jpg  \n",
            "  inflating: /content/data/data/SeaLake_1863.jpg  \n",
            "  inflating: /content/data/data/SeaLake_1864.jpg  \n",
            "  inflating: /content/data/data/SeaLake_1865.jpg  \n",
            "  inflating: /content/data/data/SeaLake_1866.jpg  \n",
            "  inflating: /content/data/data/SeaLake_1867.jpg  \n",
            "  inflating: /content/data/data/SeaLake_1868.jpg  \n",
            "  inflating: /content/data/data/SeaLake_1869.jpg  \n",
            "  inflating: /content/data/data/SeaLake_187.jpg  \n",
            "  inflating: /content/data/data/SeaLake_1870.jpg  \n",
            "  inflating: /content/data/data/SeaLake_1871.jpg  \n",
            "  inflating: /content/data/data/SeaLake_1872.jpg  \n",
            "  inflating: /content/data/data/SeaLake_1873.jpg  \n",
            "  inflating: /content/data/data/SeaLake_1874.jpg  \n",
            "  inflating: /content/data/data/SeaLake_1875.jpg  \n",
            "  inflating: /content/data/data/SeaLake_1876.jpg  \n",
            "  inflating: /content/data/data/SeaLake_1877.jpg  \n",
            "  inflating: /content/data/data/SeaLake_1878.jpg  \n",
            "  inflating: /content/data/data/SeaLake_1879.jpg  \n",
            "  inflating: /content/data/data/SeaLake_188.jpg  \n",
            "  inflating: /content/data/data/SeaLake_1880.jpg  \n",
            "  inflating: /content/data/data/SeaLake_1881.jpg  \n",
            "  inflating: /content/data/data/SeaLake_1882.jpg  \n",
            "  inflating: /content/data/data/SeaLake_1883.jpg  \n",
            "  inflating: /content/data/data/SeaLake_1884.jpg  \n",
            "  inflating: /content/data/data/SeaLake_1885.jpg  \n",
            "  inflating: /content/data/data/SeaLake_1886.jpg  \n",
            "  inflating: /content/data/data/SeaLake_1887.jpg  \n",
            "  inflating: /content/data/data/SeaLake_1888.jpg  \n",
            "  inflating: /content/data/data/SeaLake_1889.jpg  \n",
            "  inflating: /content/data/data/SeaLake_189.jpg  \n",
            "  inflating: /content/data/data/SeaLake_1890.jpg  \n",
            "  inflating: /content/data/data/SeaLake_1891.jpg  \n",
            "  inflating: /content/data/data/SeaLake_1892.jpg  \n",
            "  inflating: /content/data/data/SeaLake_1893.jpg  \n",
            "  inflating: /content/data/data/SeaLake_1894.jpg  \n",
            "  inflating: /content/data/data/SeaLake_1895.jpg  \n",
            "  inflating: /content/data/data/SeaLake_1896.jpg  \n",
            "  inflating: /content/data/data/SeaLake_1897.jpg  \n",
            "  inflating: /content/data/data/SeaLake_1898.jpg  \n",
            "  inflating: /content/data/data/SeaLake_1899.jpg  \n",
            "  inflating: /content/data/data/SeaLake_19.jpg  \n",
            "  inflating: /content/data/data/SeaLake_190.jpg  \n",
            "  inflating: /content/data/data/SeaLake_1900.jpg  \n",
            "  inflating: /content/data/data/SeaLake_1901.jpg  \n",
            "  inflating: /content/data/data/SeaLake_1902.jpg  \n",
            "  inflating: /content/data/data/SeaLake_1903.jpg  \n",
            "  inflating: /content/data/data/SeaLake_1904.jpg  \n",
            "  inflating: /content/data/data/SeaLake_1905.jpg  \n",
            "  inflating: /content/data/data/SeaLake_1906.jpg  \n",
            "  inflating: /content/data/data/SeaLake_1907.jpg  \n",
            "  inflating: /content/data/data/SeaLake_1908.jpg  \n",
            "  inflating: /content/data/data/SeaLake_1909.jpg  \n",
            "  inflating: /content/data/data/SeaLake_191.jpg  \n",
            "  inflating: /content/data/data/SeaLake_1910.jpg  \n",
            "  inflating: /content/data/data/SeaLake_1911.jpg  \n",
            "  inflating: /content/data/data/SeaLake_1912.jpg  \n",
            "  inflating: /content/data/data/SeaLake_1913.jpg  \n",
            "  inflating: /content/data/data/SeaLake_1914.jpg  \n",
            "  inflating: /content/data/data/SeaLake_1915.jpg  \n",
            "  inflating: /content/data/data/SeaLake_1916.jpg  \n",
            "  inflating: /content/data/data/SeaLake_1917.jpg  \n",
            "  inflating: /content/data/data/SeaLake_1918.jpg  \n",
            "  inflating: /content/data/data/SeaLake_1919.jpg  \n",
            "  inflating: /content/data/data/SeaLake_192.jpg  \n",
            "  inflating: /content/data/data/SeaLake_1920.jpg  \n",
            "  inflating: /content/data/data/SeaLake_1921.jpg  \n",
            "  inflating: /content/data/data/SeaLake_1922.jpg  \n",
            "  inflating: /content/data/data/SeaLake_1923.jpg  \n",
            "  inflating: /content/data/data/SeaLake_1924.jpg  \n",
            "  inflating: /content/data/data/SeaLake_1925.jpg  \n",
            "  inflating: /content/data/data/SeaLake_1926.jpg  \n",
            "  inflating: /content/data/data/SeaLake_1927.jpg  \n",
            "  inflating: /content/data/data/SeaLake_1928.jpg  \n",
            "  inflating: /content/data/data/SeaLake_1929.jpg  \n",
            "  inflating: /content/data/data/SeaLake_193.jpg  \n",
            "  inflating: /content/data/data/SeaLake_1930.jpg  \n",
            "  inflating: /content/data/data/SeaLake_1931.jpg  \n",
            "  inflating: /content/data/data/SeaLake_1932.jpg  \n",
            "  inflating: /content/data/data/SeaLake_1933.jpg  \n",
            "  inflating: /content/data/data/SeaLake_1934.jpg  \n",
            "  inflating: /content/data/data/SeaLake_1935.jpg  \n",
            "  inflating: /content/data/data/SeaLake_1936.jpg  \n",
            "  inflating: /content/data/data/SeaLake_1937.jpg  \n",
            "  inflating: /content/data/data/SeaLake_1938.jpg  \n",
            "  inflating: /content/data/data/SeaLake_1939.jpg  \n",
            "  inflating: /content/data/data/SeaLake_194.jpg  \n",
            "  inflating: /content/data/data/SeaLake_1940.jpg  \n",
            "  inflating: /content/data/data/SeaLake_1941.jpg  \n",
            "  inflating: /content/data/data/SeaLake_1942.jpg  \n",
            "  inflating: /content/data/data/SeaLake_1943.jpg  \n",
            "  inflating: /content/data/data/SeaLake_1944.jpg  \n",
            "  inflating: /content/data/data/SeaLake_1945.jpg  \n",
            "  inflating: /content/data/data/SeaLake_1946.jpg  \n",
            "  inflating: /content/data/data/SeaLake_1947.jpg  \n",
            "  inflating: /content/data/data/SeaLake_1948.jpg  \n",
            "  inflating: /content/data/data/SeaLake_1949.jpg  \n",
            "  inflating: /content/data/data/SeaLake_195.jpg  \n",
            "  inflating: /content/data/data/SeaLake_1950.jpg  \n",
            "  inflating: /content/data/data/SeaLake_1951.jpg  \n",
            "  inflating: /content/data/data/SeaLake_1952.jpg  \n",
            "  inflating: /content/data/data/SeaLake_1953.jpg  \n",
            "  inflating: /content/data/data/SeaLake_1954.jpg  \n",
            "  inflating: /content/data/data/SeaLake_1955.jpg  \n",
            "  inflating: /content/data/data/SeaLake_1956.jpg  \n",
            "  inflating: /content/data/data/SeaLake_1957.jpg  \n",
            "  inflating: /content/data/data/SeaLake_1958.jpg  \n",
            "  inflating: /content/data/data/SeaLake_1959.jpg  \n",
            "  inflating: /content/data/data/SeaLake_196.jpg  \n",
            "  inflating: /content/data/data/SeaLake_1960.jpg  \n",
            "  inflating: /content/data/data/SeaLake_1961.jpg  \n",
            "  inflating: /content/data/data/SeaLake_1962.jpg  \n",
            "  inflating: /content/data/data/SeaLake_1963.jpg  \n",
            "  inflating: /content/data/data/SeaLake_1964.jpg  \n",
            "  inflating: /content/data/data/SeaLake_1965.jpg  \n",
            "  inflating: /content/data/data/SeaLake_1966.jpg  \n",
            "  inflating: /content/data/data/SeaLake_1967.jpg  \n",
            "  inflating: /content/data/data/SeaLake_1968.jpg  \n",
            "  inflating: /content/data/data/SeaLake_1969.jpg  \n",
            "  inflating: /content/data/data/SeaLake_197.jpg  \n",
            "  inflating: /content/data/data/SeaLake_1970.jpg  \n",
            "  inflating: /content/data/data/SeaLake_1971.jpg  \n",
            "  inflating: /content/data/data/SeaLake_1972.jpg  \n",
            "  inflating: /content/data/data/SeaLake_1973.jpg  \n",
            "  inflating: /content/data/data/SeaLake_1974.jpg  \n",
            "  inflating: /content/data/data/SeaLake_1975.jpg  \n",
            "  inflating: /content/data/data/SeaLake_1976.jpg  \n",
            "  inflating: /content/data/data/SeaLake_1977.jpg  \n",
            "  inflating: /content/data/data/SeaLake_1978.jpg  \n",
            "  inflating: /content/data/data/SeaLake_1979.jpg  \n",
            "  inflating: /content/data/data/SeaLake_198.jpg  \n",
            "  inflating: /content/data/data/SeaLake_1980.jpg  \n",
            "  inflating: /content/data/data/SeaLake_1981.jpg  \n",
            "  inflating: /content/data/data/SeaLake_1982.jpg  \n",
            "  inflating: /content/data/data/SeaLake_1983.jpg  \n",
            "  inflating: /content/data/data/SeaLake_1984.jpg  \n",
            "  inflating: /content/data/data/SeaLake_1985.jpg  \n",
            "  inflating: /content/data/data/SeaLake_1986.jpg  \n",
            "  inflating: /content/data/data/SeaLake_1987.jpg  \n",
            "  inflating: /content/data/data/SeaLake_1988.jpg  \n",
            "  inflating: /content/data/data/SeaLake_1989.jpg  \n",
            "  inflating: /content/data/data/SeaLake_199.jpg  \n",
            "  inflating: /content/data/data/SeaLake_1990.jpg  \n",
            "  inflating: /content/data/data/SeaLake_1991.jpg  \n",
            "  inflating: /content/data/data/SeaLake_1992.jpg  \n",
            "  inflating: /content/data/data/SeaLake_1993.jpg  \n",
            "  inflating: /content/data/data/SeaLake_1994.jpg  \n",
            "  inflating: /content/data/data/SeaLake_1995.jpg  \n",
            "  inflating: /content/data/data/SeaLake_1996.jpg  \n",
            "  inflating: /content/data/data/SeaLake_1997.jpg  \n",
            "  inflating: /content/data/data/SeaLake_1998.jpg  \n",
            "  inflating: /content/data/data/SeaLake_1999.jpg  \n",
            "  inflating: /content/data/data/SeaLake_2.jpg  \n",
            "  inflating: /content/data/data/SeaLake_20.jpg  \n",
            "  inflating: /content/data/data/SeaLake_200.jpg  \n",
            "  inflating: /content/data/data/SeaLake_2000.jpg  \n",
            "  inflating: /content/data/data/SeaLake_2001.jpg  \n",
            "  inflating: /content/data/data/SeaLake_2002.jpg  \n",
            "  inflating: /content/data/data/SeaLake_2003.jpg  \n",
            "  inflating: /content/data/data/SeaLake_2004.jpg  \n",
            "  inflating: /content/data/data/SeaLake_2005.jpg  \n",
            "  inflating: /content/data/data/SeaLake_2006.jpg  \n",
            "  inflating: /content/data/data/SeaLake_2007.jpg  \n",
            "  inflating: /content/data/data/SeaLake_2008.jpg  \n",
            "  inflating: /content/data/data/SeaLake_2009.jpg  \n",
            "  inflating: /content/data/data/SeaLake_201.jpg  \n",
            "  inflating: /content/data/data/SeaLake_2010.jpg  \n",
            "  inflating: /content/data/data/SeaLake_2011.jpg  \n",
            "  inflating: /content/data/data/SeaLake_2012.jpg  \n",
            "  inflating: /content/data/data/SeaLake_2013.jpg  \n",
            "  inflating: /content/data/data/SeaLake_2014.jpg  \n",
            "  inflating: /content/data/data/SeaLake_2015.jpg  \n",
            "  inflating: /content/data/data/SeaLake_2016.jpg  \n",
            "  inflating: /content/data/data/SeaLake_2017.jpg  \n",
            "  inflating: /content/data/data/SeaLake_2018.jpg  \n",
            "  inflating: /content/data/data/SeaLake_2019.jpg  \n",
            "  inflating: /content/data/data/SeaLake_202.jpg  \n",
            "  inflating: /content/data/data/SeaLake_2020.jpg  \n",
            "  inflating: /content/data/data/SeaLake_2021.jpg  \n",
            "  inflating: /content/data/data/SeaLake_2022.jpg  \n",
            "  inflating: /content/data/data/SeaLake_2023.jpg  \n",
            "  inflating: /content/data/data/SeaLake_2024.jpg  \n",
            "  inflating: /content/data/data/SeaLake_2025.jpg  \n",
            "  inflating: /content/data/data/SeaLake_2026.jpg  \n",
            "  inflating: /content/data/data/SeaLake_2027.jpg  \n",
            "  inflating: /content/data/data/SeaLake_2028.jpg  \n",
            "  inflating: /content/data/data/SeaLake_2029.jpg  \n",
            "  inflating: /content/data/data/SeaLake_203.jpg  \n",
            "  inflating: /content/data/data/SeaLake_2030.jpg  \n",
            "  inflating: /content/data/data/SeaLake_2031.jpg  \n",
            "  inflating: /content/data/data/SeaLake_2032.jpg  \n",
            "  inflating: /content/data/data/SeaLake_2033.jpg  \n",
            "  inflating: /content/data/data/SeaLake_2034.jpg  \n",
            "  inflating: /content/data/data/SeaLake_2035.jpg  \n",
            "  inflating: /content/data/data/SeaLake_2036.jpg  \n",
            "  inflating: /content/data/data/SeaLake_2037.jpg  \n",
            "  inflating: /content/data/data/SeaLake_2038.jpg  \n",
            "  inflating: /content/data/data/SeaLake_2039.jpg  \n",
            "  inflating: /content/data/data/SeaLake_204.jpg  \n",
            "  inflating: /content/data/data/SeaLake_2040.jpg  \n",
            "  inflating: /content/data/data/SeaLake_2041.jpg  \n",
            "  inflating: /content/data/data/SeaLake_2042.jpg  \n",
            "  inflating: /content/data/data/SeaLake_2043.jpg  \n",
            "  inflating: /content/data/data/SeaLake_2044.jpg  \n",
            "  inflating: /content/data/data/SeaLake_2045.jpg  \n",
            "  inflating: /content/data/data/SeaLake_2046.jpg  \n",
            "  inflating: /content/data/data/SeaLake_2047.jpg  \n",
            "  inflating: /content/data/data/SeaLake_2048.jpg  \n",
            "  inflating: /content/data/data/SeaLake_2049.jpg  \n",
            "  inflating: /content/data/data/SeaLake_205.jpg  \n",
            "  inflating: /content/data/data/SeaLake_2050.jpg  \n",
            "  inflating: /content/data/data/SeaLake_2051.jpg  \n",
            "  inflating: /content/data/data/SeaLake_2052.jpg  \n",
            "  inflating: /content/data/data/SeaLake_2053.jpg  \n",
            "  inflating: /content/data/data/SeaLake_2054.jpg  \n",
            "  inflating: /content/data/data/SeaLake_2055.jpg  \n",
            "  inflating: /content/data/data/SeaLake_2056.jpg  \n",
            "  inflating: /content/data/data/SeaLake_2057.jpg  \n",
            "  inflating: /content/data/data/SeaLake_2058.jpg  \n",
            "  inflating: /content/data/data/SeaLake_2059.jpg  \n",
            "  inflating: /content/data/data/SeaLake_206.jpg  \n",
            "  inflating: /content/data/data/SeaLake_2060.jpg  \n",
            "  inflating: /content/data/data/SeaLake_2061.jpg  \n",
            "  inflating: /content/data/data/SeaLake_2062.jpg  \n",
            "  inflating: /content/data/data/SeaLake_2063.jpg  \n",
            "  inflating: /content/data/data/SeaLake_2064.jpg  \n",
            "  inflating: /content/data/data/SeaLake_2065.jpg  \n",
            "  inflating: /content/data/data/SeaLake_2066.jpg  \n",
            "  inflating: /content/data/data/SeaLake_2067.jpg  \n",
            "  inflating: /content/data/data/SeaLake_2068.jpg  \n",
            "  inflating: /content/data/data/SeaLake_2069.jpg  \n",
            "  inflating: /content/data/data/SeaLake_207.jpg  \n",
            "  inflating: /content/data/data/SeaLake_2070.jpg  \n",
            "  inflating: /content/data/data/SeaLake_2071.jpg  \n",
            "  inflating: /content/data/data/SeaLake_2072.jpg  \n",
            "  inflating: /content/data/data/SeaLake_2073.jpg  \n",
            "  inflating: /content/data/data/SeaLake_2074.jpg  \n",
            "  inflating: /content/data/data/SeaLake_2075.jpg  \n",
            "  inflating: /content/data/data/SeaLake_2076.jpg  \n",
            "  inflating: /content/data/data/SeaLake_2077.jpg  \n",
            "  inflating: /content/data/data/SeaLake_2078.jpg  \n",
            "  inflating: /content/data/data/SeaLake_2079.jpg  \n",
            "  inflating: /content/data/data/SeaLake_208.jpg  \n",
            "  inflating: /content/data/data/SeaLake_2080.jpg  \n",
            "  inflating: /content/data/data/SeaLake_2081.jpg  \n",
            "  inflating: /content/data/data/SeaLake_2082.jpg  \n",
            "  inflating: /content/data/data/SeaLake_2083.jpg  \n",
            "  inflating: /content/data/data/SeaLake_2084.jpg  \n",
            "  inflating: /content/data/data/SeaLake_2085.jpg  \n",
            "  inflating: /content/data/data/SeaLake_2086.jpg  \n",
            "  inflating: /content/data/data/SeaLake_2087.jpg  \n",
            "  inflating: /content/data/data/SeaLake_2088.jpg  \n",
            "  inflating: /content/data/data/SeaLake_2089.jpg  \n",
            "  inflating: /content/data/data/SeaLake_209.jpg  \n",
            "  inflating: /content/data/data/SeaLake_2090.jpg  \n",
            "  inflating: /content/data/data/SeaLake_2091.jpg  \n",
            "  inflating: /content/data/data/SeaLake_2092.jpg  \n",
            "  inflating: /content/data/data/SeaLake_2093.jpg  \n",
            "  inflating: /content/data/data/SeaLake_2094.jpg  \n",
            "  inflating: /content/data/data/SeaLake_2095.jpg  \n",
            "  inflating: /content/data/data/SeaLake_2096.jpg  \n",
            "  inflating: /content/data/data/SeaLake_2097.jpg  \n",
            "  inflating: /content/data/data/SeaLake_2098.jpg  \n",
            "  inflating: /content/data/data/SeaLake_2099.jpg  \n",
            "  inflating: /content/data/data/SeaLake_21.jpg  \n",
            "  inflating: /content/data/data/SeaLake_210.jpg  \n",
            "  inflating: /content/data/data/SeaLake_2100.jpg  \n",
            "  inflating: /content/data/data/SeaLake_2101.jpg  \n",
            "  inflating: /content/data/data/SeaLake_2102.jpg  \n",
            "  inflating: /content/data/data/SeaLake_2103.jpg  \n",
            "  inflating: /content/data/data/SeaLake_2104.jpg  \n",
            "  inflating: /content/data/data/SeaLake_2105.jpg  \n",
            "  inflating: /content/data/data/SeaLake_2106.jpg  \n",
            "  inflating: /content/data/data/SeaLake_2107.jpg  \n",
            "  inflating: /content/data/data/SeaLake_2108.jpg  \n",
            "  inflating: /content/data/data/SeaLake_2109.jpg  \n",
            "  inflating: /content/data/data/SeaLake_211.jpg  \n",
            "  inflating: /content/data/data/SeaLake_2110.jpg  \n",
            "  inflating: /content/data/data/SeaLake_2111.jpg  \n",
            "  inflating: /content/data/data/SeaLake_2112.jpg  \n",
            "  inflating: /content/data/data/SeaLake_2113.jpg  \n",
            "  inflating: /content/data/data/SeaLake_2114.jpg  \n",
            "  inflating: /content/data/data/SeaLake_2115.jpg  \n",
            "  inflating: /content/data/data/SeaLake_2116.jpg  \n",
            "  inflating: /content/data/data/SeaLake_2117.jpg  \n",
            "  inflating: /content/data/data/SeaLake_2118.jpg  \n",
            "  inflating: /content/data/data/SeaLake_2119.jpg  \n",
            "  inflating: /content/data/data/SeaLake_212.jpg  \n",
            "  inflating: /content/data/data/SeaLake_2120.jpg  \n",
            "  inflating: /content/data/data/SeaLake_2121.jpg  \n",
            "  inflating: /content/data/data/SeaLake_2122.jpg  \n",
            "  inflating: /content/data/data/SeaLake_2123.jpg  \n",
            "  inflating: /content/data/data/SeaLake_2124.jpg  \n",
            "  inflating: /content/data/data/SeaLake_2125.jpg  \n",
            "  inflating: /content/data/data/SeaLake_2126.jpg  \n",
            "  inflating: /content/data/data/SeaLake_2127.jpg  \n",
            "  inflating: /content/data/data/SeaLake_2128.jpg  \n",
            "  inflating: /content/data/data/SeaLake_2129.jpg  \n",
            "  inflating: /content/data/data/SeaLake_213.jpg  \n",
            "  inflating: /content/data/data/SeaLake_2130.jpg  \n",
            "  inflating: /content/data/data/SeaLake_2131.jpg  \n",
            "  inflating: /content/data/data/SeaLake_2132.jpg  \n",
            "  inflating: /content/data/data/SeaLake_2133.jpg  \n",
            "  inflating: /content/data/data/SeaLake_2134.jpg  \n",
            "  inflating: /content/data/data/SeaLake_2135.jpg  \n",
            "  inflating: /content/data/data/SeaLake_2136.jpg  \n",
            "  inflating: /content/data/data/SeaLake_2137.jpg  \n",
            "  inflating: /content/data/data/SeaLake_2138.jpg  \n",
            "  inflating: /content/data/data/SeaLake_2139.jpg  \n",
            "  inflating: /content/data/data/SeaLake_214.jpg  \n",
            "  inflating: /content/data/data/SeaLake_2140.jpg  \n",
            "  inflating: /content/data/data/SeaLake_2141.jpg  \n",
            "  inflating: /content/data/data/SeaLake_2142.jpg  \n",
            "  inflating: /content/data/data/SeaLake_2143.jpg  \n",
            "  inflating: /content/data/data/SeaLake_2144.jpg  \n",
            "  inflating: /content/data/data/SeaLake_2145.jpg  \n",
            "  inflating: /content/data/data/SeaLake_2146.jpg  \n",
            "  inflating: /content/data/data/SeaLake_2147.jpg  \n",
            "  inflating: /content/data/data/SeaLake_2148.jpg  \n",
            "  inflating: /content/data/data/SeaLake_2149.jpg  \n",
            "  inflating: /content/data/data/SeaLake_215.jpg  \n",
            "  inflating: /content/data/data/SeaLake_2150.jpg  \n",
            "  inflating: /content/data/data/SeaLake_2151.jpg  \n",
            "  inflating: /content/data/data/SeaLake_2152.jpg  \n",
            "  inflating: /content/data/data/SeaLake_2153.jpg  \n",
            "  inflating: /content/data/data/SeaLake_2154.jpg  \n",
            "  inflating: /content/data/data/SeaLake_2155.jpg  \n",
            "  inflating: /content/data/data/SeaLake_2156.jpg  \n",
            "  inflating: /content/data/data/SeaLake_2157.jpg  \n",
            "  inflating: /content/data/data/SeaLake_2158.jpg  \n",
            "  inflating: /content/data/data/SeaLake_2159.jpg  \n",
            "  inflating: /content/data/data/SeaLake_216.jpg  \n",
            "  inflating: /content/data/data/SeaLake_2160.jpg  \n",
            "  inflating: /content/data/data/SeaLake_2161.jpg  \n",
            "  inflating: /content/data/data/SeaLake_2162.jpg  \n",
            "  inflating: /content/data/data/SeaLake_2163.jpg  \n",
            "  inflating: /content/data/data/SeaLake_2164.jpg  \n",
            "  inflating: /content/data/data/SeaLake_2165.jpg  \n",
            "  inflating: /content/data/data/SeaLake_2166.jpg  \n",
            "  inflating: /content/data/data/SeaLake_2167.jpg  \n",
            "  inflating: /content/data/data/SeaLake_2168.jpg  \n",
            "  inflating: /content/data/data/SeaLake_2169.jpg  \n",
            "  inflating: /content/data/data/SeaLake_217.jpg  \n",
            "  inflating: /content/data/data/SeaLake_2170.jpg  \n",
            "  inflating: /content/data/data/SeaLake_2171.jpg  \n",
            "  inflating: /content/data/data/SeaLake_2172.jpg  \n",
            "  inflating: /content/data/data/SeaLake_2173.jpg  \n",
            "  inflating: /content/data/data/SeaLake_2174.jpg  \n",
            "  inflating: /content/data/data/SeaLake_2175.jpg  \n",
            "  inflating: /content/data/data/SeaLake_2176.jpg  \n",
            "  inflating: /content/data/data/SeaLake_2177.jpg  \n",
            "  inflating: /content/data/data/SeaLake_2178.jpg  \n",
            "  inflating: /content/data/data/SeaLake_2179.jpg  \n",
            "  inflating: /content/data/data/SeaLake_218.jpg  \n",
            "  inflating: /content/data/data/SeaLake_2180.jpg  \n",
            "  inflating: /content/data/data/SeaLake_2181.jpg  \n",
            "  inflating: /content/data/data/SeaLake_2182.jpg  \n",
            "  inflating: /content/data/data/SeaLake_2183.jpg  \n",
            "  inflating: /content/data/data/SeaLake_2184.jpg  \n",
            "  inflating: /content/data/data/SeaLake_2185.jpg  \n",
            "  inflating: /content/data/data/SeaLake_2186.jpg  \n",
            "  inflating: /content/data/data/SeaLake_2187.jpg  \n",
            "  inflating: /content/data/data/SeaLake_2188.jpg  \n",
            "  inflating: /content/data/data/SeaLake_2189.jpg  \n",
            "  inflating: /content/data/data/SeaLake_219.jpg  \n",
            "  inflating: /content/data/data/SeaLake_2190.jpg  \n",
            "  inflating: /content/data/data/SeaLake_2191.jpg  \n",
            "  inflating: /content/data/data/SeaLake_2192.jpg  \n",
            "  inflating: /content/data/data/SeaLake_2193.jpg  \n",
            "  inflating: /content/data/data/SeaLake_2194.jpg  \n",
            "  inflating: /content/data/data/SeaLake_2195.jpg  \n",
            "  inflating: /content/data/data/SeaLake_2196.jpg  \n",
            "  inflating: /content/data/data/SeaLake_2197.jpg  \n",
            "  inflating: /content/data/data/SeaLake_2198.jpg  \n",
            "  inflating: /content/data/data/SeaLake_2199.jpg  \n",
            "  inflating: /content/data/data/SeaLake_22.jpg  \n",
            "  inflating: /content/data/data/SeaLake_220.jpg  \n",
            "  inflating: /content/data/data/SeaLake_2200.jpg  \n",
            "  inflating: /content/data/data/SeaLake_2201.jpg  \n",
            "  inflating: /content/data/data/SeaLake_2202.jpg  \n",
            "  inflating: /content/data/data/SeaLake_2203.jpg  \n",
            "  inflating: /content/data/data/SeaLake_2204.jpg  \n",
            "  inflating: /content/data/data/SeaLake_2205.jpg  \n",
            "  inflating: /content/data/data/SeaLake_2206.jpg  \n",
            "  inflating: /content/data/data/SeaLake_2207.jpg  \n",
            "  inflating: /content/data/data/SeaLake_2208.jpg  \n",
            "  inflating: /content/data/data/SeaLake_2209.jpg  \n",
            "  inflating: /content/data/data/SeaLake_221.jpg  \n",
            "  inflating: /content/data/data/SeaLake_2210.jpg  \n",
            "  inflating: /content/data/data/SeaLake_2211.jpg  \n",
            "  inflating: /content/data/data/SeaLake_2212.jpg  \n",
            "  inflating: /content/data/data/SeaLake_2213.jpg  \n",
            "  inflating: /content/data/data/SeaLake_2214.jpg  \n",
            "  inflating: /content/data/data/SeaLake_2215.jpg  \n",
            "  inflating: /content/data/data/SeaLake_2216.jpg  \n",
            "  inflating: /content/data/data/SeaLake_2217.jpg  \n",
            "  inflating: /content/data/data/SeaLake_2218.jpg  \n",
            "  inflating: /content/data/data/SeaLake_2219.jpg  \n",
            "  inflating: /content/data/data/SeaLake_222.jpg  \n",
            "  inflating: /content/data/data/SeaLake_2220.jpg  \n",
            "  inflating: /content/data/data/SeaLake_2221.jpg  \n",
            "  inflating: /content/data/data/SeaLake_2222.jpg  \n",
            "  inflating: /content/data/data/SeaLake_2223.jpg  \n",
            "  inflating: /content/data/data/SeaLake_2224.jpg  \n",
            "  inflating: /content/data/data/SeaLake_2225.jpg  \n",
            "  inflating: /content/data/data/SeaLake_2226.jpg  \n",
            "  inflating: /content/data/data/SeaLake_2227.jpg  \n",
            "  inflating: /content/data/data/SeaLake_2228.jpg  \n",
            "  inflating: /content/data/data/SeaLake_2229.jpg  \n",
            "  inflating: /content/data/data/SeaLake_223.jpg  \n",
            "  inflating: /content/data/data/SeaLake_2230.jpg  \n",
            "  inflating: /content/data/data/SeaLake_2231.jpg  \n",
            "  inflating: /content/data/data/SeaLake_2232.jpg  \n",
            "  inflating: /content/data/data/SeaLake_2233.jpg  \n",
            "  inflating: /content/data/data/SeaLake_2234.jpg  \n",
            "  inflating: /content/data/data/SeaLake_2235.jpg  \n",
            "  inflating: /content/data/data/SeaLake_2236.jpg  \n",
            "  inflating: /content/data/data/SeaLake_2237.jpg  \n",
            "  inflating: /content/data/data/SeaLake_2238.jpg  \n",
            "  inflating: /content/data/data/SeaLake_2239.jpg  \n",
            "  inflating: /content/data/data/SeaLake_224.jpg  \n",
            "  inflating: /content/data/data/SeaLake_2240.jpg  \n",
            "  inflating: /content/data/data/SeaLake_2241.jpg  \n",
            "  inflating: /content/data/data/SeaLake_2242.jpg  \n",
            "  inflating: /content/data/data/SeaLake_2243.jpg  \n",
            "  inflating: /content/data/data/SeaLake_2244.jpg  \n",
            "  inflating: /content/data/data/SeaLake_2245.jpg  \n",
            "  inflating: /content/data/data/SeaLake_2246.jpg  \n",
            "  inflating: /content/data/data/SeaLake_2247.jpg  \n",
            "  inflating: /content/data/data/SeaLake_2248.jpg  \n",
            "  inflating: /content/data/data/SeaLake_2249.jpg  \n",
            "  inflating: /content/data/data/SeaLake_225.jpg  \n",
            "  inflating: /content/data/data/SeaLake_2250.jpg  \n",
            "  inflating: /content/data/data/SeaLake_2251.jpg  \n",
            "  inflating: /content/data/data/SeaLake_2252.jpg  \n",
            "  inflating: /content/data/data/SeaLake_2253.jpg  \n",
            "  inflating: /content/data/data/SeaLake_2254.jpg  \n",
            "  inflating: /content/data/data/SeaLake_2255.jpg  \n",
            "  inflating: /content/data/data/SeaLake_2256.jpg  \n",
            "  inflating: /content/data/data/SeaLake_2257.jpg  \n",
            "  inflating: /content/data/data/SeaLake_2258.jpg  \n",
            "  inflating: /content/data/data/SeaLake_2259.jpg  \n",
            "  inflating: /content/data/data/SeaLake_226.jpg  \n",
            "  inflating: /content/data/data/SeaLake_2260.jpg  \n",
            "  inflating: /content/data/data/SeaLake_2261.jpg  \n",
            "  inflating: /content/data/data/SeaLake_2262.jpg  \n",
            "  inflating: /content/data/data/SeaLake_2263.jpg  \n",
            "  inflating: /content/data/data/SeaLake_2264.jpg  \n",
            "  inflating: /content/data/data/SeaLake_2265.jpg  \n",
            "  inflating: /content/data/data/SeaLake_2266.jpg  \n",
            "  inflating: /content/data/data/SeaLake_2267.jpg  \n",
            "  inflating: /content/data/data/SeaLake_2268.jpg  \n",
            "  inflating: /content/data/data/SeaLake_2269.jpg  \n",
            "  inflating: /content/data/data/SeaLake_227.jpg  \n",
            "  inflating: /content/data/data/SeaLake_2270.jpg  \n",
            "  inflating: /content/data/data/SeaLake_2271.jpg  \n",
            "  inflating: /content/data/data/SeaLake_2272.jpg  \n",
            "  inflating: /content/data/data/SeaLake_2273.jpg  \n",
            "  inflating: /content/data/data/SeaLake_2274.jpg  \n",
            "  inflating: /content/data/data/SeaLake_2275.jpg  \n",
            "  inflating: /content/data/data/SeaLake_2276.jpg  \n",
            "  inflating: /content/data/data/SeaLake_2277.jpg  \n",
            "  inflating: /content/data/data/SeaLake_2278.jpg  \n",
            "  inflating: /content/data/data/SeaLake_2279.jpg  \n",
            "  inflating: /content/data/data/SeaLake_228.jpg  \n",
            "  inflating: /content/data/data/SeaLake_2280.jpg  \n",
            "  inflating: /content/data/data/SeaLake_2281.jpg  \n",
            "  inflating: /content/data/data/SeaLake_2282.jpg  \n",
            "  inflating: /content/data/data/SeaLake_2283.jpg  \n",
            "  inflating: /content/data/data/SeaLake_2284.jpg  \n",
            "  inflating: /content/data/data/SeaLake_2285.jpg  \n",
            "  inflating: /content/data/data/SeaLake_2286.jpg  \n",
            "  inflating: /content/data/data/SeaLake_2287.jpg  \n",
            "  inflating: /content/data/data/SeaLake_2288.jpg  \n",
            "  inflating: /content/data/data/SeaLake_2289.jpg  \n",
            "  inflating: /content/data/data/SeaLake_229.jpg  \n",
            "  inflating: /content/data/data/SeaLake_2290.jpg  \n",
            "  inflating: /content/data/data/SeaLake_2291.jpg  \n",
            "  inflating: /content/data/data/SeaLake_2292.jpg  \n",
            "  inflating: /content/data/data/SeaLake_2293.jpg  \n",
            "  inflating: /content/data/data/SeaLake_2294.jpg  \n",
            "  inflating: /content/data/data/SeaLake_2295.jpg  \n",
            "  inflating: /content/data/data/SeaLake_2296.jpg  \n",
            "  inflating: /content/data/data/SeaLake_2297.jpg  \n",
            "  inflating: /content/data/data/SeaLake_2298.jpg  \n",
            "  inflating: /content/data/data/SeaLake_2299.jpg  \n",
            "  inflating: /content/data/data/SeaLake_23.jpg  \n",
            "  inflating: /content/data/data/SeaLake_230.jpg  \n",
            "  inflating: /content/data/data/SeaLake_2300.jpg  \n",
            "  inflating: /content/data/data/SeaLake_2301.jpg  \n",
            "  inflating: /content/data/data/SeaLake_2302.jpg  \n",
            "  inflating: /content/data/data/SeaLake_2303.jpg  \n",
            "  inflating: /content/data/data/SeaLake_2304.jpg  \n",
            "  inflating: /content/data/data/SeaLake_2305.jpg  \n",
            "  inflating: /content/data/data/SeaLake_2306.jpg  \n",
            "  inflating: /content/data/data/SeaLake_2307.jpg  \n",
            "  inflating: /content/data/data/SeaLake_2308.jpg  \n",
            "  inflating: /content/data/data/SeaLake_2309.jpg  \n",
            "  inflating: /content/data/data/SeaLake_231.jpg  \n",
            "  inflating: /content/data/data/SeaLake_2310.jpg  \n",
            "  inflating: /content/data/data/SeaLake_2311.jpg  \n",
            "  inflating: /content/data/data/SeaLake_2312.jpg  \n",
            "  inflating: /content/data/data/SeaLake_2313.jpg  \n",
            "  inflating: /content/data/data/SeaLake_2314.jpg  \n",
            "  inflating: /content/data/data/SeaLake_2315.jpg  \n",
            "  inflating: /content/data/data/SeaLake_2316.jpg  \n",
            "  inflating: /content/data/data/SeaLake_2317.jpg  \n",
            "  inflating: /content/data/data/SeaLake_2318.jpg  \n",
            "  inflating: /content/data/data/SeaLake_2319.jpg  \n",
            "  inflating: /content/data/data/SeaLake_232.jpg  \n",
            "  inflating: /content/data/data/SeaLake_2320.jpg  \n",
            "  inflating: /content/data/data/SeaLake_2321.jpg  \n",
            "  inflating: /content/data/data/SeaLake_2322.jpg  \n",
            "  inflating: /content/data/data/SeaLake_2323.jpg  \n",
            "  inflating: /content/data/data/SeaLake_2324.jpg  \n",
            "  inflating: /content/data/data/SeaLake_2325.jpg  \n",
            "  inflating: /content/data/data/SeaLake_2326.jpg  \n",
            "  inflating: /content/data/data/SeaLake_2327.jpg  \n",
            "  inflating: /content/data/data/SeaLake_2328.jpg  \n",
            "  inflating: /content/data/data/SeaLake_2329.jpg  \n",
            "  inflating: /content/data/data/SeaLake_233.jpg  \n",
            "  inflating: /content/data/data/SeaLake_2330.jpg  \n",
            "  inflating: /content/data/data/SeaLake_2331.jpg  \n",
            "  inflating: /content/data/data/SeaLake_2332.jpg  \n",
            "  inflating: /content/data/data/SeaLake_2333.jpg  \n",
            "  inflating: /content/data/data/SeaLake_2334.jpg  \n",
            "  inflating: /content/data/data/SeaLake_2335.jpg  \n",
            "  inflating: /content/data/data/SeaLake_2336.jpg  \n",
            "  inflating: /content/data/data/SeaLake_2337.jpg  \n",
            "  inflating: /content/data/data/SeaLake_2338.jpg  \n",
            "  inflating: /content/data/data/SeaLake_2339.jpg  \n",
            "  inflating: /content/data/data/SeaLake_234.jpg  \n",
            "  inflating: /content/data/data/SeaLake_2340.jpg  \n",
            "  inflating: /content/data/data/SeaLake_2341.jpg  \n",
            "  inflating: /content/data/data/SeaLake_2342.jpg  \n",
            "  inflating: /content/data/data/SeaLake_2343.jpg  \n",
            "  inflating: /content/data/data/SeaLake_2344.jpg  \n",
            "  inflating: /content/data/data/SeaLake_2345.jpg  \n",
            "  inflating: /content/data/data/SeaLake_2346.jpg  \n",
            "  inflating: /content/data/data/SeaLake_2347.jpg  \n",
            "  inflating: /content/data/data/SeaLake_2348.jpg  \n",
            "  inflating: /content/data/data/SeaLake_2349.jpg  \n",
            "  inflating: /content/data/data/SeaLake_235.jpg  \n",
            "  inflating: /content/data/data/SeaLake_2350.jpg  \n",
            "  inflating: /content/data/data/SeaLake_2351.jpg  \n",
            "  inflating: /content/data/data/SeaLake_2352.jpg  \n",
            "  inflating: /content/data/data/SeaLake_2353.jpg  \n",
            "  inflating: /content/data/data/SeaLake_2354.jpg  \n",
            "  inflating: /content/data/data/SeaLake_2355.jpg  \n",
            "  inflating: /content/data/data/SeaLake_2356.jpg  \n",
            "  inflating: /content/data/data/SeaLake_2357.jpg  \n",
            "  inflating: /content/data/data/SeaLake_2358.jpg  \n",
            "  inflating: /content/data/data/SeaLake_2359.jpg  \n",
            "  inflating: /content/data/data/SeaLake_236.jpg  \n",
            "  inflating: /content/data/data/SeaLake_2360.jpg  \n",
            "  inflating: /content/data/data/SeaLake_2361.jpg  \n",
            "  inflating: /content/data/data/SeaLake_2362.jpg  \n",
            "  inflating: /content/data/data/SeaLake_2363.jpg  \n",
            "  inflating: /content/data/data/SeaLake_2364.jpg  \n",
            "  inflating: /content/data/data/SeaLake_2365.jpg  \n",
            "  inflating: /content/data/data/SeaLake_2366.jpg  \n",
            "  inflating: /content/data/data/SeaLake_2367.jpg  \n",
            "  inflating: /content/data/data/SeaLake_2368.jpg  \n",
            "  inflating: /content/data/data/SeaLake_2369.jpg  \n",
            "  inflating: /content/data/data/SeaLake_237.jpg  \n",
            "  inflating: /content/data/data/SeaLake_2370.jpg  \n",
            "  inflating: /content/data/data/SeaLake_2371.jpg  \n",
            "  inflating: /content/data/data/SeaLake_2372.jpg  \n",
            "  inflating: /content/data/data/SeaLake_2373.jpg  \n",
            "  inflating: /content/data/data/SeaLake_2374.jpg  \n",
            "  inflating: /content/data/data/SeaLake_2375.jpg  \n",
            "  inflating: /content/data/data/SeaLake_2376.jpg  \n",
            "  inflating: /content/data/data/SeaLake_2377.jpg  \n",
            "  inflating: /content/data/data/SeaLake_2378.jpg  \n",
            "  inflating: /content/data/data/SeaLake_2379.jpg  \n",
            "  inflating: /content/data/data/SeaLake_238.jpg  \n",
            "  inflating: /content/data/data/SeaLake_2380.jpg  \n",
            "  inflating: /content/data/data/SeaLake_2381.jpg  \n",
            "  inflating: /content/data/data/SeaLake_2382.jpg  \n",
            "  inflating: /content/data/data/SeaLake_2383.jpg  \n",
            "  inflating: /content/data/data/SeaLake_2384.jpg  \n",
            "  inflating: /content/data/data/SeaLake_2385.jpg  \n",
            "  inflating: /content/data/data/SeaLake_2386.jpg  \n",
            "  inflating: /content/data/data/SeaLake_2387.jpg  \n",
            "  inflating: /content/data/data/SeaLake_2388.jpg  \n",
            "  inflating: /content/data/data/SeaLake_2389.jpg  \n",
            "  inflating: /content/data/data/SeaLake_239.jpg  \n",
            "  inflating: /content/data/data/SeaLake_2390.jpg  \n",
            "  inflating: /content/data/data/SeaLake_2391.jpg  \n",
            "  inflating: /content/data/data/SeaLake_2392.jpg  \n",
            "  inflating: /content/data/data/SeaLake_2393.jpg  \n",
            "  inflating: /content/data/data/SeaLake_2394.jpg  \n",
            "  inflating: /content/data/data/SeaLake_2395.jpg  \n",
            "  inflating: /content/data/data/SeaLake_2396.jpg  \n",
            "  inflating: /content/data/data/SeaLake_2397.jpg  \n",
            "  inflating: /content/data/data/SeaLake_2398.jpg  \n",
            "  inflating: /content/data/data/SeaLake_2399.jpg  \n",
            "  inflating: /content/data/data/SeaLake_24.jpg  \n",
            "  inflating: /content/data/data/SeaLake_240.jpg  \n",
            "  inflating: /content/data/data/SeaLake_2400.jpg  \n",
            "  inflating: /content/data/data/SeaLake_2401.jpg  \n",
            "  inflating: /content/data/data/SeaLake_2402.jpg  \n",
            "  inflating: /content/data/data/SeaLake_2403.jpg  \n",
            "  inflating: /content/data/data/SeaLake_2404.jpg  \n",
            "  inflating: /content/data/data/SeaLake_2405.jpg  \n",
            "  inflating: /content/data/data/SeaLake_2406.jpg  \n",
            "  inflating: /content/data/data/SeaLake_2407.jpg  \n",
            "  inflating: /content/data/data/SeaLake_2408.jpg  \n",
            "  inflating: /content/data/data/SeaLake_2409.jpg  \n",
            "  inflating: /content/data/data/SeaLake_241.jpg  \n",
            "  inflating: /content/data/data/SeaLake_2410.jpg  \n",
            "  inflating: /content/data/data/SeaLake_2411.jpg  \n",
            "  inflating: /content/data/data/SeaLake_2412.jpg  \n",
            "  inflating: /content/data/data/SeaLake_2413.jpg  \n",
            "  inflating: /content/data/data/SeaLake_2414.jpg  \n",
            "  inflating: /content/data/data/SeaLake_2415.jpg  \n",
            "  inflating: /content/data/data/SeaLake_2416.jpg  \n",
            "  inflating: /content/data/data/SeaLake_2417.jpg  \n",
            "  inflating: /content/data/data/SeaLake_2418.jpg  \n",
            "  inflating: /content/data/data/SeaLake_2419.jpg  \n",
            "  inflating: /content/data/data/SeaLake_242.jpg  \n",
            "  inflating: /content/data/data/SeaLake_2420.jpg  \n",
            "  inflating: /content/data/data/SeaLake_2421.jpg  \n",
            "  inflating: /content/data/data/SeaLake_2422.jpg  \n",
            "  inflating: /content/data/data/SeaLake_2423.jpg  \n",
            "  inflating: /content/data/data/SeaLake_2424.jpg  \n",
            "  inflating: /content/data/data/SeaLake_2425.jpg  \n",
            "  inflating: /content/data/data/SeaLake_2426.jpg  \n",
            "  inflating: /content/data/data/SeaLake_2427.jpg  \n",
            "  inflating: /content/data/data/SeaLake_2428.jpg  \n",
            "  inflating: /content/data/data/SeaLake_2429.jpg  \n",
            "  inflating: /content/data/data/SeaLake_243.jpg  \n",
            "  inflating: /content/data/data/SeaLake_2430.jpg  \n",
            "  inflating: /content/data/data/SeaLake_2431.jpg  \n",
            "  inflating: /content/data/data/SeaLake_2432.jpg  \n",
            "  inflating: /content/data/data/SeaLake_2433.jpg  \n",
            "  inflating: /content/data/data/SeaLake_2434.jpg  \n",
            "  inflating: /content/data/data/SeaLake_2435.jpg  \n",
            "  inflating: /content/data/data/SeaLake_2436.jpg  \n",
            "  inflating: /content/data/data/SeaLake_2437.jpg  \n",
            "  inflating: /content/data/data/SeaLake_2438.jpg  \n",
            "  inflating: /content/data/data/SeaLake_2439.jpg  \n",
            "  inflating: /content/data/data/SeaLake_244.jpg  \n",
            "  inflating: /content/data/data/SeaLake_2440.jpg  \n",
            "  inflating: /content/data/data/SeaLake_2441.jpg  \n",
            "  inflating: /content/data/data/SeaLake_2442.jpg  \n",
            "  inflating: /content/data/data/SeaLake_2443.jpg  \n",
            "  inflating: /content/data/data/SeaLake_2444.jpg  \n",
            "  inflating: /content/data/data/SeaLake_2445.jpg  \n",
            "  inflating: /content/data/data/SeaLake_2446.jpg  \n",
            "  inflating: /content/data/data/SeaLake_2447.jpg  \n",
            "  inflating: /content/data/data/SeaLake_2448.jpg  \n",
            "  inflating: /content/data/data/SeaLake_2449.jpg  \n",
            "  inflating: /content/data/data/SeaLake_245.jpg  \n",
            "  inflating: /content/data/data/SeaLake_2450.jpg  \n",
            "  inflating: /content/data/data/SeaLake_2451.jpg  \n",
            "  inflating: /content/data/data/SeaLake_2452.jpg  \n",
            "  inflating: /content/data/data/SeaLake_2453.jpg  \n",
            "  inflating: /content/data/data/SeaLake_2454.jpg  \n",
            "  inflating: /content/data/data/SeaLake_2455.jpg  \n",
            "  inflating: /content/data/data/SeaLake_2456.jpg  \n",
            "  inflating: /content/data/data/SeaLake_2457.jpg  \n",
            "  inflating: /content/data/data/SeaLake_2458.jpg  \n",
            "  inflating: /content/data/data/SeaLake_2459.jpg  \n",
            "  inflating: /content/data/data/SeaLake_246.jpg  \n",
            "  inflating: /content/data/data/SeaLake_2460.jpg  \n",
            "  inflating: /content/data/data/SeaLake_2461.jpg  \n",
            "  inflating: /content/data/data/SeaLake_2462.jpg  \n",
            "  inflating: /content/data/data/SeaLake_2463.jpg  \n",
            "  inflating: /content/data/data/SeaLake_2464.jpg  \n",
            "  inflating: /content/data/data/SeaLake_2465.jpg  \n",
            "  inflating: /content/data/data/SeaLake_2466.jpg  \n",
            "  inflating: /content/data/data/SeaLake_2467.jpg  \n",
            "  inflating: /content/data/data/SeaLake_2468.jpg  \n",
            "  inflating: /content/data/data/SeaLake_2469.jpg  \n",
            "  inflating: /content/data/data/SeaLake_247.jpg  \n",
            "  inflating: /content/data/data/SeaLake_2470.jpg  \n",
            "  inflating: /content/data/data/SeaLake_2471.jpg  \n",
            "  inflating: /content/data/data/SeaLake_2472.jpg  \n",
            "  inflating: /content/data/data/SeaLake_2473.jpg  \n",
            "  inflating: /content/data/data/SeaLake_2474.jpg  \n",
            "  inflating: /content/data/data/SeaLake_2475.jpg  \n",
            "  inflating: /content/data/data/SeaLake_2476.jpg  \n",
            "  inflating: /content/data/data/SeaLake_2477.jpg  \n",
            "  inflating: /content/data/data/SeaLake_2478.jpg  \n",
            "  inflating: /content/data/data/SeaLake_2479.jpg  \n",
            "  inflating: /content/data/data/SeaLake_248.jpg  \n",
            "  inflating: /content/data/data/SeaLake_2480.jpg  \n",
            "  inflating: /content/data/data/SeaLake_2481.jpg  \n",
            "  inflating: /content/data/data/SeaLake_2482.jpg  \n",
            "  inflating: /content/data/data/SeaLake_2483.jpg  \n",
            "  inflating: /content/data/data/SeaLake_2484.jpg  \n",
            "  inflating: /content/data/data/SeaLake_2485.jpg  \n",
            "  inflating: /content/data/data/SeaLake_2486.jpg  \n",
            "  inflating: /content/data/data/SeaLake_2487.jpg  \n",
            "  inflating: /content/data/data/SeaLake_2488.jpg  \n",
            "  inflating: /content/data/data/SeaLake_2489.jpg  \n",
            "  inflating: /content/data/data/SeaLake_249.jpg  \n",
            "  inflating: /content/data/data/SeaLake_2490.jpg  \n",
            "  inflating: /content/data/data/SeaLake_2491.jpg  \n",
            "  inflating: /content/data/data/SeaLake_2492.jpg  \n",
            "  inflating: /content/data/data/SeaLake_2493.jpg  \n",
            "  inflating: /content/data/data/SeaLake_2494.jpg  \n",
            "  inflating: /content/data/data/SeaLake_2495.jpg  \n",
            "  inflating: /content/data/data/SeaLake_2496.jpg  \n",
            "  inflating: /content/data/data/SeaLake_2497.jpg  \n",
            "  inflating: /content/data/data/SeaLake_2498.jpg  \n",
            "  inflating: /content/data/data/SeaLake_2499.jpg  \n",
            "  inflating: /content/data/data/SeaLake_25.jpg  \n",
            "  inflating: /content/data/data/SeaLake_250.jpg  \n",
            "  inflating: /content/data/data/SeaLake_2500.jpg  \n",
            "  inflating: /content/data/data/SeaLake_2501.jpg  \n",
            "  inflating: /content/data/data/SeaLake_2502.jpg  \n",
            "  inflating: /content/data/data/SeaLake_2503.jpg  \n",
            "  inflating: /content/data/data/SeaLake_2504.jpg  \n",
            "  inflating: /content/data/data/SeaLake_2505.jpg  \n",
            "  inflating: /content/data/data/SeaLake_2506.jpg  \n",
            "  inflating: /content/data/data/SeaLake_2507.jpg  \n",
            "  inflating: /content/data/data/SeaLake_2508.jpg  \n",
            "  inflating: /content/data/data/SeaLake_2509.jpg  \n",
            "  inflating: /content/data/data/SeaLake_251.jpg  \n",
            "  inflating: /content/data/data/SeaLake_2510.jpg  \n",
            "  inflating: /content/data/data/SeaLake_2511.jpg  \n",
            "  inflating: /content/data/data/SeaLake_2512.jpg  \n",
            "  inflating: /content/data/data/SeaLake_2513.jpg  \n",
            "  inflating: /content/data/data/SeaLake_2514.jpg  \n",
            "  inflating: /content/data/data/SeaLake_2515.jpg  \n",
            "  inflating: /content/data/data/SeaLake_2516.jpg  \n",
            "  inflating: /content/data/data/SeaLake_2517.jpg  \n",
            "  inflating: /content/data/data/SeaLake_2518.jpg  \n",
            "  inflating: /content/data/data/SeaLake_2519.jpg  \n",
            "  inflating: /content/data/data/SeaLake_252.jpg  \n",
            "  inflating: /content/data/data/SeaLake_2520.jpg  \n",
            "  inflating: /content/data/data/SeaLake_2521.jpg  \n",
            "  inflating: /content/data/data/SeaLake_2522.jpg  \n",
            "  inflating: /content/data/data/SeaLake_2523.jpg  \n",
            "  inflating: /content/data/data/SeaLake_2524.jpg  \n",
            "  inflating: /content/data/data/SeaLake_2525.jpg  \n",
            "  inflating: /content/data/data/SeaLake_2526.jpg  \n",
            "  inflating: /content/data/data/SeaLake_2527.jpg  \n",
            "  inflating: /content/data/data/SeaLake_2528.jpg  \n",
            "  inflating: /content/data/data/SeaLake_2529.jpg  \n",
            "  inflating: /content/data/data/SeaLake_253.jpg  \n",
            "  inflating: /content/data/data/SeaLake_2530.jpg  \n",
            "  inflating: /content/data/data/SeaLake_2531.jpg  \n",
            "  inflating: /content/data/data/SeaLake_2532.jpg  \n",
            "  inflating: /content/data/data/SeaLake_2533.jpg  \n",
            "  inflating: /content/data/data/SeaLake_2534.jpg  \n",
            "  inflating: /content/data/data/SeaLake_2535.jpg  \n",
            "  inflating: /content/data/data/SeaLake_2536.jpg  \n",
            "  inflating: /content/data/data/SeaLake_2537.jpg  \n",
            "  inflating: /content/data/data/SeaLake_2538.jpg  \n",
            "  inflating: /content/data/data/SeaLake_2539.jpg  \n",
            "  inflating: /content/data/data/SeaLake_254.jpg  \n",
            "  inflating: /content/data/data/SeaLake_2540.jpg  \n",
            "  inflating: /content/data/data/SeaLake_2541.jpg  \n",
            "  inflating: /content/data/data/SeaLake_2542.jpg  \n",
            "  inflating: /content/data/data/SeaLake_2543.jpg  \n",
            "  inflating: /content/data/data/SeaLake_2544.jpg  \n",
            "  inflating: /content/data/data/SeaLake_2545.jpg  \n",
            "  inflating: /content/data/data/SeaLake_2546.jpg  \n",
            "  inflating: /content/data/data/SeaLake_2547.jpg  \n",
            "  inflating: /content/data/data/SeaLake_2548.jpg  \n",
            "  inflating: /content/data/data/SeaLake_2549.jpg  \n",
            "  inflating: /content/data/data/SeaLake_255.jpg  \n",
            "  inflating: /content/data/data/SeaLake_2550.jpg  \n",
            "  inflating: /content/data/data/SeaLake_2551.jpg  \n",
            "  inflating: /content/data/data/SeaLake_2552.jpg  \n",
            "  inflating: /content/data/data/SeaLake_2553.jpg  \n",
            "  inflating: /content/data/data/SeaLake_2554.jpg  \n",
            "  inflating: /content/data/data/SeaLake_2555.jpg  \n",
            "  inflating: /content/data/data/SeaLake_2556.jpg  \n",
            "  inflating: /content/data/data/SeaLake_2557.jpg  \n",
            "  inflating: /content/data/data/SeaLake_2558.jpg  \n",
            "  inflating: /content/data/data/SeaLake_2559.jpg  \n",
            "  inflating: /content/data/data/SeaLake_256.jpg  \n",
            "  inflating: /content/data/data/SeaLake_2560.jpg  \n",
            "  inflating: /content/data/data/SeaLake_2561.jpg  \n",
            "  inflating: /content/data/data/SeaLake_2562.jpg  \n",
            "  inflating: /content/data/data/SeaLake_2563.jpg  \n",
            "  inflating: /content/data/data/SeaLake_2564.jpg  \n",
            "  inflating: /content/data/data/SeaLake_2565.jpg  \n",
            "  inflating: /content/data/data/SeaLake_2566.jpg  \n",
            "  inflating: /content/data/data/SeaLake_2567.jpg  \n",
            "  inflating: /content/data/data/SeaLake_2568.jpg  \n",
            "  inflating: /content/data/data/SeaLake_2569.jpg  \n",
            "  inflating: /content/data/data/SeaLake_257.jpg  \n",
            "  inflating: /content/data/data/SeaLake_2570.jpg  \n",
            "  inflating: /content/data/data/SeaLake_2571.jpg  \n",
            "  inflating: /content/data/data/SeaLake_2572.jpg  \n",
            "  inflating: /content/data/data/SeaLake_2573.jpg  \n",
            "  inflating: /content/data/data/SeaLake_2574.jpg  \n",
            "  inflating: /content/data/data/SeaLake_2575.jpg  \n",
            "  inflating: /content/data/data/SeaLake_2576.jpg  \n",
            "  inflating: /content/data/data/SeaLake_2577.jpg  \n",
            "  inflating: /content/data/data/SeaLake_2578.jpg  \n",
            "  inflating: /content/data/data/SeaLake_2579.jpg  \n",
            "  inflating: /content/data/data/SeaLake_258.jpg  \n",
            "  inflating: /content/data/data/SeaLake_2580.jpg  \n",
            "  inflating: /content/data/data/SeaLake_2581.jpg  \n",
            "  inflating: /content/data/data/SeaLake_2582.jpg  \n",
            "  inflating: /content/data/data/SeaLake_2583.jpg  \n",
            "  inflating: /content/data/data/SeaLake_2584.jpg  \n",
            "  inflating: /content/data/data/SeaLake_2585.jpg  \n",
            "  inflating: /content/data/data/SeaLake_2586.jpg  \n",
            "  inflating: /content/data/data/SeaLake_2587.jpg  \n",
            "  inflating: /content/data/data/SeaLake_2588.jpg  \n",
            "  inflating: /content/data/data/SeaLake_2589.jpg  \n",
            "  inflating: /content/data/data/SeaLake_259.jpg  \n",
            "  inflating: /content/data/data/SeaLake_2590.jpg  \n",
            "  inflating: /content/data/data/SeaLake_2591.jpg  \n",
            "  inflating: /content/data/data/SeaLake_2592.jpg  \n",
            "  inflating: /content/data/data/SeaLake_2593.jpg  \n",
            "  inflating: /content/data/data/SeaLake_2594.jpg  \n",
            "  inflating: /content/data/data/SeaLake_2595.jpg  \n",
            "  inflating: /content/data/data/SeaLake_2596.jpg  \n",
            "  inflating: /content/data/data/SeaLake_2597.jpg  \n",
            "  inflating: /content/data/data/SeaLake_2598.jpg  \n",
            "  inflating: /content/data/data/SeaLake_2599.jpg  \n",
            "  inflating: /content/data/data/SeaLake_26.jpg  \n",
            "  inflating: /content/data/data/SeaLake_260.jpg  \n",
            "  inflating: /content/data/data/SeaLake_2600.jpg  \n",
            "  inflating: /content/data/data/SeaLake_2601.jpg  \n",
            "  inflating: /content/data/data/SeaLake_2602.jpg  \n",
            "  inflating: /content/data/data/SeaLake_2603.jpg  \n",
            "  inflating: /content/data/data/SeaLake_2604.jpg  \n",
            "  inflating: /content/data/data/SeaLake_2605.jpg  \n",
            "  inflating: /content/data/data/SeaLake_2606.jpg  \n",
            "  inflating: /content/data/data/SeaLake_2607.jpg  \n",
            "  inflating: /content/data/data/SeaLake_2608.jpg  \n",
            "  inflating: /content/data/data/SeaLake_2609.jpg  \n",
            "  inflating: /content/data/data/SeaLake_261.jpg  \n",
            "  inflating: /content/data/data/SeaLake_2610.jpg  \n",
            "  inflating: /content/data/data/SeaLake_2611.jpg  \n",
            "  inflating: /content/data/data/SeaLake_2612.jpg  \n",
            "  inflating: /content/data/data/SeaLake_2613.jpg  \n",
            "  inflating: /content/data/data/SeaLake_2614.jpg  \n",
            "  inflating: /content/data/data/SeaLake_2615.jpg  \n",
            "  inflating: /content/data/data/SeaLake_2616.jpg  \n",
            "  inflating: /content/data/data/SeaLake_2617.jpg  \n",
            "  inflating: /content/data/data/SeaLake_2618.jpg  \n",
            "  inflating: /content/data/data/SeaLake_2619.jpg  \n",
            "  inflating: /content/data/data/SeaLake_262.jpg  \n",
            "  inflating: /content/data/data/SeaLake_2620.jpg  \n",
            "  inflating: /content/data/data/SeaLake_2621.jpg  \n",
            "  inflating: /content/data/data/SeaLake_2622.jpg  \n",
            "  inflating: /content/data/data/SeaLake_2623.jpg  \n",
            "  inflating: /content/data/data/SeaLake_2624.jpg  \n",
            "  inflating: /content/data/data/SeaLake_2625.jpg  \n",
            "  inflating: /content/data/data/SeaLake_2626.jpg  \n",
            "  inflating: /content/data/data/SeaLake_2627.jpg  \n",
            "  inflating: /content/data/data/SeaLake_2628.jpg  \n",
            "  inflating: /content/data/data/SeaLake_2629.jpg  \n",
            "  inflating: /content/data/data/SeaLake_263.jpg  \n",
            "  inflating: /content/data/data/SeaLake_2630.jpg  \n",
            "  inflating: /content/data/data/SeaLake_2631.jpg  \n",
            "  inflating: /content/data/data/SeaLake_2632.jpg  \n",
            "  inflating: /content/data/data/SeaLake_2633.jpg  \n",
            "  inflating: /content/data/data/SeaLake_2634.jpg  \n",
            "  inflating: /content/data/data/SeaLake_2635.jpg  \n",
            "  inflating: /content/data/data/SeaLake_2636.jpg  \n",
            "  inflating: /content/data/data/SeaLake_2637.jpg  \n",
            "  inflating: /content/data/data/SeaLake_2638.jpg  \n",
            "  inflating: /content/data/data/SeaLake_2639.jpg  \n",
            "  inflating: /content/data/data/SeaLake_264.jpg  \n",
            "  inflating: /content/data/data/SeaLake_2640.jpg  \n",
            "  inflating: /content/data/data/SeaLake_2641.jpg  \n",
            "  inflating: /content/data/data/SeaLake_2642.jpg  \n",
            "  inflating: /content/data/data/SeaLake_2643.jpg  \n",
            "  inflating: /content/data/data/SeaLake_2644.jpg  \n",
            "  inflating: /content/data/data/SeaLake_2645.jpg  \n",
            "  inflating: /content/data/data/SeaLake_2646.jpg  \n",
            "  inflating: /content/data/data/SeaLake_2647.jpg  \n",
            "  inflating: /content/data/data/SeaLake_2648.jpg  \n",
            "  inflating: /content/data/data/SeaLake_2649.jpg  \n",
            "  inflating: /content/data/data/SeaLake_265.jpg  \n",
            "  inflating: /content/data/data/SeaLake_2650.jpg  \n",
            "  inflating: /content/data/data/SeaLake_2651.jpg  \n",
            "  inflating: /content/data/data/SeaLake_2652.jpg  \n",
            "  inflating: /content/data/data/SeaLake_2653.jpg  \n",
            "  inflating: /content/data/data/SeaLake_2654.jpg  \n",
            "  inflating: /content/data/data/SeaLake_2655.jpg  \n",
            "  inflating: /content/data/data/SeaLake_2656.jpg  \n",
            "  inflating: /content/data/data/SeaLake_2657.jpg  \n",
            "  inflating: /content/data/data/SeaLake_2658.jpg  \n",
            "  inflating: /content/data/data/SeaLake_2659.jpg  \n",
            "  inflating: /content/data/data/SeaLake_266.jpg  \n",
            "  inflating: /content/data/data/SeaLake_2660.jpg  \n",
            "  inflating: /content/data/data/SeaLake_2661.jpg  \n",
            "  inflating: /content/data/data/SeaLake_2662.jpg  \n",
            "  inflating: /content/data/data/SeaLake_2663.jpg  \n",
            "  inflating: /content/data/data/SeaLake_2664.jpg  \n",
            "  inflating: /content/data/data/SeaLake_2665.jpg  \n",
            "  inflating: /content/data/data/SeaLake_2666.jpg  \n",
            "  inflating: /content/data/data/SeaLake_2667.jpg  \n",
            "  inflating: /content/data/data/SeaLake_2668.jpg  \n",
            "  inflating: /content/data/data/SeaLake_2669.jpg  \n",
            "  inflating: /content/data/data/SeaLake_267.jpg  \n",
            "  inflating: /content/data/data/SeaLake_2670.jpg  \n",
            "  inflating: /content/data/data/SeaLake_2671.jpg  \n",
            "  inflating: /content/data/data/SeaLake_2672.jpg  \n",
            "  inflating: /content/data/data/SeaLake_2673.jpg  \n",
            "  inflating: /content/data/data/SeaLake_2674.jpg  \n",
            "  inflating: /content/data/data/SeaLake_2675.jpg  \n",
            "  inflating: /content/data/data/SeaLake_2676.jpg  \n",
            "  inflating: /content/data/data/SeaLake_2677.jpg  \n",
            "  inflating: /content/data/data/SeaLake_2678.jpg  \n",
            "  inflating: /content/data/data/SeaLake_2679.jpg  \n",
            "  inflating: /content/data/data/SeaLake_268.jpg  \n",
            "  inflating: /content/data/data/SeaLake_2680.jpg  \n",
            "  inflating: /content/data/data/SeaLake_2681.jpg  \n",
            "  inflating: /content/data/data/SeaLake_2682.jpg  \n",
            "  inflating: /content/data/data/SeaLake_2683.jpg  \n",
            "  inflating: /content/data/data/SeaLake_2684.jpg  \n",
            "  inflating: /content/data/data/SeaLake_2685.jpg  \n",
            "  inflating: /content/data/data/SeaLake_2686.jpg  \n",
            "  inflating: /content/data/data/SeaLake_2687.jpg  \n",
            "  inflating: /content/data/data/SeaLake_2688.jpg  \n",
            "  inflating: /content/data/data/SeaLake_2689.jpg  \n",
            "  inflating: /content/data/data/SeaLake_269.jpg  \n",
            "  inflating: /content/data/data/SeaLake_2690.jpg  \n",
            "  inflating: /content/data/data/SeaLake_2691.jpg  \n",
            "  inflating: /content/data/data/SeaLake_2692.jpg  \n",
            "  inflating: /content/data/data/SeaLake_2693.jpg  \n",
            "  inflating: /content/data/data/SeaLake_2694.jpg  \n",
            "  inflating: /content/data/data/SeaLake_2695.jpg  \n",
            "  inflating: /content/data/data/SeaLake_2696.jpg  \n",
            "  inflating: /content/data/data/SeaLake_2697.jpg  \n",
            "  inflating: /content/data/data/SeaLake_2698.jpg  \n",
            "  inflating: /content/data/data/SeaLake_2699.jpg  \n",
            "  inflating: /content/data/data/SeaLake_27.jpg  \n",
            "  inflating: /content/data/data/SeaLake_270.jpg  \n",
            "  inflating: /content/data/data/SeaLake_2700.jpg  \n",
            "  inflating: /content/data/data/SeaLake_2701.jpg  \n",
            "  inflating: /content/data/data/SeaLake_2702.jpg  \n",
            "  inflating: /content/data/data/SeaLake_2703.jpg  \n",
            "  inflating: /content/data/data/SeaLake_2704.jpg  \n",
            "  inflating: /content/data/data/SeaLake_2705.jpg  \n",
            "  inflating: /content/data/data/SeaLake_2706.jpg  \n",
            "  inflating: /content/data/data/SeaLake_2707.jpg  \n",
            "  inflating: /content/data/data/SeaLake_2708.jpg  \n",
            "  inflating: /content/data/data/SeaLake_2709.jpg  \n",
            "  inflating: /content/data/data/SeaLake_271.jpg  \n",
            "  inflating: /content/data/data/SeaLake_2710.jpg  \n",
            "  inflating: /content/data/data/SeaLake_2711.jpg  \n",
            "  inflating: /content/data/data/SeaLake_2712.jpg  \n",
            "  inflating: /content/data/data/SeaLake_2713.jpg  \n",
            "  inflating: /content/data/data/SeaLake_2714.jpg  \n",
            "  inflating: /content/data/data/SeaLake_2715.jpg  \n",
            "  inflating: /content/data/data/SeaLake_2716.jpg  \n",
            "  inflating: /content/data/data/SeaLake_2717.jpg  \n",
            "  inflating: /content/data/data/SeaLake_2718.jpg  \n",
            "  inflating: /content/data/data/SeaLake_2719.jpg  \n",
            "  inflating: /content/data/data/SeaLake_272.jpg  \n",
            "  inflating: /content/data/data/SeaLake_2720.jpg  \n",
            "  inflating: /content/data/data/SeaLake_2721.jpg  \n",
            "  inflating: /content/data/data/SeaLake_2722.jpg  \n",
            "  inflating: /content/data/data/SeaLake_2723.jpg  \n",
            "  inflating: /content/data/data/SeaLake_2724.jpg  \n",
            "  inflating: /content/data/data/SeaLake_2725.jpg  \n",
            "  inflating: /content/data/data/SeaLake_2726.jpg  \n",
            "  inflating: /content/data/data/SeaLake_2727.jpg  \n",
            "  inflating: /content/data/data/SeaLake_2728.jpg  \n",
            "  inflating: /content/data/data/SeaLake_2729.jpg  \n",
            "  inflating: /content/data/data/SeaLake_273.jpg  \n",
            "  inflating: /content/data/data/SeaLake_2730.jpg  \n",
            "  inflating: /content/data/data/SeaLake_2731.jpg  \n",
            "  inflating: /content/data/data/SeaLake_2732.jpg  \n",
            "  inflating: /content/data/data/SeaLake_2733.jpg  \n",
            "  inflating: /content/data/data/SeaLake_2734.jpg  \n",
            "  inflating: /content/data/data/SeaLake_2735.jpg  \n",
            "  inflating: /content/data/data/SeaLake_2736.jpg  \n",
            "  inflating: /content/data/data/SeaLake_2737.jpg  \n",
            "  inflating: /content/data/data/SeaLake_2738.jpg  \n",
            "  inflating: /content/data/data/SeaLake_2739.jpg  \n",
            "  inflating: /content/data/data/SeaLake_274.jpg  \n",
            "  inflating: /content/data/data/SeaLake_2740.jpg  \n",
            "  inflating: /content/data/data/SeaLake_2741.jpg  \n",
            "  inflating: /content/data/data/SeaLake_2742.jpg  \n",
            "  inflating: /content/data/data/SeaLake_2743.jpg  \n",
            "  inflating: /content/data/data/SeaLake_2744.jpg  \n",
            "  inflating: /content/data/data/SeaLake_2745.jpg  \n",
            "  inflating: /content/data/data/SeaLake_2746.jpg  \n",
            "  inflating: /content/data/data/SeaLake_2747.jpg  \n",
            "  inflating: /content/data/data/SeaLake_2748.jpg  \n",
            "  inflating: /content/data/data/SeaLake_2749.jpg  \n",
            "  inflating: /content/data/data/SeaLake_275.jpg  \n",
            "  inflating: /content/data/data/SeaLake_2750.jpg  \n",
            "  inflating: /content/data/data/SeaLake_2751.jpg  \n",
            "  inflating: /content/data/data/SeaLake_2752.jpg  \n",
            "  inflating: /content/data/data/SeaLake_2753.jpg  \n",
            "  inflating: /content/data/data/SeaLake_2754.jpg  \n",
            "  inflating: /content/data/data/SeaLake_2755.jpg  \n",
            "  inflating: /content/data/data/SeaLake_2756.jpg  \n",
            "  inflating: /content/data/data/SeaLake_2757.jpg  \n",
            "  inflating: /content/data/data/SeaLake_2758.jpg  \n",
            "  inflating: /content/data/data/SeaLake_2759.jpg  \n",
            "  inflating: /content/data/data/SeaLake_276.jpg  \n",
            "  inflating: /content/data/data/SeaLake_2760.jpg  \n",
            "  inflating: /content/data/data/SeaLake_2761.jpg  \n",
            "  inflating: /content/data/data/SeaLake_2762.jpg  \n",
            "  inflating: /content/data/data/SeaLake_2763.jpg  \n",
            "  inflating: /content/data/data/SeaLake_2764.jpg  \n",
            "  inflating: /content/data/data/SeaLake_2765.jpg  \n",
            "  inflating: /content/data/data/SeaLake_2766.jpg  \n",
            "  inflating: /content/data/data/SeaLake_2767.jpg  \n",
            "  inflating: /content/data/data/SeaLake_2768.jpg  \n",
            "  inflating: /content/data/data/SeaLake_2769.jpg  \n",
            "  inflating: /content/data/data/SeaLake_277.jpg  \n",
            "  inflating: /content/data/data/SeaLake_2770.jpg  \n",
            "  inflating: /content/data/data/SeaLake_2771.jpg  \n",
            "  inflating: /content/data/data/SeaLake_2772.jpg  \n",
            "  inflating: /content/data/data/SeaLake_2773.jpg  \n",
            "  inflating: /content/data/data/SeaLake_2774.jpg  \n",
            "  inflating: /content/data/data/SeaLake_2775.jpg  \n",
            "  inflating: /content/data/data/SeaLake_2776.jpg  \n",
            "  inflating: /content/data/data/SeaLake_2777.jpg  \n",
            "  inflating: /content/data/data/SeaLake_2778.jpg  \n",
            "  inflating: /content/data/data/SeaLake_2779.jpg  \n",
            "  inflating: /content/data/data/SeaLake_278.jpg  \n",
            "  inflating: /content/data/data/SeaLake_2780.jpg  \n",
            "  inflating: /content/data/data/SeaLake_2781.jpg  \n",
            "  inflating: /content/data/data/SeaLake_2782.jpg  \n",
            "  inflating: /content/data/data/SeaLake_2783.jpg  \n",
            "  inflating: /content/data/data/SeaLake_2784.jpg  \n",
            "  inflating: /content/data/data/SeaLake_2785.jpg  \n",
            "  inflating: /content/data/data/SeaLake_2786.jpg  \n",
            "  inflating: /content/data/data/SeaLake_2787.jpg  \n",
            "  inflating: /content/data/data/SeaLake_2788.jpg  \n",
            "  inflating: /content/data/data/SeaLake_2789.jpg  \n",
            "  inflating: /content/data/data/SeaLake_279.jpg  \n",
            "  inflating: /content/data/data/SeaLake_2790.jpg  \n",
            "  inflating: /content/data/data/SeaLake_2791.jpg  \n",
            "  inflating: /content/data/data/SeaLake_2792.jpg  \n",
            "  inflating: /content/data/data/SeaLake_2793.jpg  \n",
            "  inflating: /content/data/data/SeaLake_2794.jpg  \n",
            "  inflating: /content/data/data/SeaLake_2795.jpg  \n",
            "  inflating: /content/data/data/SeaLake_2796.jpg  \n",
            "  inflating: /content/data/data/SeaLake_2797.jpg  \n",
            "  inflating: /content/data/data/SeaLake_2798.jpg  \n",
            "  inflating: /content/data/data/SeaLake_2799.jpg  \n",
            "  inflating: /content/data/data/SeaLake_28.jpg  \n",
            "  inflating: /content/data/data/SeaLake_280.jpg  \n",
            "  inflating: /content/data/data/SeaLake_2800.jpg  \n",
            "  inflating: /content/data/data/SeaLake_2801.jpg  \n",
            "  inflating: /content/data/data/SeaLake_2802.jpg  \n",
            "  inflating: /content/data/data/SeaLake_2803.jpg  \n",
            "  inflating: /content/data/data/SeaLake_2804.jpg  \n",
            "  inflating: /content/data/data/SeaLake_2805.jpg  \n",
            "  inflating: /content/data/data/SeaLake_2806.jpg  \n",
            "  inflating: /content/data/data/SeaLake_2807.jpg  \n",
            "  inflating: /content/data/data/SeaLake_2808.jpg  \n",
            "  inflating: /content/data/data/SeaLake_2809.jpg  \n",
            "  inflating: /content/data/data/SeaLake_281.jpg  \n",
            "  inflating: /content/data/data/SeaLake_2810.jpg  \n",
            "  inflating: /content/data/data/SeaLake_2811.jpg  \n",
            "  inflating: /content/data/data/SeaLake_2812.jpg  \n",
            "  inflating: /content/data/data/SeaLake_2813.jpg  \n",
            "  inflating: /content/data/data/SeaLake_2814.jpg  \n",
            "  inflating: /content/data/data/SeaLake_2815.jpg  \n",
            "  inflating: /content/data/data/SeaLake_2816.jpg  \n",
            "  inflating: /content/data/data/SeaLake_2817.jpg  \n",
            "  inflating: /content/data/data/SeaLake_2818.jpg  \n",
            "  inflating: /content/data/data/SeaLake_2819.jpg  \n",
            "  inflating: /content/data/data/SeaLake_282.jpg  \n",
            "  inflating: /content/data/data/SeaLake_2820.jpg  \n",
            "  inflating: /content/data/data/SeaLake_2821.jpg  \n",
            "  inflating: /content/data/data/SeaLake_2822.jpg  \n",
            "  inflating: /content/data/data/SeaLake_2823.jpg  \n",
            "  inflating: /content/data/data/SeaLake_2824.jpg  \n",
            "  inflating: /content/data/data/SeaLake_2825.jpg  \n",
            "  inflating: /content/data/data/SeaLake_2826.jpg  \n",
            "  inflating: /content/data/data/SeaLake_2827.jpg  \n",
            "  inflating: /content/data/data/SeaLake_2828.jpg  \n",
            "  inflating: /content/data/data/SeaLake_2829.jpg  \n",
            "  inflating: /content/data/data/SeaLake_283.jpg  \n",
            "  inflating: /content/data/data/SeaLake_2830.jpg  \n",
            "  inflating: /content/data/data/SeaLake_2831.jpg  \n",
            "  inflating: /content/data/data/SeaLake_2832.jpg  \n",
            "  inflating: /content/data/data/SeaLake_2833.jpg  \n",
            "  inflating: /content/data/data/SeaLake_2834.jpg  \n",
            "  inflating: /content/data/data/SeaLake_2835.jpg  \n",
            "  inflating: /content/data/data/SeaLake_2836.jpg  \n",
            "  inflating: /content/data/data/SeaLake_2837.jpg  \n",
            "  inflating: /content/data/data/SeaLake_2838.jpg  \n",
            "  inflating: /content/data/data/SeaLake_2839.jpg  \n",
            "  inflating: /content/data/data/SeaLake_284.jpg  \n",
            "  inflating: /content/data/data/SeaLake_2840.jpg  \n",
            "  inflating: /content/data/data/SeaLake_2841.jpg  \n",
            "  inflating: /content/data/data/SeaLake_2842.jpg  \n",
            "  inflating: /content/data/data/SeaLake_2843.jpg  \n",
            "  inflating: /content/data/data/SeaLake_2844.jpg  \n",
            "  inflating: /content/data/data/SeaLake_2845.jpg  \n",
            "  inflating: /content/data/data/SeaLake_2846.jpg  \n",
            "  inflating: /content/data/data/SeaLake_2847.jpg  \n",
            "  inflating: /content/data/data/SeaLake_2848.jpg  \n",
            "  inflating: /content/data/data/SeaLake_2849.jpg  \n",
            "  inflating: /content/data/data/SeaLake_285.jpg  \n",
            "  inflating: /content/data/data/SeaLake_2850.jpg  \n",
            "  inflating: /content/data/data/SeaLake_2851.jpg  \n",
            "  inflating: /content/data/data/SeaLake_2852.jpg  \n",
            "  inflating: /content/data/data/SeaLake_2853.jpg  \n",
            "  inflating: /content/data/data/SeaLake_2854.jpg  \n",
            "  inflating: /content/data/data/SeaLake_2855.jpg  \n",
            "  inflating: /content/data/data/SeaLake_2856.jpg  \n",
            "  inflating: /content/data/data/SeaLake_2857.jpg  \n",
            "  inflating: /content/data/data/SeaLake_2858.jpg  \n",
            "  inflating: /content/data/data/SeaLake_2859.jpg  \n",
            "  inflating: /content/data/data/SeaLake_286.jpg  \n",
            "  inflating: /content/data/data/SeaLake_2860.jpg  \n",
            "  inflating: /content/data/data/SeaLake_2861.jpg  \n",
            "  inflating: /content/data/data/SeaLake_2862.jpg  \n",
            "  inflating: /content/data/data/SeaLake_2863.jpg  \n",
            "  inflating: /content/data/data/SeaLake_2864.jpg  \n",
            "  inflating: /content/data/data/SeaLake_2865.jpg  \n",
            "  inflating: /content/data/data/SeaLake_2866.jpg  \n",
            "  inflating: /content/data/data/SeaLake_2867.jpg  \n",
            "  inflating: /content/data/data/SeaLake_2868.jpg  \n",
            "  inflating: /content/data/data/SeaLake_2869.jpg  \n",
            "  inflating: /content/data/data/SeaLake_287.jpg  \n",
            "  inflating: /content/data/data/SeaLake_2870.jpg  \n",
            "  inflating: /content/data/data/SeaLake_2871.jpg  \n",
            "  inflating: /content/data/data/SeaLake_2872.jpg  \n",
            "  inflating: /content/data/data/SeaLake_2873.jpg  \n",
            "  inflating: /content/data/data/SeaLake_2874.jpg  \n",
            "  inflating: /content/data/data/SeaLake_2875.jpg  \n",
            "  inflating: /content/data/data/SeaLake_2876.jpg  \n",
            "  inflating: /content/data/data/SeaLake_2877.jpg  \n",
            "  inflating: /content/data/data/SeaLake_2878.jpg  \n",
            "  inflating: /content/data/data/SeaLake_2879.jpg  \n",
            "  inflating: /content/data/data/SeaLake_288.jpg  \n",
            "  inflating: /content/data/data/SeaLake_2880.jpg  \n",
            "  inflating: /content/data/data/SeaLake_2881.jpg  \n",
            "  inflating: /content/data/data/SeaLake_2882.jpg  \n",
            "  inflating: /content/data/data/SeaLake_2883.jpg  \n",
            "  inflating: /content/data/data/SeaLake_2884.jpg  \n",
            "  inflating: /content/data/data/SeaLake_2885.jpg  \n",
            "  inflating: /content/data/data/SeaLake_2886.jpg  \n",
            "  inflating: /content/data/data/SeaLake_2887.jpg  \n",
            "  inflating: /content/data/data/SeaLake_2888.jpg  \n",
            "  inflating: /content/data/data/SeaLake_2889.jpg  \n",
            "  inflating: /content/data/data/SeaLake_289.jpg  \n",
            "  inflating: /content/data/data/SeaLake_2890.jpg  \n",
            "  inflating: /content/data/data/SeaLake_2891.jpg  \n",
            "  inflating: /content/data/data/SeaLake_2892.jpg  \n",
            "  inflating: /content/data/data/SeaLake_2893.jpg  \n",
            "  inflating: /content/data/data/SeaLake_2894.jpg  \n",
            "  inflating: /content/data/data/SeaLake_2895.jpg  \n",
            "  inflating: /content/data/data/SeaLake_2896.jpg  \n",
            "  inflating: /content/data/data/SeaLake_2897.jpg  \n",
            "  inflating: /content/data/data/SeaLake_2898.jpg  \n",
            "  inflating: /content/data/data/SeaLake_2899.jpg  \n",
            "  inflating: /content/data/data/SeaLake_29.jpg  \n",
            "  inflating: /content/data/data/SeaLake_290.jpg  \n",
            "  inflating: /content/data/data/SeaLake_2900.jpg  \n",
            "  inflating: /content/data/data/SeaLake_2901.jpg  \n",
            "  inflating: /content/data/data/SeaLake_2902.jpg  \n",
            "  inflating: /content/data/data/SeaLake_2903.jpg  \n",
            "  inflating: /content/data/data/SeaLake_2904.jpg  \n",
            "  inflating: /content/data/data/SeaLake_2905.jpg  \n",
            "  inflating: /content/data/data/SeaLake_2906.jpg  \n",
            "  inflating: /content/data/data/SeaLake_2907.jpg  \n",
            "  inflating: /content/data/data/SeaLake_2908.jpg  \n",
            "  inflating: /content/data/data/SeaLake_2909.jpg  \n",
            "  inflating: /content/data/data/SeaLake_291.jpg  \n",
            "  inflating: /content/data/data/SeaLake_2910.jpg  \n",
            "  inflating: /content/data/data/SeaLake_2911.jpg  \n",
            "  inflating: /content/data/data/SeaLake_2912.jpg  \n",
            "  inflating: /content/data/data/SeaLake_2913.jpg  \n",
            "  inflating: /content/data/data/SeaLake_2914.jpg  \n",
            "  inflating: /content/data/data/SeaLake_2915.jpg  \n",
            "  inflating: /content/data/data/SeaLake_2916.jpg  \n",
            "  inflating: /content/data/data/SeaLake_2917.jpg  \n",
            "  inflating: /content/data/data/SeaLake_2918.jpg  \n",
            "  inflating: /content/data/data/SeaLake_2919.jpg  \n",
            "  inflating: /content/data/data/SeaLake_292.jpg  \n",
            "  inflating: /content/data/data/SeaLake_2920.jpg  \n",
            "  inflating: /content/data/data/SeaLake_2921.jpg  \n",
            "  inflating: /content/data/data/SeaLake_2922.jpg  \n",
            "  inflating: /content/data/data/SeaLake_2923.jpg  \n",
            "  inflating: /content/data/data/SeaLake_2924.jpg  \n",
            "  inflating: /content/data/data/SeaLake_2925.jpg  \n",
            "  inflating: /content/data/data/SeaLake_2926.jpg  \n",
            "  inflating: /content/data/data/SeaLake_2927.jpg  \n",
            "  inflating: /content/data/data/SeaLake_2928.jpg  \n",
            "  inflating: /content/data/data/SeaLake_2929.jpg  \n",
            "  inflating: /content/data/data/SeaLake_293.jpg  \n",
            "  inflating: /content/data/data/SeaLake_2930.jpg  \n",
            "  inflating: /content/data/data/SeaLake_2931.jpg  \n",
            "  inflating: /content/data/data/SeaLake_2932.jpg  \n",
            "  inflating: /content/data/data/SeaLake_2933.jpg  \n",
            "  inflating: /content/data/data/SeaLake_2934.jpg  \n",
            "  inflating: /content/data/data/SeaLake_2935.jpg  \n",
            "  inflating: /content/data/data/SeaLake_2936.jpg  \n",
            "  inflating: /content/data/data/SeaLake_2937.jpg  \n",
            "  inflating: /content/data/data/SeaLake_2938.jpg  \n",
            "  inflating: /content/data/data/SeaLake_2939.jpg  \n",
            "  inflating: /content/data/data/SeaLake_294.jpg  \n",
            "  inflating: /content/data/data/SeaLake_2940.jpg  \n",
            "  inflating: /content/data/data/SeaLake_2941.jpg  \n",
            "  inflating: /content/data/data/SeaLake_2942.jpg  \n",
            "  inflating: /content/data/data/SeaLake_2943.jpg  \n",
            "  inflating: /content/data/data/SeaLake_2944.jpg  \n",
            "  inflating: /content/data/data/SeaLake_2945.jpg  \n",
            "  inflating: /content/data/data/SeaLake_2946.jpg  \n",
            "  inflating: /content/data/data/SeaLake_2947.jpg  \n",
            "  inflating: /content/data/data/SeaLake_2948.jpg  \n",
            "  inflating: /content/data/data/SeaLake_2949.jpg  \n",
            "  inflating: /content/data/data/SeaLake_295.jpg  \n",
            "  inflating: /content/data/data/SeaLake_2950.jpg  \n",
            "  inflating: /content/data/data/SeaLake_2951.jpg  \n",
            "  inflating: /content/data/data/SeaLake_2952.jpg  \n",
            "  inflating: /content/data/data/SeaLake_2953.jpg  \n",
            "  inflating: /content/data/data/SeaLake_2954.jpg  \n",
            "  inflating: /content/data/data/SeaLake_2955.jpg  \n",
            "  inflating: /content/data/data/SeaLake_2956.jpg  \n",
            "  inflating: /content/data/data/SeaLake_2957.jpg  \n",
            "  inflating: /content/data/data/SeaLake_2958.jpg  \n",
            "  inflating: /content/data/data/SeaLake_2959.jpg  \n",
            "  inflating: /content/data/data/SeaLake_296.jpg  \n",
            "  inflating: /content/data/data/SeaLake_2960.jpg  \n",
            "  inflating: /content/data/data/SeaLake_2961.jpg  \n",
            "  inflating: /content/data/data/SeaLake_2962.jpg  \n",
            "  inflating: /content/data/data/SeaLake_2963.jpg  \n",
            "  inflating: /content/data/data/SeaLake_2964.jpg  \n",
            "  inflating: /content/data/data/SeaLake_2965.jpg  \n",
            "  inflating: /content/data/data/SeaLake_2966.jpg  \n",
            "  inflating: /content/data/data/SeaLake_2967.jpg  \n",
            "  inflating: /content/data/data/SeaLake_2968.jpg  \n",
            "  inflating: /content/data/data/SeaLake_2969.jpg  \n",
            "  inflating: /content/data/data/SeaLake_297.jpg  \n",
            "  inflating: /content/data/data/SeaLake_2970.jpg  \n",
            "  inflating: /content/data/data/SeaLake_2971.jpg  \n",
            "  inflating: /content/data/data/SeaLake_2972.jpg  \n",
            "  inflating: /content/data/data/SeaLake_2973.jpg  \n",
            "  inflating: /content/data/data/SeaLake_2974.jpg  \n",
            "  inflating: /content/data/data/SeaLake_2975.jpg  \n",
            "  inflating: /content/data/data/SeaLake_2976.jpg  \n",
            "  inflating: /content/data/data/SeaLake_2977.jpg  \n",
            "  inflating: /content/data/data/SeaLake_2978.jpg  \n",
            "  inflating: /content/data/data/SeaLake_2979.jpg  \n",
            "  inflating: /content/data/data/SeaLake_298.jpg  \n",
            "  inflating: /content/data/data/SeaLake_2980.jpg  \n",
            "  inflating: /content/data/data/SeaLake_2981.jpg  \n",
            "  inflating: /content/data/data/SeaLake_2982.jpg  \n",
            "  inflating: /content/data/data/SeaLake_2983.jpg  \n",
            "  inflating: /content/data/data/SeaLake_2984.jpg  \n",
            "  inflating: /content/data/data/SeaLake_2985.jpg  \n",
            "  inflating: /content/data/data/SeaLake_2986.jpg  \n",
            "  inflating: /content/data/data/SeaLake_2987.jpg  \n",
            "  inflating: /content/data/data/SeaLake_2988.jpg  \n",
            "  inflating: /content/data/data/SeaLake_2989.jpg  \n",
            "  inflating: /content/data/data/SeaLake_299.jpg  \n",
            "  inflating: /content/data/data/SeaLake_2990.jpg  \n",
            "  inflating: /content/data/data/SeaLake_2991.jpg  \n",
            "  inflating: /content/data/data/SeaLake_2992.jpg  \n",
            "  inflating: /content/data/data/SeaLake_2993.jpg  \n",
            "  inflating: /content/data/data/SeaLake_2994.jpg  \n",
            "  inflating: /content/data/data/SeaLake_2995.jpg  \n",
            "  inflating: /content/data/data/SeaLake_2996.jpg  \n",
            "  inflating: /content/data/data/SeaLake_2997.jpg  \n",
            "  inflating: /content/data/data/SeaLake_2998.jpg  \n",
            "  inflating: /content/data/data/SeaLake_2999.jpg  \n",
            "  inflating: /content/data/data/SeaLake_3.jpg  \n",
            "  inflating: /content/data/data/SeaLake_30.jpg  \n",
            "  inflating: /content/data/data/SeaLake_300.jpg  \n",
            "  inflating: /content/data/data/SeaLake_3000.jpg  \n",
            "  inflating: /content/data/data/SeaLake_301.jpg  \n",
            "  inflating: /content/data/data/SeaLake_302.jpg  \n",
            "  inflating: /content/data/data/SeaLake_303.jpg  \n",
            "  inflating: /content/data/data/SeaLake_304.jpg  \n",
            "  inflating: /content/data/data/SeaLake_305.jpg  \n",
            "  inflating: /content/data/data/SeaLake_306.jpg  \n",
            "  inflating: /content/data/data/SeaLake_307.jpg  \n",
            "  inflating: /content/data/data/SeaLake_308.jpg  \n",
            "  inflating: /content/data/data/SeaLake_309.jpg  \n",
            "  inflating: /content/data/data/SeaLake_31.jpg  \n",
            "  inflating: /content/data/data/SeaLake_310.jpg  \n",
            "  inflating: /content/data/data/SeaLake_311.jpg  \n",
            "  inflating: /content/data/data/SeaLake_312.jpg  \n",
            "  inflating: /content/data/data/SeaLake_313.jpg  \n",
            "  inflating: /content/data/data/SeaLake_314.jpg  \n",
            "  inflating: /content/data/data/SeaLake_315.jpg  \n",
            "  inflating: /content/data/data/SeaLake_316.jpg  \n",
            "  inflating: /content/data/data/SeaLake_317.jpg  \n",
            "  inflating: /content/data/data/SeaLake_318.jpg  \n",
            "  inflating: /content/data/data/SeaLake_319.jpg  \n",
            "  inflating: /content/data/data/SeaLake_32.jpg  \n",
            "  inflating: /content/data/data/SeaLake_320.jpg  \n",
            "  inflating: /content/data/data/SeaLake_321.jpg  \n",
            "  inflating: /content/data/data/SeaLake_322.jpg  \n",
            "  inflating: /content/data/data/SeaLake_323.jpg  \n",
            "  inflating: /content/data/data/SeaLake_324.jpg  \n",
            "  inflating: /content/data/data/SeaLake_325.jpg  \n",
            "  inflating: /content/data/data/SeaLake_326.jpg  \n",
            "  inflating: /content/data/data/SeaLake_327.jpg  \n",
            "  inflating: /content/data/data/SeaLake_328.jpg  \n",
            "  inflating: /content/data/data/SeaLake_329.jpg  \n",
            "  inflating: /content/data/data/SeaLake_33.jpg  \n",
            "  inflating: /content/data/data/SeaLake_330.jpg  \n",
            "  inflating: /content/data/data/SeaLake_331.jpg  \n",
            "  inflating: /content/data/data/SeaLake_332.jpg  \n",
            "  inflating: /content/data/data/SeaLake_333.jpg  \n",
            "  inflating: /content/data/data/SeaLake_334.jpg  \n",
            "  inflating: /content/data/data/SeaLake_335.jpg  \n",
            "  inflating: /content/data/data/SeaLake_336.jpg  \n",
            "  inflating: /content/data/data/SeaLake_337.jpg  \n",
            "  inflating: /content/data/data/SeaLake_338.jpg  \n",
            "  inflating: /content/data/data/SeaLake_339.jpg  \n",
            "  inflating: /content/data/data/SeaLake_34.jpg  \n",
            "  inflating: /content/data/data/SeaLake_340.jpg  \n",
            "  inflating: /content/data/data/SeaLake_341.jpg  \n",
            "  inflating: /content/data/data/SeaLake_342.jpg  \n",
            "  inflating: /content/data/data/SeaLake_343.jpg  \n",
            "  inflating: /content/data/data/SeaLake_344.jpg  \n",
            "  inflating: /content/data/data/SeaLake_345.jpg  \n",
            "  inflating: /content/data/data/SeaLake_346.jpg  \n",
            "  inflating: /content/data/data/SeaLake_347.jpg  \n",
            "  inflating: /content/data/data/SeaLake_348.jpg  \n",
            "  inflating: /content/data/data/SeaLake_349.jpg  \n",
            "  inflating: /content/data/data/SeaLake_35.jpg  \n",
            "  inflating: /content/data/data/SeaLake_350.jpg  \n",
            "  inflating: /content/data/data/SeaLake_351.jpg  \n",
            "  inflating: /content/data/data/SeaLake_352.jpg  \n",
            "  inflating: /content/data/data/SeaLake_353.jpg  \n",
            "  inflating: /content/data/data/SeaLake_354.jpg  \n",
            "  inflating: /content/data/data/SeaLake_355.jpg  \n",
            "  inflating: /content/data/data/SeaLake_356.jpg  \n",
            "  inflating: /content/data/data/SeaLake_357.jpg  \n",
            "  inflating: /content/data/data/SeaLake_358.jpg  \n",
            "  inflating: /content/data/data/SeaLake_359.jpg  \n",
            "  inflating: /content/data/data/SeaLake_36.jpg  \n",
            "  inflating: /content/data/data/SeaLake_360.jpg  \n",
            "  inflating: /content/data/data/SeaLake_361.jpg  \n",
            "  inflating: /content/data/data/SeaLake_362.jpg  \n",
            "  inflating: /content/data/data/SeaLake_363.jpg  \n",
            "  inflating: /content/data/data/SeaLake_364.jpg  \n",
            "  inflating: /content/data/data/SeaLake_365.jpg  \n",
            "  inflating: /content/data/data/SeaLake_366.jpg  \n",
            "  inflating: /content/data/data/SeaLake_367.jpg  \n",
            "  inflating: /content/data/data/SeaLake_368.jpg  \n",
            "  inflating: /content/data/data/SeaLake_369.jpg  \n",
            "  inflating: /content/data/data/SeaLake_37.jpg  \n",
            "  inflating: /content/data/data/SeaLake_370.jpg  \n",
            "  inflating: /content/data/data/SeaLake_371.jpg  \n",
            "  inflating: /content/data/data/SeaLake_372.jpg  \n",
            "  inflating: /content/data/data/SeaLake_373.jpg  \n",
            "  inflating: /content/data/data/SeaLake_374.jpg  \n",
            "  inflating: /content/data/data/SeaLake_375.jpg  \n",
            "  inflating: /content/data/data/SeaLake_376.jpg  \n",
            "  inflating: /content/data/data/SeaLake_377.jpg  \n",
            "  inflating: /content/data/data/SeaLake_378.jpg  \n",
            "  inflating: /content/data/data/SeaLake_379.jpg  \n",
            "  inflating: /content/data/data/SeaLake_38.jpg  \n",
            "  inflating: /content/data/data/SeaLake_380.jpg  \n",
            "  inflating: /content/data/data/SeaLake_381.jpg  \n",
            "  inflating: /content/data/data/SeaLake_382.jpg  \n",
            "  inflating: /content/data/data/SeaLake_383.jpg  \n",
            "  inflating: /content/data/data/SeaLake_384.jpg  \n",
            "  inflating: /content/data/data/SeaLake_385.jpg  \n",
            "  inflating: /content/data/data/SeaLake_386.jpg  \n",
            "  inflating: /content/data/data/SeaLake_387.jpg  \n",
            "  inflating: /content/data/data/SeaLake_388.jpg  \n",
            "  inflating: /content/data/data/SeaLake_389.jpg  \n",
            "  inflating: /content/data/data/SeaLake_39.jpg  \n",
            "  inflating: /content/data/data/SeaLake_390.jpg  \n",
            "  inflating: /content/data/data/SeaLake_391.jpg  \n",
            "  inflating: /content/data/data/SeaLake_392.jpg  \n",
            "  inflating: /content/data/data/SeaLake_393.jpg  \n",
            "  inflating: /content/data/data/SeaLake_394.jpg  \n",
            "  inflating: /content/data/data/SeaLake_395.jpg  \n",
            "  inflating: /content/data/data/SeaLake_396.jpg  \n",
            "  inflating: /content/data/data/SeaLake_397.jpg  \n",
            "  inflating: /content/data/data/SeaLake_398.jpg  \n",
            "  inflating: /content/data/data/SeaLake_399.jpg  \n",
            "  inflating: /content/data/data/SeaLake_4.jpg  \n",
            "  inflating: /content/data/data/SeaLake_40.jpg  \n",
            "  inflating: /content/data/data/SeaLake_400.jpg  \n",
            "  inflating: /content/data/data/SeaLake_401.jpg  \n",
            "  inflating: /content/data/data/SeaLake_402.jpg  \n",
            "  inflating: /content/data/data/SeaLake_403.jpg  \n",
            "  inflating: /content/data/data/SeaLake_404.jpg  \n",
            "  inflating: /content/data/data/SeaLake_405.jpg  \n",
            "  inflating: /content/data/data/SeaLake_406.jpg  \n",
            "  inflating: /content/data/data/SeaLake_407.jpg  \n",
            "  inflating: /content/data/data/SeaLake_408.jpg  \n",
            "  inflating: /content/data/data/SeaLake_409.jpg  \n",
            "  inflating: /content/data/data/SeaLake_41.jpg  \n",
            "  inflating: /content/data/data/SeaLake_410.jpg  \n",
            "  inflating: /content/data/data/SeaLake_411.jpg  \n",
            "  inflating: /content/data/data/SeaLake_412.jpg  \n",
            "  inflating: /content/data/data/SeaLake_413.jpg  \n",
            "  inflating: /content/data/data/SeaLake_414.jpg  \n",
            "  inflating: /content/data/data/SeaLake_415.jpg  \n",
            "  inflating: /content/data/data/SeaLake_416.jpg  \n",
            "  inflating: /content/data/data/SeaLake_417.jpg  \n",
            "  inflating: /content/data/data/SeaLake_418.jpg  \n",
            "  inflating: /content/data/data/SeaLake_419.jpg  \n",
            "  inflating: /content/data/data/SeaLake_42.jpg  \n",
            "  inflating: /content/data/data/SeaLake_420.jpg  \n",
            "  inflating: /content/data/data/SeaLake_421.jpg  \n",
            "  inflating: /content/data/data/SeaLake_422.jpg  \n",
            "  inflating: /content/data/data/SeaLake_423.jpg  \n",
            "  inflating: /content/data/data/SeaLake_424.jpg  \n",
            "  inflating: /content/data/data/SeaLake_425.jpg  \n",
            "  inflating: /content/data/data/SeaLake_426.jpg  \n",
            "  inflating: /content/data/data/SeaLake_427.jpg  \n",
            "  inflating: /content/data/data/SeaLake_428.jpg  \n",
            "  inflating: /content/data/data/SeaLake_429.jpg  \n",
            "  inflating: /content/data/data/SeaLake_43.jpg  \n",
            "  inflating: /content/data/data/SeaLake_430.jpg  \n",
            "  inflating: /content/data/data/SeaLake_431.jpg  \n",
            "  inflating: /content/data/data/SeaLake_432.jpg  \n",
            "  inflating: /content/data/data/SeaLake_433.jpg  \n",
            "  inflating: /content/data/data/SeaLake_434.jpg  \n",
            "  inflating: /content/data/data/SeaLake_435.jpg  \n",
            "  inflating: /content/data/data/SeaLake_436.jpg  \n",
            "  inflating: /content/data/data/SeaLake_437.jpg  \n",
            "  inflating: /content/data/data/SeaLake_438.jpg  \n",
            "  inflating: /content/data/data/SeaLake_439.jpg  \n",
            "  inflating: /content/data/data/SeaLake_44.jpg  \n",
            "  inflating: /content/data/data/SeaLake_440.jpg  \n",
            "  inflating: /content/data/data/SeaLake_441.jpg  \n",
            "  inflating: /content/data/data/SeaLake_442.jpg  \n",
            "  inflating: /content/data/data/SeaLake_443.jpg  \n",
            "  inflating: /content/data/data/SeaLake_444.jpg  \n",
            "  inflating: /content/data/data/SeaLake_445.jpg  \n",
            "  inflating: /content/data/data/SeaLake_446.jpg  \n",
            "  inflating: /content/data/data/SeaLake_447.jpg  \n",
            "  inflating: /content/data/data/SeaLake_448.jpg  \n",
            "  inflating: /content/data/data/SeaLake_449.jpg  \n",
            "  inflating: /content/data/data/SeaLake_45.jpg  \n",
            "  inflating: /content/data/data/SeaLake_450.jpg  \n",
            "  inflating: /content/data/data/SeaLake_451.jpg  \n",
            "  inflating: /content/data/data/SeaLake_452.jpg  \n",
            "  inflating: /content/data/data/SeaLake_453.jpg  \n",
            "  inflating: /content/data/data/SeaLake_454.jpg  \n",
            "  inflating: /content/data/data/SeaLake_455.jpg  \n",
            "  inflating: /content/data/data/SeaLake_456.jpg  \n",
            "  inflating: /content/data/data/SeaLake_457.jpg  \n",
            "  inflating: /content/data/data/SeaLake_458.jpg  \n",
            "  inflating: /content/data/data/SeaLake_459.jpg  \n",
            "  inflating: /content/data/data/SeaLake_46.jpg  \n",
            "  inflating: /content/data/data/SeaLake_460.jpg  \n",
            "  inflating: /content/data/data/SeaLake_461.jpg  \n",
            "  inflating: /content/data/data/SeaLake_462.jpg  \n",
            "  inflating: /content/data/data/SeaLake_463.jpg  \n",
            "  inflating: /content/data/data/SeaLake_464.jpg  \n",
            "  inflating: /content/data/data/SeaLake_465.jpg  \n",
            "  inflating: /content/data/data/SeaLake_466.jpg  \n",
            "  inflating: /content/data/data/SeaLake_467.jpg  \n",
            "  inflating: /content/data/data/SeaLake_468.jpg  \n",
            "  inflating: /content/data/data/SeaLake_469.jpg  \n",
            "  inflating: /content/data/data/SeaLake_47.jpg  \n",
            "  inflating: /content/data/data/SeaLake_470.jpg  \n",
            "  inflating: /content/data/data/SeaLake_471.jpg  \n",
            "  inflating: /content/data/data/SeaLake_472.jpg  \n",
            "  inflating: /content/data/data/SeaLake_473.jpg  \n",
            "  inflating: /content/data/data/SeaLake_474.jpg  \n",
            "  inflating: /content/data/data/SeaLake_475.jpg  \n",
            "  inflating: /content/data/data/SeaLake_476.jpg  \n",
            "  inflating: /content/data/data/SeaLake_477.jpg  \n",
            "  inflating: /content/data/data/SeaLake_478.jpg  \n",
            "  inflating: /content/data/data/SeaLake_479.jpg  \n",
            "  inflating: /content/data/data/SeaLake_48.jpg  \n",
            "  inflating: /content/data/data/SeaLake_480.jpg  \n",
            "  inflating: /content/data/data/SeaLake_481.jpg  \n",
            "  inflating: /content/data/data/SeaLake_482.jpg  \n",
            "  inflating: /content/data/data/SeaLake_483.jpg  \n",
            "  inflating: /content/data/data/SeaLake_484.jpg  \n",
            "  inflating: /content/data/data/SeaLake_485.jpg  \n",
            "  inflating: /content/data/data/SeaLake_486.jpg  \n",
            "  inflating: /content/data/data/SeaLake_487.jpg  \n",
            "  inflating: /content/data/data/SeaLake_488.jpg  \n",
            "  inflating: /content/data/data/SeaLake_489.jpg  \n",
            "  inflating: /content/data/data/SeaLake_49.jpg  \n",
            "  inflating: /content/data/data/SeaLake_490.jpg  \n",
            "  inflating: /content/data/data/SeaLake_491.jpg  \n",
            "  inflating: /content/data/data/SeaLake_492.jpg  \n",
            "  inflating: /content/data/data/SeaLake_493.jpg  \n",
            "  inflating: /content/data/data/SeaLake_494.jpg  \n",
            "  inflating: /content/data/data/SeaLake_495.jpg  \n",
            "  inflating: /content/data/data/SeaLake_496.jpg  \n",
            "  inflating: /content/data/data/SeaLake_497.jpg  \n",
            "  inflating: /content/data/data/SeaLake_498.jpg  \n",
            "  inflating: /content/data/data/SeaLake_499.jpg  \n",
            "  inflating: /content/data/data/SeaLake_5.jpg  \n",
            "  inflating: /content/data/data/SeaLake_50.jpg  \n",
            "  inflating: /content/data/data/SeaLake_500.jpg  \n",
            "  inflating: /content/data/data/SeaLake_501.jpg  \n",
            "  inflating: /content/data/data/SeaLake_502.jpg  \n",
            "  inflating: /content/data/data/SeaLake_503.jpg  \n",
            "  inflating: /content/data/data/SeaLake_504.jpg  \n",
            "  inflating: /content/data/data/SeaLake_505.jpg  \n",
            "  inflating: /content/data/data/SeaLake_506.jpg  \n",
            "  inflating: /content/data/data/SeaLake_507.jpg  \n",
            "  inflating: /content/data/data/SeaLake_508.jpg  \n",
            "  inflating: /content/data/data/SeaLake_509.jpg  \n",
            "  inflating: /content/data/data/SeaLake_51.jpg  \n",
            "  inflating: /content/data/data/SeaLake_510.jpg  \n",
            "  inflating: /content/data/data/SeaLake_511.jpg  \n",
            "  inflating: /content/data/data/SeaLake_512.jpg  \n",
            "  inflating: /content/data/data/SeaLake_513.jpg  \n",
            "  inflating: /content/data/data/SeaLake_514.jpg  \n",
            "  inflating: /content/data/data/SeaLake_515.jpg  \n",
            "  inflating: /content/data/data/SeaLake_516.jpg  \n",
            "  inflating: /content/data/data/SeaLake_517.jpg  \n",
            "  inflating: /content/data/data/SeaLake_518.jpg  \n",
            "  inflating: /content/data/data/SeaLake_519.jpg  \n",
            "  inflating: /content/data/data/SeaLake_52.jpg  \n",
            "  inflating: /content/data/data/SeaLake_520.jpg  \n",
            "  inflating: /content/data/data/SeaLake_521.jpg  \n",
            "  inflating: /content/data/data/SeaLake_522.jpg  \n",
            "  inflating: /content/data/data/SeaLake_523.jpg  \n",
            "  inflating: /content/data/data/SeaLake_524.jpg  \n",
            "  inflating: /content/data/data/SeaLake_525.jpg  \n",
            "  inflating: /content/data/data/SeaLake_526.jpg  \n",
            "  inflating: /content/data/data/SeaLake_527.jpg  \n",
            "  inflating: /content/data/data/SeaLake_528.jpg  \n",
            "  inflating: /content/data/data/SeaLake_529.jpg  \n",
            "  inflating: /content/data/data/SeaLake_53.jpg  \n",
            "  inflating: /content/data/data/SeaLake_530.jpg  \n",
            "  inflating: /content/data/data/SeaLake_531.jpg  \n",
            "  inflating: /content/data/data/SeaLake_532.jpg  \n",
            "  inflating: /content/data/data/SeaLake_533.jpg  \n",
            "  inflating: /content/data/data/SeaLake_534.jpg  \n",
            "  inflating: /content/data/data/SeaLake_535.jpg  \n",
            "  inflating: /content/data/data/SeaLake_536.jpg  \n",
            "  inflating: /content/data/data/SeaLake_537.jpg  \n",
            "  inflating: /content/data/data/SeaLake_538.jpg  \n",
            "  inflating: /content/data/data/SeaLake_539.jpg  \n",
            "  inflating: /content/data/data/SeaLake_54.jpg  \n",
            "  inflating: /content/data/data/SeaLake_540.jpg  \n",
            "  inflating: /content/data/data/SeaLake_541.jpg  \n",
            "  inflating: /content/data/data/SeaLake_542.jpg  \n",
            "  inflating: /content/data/data/SeaLake_543.jpg  \n",
            "  inflating: /content/data/data/SeaLake_544.jpg  \n",
            "  inflating: /content/data/data/SeaLake_545.jpg  \n",
            "  inflating: /content/data/data/SeaLake_546.jpg  \n",
            "  inflating: /content/data/data/SeaLake_547.jpg  \n",
            "  inflating: /content/data/data/SeaLake_548.jpg  \n",
            "  inflating: /content/data/data/SeaLake_549.jpg  \n",
            "  inflating: /content/data/data/SeaLake_55.jpg  \n",
            "  inflating: /content/data/data/SeaLake_550.jpg  \n",
            "  inflating: /content/data/data/SeaLake_551.jpg  \n",
            "  inflating: /content/data/data/SeaLake_552.jpg  \n",
            "  inflating: /content/data/data/SeaLake_553.jpg  \n",
            "  inflating: /content/data/data/SeaLake_554.jpg  \n",
            "  inflating: /content/data/data/SeaLake_555.jpg  \n",
            "  inflating: /content/data/data/SeaLake_556.jpg  \n",
            "  inflating: /content/data/data/SeaLake_557.jpg  \n",
            "  inflating: /content/data/data/SeaLake_558.jpg  \n",
            "  inflating: /content/data/data/SeaLake_559.jpg  \n",
            "  inflating: /content/data/data/SeaLake_56.jpg  \n",
            "  inflating: /content/data/data/SeaLake_560.jpg  \n",
            "  inflating: /content/data/data/SeaLake_561.jpg  \n",
            "  inflating: /content/data/data/SeaLake_562.jpg  \n",
            "  inflating: /content/data/data/SeaLake_563.jpg  \n",
            "  inflating: /content/data/data/SeaLake_564.jpg  \n",
            "  inflating: /content/data/data/SeaLake_565.jpg  \n",
            "  inflating: /content/data/data/SeaLake_566.jpg  \n",
            "  inflating: /content/data/data/SeaLake_567.jpg  \n",
            "  inflating: /content/data/data/SeaLake_568.jpg  \n",
            "  inflating: /content/data/data/SeaLake_569.jpg  \n",
            "  inflating: /content/data/data/SeaLake_57.jpg  \n",
            "  inflating: /content/data/data/SeaLake_570.jpg  \n",
            "  inflating: /content/data/data/SeaLake_571.jpg  \n",
            "  inflating: /content/data/data/SeaLake_572.jpg  \n",
            "  inflating: /content/data/data/SeaLake_573.jpg  \n",
            "  inflating: /content/data/data/SeaLake_574.jpg  \n",
            "  inflating: /content/data/data/SeaLake_575.jpg  \n",
            "  inflating: /content/data/data/SeaLake_576.jpg  \n",
            "  inflating: /content/data/data/SeaLake_577.jpg  \n",
            "  inflating: /content/data/data/SeaLake_578.jpg  \n",
            "  inflating: /content/data/data/SeaLake_579.jpg  \n",
            "  inflating: /content/data/data/SeaLake_58.jpg  \n",
            "  inflating: /content/data/data/SeaLake_580.jpg  \n",
            "  inflating: /content/data/data/SeaLake_581.jpg  \n",
            "  inflating: /content/data/data/SeaLake_582.jpg  \n",
            "  inflating: /content/data/data/SeaLake_583.jpg  \n",
            "  inflating: /content/data/data/SeaLake_584.jpg  \n",
            "  inflating: /content/data/data/SeaLake_585.jpg  \n",
            "  inflating: /content/data/data/SeaLake_586.jpg  \n",
            "  inflating: /content/data/data/SeaLake_587.jpg  \n",
            "  inflating: /content/data/data/SeaLake_588.jpg  \n",
            "  inflating: /content/data/data/SeaLake_589.jpg  \n",
            "  inflating: /content/data/data/SeaLake_59.jpg  \n",
            "  inflating: /content/data/data/SeaLake_590.jpg  \n",
            "  inflating: /content/data/data/SeaLake_591.jpg  \n",
            "  inflating: /content/data/data/SeaLake_592.jpg  \n",
            "  inflating: /content/data/data/SeaLake_593.jpg  \n",
            "  inflating: /content/data/data/SeaLake_594.jpg  \n",
            "  inflating: /content/data/data/SeaLake_595.jpg  \n",
            "  inflating: /content/data/data/SeaLake_596.jpg  \n",
            "  inflating: /content/data/data/SeaLake_597.jpg  \n",
            "  inflating: /content/data/data/SeaLake_598.jpg  \n",
            "  inflating: /content/data/data/SeaLake_599.jpg  \n",
            "  inflating: /content/data/data/SeaLake_6.jpg  \n",
            "  inflating: /content/data/data/SeaLake_60.jpg  \n",
            "  inflating: /content/data/data/SeaLake_600.jpg  \n",
            "  inflating: /content/data/data/SeaLake_601.jpg  \n",
            "  inflating: /content/data/data/SeaLake_602.jpg  \n",
            "  inflating: /content/data/data/SeaLake_603.jpg  \n",
            "  inflating: /content/data/data/SeaLake_604.jpg  \n",
            "  inflating: /content/data/data/SeaLake_605.jpg  \n",
            "  inflating: /content/data/data/SeaLake_606.jpg  \n",
            "  inflating: /content/data/data/SeaLake_607.jpg  \n",
            "  inflating: /content/data/data/SeaLake_608.jpg  \n",
            "  inflating: /content/data/data/SeaLake_609.jpg  \n",
            "  inflating: /content/data/data/SeaLake_61.jpg  \n",
            "  inflating: /content/data/data/SeaLake_610.jpg  \n",
            "  inflating: /content/data/data/SeaLake_611.jpg  \n",
            "  inflating: /content/data/data/SeaLake_612.jpg  \n",
            "  inflating: /content/data/data/SeaLake_613.jpg  \n",
            "  inflating: /content/data/data/SeaLake_614.jpg  \n",
            "  inflating: /content/data/data/SeaLake_615.jpg  \n",
            "  inflating: /content/data/data/SeaLake_616.jpg  \n",
            "  inflating: /content/data/data/SeaLake_617.jpg  \n",
            "  inflating: /content/data/data/SeaLake_618.jpg  \n",
            "  inflating: /content/data/data/SeaLake_619.jpg  \n",
            "  inflating: /content/data/data/SeaLake_62.jpg  \n",
            "  inflating: /content/data/data/SeaLake_620.jpg  \n",
            "  inflating: /content/data/data/SeaLake_621.jpg  \n",
            "  inflating: /content/data/data/SeaLake_622.jpg  \n",
            "  inflating: /content/data/data/SeaLake_623.jpg  \n",
            "  inflating: /content/data/data/SeaLake_624.jpg  \n",
            "  inflating: /content/data/data/SeaLake_625.jpg  \n",
            "  inflating: /content/data/data/SeaLake_626.jpg  \n",
            "  inflating: /content/data/data/SeaLake_627.jpg  \n",
            "  inflating: /content/data/data/SeaLake_628.jpg  \n",
            "  inflating: /content/data/data/SeaLake_629.jpg  \n",
            "  inflating: /content/data/data/SeaLake_63.jpg  \n",
            "  inflating: /content/data/data/SeaLake_630.jpg  \n",
            "  inflating: /content/data/data/SeaLake_631.jpg  \n",
            "  inflating: /content/data/data/SeaLake_632.jpg  \n",
            "  inflating: /content/data/data/SeaLake_633.jpg  \n",
            "  inflating: /content/data/data/SeaLake_634.jpg  \n",
            "  inflating: /content/data/data/SeaLake_635.jpg  \n",
            "  inflating: /content/data/data/SeaLake_636.jpg  \n",
            "  inflating: /content/data/data/SeaLake_637.jpg  \n",
            "  inflating: /content/data/data/SeaLake_638.jpg  \n",
            "  inflating: /content/data/data/SeaLake_639.jpg  \n",
            "  inflating: /content/data/data/SeaLake_64.jpg  \n",
            "  inflating: /content/data/data/SeaLake_640.jpg  \n",
            "  inflating: /content/data/data/SeaLake_641.jpg  \n",
            "  inflating: /content/data/data/SeaLake_642.jpg  \n",
            "  inflating: /content/data/data/SeaLake_643.jpg  \n",
            "  inflating: /content/data/data/SeaLake_644.jpg  \n",
            "  inflating: /content/data/data/SeaLake_645.jpg  \n",
            "  inflating: /content/data/data/SeaLake_646.jpg  \n",
            "  inflating: /content/data/data/SeaLake_647.jpg  \n",
            "  inflating: /content/data/data/SeaLake_648.jpg  \n",
            "  inflating: /content/data/data/SeaLake_649.jpg  \n",
            "  inflating: /content/data/data/SeaLake_65.jpg  \n",
            "  inflating: /content/data/data/SeaLake_650.jpg  \n",
            "  inflating: /content/data/data/SeaLake_651.jpg  \n",
            "  inflating: /content/data/data/SeaLake_652.jpg  \n",
            "  inflating: /content/data/data/SeaLake_653.jpg  \n",
            "  inflating: /content/data/data/SeaLake_654.jpg  \n",
            "  inflating: /content/data/data/SeaLake_655.jpg  \n",
            "  inflating: /content/data/data/SeaLake_656.jpg  \n",
            "  inflating: /content/data/data/SeaLake_657.jpg  \n",
            "  inflating: /content/data/data/SeaLake_658.jpg  \n",
            "  inflating: /content/data/data/SeaLake_659.jpg  \n",
            "  inflating: /content/data/data/SeaLake_66.jpg  \n",
            "  inflating: /content/data/data/SeaLake_660.jpg  \n",
            "  inflating: /content/data/data/SeaLake_661.jpg  \n",
            "  inflating: /content/data/data/SeaLake_662.jpg  \n",
            "  inflating: /content/data/data/SeaLake_663.jpg  \n",
            "  inflating: /content/data/data/SeaLake_664.jpg  \n",
            "  inflating: /content/data/data/SeaLake_665.jpg  \n",
            "  inflating: /content/data/data/SeaLake_666.jpg  \n",
            "  inflating: /content/data/data/SeaLake_667.jpg  \n",
            "  inflating: /content/data/data/SeaLake_668.jpg  \n",
            "  inflating: /content/data/data/SeaLake_669.jpg  \n",
            "  inflating: /content/data/data/SeaLake_67.jpg  \n",
            "  inflating: /content/data/data/SeaLake_670.jpg  \n",
            "  inflating: /content/data/data/SeaLake_671.jpg  \n",
            "  inflating: /content/data/data/SeaLake_672.jpg  \n",
            "  inflating: /content/data/data/SeaLake_673.jpg  \n",
            "  inflating: /content/data/data/SeaLake_674.jpg  \n",
            "  inflating: /content/data/data/SeaLake_675.jpg  \n",
            "  inflating: /content/data/data/SeaLake_676.jpg  \n",
            "  inflating: /content/data/data/SeaLake_677.jpg  \n",
            "  inflating: /content/data/data/SeaLake_678.jpg  \n",
            "  inflating: /content/data/data/SeaLake_679.jpg  \n",
            "  inflating: /content/data/data/SeaLake_68.jpg  \n",
            "  inflating: /content/data/data/SeaLake_680.jpg  \n",
            "  inflating: /content/data/data/SeaLake_681.jpg  \n",
            "  inflating: /content/data/data/SeaLake_682.jpg  \n",
            "  inflating: /content/data/data/SeaLake_683.jpg  \n",
            "  inflating: /content/data/data/SeaLake_684.jpg  \n",
            "  inflating: /content/data/data/SeaLake_685.jpg  \n",
            "  inflating: /content/data/data/SeaLake_686.jpg  \n",
            "  inflating: /content/data/data/SeaLake_687.jpg  \n",
            "  inflating: /content/data/data/SeaLake_688.jpg  \n",
            "  inflating: /content/data/data/SeaLake_689.jpg  \n",
            "  inflating: /content/data/data/SeaLake_69.jpg  \n",
            "  inflating: /content/data/data/SeaLake_690.jpg  \n",
            "  inflating: /content/data/data/SeaLake_691.jpg  \n",
            "  inflating: /content/data/data/SeaLake_692.jpg  \n",
            "  inflating: /content/data/data/SeaLake_693.jpg  \n",
            "  inflating: /content/data/data/SeaLake_694.jpg  \n",
            "  inflating: /content/data/data/SeaLake_695.jpg  \n",
            "  inflating: /content/data/data/SeaLake_696.jpg  \n",
            "  inflating: /content/data/data/SeaLake_697.jpg  \n",
            "  inflating: /content/data/data/SeaLake_698.jpg  \n",
            "  inflating: /content/data/data/SeaLake_699.jpg  \n",
            "  inflating: /content/data/data/SeaLake_7.jpg  \n",
            "  inflating: /content/data/data/SeaLake_70.jpg  \n",
            "  inflating: /content/data/data/SeaLake_700.jpg  \n",
            "  inflating: /content/data/data/SeaLake_701.jpg  \n",
            "  inflating: /content/data/data/SeaLake_702.jpg  \n",
            "  inflating: /content/data/data/SeaLake_703.jpg  \n",
            "  inflating: /content/data/data/SeaLake_704.jpg  \n",
            "  inflating: /content/data/data/SeaLake_705.jpg  \n",
            "  inflating: /content/data/data/SeaLake_706.jpg  \n",
            "  inflating: /content/data/data/SeaLake_707.jpg  \n",
            "  inflating: /content/data/data/SeaLake_708.jpg  \n",
            "  inflating: /content/data/data/SeaLake_709.jpg  \n",
            "  inflating: /content/data/data/SeaLake_71.jpg  \n",
            "  inflating: /content/data/data/SeaLake_710.jpg  \n",
            "  inflating: /content/data/data/SeaLake_711.jpg  \n",
            "  inflating: /content/data/data/SeaLake_712.jpg  \n",
            "  inflating: /content/data/data/SeaLake_713.jpg  \n",
            "  inflating: /content/data/data/SeaLake_714.jpg  \n",
            "  inflating: /content/data/data/SeaLake_715.jpg  \n",
            "  inflating: /content/data/data/SeaLake_716.jpg  \n",
            "  inflating: /content/data/data/SeaLake_717.jpg  \n",
            "  inflating: /content/data/data/SeaLake_718.jpg  \n",
            "  inflating: /content/data/data/SeaLake_719.jpg  \n",
            "  inflating: /content/data/data/SeaLake_72.jpg  \n",
            "  inflating: /content/data/data/SeaLake_720.jpg  \n",
            "  inflating: /content/data/data/SeaLake_721.jpg  \n",
            "  inflating: /content/data/data/SeaLake_722.jpg  \n",
            "  inflating: /content/data/data/SeaLake_723.jpg  \n",
            "  inflating: /content/data/data/SeaLake_724.jpg  \n",
            "  inflating: /content/data/data/SeaLake_725.jpg  \n",
            "  inflating: /content/data/data/SeaLake_726.jpg  \n",
            "  inflating: /content/data/data/SeaLake_727.jpg  \n",
            "  inflating: /content/data/data/SeaLake_728.jpg  \n",
            "  inflating: /content/data/data/SeaLake_729.jpg  \n",
            "  inflating: /content/data/data/SeaLake_73.jpg  \n",
            "  inflating: /content/data/data/SeaLake_730.jpg  \n",
            "  inflating: /content/data/data/SeaLake_731.jpg  \n",
            "  inflating: /content/data/data/SeaLake_732.jpg  \n",
            "  inflating: /content/data/data/SeaLake_733.jpg  \n",
            "  inflating: /content/data/data/SeaLake_734.jpg  \n",
            "  inflating: /content/data/data/SeaLake_735.jpg  \n",
            "  inflating: /content/data/data/SeaLake_736.jpg  \n",
            "  inflating: /content/data/data/SeaLake_737.jpg  \n",
            "  inflating: /content/data/data/SeaLake_738.jpg  \n",
            "  inflating: /content/data/data/SeaLake_739.jpg  \n",
            "  inflating: /content/data/data/SeaLake_74.jpg  \n",
            "  inflating: /content/data/data/SeaLake_740.jpg  \n",
            "  inflating: /content/data/data/SeaLake_741.jpg  \n",
            "  inflating: /content/data/data/SeaLake_742.jpg  \n",
            "  inflating: /content/data/data/SeaLake_743.jpg  \n",
            "  inflating: /content/data/data/SeaLake_744.jpg  \n",
            "  inflating: /content/data/data/SeaLake_745.jpg  \n",
            "  inflating: /content/data/data/SeaLake_746.jpg  \n",
            "  inflating: /content/data/data/SeaLake_747.jpg  \n",
            "  inflating: /content/data/data/SeaLake_748.jpg  \n",
            "  inflating: /content/data/data/SeaLake_749.jpg  \n",
            "  inflating: /content/data/data/SeaLake_75.jpg  \n",
            "  inflating: /content/data/data/SeaLake_750.jpg  \n",
            "  inflating: /content/data/data/SeaLake_751.jpg  \n",
            "  inflating: /content/data/data/SeaLake_752.jpg  \n",
            "  inflating: /content/data/data/SeaLake_753.jpg  \n",
            "  inflating: /content/data/data/SeaLake_754.jpg  \n",
            "  inflating: /content/data/data/SeaLake_755.jpg  \n",
            "  inflating: /content/data/data/SeaLake_756.jpg  \n",
            "  inflating: /content/data/data/SeaLake_757.jpg  \n",
            "  inflating: /content/data/data/SeaLake_758.jpg  \n",
            "  inflating: /content/data/data/SeaLake_759.jpg  \n",
            "  inflating: /content/data/data/SeaLake_76.jpg  \n",
            "  inflating: /content/data/data/SeaLake_760.jpg  \n",
            "  inflating: /content/data/data/SeaLake_761.jpg  \n",
            "  inflating: /content/data/data/SeaLake_762.jpg  \n",
            "  inflating: /content/data/data/SeaLake_763.jpg  \n",
            "  inflating: /content/data/data/SeaLake_764.jpg  \n",
            "  inflating: /content/data/data/SeaLake_765.jpg  \n",
            "  inflating: /content/data/data/SeaLake_766.jpg  \n",
            "  inflating: /content/data/data/SeaLake_767.jpg  \n",
            "  inflating: /content/data/data/SeaLake_768.jpg  \n",
            "  inflating: /content/data/data/SeaLake_769.jpg  \n",
            "  inflating: /content/data/data/SeaLake_77.jpg  \n",
            "  inflating: /content/data/data/SeaLake_770.jpg  \n",
            "  inflating: /content/data/data/SeaLake_771.jpg  \n",
            "  inflating: /content/data/data/SeaLake_772.jpg  \n",
            "  inflating: /content/data/data/SeaLake_773.jpg  \n",
            "  inflating: /content/data/data/SeaLake_774.jpg  \n",
            "  inflating: /content/data/data/SeaLake_775.jpg  \n",
            "  inflating: /content/data/data/SeaLake_776.jpg  \n",
            "  inflating: /content/data/data/SeaLake_777.jpg  \n",
            "  inflating: /content/data/data/SeaLake_778.jpg  \n",
            "  inflating: /content/data/data/SeaLake_779.jpg  \n",
            "  inflating: /content/data/data/SeaLake_78.jpg  \n",
            "  inflating: /content/data/data/SeaLake_780.jpg  \n",
            "  inflating: /content/data/data/SeaLake_781.jpg  \n",
            "  inflating: /content/data/data/SeaLake_782.jpg  \n",
            "  inflating: /content/data/data/SeaLake_783.jpg  \n",
            "  inflating: /content/data/data/SeaLake_784.jpg  \n",
            "  inflating: /content/data/data/SeaLake_785.jpg  \n",
            "  inflating: /content/data/data/SeaLake_786.jpg  \n",
            "  inflating: /content/data/data/SeaLake_787.jpg  \n",
            "  inflating: /content/data/data/SeaLake_788.jpg  \n",
            "  inflating: /content/data/data/SeaLake_789.jpg  \n",
            "  inflating: /content/data/data/SeaLake_79.jpg  \n",
            "  inflating: /content/data/data/SeaLake_790.jpg  \n",
            "  inflating: /content/data/data/SeaLake_791.jpg  \n",
            "  inflating: /content/data/data/SeaLake_792.jpg  \n",
            "  inflating: /content/data/data/SeaLake_793.jpg  \n",
            "  inflating: /content/data/data/SeaLake_794.jpg  \n",
            "  inflating: /content/data/data/SeaLake_795.jpg  \n",
            "  inflating: /content/data/data/SeaLake_796.jpg  \n",
            "  inflating: /content/data/data/SeaLake_797.jpg  \n",
            "  inflating: /content/data/data/SeaLake_798.jpg  \n",
            "  inflating: /content/data/data/SeaLake_799.jpg  \n",
            "  inflating: /content/data/data/SeaLake_8.jpg  \n",
            "  inflating: /content/data/data/SeaLake_80.jpg  \n",
            "  inflating: /content/data/data/SeaLake_800.jpg  \n",
            "  inflating: /content/data/data/SeaLake_801.jpg  \n",
            "  inflating: /content/data/data/SeaLake_802.jpg  \n",
            "  inflating: /content/data/data/SeaLake_803.jpg  \n",
            "  inflating: /content/data/data/SeaLake_804.jpg  \n",
            "  inflating: /content/data/data/SeaLake_805.jpg  \n",
            "  inflating: /content/data/data/SeaLake_806.jpg  \n",
            "  inflating: /content/data/data/SeaLake_807.jpg  \n",
            "  inflating: /content/data/data/SeaLake_808.jpg  \n",
            "  inflating: /content/data/data/SeaLake_809.jpg  \n",
            "  inflating: /content/data/data/SeaLake_81.jpg  \n",
            "  inflating: /content/data/data/SeaLake_810.jpg  \n",
            "  inflating: /content/data/data/SeaLake_811.jpg  \n",
            "  inflating: /content/data/data/SeaLake_812.jpg  \n",
            "  inflating: /content/data/data/SeaLake_813.jpg  \n",
            "  inflating: /content/data/data/SeaLake_814.jpg  \n",
            "  inflating: /content/data/data/SeaLake_815.jpg  \n",
            "  inflating: /content/data/data/SeaLake_816.jpg  \n",
            "  inflating: /content/data/data/SeaLake_817.jpg  \n",
            "  inflating: /content/data/data/SeaLake_818.jpg  \n",
            "  inflating: /content/data/data/SeaLake_819.jpg  \n",
            "  inflating: /content/data/data/SeaLake_82.jpg  \n",
            "  inflating: /content/data/data/SeaLake_820.jpg  \n",
            "  inflating: /content/data/data/SeaLake_821.jpg  \n",
            "  inflating: /content/data/data/SeaLake_822.jpg  \n",
            "  inflating: /content/data/data/SeaLake_823.jpg  \n",
            "  inflating: /content/data/data/SeaLake_824.jpg  \n",
            "  inflating: /content/data/data/SeaLake_825.jpg  \n",
            "  inflating: /content/data/data/SeaLake_826.jpg  \n",
            "  inflating: /content/data/data/SeaLake_827.jpg  \n",
            "  inflating: /content/data/data/SeaLake_828.jpg  \n",
            "  inflating: /content/data/data/SeaLake_829.jpg  \n",
            "  inflating: /content/data/data/SeaLake_83.jpg  \n",
            "  inflating: /content/data/data/SeaLake_830.jpg  \n",
            "  inflating: /content/data/data/SeaLake_831.jpg  \n",
            "  inflating: /content/data/data/SeaLake_832.jpg  \n",
            "  inflating: /content/data/data/SeaLake_833.jpg  \n",
            "  inflating: /content/data/data/SeaLake_834.jpg  \n",
            "  inflating: /content/data/data/SeaLake_835.jpg  \n",
            "  inflating: /content/data/data/SeaLake_836.jpg  \n",
            "  inflating: /content/data/data/SeaLake_837.jpg  \n",
            "  inflating: /content/data/data/SeaLake_838.jpg  \n",
            "  inflating: /content/data/data/SeaLake_839.jpg  \n",
            "  inflating: /content/data/data/SeaLake_84.jpg  \n",
            "  inflating: /content/data/data/SeaLake_840.jpg  \n",
            "  inflating: /content/data/data/SeaLake_841.jpg  \n",
            "  inflating: /content/data/data/SeaLake_842.jpg  \n",
            "  inflating: /content/data/data/SeaLake_843.jpg  \n",
            "  inflating: /content/data/data/SeaLake_844.jpg  \n",
            "  inflating: /content/data/data/SeaLake_845.jpg  \n",
            "  inflating: /content/data/data/SeaLake_846.jpg  \n",
            "  inflating: /content/data/data/SeaLake_847.jpg  \n",
            "  inflating: /content/data/data/SeaLake_848.jpg  \n",
            "  inflating: /content/data/data/SeaLake_849.jpg  \n",
            "  inflating: /content/data/data/SeaLake_85.jpg  \n",
            "  inflating: /content/data/data/SeaLake_850.jpg  \n",
            "  inflating: /content/data/data/SeaLake_851.jpg  \n",
            "  inflating: /content/data/data/SeaLake_852.jpg  \n",
            "  inflating: /content/data/data/SeaLake_853.jpg  \n",
            "  inflating: /content/data/data/SeaLake_854.jpg  \n",
            "  inflating: /content/data/data/SeaLake_855.jpg  \n",
            "  inflating: /content/data/data/SeaLake_856.jpg  \n",
            "  inflating: /content/data/data/SeaLake_857.jpg  \n",
            "  inflating: /content/data/data/SeaLake_858.jpg  \n",
            "  inflating: /content/data/data/SeaLake_859.jpg  \n",
            "  inflating: /content/data/data/SeaLake_86.jpg  \n",
            "  inflating: /content/data/data/SeaLake_860.jpg  \n",
            "  inflating: /content/data/data/SeaLake_861.jpg  \n",
            "  inflating: /content/data/data/SeaLake_862.jpg  \n",
            "  inflating: /content/data/data/SeaLake_863.jpg  \n",
            "  inflating: /content/data/data/SeaLake_864.jpg  \n",
            "  inflating: /content/data/data/SeaLake_865.jpg  \n",
            "  inflating: /content/data/data/SeaLake_866.jpg  \n",
            "  inflating: /content/data/data/SeaLake_867.jpg  \n",
            "  inflating: /content/data/data/SeaLake_868.jpg  \n",
            "  inflating: /content/data/data/SeaLake_869.jpg  \n",
            "  inflating: /content/data/data/SeaLake_87.jpg  \n",
            "  inflating: /content/data/data/SeaLake_870.jpg  \n",
            "  inflating: /content/data/data/SeaLake_871.jpg  \n",
            "  inflating: /content/data/data/SeaLake_872.jpg  \n",
            "  inflating: /content/data/data/SeaLake_873.jpg  \n",
            "  inflating: /content/data/data/SeaLake_874.jpg  \n",
            "  inflating: /content/data/data/SeaLake_875.jpg  \n",
            "  inflating: /content/data/data/SeaLake_876.jpg  \n",
            "  inflating: /content/data/data/SeaLake_877.jpg  \n",
            "  inflating: /content/data/data/SeaLake_878.jpg  \n",
            "  inflating: /content/data/data/SeaLake_879.jpg  \n",
            "  inflating: /content/data/data/SeaLake_88.jpg  \n",
            "  inflating: /content/data/data/SeaLake_880.jpg  \n",
            "  inflating: /content/data/data/SeaLake_881.jpg  \n",
            "  inflating: /content/data/data/SeaLake_882.jpg  \n",
            "  inflating: /content/data/data/SeaLake_883.jpg  \n",
            "  inflating: /content/data/data/SeaLake_884.jpg  \n",
            "  inflating: /content/data/data/SeaLake_885.jpg  \n",
            "  inflating: /content/data/data/SeaLake_886.jpg  \n",
            "  inflating: /content/data/data/SeaLake_887.jpg  \n",
            "  inflating: /content/data/data/SeaLake_888.jpg  \n",
            "  inflating: /content/data/data/SeaLake_889.jpg  \n",
            "  inflating: /content/data/data/SeaLake_89.jpg  \n",
            "  inflating: /content/data/data/SeaLake_890.jpg  \n",
            "  inflating: /content/data/data/SeaLake_891.jpg  \n",
            "  inflating: /content/data/data/SeaLake_892.jpg  \n",
            "  inflating: /content/data/data/SeaLake_893.jpg  \n",
            "  inflating: /content/data/data/SeaLake_894.jpg  \n",
            "  inflating: /content/data/data/SeaLake_895.jpg  \n",
            "  inflating: /content/data/data/SeaLake_896.jpg  \n",
            "  inflating: /content/data/data/SeaLake_897.jpg  \n",
            "  inflating: /content/data/data/SeaLake_898.jpg  \n",
            "  inflating: /content/data/data/SeaLake_899.jpg  \n",
            "  inflating: /content/data/data/SeaLake_9.jpg  \n",
            "  inflating: /content/data/data/SeaLake_90.jpg  \n",
            "  inflating: /content/data/data/SeaLake_900.jpg  \n",
            "  inflating: /content/data/data/SeaLake_901.jpg  \n",
            "  inflating: /content/data/data/SeaLake_902.jpg  \n",
            "  inflating: /content/data/data/SeaLake_903.jpg  \n",
            "  inflating: /content/data/data/SeaLake_904.jpg  \n",
            "  inflating: /content/data/data/SeaLake_905.jpg  \n",
            "  inflating: /content/data/data/SeaLake_906.jpg  \n",
            "  inflating: /content/data/data/SeaLake_907.jpg  \n",
            "  inflating: /content/data/data/SeaLake_908.jpg  \n",
            "  inflating: /content/data/data/SeaLake_909.jpg  \n",
            "  inflating: /content/data/data/SeaLake_91.jpg  \n",
            "  inflating: /content/data/data/SeaLake_910.jpg  \n",
            "  inflating: /content/data/data/SeaLake_911.jpg  \n",
            "  inflating: /content/data/data/SeaLake_912.jpg  \n",
            "  inflating: /content/data/data/SeaLake_913.jpg  \n",
            "  inflating: /content/data/data/SeaLake_914.jpg  \n",
            "  inflating: /content/data/data/SeaLake_915.jpg  \n",
            "  inflating: /content/data/data/SeaLake_916.jpg  \n",
            "  inflating: /content/data/data/SeaLake_917.jpg  \n",
            "  inflating: /content/data/data/SeaLake_918.jpg  \n",
            "  inflating: /content/data/data/SeaLake_919.jpg  \n",
            "  inflating: /content/data/data/SeaLake_92.jpg  \n",
            "  inflating: /content/data/data/SeaLake_920.jpg  \n",
            "  inflating: /content/data/data/SeaLake_921.jpg  \n",
            "  inflating: /content/data/data/SeaLake_922.jpg  \n",
            "  inflating: /content/data/data/SeaLake_923.jpg  \n",
            "  inflating: /content/data/data/SeaLake_924.jpg  \n",
            "  inflating: /content/data/data/SeaLake_925.jpg  \n",
            "  inflating: /content/data/data/SeaLake_926.jpg  \n",
            "  inflating: /content/data/data/SeaLake_927.jpg  \n",
            "  inflating: /content/data/data/SeaLake_928.jpg  \n",
            "  inflating: /content/data/data/SeaLake_929.jpg  \n",
            "  inflating: /content/data/data/SeaLake_93.jpg  \n",
            "  inflating: /content/data/data/SeaLake_930.jpg  \n",
            "  inflating: /content/data/data/SeaLake_931.jpg  \n",
            "  inflating: /content/data/data/SeaLake_932.jpg  \n",
            "  inflating: /content/data/data/SeaLake_933.jpg  \n",
            "  inflating: /content/data/data/SeaLake_934.jpg  \n",
            "  inflating: /content/data/data/SeaLake_935.jpg  \n",
            "  inflating: /content/data/data/SeaLake_936.jpg  \n",
            "  inflating: /content/data/data/SeaLake_937.jpg  \n",
            "  inflating: /content/data/data/SeaLake_938.jpg  \n",
            "  inflating: /content/data/data/SeaLake_939.jpg  \n",
            "  inflating: /content/data/data/SeaLake_94.jpg  \n",
            "  inflating: /content/data/data/SeaLake_940.jpg  \n",
            "  inflating: /content/data/data/SeaLake_941.jpg  \n",
            "  inflating: /content/data/data/SeaLake_942.jpg  \n",
            "  inflating: /content/data/data/SeaLake_943.jpg  \n",
            "  inflating: /content/data/data/SeaLake_944.jpg  \n",
            "  inflating: /content/data/data/SeaLake_945.jpg  \n",
            "  inflating: /content/data/data/SeaLake_946.jpg  \n",
            "  inflating: /content/data/data/SeaLake_947.jpg  \n",
            "  inflating: /content/data/data/SeaLake_948.jpg  \n",
            "  inflating: /content/data/data/SeaLake_949.jpg  \n",
            "  inflating: /content/data/data/SeaLake_95.jpg  \n",
            "  inflating: /content/data/data/SeaLake_950.jpg  \n",
            "  inflating: /content/data/data/SeaLake_951.jpg  \n",
            "  inflating: /content/data/data/SeaLake_952.jpg  \n",
            "  inflating: /content/data/data/SeaLake_953.jpg  \n",
            "  inflating: /content/data/data/SeaLake_954.jpg  \n",
            "  inflating: /content/data/data/SeaLake_955.jpg  \n",
            "  inflating: /content/data/data/SeaLake_956.jpg  \n",
            "  inflating: /content/data/data/SeaLake_957.jpg  \n",
            "  inflating: /content/data/data/SeaLake_958.jpg  \n",
            "  inflating: /content/data/data/SeaLake_959.jpg  \n",
            "  inflating: /content/data/data/SeaLake_96.jpg  \n",
            "  inflating: /content/data/data/SeaLake_960.jpg  \n",
            "  inflating: /content/data/data/SeaLake_961.jpg  \n",
            "  inflating: /content/data/data/SeaLake_962.jpg  \n",
            "  inflating: /content/data/data/SeaLake_963.jpg  \n",
            "  inflating: /content/data/data/SeaLake_964.jpg  \n",
            "  inflating: /content/data/data/SeaLake_965.jpg  \n",
            "  inflating: /content/data/data/SeaLake_966.jpg  \n",
            "  inflating: /content/data/data/SeaLake_967.jpg  \n",
            "  inflating: /content/data/data/SeaLake_968.jpg  \n",
            "  inflating: /content/data/data/SeaLake_969.jpg  \n",
            "  inflating: /content/data/data/SeaLake_97.jpg  \n",
            "  inflating: /content/data/data/SeaLake_970.jpg  \n",
            "  inflating: /content/data/data/SeaLake_971.jpg  \n",
            "  inflating: /content/data/data/SeaLake_972.jpg  \n",
            "  inflating: /content/data/data/SeaLake_973.jpg  \n",
            "  inflating: /content/data/data/SeaLake_974.jpg  \n",
            "  inflating: /content/data/data/SeaLake_975.jpg  \n",
            "  inflating: /content/data/data/SeaLake_976.jpg  \n",
            "  inflating: /content/data/data/SeaLake_977.jpg  \n",
            "  inflating: /content/data/data/SeaLake_978.jpg  \n",
            "  inflating: /content/data/data/SeaLake_979.jpg  \n",
            "  inflating: /content/data/data/SeaLake_98.jpg  \n",
            "  inflating: /content/data/data/SeaLake_980.jpg  \n",
            "  inflating: /content/data/data/SeaLake_981.jpg  \n",
            "  inflating: /content/data/data/SeaLake_982.jpg  \n",
            "  inflating: /content/data/data/SeaLake_983.jpg  \n",
            "  inflating: /content/data/data/SeaLake_984.jpg  \n",
            "  inflating: /content/data/data/SeaLake_985.jpg  \n",
            "  inflating: /content/data/data/SeaLake_986.jpg  \n",
            "  inflating: /content/data/data/SeaLake_987.jpg  \n",
            "  inflating: /content/data/data/SeaLake_988.jpg  \n",
            "  inflating: /content/data/data/SeaLake_989.jpg  \n",
            "  inflating: /content/data/data/SeaLake_99.jpg  \n",
            "  inflating: /content/data/data/SeaLake_990.jpg  \n",
            "  inflating: /content/data/data/SeaLake_991.jpg  \n",
            "  inflating: /content/data/data/SeaLake_992.jpg  \n",
            "  inflating: /content/data/data/SeaLake_993.jpg  \n",
            "  inflating: /content/data/data/SeaLake_994.jpg  \n",
            "  inflating: /content/data/data/SeaLake_995.jpg  \n",
            "  inflating: /content/data/data/SeaLake_996.jpg  \n",
            "  inflating: /content/data/data/SeaLake_997.jpg  \n",
            "  inflating: /content/data/data/SeaLake_998.jpg  \n",
            "  inflating: /content/data/data/SeaLake_999.jpg  \n"
          ],
          "name": "stdout"
        }
      ]
    },
    {
      "cell_type": "code",
      "metadata": {
        "colab": {
          "base_uri": "https://localhost:8080/"
        },
        "id": "qAFabsHxzqfN",
        "outputId": "c2aa05c6-3982-4d11-e790-ef5be57a7ae2"
      },
      "source": [
        "import tensorflow as tf\n",
        "print(tf.__version__)\n",
        "from sklearn.preprocessing import LabelBinarizer\n",
        "from sklearn.model_selection import train_test_split\n",
        "from PIL import Image\n",
        "import math\n",
        "import numpy as np\n",
        "import cv2\n",
        "import matplotlib.pyplot as plt\n",
        "import os\n"
      ],
      "execution_count": null,
      "outputs": [
        {
          "output_type": "stream",
          "text": [
            "2.4.1\n"
          ],
          "name": "stdout"
        }
      ]
    },
    {
      "cell_type": "code",
      "metadata": {
        "id": "Ddo3B6RWlogV",
        "colab": {
          "base_uri": "https://localhost:8080/"
        },
        "outputId": "f1d70ee6-c920-49fe-f288-61f5df8e95bb"
      },
      "source": [
        "directory='/content/data/data/'\n",
        "def data_label():\n",
        " \n",
        "  samples=[]\n",
        "  labels=[]\n",
        "\n",
        "  for filename in os.listdir(directory):\n",
        "       \n",
        "    image_orig=Image.open('/content/data/data/'+filename,'r')\n",
        "    img=np.array(image_orig)\n",
        "    name_split=filename.strip().split('.')\n",
        "    split=name_split[0].split('_')\n",
        "    labels.append(split[0])\n",
        "    samples.append(img)\n",
        "\n",
        "  return  samples,labels\n",
        " \n",
        "samples,labels=data_label()\n",
        "print(len(samples))\n",
        "print(len(labels))\n",
        "   "
      ],
      "execution_count": null,
      "outputs": [
        {
          "output_type": "stream",
          "text": [
            "27000\n",
            "27000\n"
          ],
          "name": "stdout"
        }
      ]
    },
    {
      "cell_type": "code",
      "metadata": {
        "id": "wRUCZmbuuFyq",
        "colab": {
          "base_uri": "https://localhost:8080/",
          "height": 300
        },
        "outputId": "49002d3f-b051-4d6a-eb49-08d060a5e754"
      },
      "source": [
        "from sklearn.preprocessing import LabelBinarizer\n",
        "from sklearn.model_selection import train_test_split\n",
        "samples = np.array(samples,dtype='float' )/255\n",
        "labels = np.array(labels)\n",
        "lb = LabelBinarizer()\n",
        "labels = lb.fit_transform(labels)\n",
        "samples.shape\n",
        "lb.classes_\n",
        "\n",
        "plt.imshow(samples[5])\n",
        "print(labels[5])\n",
        "print(len(lb.classes_))"
      ],
      "execution_count": null,
      "outputs": [
        {
          "output_type": "stream",
          "text": [
            "[1 0 0 0 0 0 0 0 0 0]\n",
            "10\n"
          ],
          "name": "stdout"
        },
        {
          "output_type": "display_data",
          "data": {
            "image/png": "[encoded data removed]",
            "text/plain": [
              "<Figure size 432x288 with 1 Axes>"
            ]
          },
          "metadata": {
            "tags": [],
            "needs_background": "light"
          }
        }
      ]
    },
    {
      "cell_type": "code",
      "metadata": {
        "id": "pRCvPCopwQwb"
      },
      "source": [
        "from sklearn.model_selection import train_test_split\n",
        "trainx,testx,trainy,testy = train_test_split(samples, labels, test_size=0.2, random_state=42)"
      ],
      "execution_count": null,
      "outputs": []
    },
    {
      "cell_type": "code",
      "metadata": {
        "id": "__JUqXBhwTKj"
      },
      "source": [
        "trainx=trainx.reshape(trainx.shape[0],64,64,3)\n",
        "testx=testx.reshape(testx.shape[0],64,64,3)\n"
      ],
      "execution_count": null,
      "outputs": []
    },
    {
      "cell_type": "code",
      "metadata": {
        "id": "1EQjDqlg9dT6"
      },
      "source": [
        "aug = ImageDataGenerator( rotation_range=25, width_shift_range=0.1, \n",
        "                         height_shift_range=0.1, shear_range=0.2,\n",
        "                         zoom_range=0.2, horizontal_flip=True,fill_mode='nearest')"
      ],
      "execution_count": null,
      "outputs": []
    },
    {
      "cell_type": "code",
      "metadata": {
        "id": "mcwc9hLDwZnq"
      },
      "source": [
        "from tensorflow import keras\n",
        "from tensorflow.keras.layers import Conv2D, MaxPooling2D, Dense, Flatten, Activation,Dropout,BatchNormalization\n",
        "from tensorflow.keras.preprocessing.image import ImageDataGenerator\n",
        "from tensorflow.keras.callbacks import EarlyStopping\n",
        "from tensorflow.keras import utils as np_utils\n",
        "from tensorflow.keras import backend \n",
        "img_dims=(64,64,3)\n",
        "batch_size=64\n",
        "epoch=50"
      ],
      "execution_count": null,
      "outputs": []
    },
    {
      "cell_type": "code",
      "metadata": {
        "colab": {
          "base_uri": "https://localhost:8080/"
        },
        "id": "C0N_Ornl_Sqk",
        "outputId": "cc2af17c-2ee6-490b-f751-53a04f8ee6d4"
      },
      "source": [
        "!pip install keras-tuner==1.0.0"
      ],
      "execution_count": null,
      "outputs": [
        {
          "output_type": "stream",
          "text": [
            "Requirement already satisfied: keras-tuner==1.0.0 in /usr/local/lib/python3.7/dist-packages (1.0.0)\n",
            "Requirement already satisfied: scipy in /usr/local/lib/python3.7/dist-packages (from keras-tuner==1.0.0) (1.4.1)\n",
            "Requirement already satisfied: tensorflow>=2.0.0-beta1 in /usr/local/lib/python3.7/dist-packages (from keras-tuner==1.0.0) (2.4.1)\n",
            "Requirement already satisfied: numpy in /usr/local/lib/python3.7/dist-packages (from keras-tuner==1.0.0) (1.19.5)\n",
            "Requirement already satisfied: colorama in /usr/local/lib/python3.7/dist-packages (from keras-tuner==1.0.0) (0.4.4)\n",
            "Requirement already satisfied: tqdm in /usr/local/lib/python3.7/dist-packages (from keras-tuner==1.0.0) (4.41.1)\n",
            "Requirement already satisfied: psutil in /usr/local/lib/python3.7/dist-packages (from keras-tuner==1.0.0) (5.4.8)\n",
            "Requirement already satisfied: tabulate in /usr/local/lib/python3.7/dist-packages (from keras-tuner==1.0.0) (0.8.9)\n",
            "Requirement already satisfied: scikit-learn in /usr/local/lib/python3.7/dist-packages (from keras-tuner==1.0.0) (0.22.2.post1)\n",
            "Requirement already satisfied: terminaltables in /usr/local/lib/python3.7/dist-packages (from keras-tuner==1.0.0) (3.1.0)\n",
            "Requirement already satisfied: requests in /usr/local/lib/python3.7/dist-packages (from keras-tuner==1.0.0) (2.23.0)\n",
            "Requirement already satisfied: google-pasta~=0.2 in /usr/local/lib/python3.7/dist-packages (from tensorflow>=2.0.0-beta1->keras-tuner==1.0.0) (0.2.0)\n",
            "Requirement already satisfied: typing-extensions~=3.7.4 in /usr/local/lib/python3.7/dist-packages (from tensorflow>=2.0.0-beta1->keras-tuner==1.0.0) (3.7.4.3)\n",
            "Requirement already satisfied: h5py~=2.10.0 in /usr/local/lib/python3.7/dist-packages (from tensorflow>=2.0.0-beta1->keras-tuner==1.0.0) (2.10.0)\n",
            "Requirement already satisfied: flatbuffers~=1.12.0 in /usr/local/lib/python3.7/dist-packages (from tensorflow>=2.0.0-beta1->keras-tuner==1.0.0) (1.12)\n",
            "Requirement already satisfied: six~=1.15.0 in /usr/local/lib/python3.7/dist-packages (from tensorflow>=2.0.0-beta1->keras-tuner==1.0.0) (1.15.0)\n",
            "Requirement already satisfied: opt-einsum~=3.3.0 in /usr/local/lib/python3.7/dist-packages (from tensorflow>=2.0.0-beta1->keras-tuner==1.0.0) (3.3.0)\n",
            "Requirement already satisfied: wrapt~=1.12.1 in /usr/local/lib/python3.7/dist-packages (from tensorflow>=2.0.0-beta1->keras-tuner==1.0.0) (1.12.1)\n",
            "Requirement already satisfied: gast==0.3.3 in /usr/local/lib/python3.7/dist-packages (from tensorflow>=2.0.0-beta1->keras-tuner==1.0.0) (0.3.3)\n",
            "Requirement already satisfied: tensorboard~=2.4 in /usr/local/lib/python3.7/dist-packages (from tensorflow>=2.0.0-beta1->keras-tuner==1.0.0) (2.4.1)\n",
            "Requirement already satisfied: tensorflow-estimator<2.5.0,>=2.4.0 in /usr/local/lib/python3.7/dist-packages (from tensorflow>=2.0.0-beta1->keras-tuner==1.0.0) (2.4.0)\n",
            "Requirement already satisfied: astunparse~=1.6.3 in /usr/local/lib/python3.7/dist-packages (from tensorflow>=2.0.0-beta1->keras-tuner==1.0.0) (1.6.3)\n",
            "Requirement already satisfied: grpcio~=1.32.0 in /usr/local/lib/python3.7/dist-packages (from tensorflow>=2.0.0-beta1->keras-tuner==1.0.0) (1.32.0)\n",
            "Requirement already satisfied: protobuf>=3.9.2 in /usr/local/lib/python3.7/dist-packages (from tensorflow>=2.0.0-beta1->keras-tuner==1.0.0) (3.12.4)\n",
            "Requirement already satisfied: keras-preprocessing~=1.1.2 in /usr/local/lib/python3.7/dist-packages (from tensorflow>=2.0.0-beta1->keras-tuner==1.0.0) (1.1.2)\n",
            "Requirement already satisfied: wheel~=0.35 in /usr/local/lib/python3.7/dist-packages (from tensorflow>=2.0.0-beta1->keras-tuner==1.0.0) (0.36.2)\n",
            "Requirement already satisfied: absl-py~=0.10 in /usr/local/lib/python3.7/dist-packages (from tensorflow>=2.0.0-beta1->keras-tuner==1.0.0) (0.12.0)\n",
            "Requirement already satisfied: termcolor~=1.1.0 in /usr/local/lib/python3.7/dist-packages (from tensorflow>=2.0.0-beta1->keras-tuner==1.0.0) (1.1.0)\n",
            "Requirement already satisfied: joblib>=0.11 in /usr/local/lib/python3.7/dist-packages (from scikit-learn->keras-tuner==1.0.0) (1.0.1)\n",
            "Requirement already satisfied: chardet<4,>=3.0.2 in /usr/local/lib/python3.7/dist-packages (from requests->keras-tuner==1.0.0) (3.0.4)\n",
            "Requirement already satisfied: urllib3!=1.25.0,!=1.25.1,<1.26,>=1.21.1 in /usr/local/lib/python3.7/dist-packages (from requests->keras-tuner==1.0.0) (1.24.3)\n",
            "Requirement already satisfied: idna<3,>=2.5 in /usr/local/lib/python3.7/dist-packages (from requests->keras-tuner==1.0.0) (2.10)\n",
            "Requirement already satisfied: certifi>=2017.4.17 in /usr/local/lib/python3.7/dist-packages (from requests->keras-tuner==1.0.0) (2020.12.5)\n",
            "Requirement already satisfied: google-auth-oauthlib<0.5,>=0.4.1 in /usr/local/lib/python3.7/dist-packages (from tensorboard~=2.4->tensorflow>=2.0.0-beta1->keras-tuner==1.0.0) (0.4.4)\n",
            "Requirement already satisfied: tensorboard-plugin-wit>=1.6.0 in /usr/local/lib/python3.7/dist-packages (from tensorboard~=2.4->tensorflow>=2.0.0-beta1->keras-tuner==1.0.0) (1.8.0)\n",
            "Requirement already satisfied: markdown>=2.6.8 in /usr/local/lib/python3.7/dist-packages (from tensorboard~=2.4->tensorflow>=2.0.0-beta1->keras-tuner==1.0.0) (3.3.4)\n",
            "Requirement already satisfied: setuptools>=41.0.0 in /usr/local/lib/python3.7/dist-packages (from tensorboard~=2.4->tensorflow>=2.0.0-beta1->keras-tuner==1.0.0) (56.1.0)\n",
            "Requirement already satisfied: google-auth<2,>=1.6.3 in /usr/local/lib/python3.7/dist-packages (from tensorboard~=2.4->tensorflow>=2.0.0-beta1->keras-tuner==1.0.0) (1.30.0)\n",
            "Requirement already satisfied: werkzeug>=0.11.15 in /usr/local/lib/python3.7/dist-packages (from tensorboard~=2.4->tensorflow>=2.0.0-beta1->keras-tuner==1.0.0) (2.0.0)\n",
            "Requirement already satisfied: requests-oauthlib>=0.7.0 in /usr/local/lib/python3.7/dist-packages (from google-auth-oauthlib<0.5,>=0.4.1->tensorboard~=2.4->tensorflow>=2.0.0-beta1->keras-tuner==1.0.0) (1.3.0)\n",
            "Requirement already satisfied: importlib-metadata; python_version < \"3.8\" in /usr/local/lib/python3.7/dist-packages (from markdown>=2.6.8->tensorboard~=2.4->tensorflow>=2.0.0-beta1->keras-tuner==1.0.0) (4.0.1)\n",
            "Requirement already satisfied: cachetools<5.0,>=2.0.0 in /usr/local/lib/python3.7/dist-packages (from google-auth<2,>=1.6.3->tensorboard~=2.4->tensorflow>=2.0.0-beta1->keras-tuner==1.0.0) (4.2.2)\n",
            "Requirement already satisfied: pyasn1-modules>=0.2.1 in /usr/local/lib/python3.7/dist-packages (from google-auth<2,>=1.6.3->tensorboard~=2.4->tensorflow>=2.0.0-beta1->keras-tuner==1.0.0) (0.2.8)\n",
            "Requirement already satisfied: rsa<5,>=3.1.4; python_version >= \"3.6\" in /usr/local/lib/python3.7/dist-packages (from google-auth<2,>=1.6.3->tensorboard~=2.4->tensorflow>=2.0.0-beta1->keras-tuner==1.0.0) (4.7.2)\n",
            "Requirement already satisfied: oauthlib>=3.0.0 in /usr/local/lib/python3.7/dist-packages (from requests-oauthlib>=0.7.0->google-auth-oauthlib<0.5,>=0.4.1->tensorboard~=2.4->tensorflow>=2.0.0-beta1->keras-tuner==1.0.0) (3.1.0)\n",
            "Requirement already satisfied: zipp>=0.5 in /usr/local/lib/python3.7/dist-packages (from importlib-metadata; python_version < \"3.8\"->markdown>=2.6.8->tensorboard~=2.4->tensorflow>=2.0.0-beta1->keras-tuner==1.0.0) (3.4.1)\n",
            "Requirement already satisfied: pyasn1<0.5.0,>=0.4.6 in /usr/local/lib/python3.7/dist-packages (from pyasn1-modules>=0.2.1->google-auth<2,>=1.6.3->tensorboard~=2.4->tensorflow>=2.0.0-beta1->keras-tuner==1.0.0) (0.4.8)\n"
          ],
          "name": "stdout"
        }
      ]
    },
    {
      "cell_type": "code",
      "metadata": {
        "colab": {
          "base_uri": "https://localhost:8080/"
        },
        "id": "2KoniL89_mlO",
        "outputId": "a8dbfeee-ad6d-4673-d2c6-18508783e95c"
      },
      "source": [
        "from kerastuner.tuners import BayesianOptimization\n",
        "from kerastuner.tuners import RandomSearch\n",
        "from kerastuner.engine.hyperparameters import HyperParameters\n",
        "trainx.shape[1:]"
      ],
      "execution_count": null,
      "outputs": [
        {
          "output_type": "execute_result",
          "data": {
            "text/plain": [
              "(64, 64, 3)"
            ]
          },
          "metadata": {
            "tags": []
          },
          "execution_count": 10
        }
      ]
    },
    {
      "cell_type": "code",
      "metadata": {
        "id": "nCGWklVs_z5k"
      },
      "source": [
        "classes = len(lb.classes_)\n",
        "def build(hp):\n",
        "  classes = len(lb.classes_)\n",
        "  model = keras.models.Sequential()\n",
        "  # CNN BLOCK\n",
        "  model.add(Conv2D(hp.Int('input_units',32,1024,32),(3,3), \n",
        "                     input_shape=trainx.shape[1:]))\n",
        "  model.add(Activation('relu'))\n",
        "  model.add(MaxPooling2D(pool_size=(3, 3)))\n",
        "  model.add(Dropout(hp.Choice('dropout',[0.1,0.25,0.5])))\n",
        "    \n",
        "\n",
        "  for i in range(hp.Int(\"n_cnn_layers\",1,6)):\n",
        "    model.add(Conv2D(hp.Int(f'conv_{i}_units',32,1024,32),(3,3)))\n",
        "    model.add(Activation('relu'))\n",
        "    model.add(Dropout(hp.Choice(f'dropout_{i}',[0.1,0.25,0.5])))\n",
        "\n",
        "     \n",
        "   \n",
        "   \n",
        "\n",
        "  model.add(Flatten())  # this converts our 3D feature maps to 1D feature vectors  \n",
        "\n",
        "    # DENSE BLOCK\n",
        "  for j in range(hp.Int(\"n_dense_layers\",1,3)):\n",
        "    model.add(Dense(hp.Int(f'dense_{j}_units',32,1024,32)))\n",
        "    model.add(Activation(\"relu\"))\n",
        "    model.add(Dropout(hp.Choice('dropout',[0.1,0.25,0.5])))   \n",
        "\n",
        "    \n",
        "  model.add(Dense(classes))\n",
        "  model.add(Activation(\"softmax\"))\n",
        "  model.compile(optimizer=keras.optimizers.Adam(hp.Choice('learning_rate',[1e-2,1e-3,1e-4])),\n",
        "              loss=\"categorical_crossentropy\",\n",
        "              metrics=[\"accuracy\"])\n",
        "    \n",
        "\n",
        "    \n",
        "\n",
        "  return model"
      ],
      "execution_count": null,
      "outputs": []
    },
    {
      "cell_type": "code",
      "metadata": {
        "colab": {
          "base_uri": "https://localhost:8080/",
          "height": 1000
        },
        "id": "FlvXWp6JBmFr",
        "outputId": "b8809f51-9f74-401a-f60c-09eb68db3ef4"
      },
      "source": [
        "tuner=BayesianOptimization(build,objective='val_accuracy',\n",
        "    max_trials=10,executions_per_trial=2)\n",
        "\n",
        "tuner.search(x=trainx,\n",
        "             y=trainy,\n",
        "             epochs=20,\n",
        "             batch_size=256,\n",
        "             validation_data=(testx,testy))"
      ],
      "execution_count": null,
      "outputs": [
        {
          "output_type": "stream",
          "text": [
            "INFO:tensorflow:Reloading Oracle from ./untitled_project/oracle.json\n",
            "INFO:tensorflow:Reloading Tuner from ./untitled_project/tuner0.json\n",
            "Epoch 1/20\n",
            " 6/85 [=>............................] - ETA: 36s - loss: 73205.7450 - accuracy: 0.0889WARNING:tensorflow:Callback method `on_train_batch_end` is slow compared to the batch time (batch time: 0.1481s vs `on_train_batch_end` time: 0.2760s). Check your callbacks.\n",
            "85/85 [==============================] - 59s 552ms/step - loss: 14256.7485 - accuracy: 0.1022 - val_loss: 2.2949 - val_accuracy: 0.1102\n",
            "Epoch 2/20\n",
            "85/85 [==============================] - 41s 487ms/step - loss: 2.2973 - accuracy: 0.1094 - val_loss: 2.2938 - val_accuracy: 0.1157\n",
            "Epoch 3/20\n",
            "85/85 [==============================] - 41s 487ms/step - loss: 2.2979 - accuracy: 0.1087 - val_loss: 2.2937 - val_accuracy: 0.1157\n",
            "Epoch 4/20\n",
            "85/85 [==============================] - 41s 487ms/step - loss: 2.2968 - accuracy: 0.1061 - val_loss: 2.2946 - val_accuracy: 0.1102\n",
            "Epoch 5/20\n",
            "85/85 [==============================] - 41s 487ms/step - loss: 2.2972 - accuracy: 0.1081 - val_loss: 2.2939 - val_accuracy: 0.1094\n",
            "Epoch 6/20\n",
            "85/85 [==============================] - 41s 487ms/step - loss: 2.2957 - accuracy: 0.1127 - val_loss: 2.2942 - val_accuracy: 0.1102\n",
            "Epoch 7/20\n",
            "85/85 [==============================] - 41s 487ms/step - loss: 2.2961 - accuracy: 0.1116 - val_loss: 2.2937 - val_accuracy: 0.1094\n",
            "Epoch 8/20\n",
            "85/85 [==============================] - 41s 487ms/step - loss: 2.2962 - accuracy: 0.1125 - val_loss: 2.2933 - val_accuracy: 0.1157\n",
            "Epoch 9/20\n",
            "85/85 [==============================] - 41s 487ms/step - loss: 2.2940 - accuracy: 0.1096 - val_loss: 2.2939 - val_accuracy: 0.1157\n",
            "Epoch 10/20\n",
            "85/85 [==============================] - 41s 486ms/step - loss: 2.2947 - accuracy: 0.1099 - val_loss: 2.2940 - val_accuracy: 0.1157\n",
            "Epoch 11/20\n",
            "85/85 [==============================] - 41s 486ms/step - loss: 2.2957 - accuracy: 0.1081 - val_loss: 2.2939 - val_accuracy: 0.1102\n",
            "Epoch 12/20\n",
            "85/85 [==============================] - 41s 485ms/step - loss: 2.2950 - accuracy: 0.1107 - val_loss: 2.2938 - val_accuracy: 0.1102\n",
            "Epoch 13/20\n",
            "85/85 [==============================] - 41s 486ms/step - loss: 2.2952 - accuracy: 0.1116 - val_loss: 2.2949 - val_accuracy: 0.1131\n",
            "Epoch 14/20\n",
            "85/85 [==============================] - 41s 486ms/step - loss: 2.2945 - accuracy: 0.1105 - val_loss: 2.2938 - val_accuracy: 0.1157\n",
            "Epoch 15/20\n",
            "85/85 [==============================] - 41s 485ms/step - loss: 2.2945 - accuracy: 0.1117 - val_loss: 2.2942 - val_accuracy: 0.1102\n",
            "Epoch 16/20\n",
            "85/85 [==============================] - 41s 487ms/step - loss: 2.2957 - accuracy: 0.1142 - val_loss: 2.2937 - val_accuracy: 0.1157\n",
            "Epoch 17/20\n",
            "85/85 [==============================] - 41s 486ms/step - loss: 2.2958 - accuracy: 0.1056 - val_loss: 2.2936 - val_accuracy: 0.1102\n",
            "Epoch 18/20\n",
            "85/85 [==============================] - 41s 486ms/step - loss: 2.2950 - accuracy: 0.1095 - val_loss: 2.2942 - val_accuracy: 0.1157\n",
            "Epoch 19/20\n",
            "85/85 [==============================] - 41s 486ms/step - loss: 2.2965 - accuracy: 0.1072 - val_loss: 2.2937 - val_accuracy: 0.1157\n",
            "Epoch 20/20\n",
            "85/85 [==============================] - 41s 486ms/step - loss: 2.2947 - accuracy: 0.1085 - val_loss: 2.2940 - val_accuracy: 0.1102\n",
            "Epoch 1/20\n",
            " 6/85 [=>............................] - ETA: 36s - loss: 64296.5468 - accuracy: 0.0905WARNING:tensorflow:Callback method `on_train_batch_end` is slow compared to the batch time (batch time: 0.1498s vs `on_train_batch_end` time: 0.3098s). Check your callbacks.\n",
            "85/85 [==============================] - 42s 490ms/step - loss: 12493.3909 - accuracy: 0.1038 - val_loss: 2.2944 - val_accuracy: 0.1102\n",
            "Epoch 2/20\n",
            "85/85 [==============================] - 41s 486ms/step - loss: 2.2966 - accuracy: 0.1130 - val_loss: 2.2948 - val_accuracy: 0.1102\n",
            "Epoch 3/20\n",
            "85/85 [==============================] - 41s 486ms/step - loss: 2.2957 - accuracy: 0.1105 - val_loss: 2.2940 - val_accuracy: 0.1102\n",
            "Epoch 4/20\n",
            "85/85 [==============================] - 41s 485ms/step - loss: 2.2955 - accuracy: 0.1089 - val_loss: 2.2942 - val_accuracy: 0.1131\n",
            "Epoch 5/20\n",
            "85/85 [==============================] - 41s 486ms/step - loss: 2.2951 - accuracy: 0.1117 - val_loss: 2.2941 - val_accuracy: 0.1094\n",
            "Epoch 6/20\n",
            "85/85 [==============================] - 41s 486ms/step - loss: 2.2969 - accuracy: 0.1080 - val_loss: 2.2942 - val_accuracy: 0.1094\n",
            "Epoch 7/20\n",
            "85/85 [==============================] - 41s 486ms/step - loss: 2.2937 - accuracy: 0.1114 - val_loss: 2.2944 - val_accuracy: 0.1102\n",
            "Epoch 8/20\n",
            "85/85 [==============================] - 41s 485ms/step - loss: 2.2945 - accuracy: 0.1059 - val_loss: 2.2940 - val_accuracy: 0.1102\n",
            "Epoch 9/20\n",
            "85/85 [==============================] - 41s 486ms/step - loss: 2.2961 - accuracy: 0.1089 - val_loss: 2.2938 - val_accuracy: 0.1102\n",
            "Epoch 10/20\n",
            "85/85 [==============================] - 41s 485ms/step - loss: 2.2947 - accuracy: 0.1072 - val_loss: 2.2940 - val_accuracy: 0.1131\n",
            "Epoch 11/20\n",
            "85/85 [==============================] - 41s 485ms/step - loss: 2.2961 - accuracy: 0.1126 - val_loss: 2.2943 - val_accuracy: 0.1094\n",
            "Epoch 12/20\n",
            "85/85 [==============================] - 41s 486ms/step - loss: 2.2952 - accuracy: 0.1119 - val_loss: 2.2937 - val_accuracy: 0.1094\n",
            "Epoch 13/20\n",
            "85/85 [==============================] - 41s 487ms/step - loss: 2.2965 - accuracy: 0.1115 - val_loss: 2.2935 - val_accuracy: 0.1094\n",
            "Epoch 14/20\n",
            "85/85 [==============================] - 41s 486ms/step - loss: 2.2957 - accuracy: 0.1100 - val_loss: 2.2941 - val_accuracy: 0.1102\n",
            "Epoch 15/20\n",
            "85/85 [==============================] - 41s 486ms/step - loss: 2.2951 - accuracy: 0.1059 - val_loss: 2.2944 - val_accuracy: 0.1102\n",
            "Epoch 16/20\n",
            "85/85 [==============================] - 41s 486ms/step - loss: 2.2946 - accuracy: 0.1123 - val_loss: 2.2939 - val_accuracy: 0.1131\n",
            "Epoch 17/20\n",
            "85/85 [==============================] - 41s 486ms/step - loss: 2.2945 - accuracy: 0.1117 - val_loss: 2.2941 - val_accuracy: 0.1102\n",
            "Epoch 18/20\n",
            "85/85 [==============================] - 41s 485ms/step - loss: 2.2950 - accuracy: 0.1130 - val_loss: 2.2944 - val_accuracy: 0.1094\n",
            "Epoch 19/20\n",
            "85/85 [==============================] - 41s 486ms/step - loss: 2.2953 - accuracy: 0.1127 - val_loss: 2.2936 - val_accuracy: 0.1157\n",
            "Epoch 20/20\n",
            "85/85 [==============================] - 41s 486ms/step - loss: 2.2949 - accuracy: 0.1081 - val_loss: 2.2936 - val_accuracy: 0.1131\n"
          ],
          "name": "stdout"
        },
        {
          "output_type": "display_data",
          "data": {
            "text/html": [
              "<span style=\"color:#4527A0\"><h1 style=\"font-size:18px\">Trial complete</h1></span>"
            ],
            "text/plain": [
              "<IPython.core.display.HTML object>"
            ]
          },
          "metadata": {
            "tags": []
          }
        },
        {
          "output_type": "display_data",
          "data": {
            "text/html": [
              "<span style=\"color:#4527A0\"><h1 style=\"font-size:18px\">Trial summary</h1></span>"
            ],
            "text/plain": [
              "<IPython.core.display.HTML object>"
            ]
          },
          "metadata": {
            "tags": []
          }
        },
        {
          "output_type": "display_data",
          "data": {
            "text/html": [
              "<span style=\"color:#7E57C2\"><h2 style=\"font-size:16px\">Hp values:</h2></span>"
            ],
            "text/plain": [
              "<IPython.core.display.HTML object>"
            ]
          },
          "metadata": {
            "tags": []
          }
        },
        {
          "output_type": "display_data",
          "data": {
            "text/html": [
              "<span style=\"color:cyan\"> |-conv_0_units: 832</span>"
            ],
            "text/plain": [
              "<IPython.core.display.HTML object>"
            ]
          },
          "metadata": {
            "tags": []
          }
        },
        {
          "output_type": "display_data",
          "data": {
            "text/html": [
              "<span style=\"color:blue\"> |-conv_1_units: 832</span>"
            ],
            "text/plain": [
              "<IPython.core.display.HTML object>"
            ]
          },
          "metadata": {
            "tags": []
          }
        },
        {
          "output_type": "display_data",
          "data": {
            "text/html": [
              "<span style=\"color:cyan\"> |-conv_2_units: 320</span>"
            ],
            "text/plain": [
              "<IPython.core.display.HTML object>"
            ]
          },
          "metadata": {
            "tags": []
          }
        },
        {
          "output_type": "display_data",
          "data": {
            "text/html": [
              "<span style=\"color:blue\"> |-conv_3_units: 128</span>"
            ],
            "text/plain": [
              "<IPython.core.display.HTML object>"
            ]
          },
          "metadata": {
            "tags": []
          }
        },
        {
          "output_type": "display_data",
          "data": {
            "text/html": [
              "<span style=\"color:cyan\"> |-dense_0_units: 768</span>"
            ],
            "text/plain": [
              "<IPython.core.display.HTML object>"
            ]
          },
          "metadata": {
            "tags": []
          }
        },
        {
          "output_type": "display_data",
          "data": {
            "text/html": [
              "<span style=\"color:blue\"> |-dense_1_units: 736</span>"
            ],
            "text/plain": [
              "<IPython.core.display.HTML object>"
            ]
          },
          "metadata": {
            "tags": []
          }
        },
        {
          "output_type": "display_data",
          "data": {
            "text/html": [
              "<span style=\"color:cyan\"> |-dropout: 0.25</span>"
            ],
            "text/plain": [
              "<IPython.core.display.HTML object>"
            ]
          },
          "metadata": {
            "tags": []
          }
        },
        {
          "output_type": "display_data",
          "data": {
            "text/html": [
              "<span style=\"color:blue\"> |-dropout_0: 0.5</span>"
            ],
            "text/plain": [
              "<IPython.core.display.HTML object>"
            ]
          },
          "metadata": {
            "tags": []
          }
        },
        {
          "output_type": "display_data",
          "data": {
            "text/html": [
              "<span style=\"color:cyan\"> |-dropout_1: 0.5</span>"
            ],
            "text/plain": [
              "<IPython.core.display.HTML object>"
            ]
          },
          "metadata": {
            "tags": []
          }
        },
        {
          "output_type": "display_data",
          "data": {
            "text/html": [
              "<span style=\"color:blue\"> |-dropout_2: 0.5</span>"
            ],
            "text/plain": [
              "<IPython.core.display.HTML object>"
            ]
          },
          "metadata": {
            "tags": []
          }
        },
        {
          "output_type": "display_data",
          "data": {
            "text/html": [
              "<span style=\"color:cyan\"> |-dropout_3: 0.1</span>"
            ],
            "text/plain": [
              "<IPython.core.display.HTML object>"
            ]
          },
          "metadata": {
            "tags": []
          }
        },
        {
          "output_type": "display_data",
          "data": {
            "text/html": [
              "<span style=\"color:blue\"> |-input_units: 928</span>"
            ],
            "text/plain": [
              "<IPython.core.display.HTML object>"
            ]
          },
          "metadata": {
            "tags": []
          }
        },
        {
          "output_type": "display_data",
          "data": {
            "text/html": [
              "<span style=\"color:cyan\"> |-learning_rate: 0.01</span>"
            ],
            "text/plain": [
              "<IPython.core.display.HTML object>"
            ]
          },
          "metadata": {
            "tags": []
          }
        },
        {
          "output_type": "display_data",
          "data": {
            "text/html": [
              "<span style=\"color:blue\"> |-n_cnn_layers: 4</span>"
            ],
            "text/plain": [
              "<IPython.core.display.HTML object>"
            ]
          },
          "metadata": {
            "tags": []
          }
        },
        {
          "output_type": "display_data",
          "data": {
            "text/html": [
              "<span style=\"color:cyan\"> |-n_dense_layers: 1</span>"
            ],
            "text/plain": [
              "<IPython.core.display.HTML object>"
            ]
          },
          "metadata": {
            "tags": []
          }
        },
        {
          "output_type": "display_data",
          "data": {
            "text/html": [
              "<span style=\"color:cyan\"> |-Score: 0.11574073880910873</span>"
            ],
            "text/plain": [
              "<IPython.core.display.HTML object>"
            ]
          },
          "metadata": {
            "tags": []
          }
        },
        {
          "output_type": "display_data",
          "data": {
            "text/html": [
              "<span style=\"color:cyan\"> |-Best step: 0</span>"
            ],
            "text/plain": [
              "<IPython.core.display.HTML object>"
            ]
          },
          "metadata": {
            "tags": []
          }
        },
        {
          "output_type": "stream",
          "text": [
            "Epoch 1/20\n",
            " 6/85 [=>............................] - ETA: 25s - loss: 3855.5186 - accuracy: 0.0936WARNING:tensorflow:Callback method `on_train_batch_end` is slow compared to the batch time (batch time: 0.1085s vs `on_train_batch_end` time: 0.1817s). Check your callbacks.\n",
            "85/85 [==============================] - 41s 387ms/step - loss: 751.1246 - accuracy: 0.1570 - val_loss: 1.9948 - val_accuracy: 0.2181\n",
            "Epoch 2/20\n",
            "85/85 [==============================] - 29s 342ms/step - loss: 1.8740 - accuracy: 0.2556 - val_loss: 1.7552 - val_accuracy: 0.2763\n",
            "Epoch 3/20\n",
            "85/85 [==============================] - 29s 342ms/step - loss: 1.8182 - accuracy: 0.2721 - val_loss: 1.7393 - val_accuracy: 0.2837\n",
            "Epoch 4/20\n",
            "85/85 [==============================] - 29s 342ms/step - loss: 1.7610 - accuracy: 0.2923 - val_loss: 1.6743 - val_accuracy: 0.3083\n",
            "Epoch 5/20\n",
            "85/85 [==============================] - 29s 342ms/step - loss: 1.7316 - accuracy: 0.3068 - val_loss: 1.6892 - val_accuracy: 0.2922\n",
            "Epoch 6/20\n",
            "85/85 [==============================] - 29s 342ms/step - loss: 1.7215 - accuracy: 0.3023 - val_loss: 1.6464 - val_accuracy: 0.3111\n",
            "Epoch 7/20\n",
            "85/85 [==============================] - 29s 341ms/step - loss: 1.7014 - accuracy: 0.3067 - val_loss: 1.6265 - val_accuracy: 0.3198\n",
            "Epoch 8/20\n",
            "85/85 [==============================] - 29s 342ms/step - loss: 1.6738 - accuracy: 0.3195 - val_loss: 1.6499 - val_accuracy: 0.3139\n",
            "Epoch 9/20\n",
            "85/85 [==============================] - 29s 342ms/step - loss: 1.6799 - accuracy: 0.3114 - val_loss: 1.6741 - val_accuracy: 0.3006\n",
            "Epoch 10/20\n",
            "85/85 [==============================] - 29s 342ms/step - loss: 1.6624 - accuracy: 0.3319 - val_loss: 1.6784 - val_accuracy: 0.3213\n",
            "Epoch 11/20\n",
            "85/85 [==============================] - 29s 342ms/step - loss: 1.6424 - accuracy: 0.3390 - val_loss: 1.6008 - val_accuracy: 0.3309\n",
            "Epoch 12/20\n",
            "85/85 [==============================] - 29s 342ms/step - loss: 1.6331 - accuracy: 0.3406 - val_loss: 1.5907 - val_accuracy: 0.3615\n",
            "Epoch 13/20\n",
            "85/85 [==============================] - 29s 342ms/step - loss: 1.6401 - accuracy: 0.3477 - val_loss: 1.4921 - val_accuracy: 0.4081\n",
            "Epoch 14/20\n",
            "85/85 [==============================] - 29s 342ms/step - loss: 1.6083 - accuracy: 0.3678 - val_loss: 1.4618 - val_accuracy: 0.4419\n",
            "Epoch 15/20\n",
            "85/85 [==============================] - 29s 342ms/step - loss: 1.5984 - accuracy: 0.3734 - val_loss: 1.7057 - val_accuracy: 0.3113\n",
            "Epoch 16/20\n",
            "85/85 [==============================] - 29s 342ms/step - loss: 1.6009 - accuracy: 0.3779 - val_loss: 1.4687 - val_accuracy: 0.4254\n",
            "Epoch 17/20\n",
            "85/85 [==============================] - 29s 342ms/step - loss: 1.5794 - accuracy: 0.3834 - val_loss: 1.5046 - val_accuracy: 0.4311\n",
            "Epoch 18/20\n",
            "85/85 [==============================] - 29s 342ms/step - loss: 1.5912 - accuracy: 0.3829 - val_loss: 1.4937 - val_accuracy: 0.4246\n",
            "Epoch 19/20\n",
            "85/85 [==============================] - 29s 343ms/step - loss: 1.7576 - accuracy: 0.3257 - val_loss: 1.4988 - val_accuracy: 0.4378\n",
            "Epoch 20/20\n",
            "85/85 [==============================] - 29s 343ms/step - loss: 1.6271 - accuracy: 0.3729 - val_loss: 1.3974 - val_accuracy: 0.4607\n",
            "Epoch 1/20\n",
            " 6/85 [=>............................] - ETA: 25s - loss: 3304.2255 - accuracy: 0.0960WARNING:tensorflow:Callback method `on_train_batch_end` is slow compared to the batch time (batch time: 0.1074s vs `on_train_batch_end` time: 0.2149s). Check your callbacks.\n",
            "85/85 [==============================] - 30s 346ms/step - loss: 643.9488 - accuracy: 0.1102 - val_loss: 2.2945 - val_accuracy: 0.1157\n",
            "Epoch 2/20\n",
            "85/85 [==============================] - 29s 343ms/step - loss: 2.2969 - accuracy: 0.1152 - val_loss: 2.2938 - val_accuracy: 0.1131\n",
            "Epoch 3/20\n",
            "85/85 [==============================] - 29s 343ms/step - loss: 2.2950 - accuracy: 0.1091 - val_loss: 2.2942 - val_accuracy: 0.1131\n",
            "Epoch 4/20\n",
            "85/85 [==============================] - 29s 343ms/step - loss: 2.2947 - accuracy: 0.1134 - val_loss: 2.2939 - val_accuracy: 0.1094\n",
            "Epoch 5/20\n",
            "85/85 [==============================] - 29s 342ms/step - loss: 2.2958 - accuracy: 0.1133 - val_loss: 2.2947 - val_accuracy: 0.1102\n",
            "Epoch 6/20\n",
            "85/85 [==============================] - 29s 343ms/step - loss: 2.2962 - accuracy: 0.1115 - val_loss: 2.2945 - val_accuracy: 0.1094\n",
            "Epoch 7/20\n",
            "85/85 [==============================] - 29s 343ms/step - loss: 2.2948 - accuracy: 0.1157 - val_loss: 2.2942 - val_accuracy: 0.1102\n",
            "Epoch 8/20\n",
            "85/85 [==============================] - 29s 343ms/step - loss: 2.2957 - accuracy: 0.1083 - val_loss: 2.2941 - val_accuracy: 0.1102\n",
            "Epoch 9/20\n",
            "85/85 [==============================] - 29s 343ms/step - loss: 2.2951 - accuracy: 0.1128 - val_loss: 2.2937 - val_accuracy: 0.1131\n",
            "Epoch 10/20\n",
            "85/85 [==============================] - 29s 343ms/step - loss: 2.2953 - accuracy: 0.1081 - val_loss: 2.2937 - val_accuracy: 0.1102\n",
            "Epoch 11/20\n",
            "85/85 [==============================] - 29s 343ms/step - loss: 2.2968 - accuracy: 0.1066 - val_loss: 2.2937 - val_accuracy: 0.1102\n",
            "Epoch 12/20\n",
            "85/85 [==============================] - 29s 344ms/step - loss: 2.2950 - accuracy: 0.1081 - val_loss: 2.2937 - val_accuracy: 0.1102\n",
            "Epoch 13/20\n",
            "85/85 [==============================] - 29s 344ms/step - loss: 2.2957 - accuracy: 0.1060 - val_loss: 2.2936 - val_accuracy: 0.1157\n",
            "Epoch 14/20\n",
            "85/85 [==============================] - 29s 343ms/step - loss: 2.2942 - accuracy: 0.1089 - val_loss: 2.2943 - val_accuracy: 0.1131\n",
            "Epoch 15/20\n",
            "85/85 [==============================] - 29s 343ms/step - loss: 2.2972 - accuracy: 0.1118 - val_loss: 2.2938 - val_accuracy: 0.1102\n",
            "Epoch 16/20\n",
            "85/85 [==============================] - 29s 343ms/step - loss: 2.2950 - accuracy: 0.1112 - val_loss: 2.2938 - val_accuracy: 0.1102\n",
            "Epoch 17/20\n",
            "85/85 [==============================] - 29s 343ms/step - loss: 2.2959 - accuracy: 0.1105 - val_loss: 2.2940 - val_accuracy: 0.1102\n",
            "Epoch 18/20\n",
            "85/85 [==============================] - 29s 344ms/step - loss: 2.2943 - accuracy: 0.1090 - val_loss: 2.2940 - val_accuracy: 0.1102\n",
            "Epoch 19/20\n",
            "85/85 [==============================] - 29s 343ms/step - loss: 2.2958 - accuracy: 0.1116 - val_loss: 2.2945 - val_accuracy: 0.1131\n",
            "Epoch 20/20\n",
            "85/85 [==============================] - 29s 343ms/step - loss: 2.2963 - accuracy: 0.1086 - val_loss: 2.2936 - val_accuracy: 0.1157\n"
          ],
          "name": "stdout"
        },
        {
          "output_type": "display_data",
          "data": {
            "text/html": [
              "<span style=\"color:#4527A0\"><h1 style=\"font-size:18px\">Trial complete</h1></span>"
            ],
            "text/plain": [
              "<IPython.core.display.HTML object>"
            ]
          },
          "metadata": {
            "tags": []
          }
        },
        {
          "output_type": "display_data",
          "data": {
            "text/html": [
              "<span style=\"color:#4527A0\"><h1 style=\"font-size:18px\">Trial summary</h1></span>"
            ],
            "text/plain": [
              "<IPython.core.display.HTML object>"
            ]
          },
          "metadata": {
            "tags": []
          }
        },
        {
          "output_type": "display_data",
          "data": {
            "text/html": [
              "<span style=\"color:#7E57C2\"><h2 style=\"font-size:16px\">Hp values:</h2></span>"
            ],
            "text/plain": [
              "<IPython.core.display.HTML object>"
            ]
          },
          "metadata": {
            "tags": []
          }
        },
        {
          "output_type": "display_data",
          "data": {
            "text/html": [
              "<span style=\"color:cyan\"> |-conv_0_units: 704</span>"
            ],
            "text/plain": [
              "<IPython.core.display.HTML object>"
            ]
          },
          "metadata": {
            "tags": []
          }
        },
        {
          "output_type": "display_data",
          "data": {
            "text/html": [
              "<span style=\"color:blue\"> |-conv_1_units: 704</span>"
            ],
            "text/plain": [
              "<IPython.core.display.HTML object>"
            ]
          },
          "metadata": {
            "tags": []
          }
        },
        {
          "output_type": "display_data",
          "data": {
            "text/html": [
              "<span style=\"color:cyan\"> |-conv_2_units: 544</span>"
            ],
            "text/plain": [
              "<IPython.core.display.HTML object>"
            ]
          },
          "metadata": {
            "tags": []
          }
        },
        {
          "output_type": "display_data",
          "data": {
            "text/html": [
              "<span style=\"color:blue\"> |-conv_3_units: 352</span>"
            ],
            "text/plain": [
              "<IPython.core.display.HTML object>"
            ]
          },
          "metadata": {
            "tags": []
          }
        },
        {
          "output_type": "display_data",
          "data": {
            "text/html": [
              "<span style=\"color:cyan\"> |-dense_0_units: 192</span>"
            ],
            "text/plain": [
              "<IPython.core.display.HTML object>"
            ]
          },
          "metadata": {
            "tags": []
          }
        },
        {
          "output_type": "display_data",
          "data": {
            "text/html": [
              "<span style=\"color:blue\"> |-dense_1_units: 768</span>"
            ],
            "text/plain": [
              "<IPython.core.display.HTML object>"
            ]
          },
          "metadata": {
            "tags": []
          }
        },
        {
          "output_type": "display_data",
          "data": {
            "text/html": [
              "<span style=\"color:cyan\"> |-dropout: 0.5</span>"
            ],
            "text/plain": [
              "<IPython.core.display.HTML object>"
            ]
          },
          "metadata": {
            "tags": []
          }
        },
        {
          "output_type": "display_data",
          "data": {
            "text/html": [
              "<span style=\"color:blue\"> |-dropout_0: 0.25</span>"
            ],
            "text/plain": [
              "<IPython.core.display.HTML object>"
            ]
          },
          "metadata": {
            "tags": []
          }
        },
        {
          "output_type": "display_data",
          "data": {
            "text/html": [
              "<span style=\"color:cyan\"> |-dropout_1: 0.5</span>"
            ],
            "text/plain": [
              "<IPython.core.display.HTML object>"
            ]
          },
          "metadata": {
            "tags": []
          }
        },
        {
          "output_type": "display_data",
          "data": {
            "text/html": [
              "<span style=\"color:blue\"> |-dropout_2: 0.1</span>"
            ],
            "text/plain": [
              "<IPython.core.display.HTML object>"
            ]
          },
          "metadata": {
            "tags": []
          }
        },
        {
          "output_type": "display_data",
          "data": {
            "text/html": [
              "<span style=\"color:cyan\"> |-dropout_3: 0.5</span>"
            ],
            "text/plain": [
              "<IPython.core.display.HTML object>"
            ]
          },
          "metadata": {
            "tags": []
          }
        },
        {
          "output_type": "display_data",
          "data": {
            "text/html": [
              "<span style=\"color:blue\"> |-input_units: 736</span>"
            ],
            "text/plain": [
              "<IPython.core.display.HTML object>"
            ]
          },
          "metadata": {
            "tags": []
          }
        },
        {
          "output_type": "display_data",
          "data": {
            "text/html": [
              "<span style=\"color:cyan\"> |-learning_rate: 0.01</span>"
            ],
            "text/plain": [
              "<IPython.core.display.HTML object>"
            ]
          },
          "metadata": {
            "tags": []
          }
        },
        {
          "output_type": "display_data",
          "data": {
            "text/html": [
              "<span style=\"color:blue\"> |-n_cnn_layers: 2</span>"
            ],
            "text/plain": [
              "<IPython.core.display.HTML object>"
            ]
          },
          "metadata": {
            "tags": []
          }
        },
        {
          "output_type": "display_data",
          "data": {
            "text/html": [
              "<span style=\"color:cyan\"> |-n_dense_layers: 2</span>"
            ],
            "text/plain": [
              "<IPython.core.display.HTML object>"
            ]
          },
          "metadata": {
            "tags": []
          }
        },
        {
          "output_type": "display_data",
          "data": {
            "text/html": [
              "<span style=\"color:cyan\"> |-Score: 0.2882407419383526</span>"
            ],
            "text/plain": [
              "<IPython.core.display.HTML object>"
            ]
          },
          "metadata": {
            "tags": []
          }
        },
        {
          "output_type": "display_data",
          "data": {
            "text/html": [
              "<span style=\"color:cyan\"> |-Best step: 0</span>"
            ],
            "text/plain": [
              "<IPython.core.display.HTML object>"
            ]
          },
          "metadata": {
            "tags": []
          }
        },
        {
          "output_type": "stream",
          "text": [
            "Epoch 1/20\n",
            " 6/85 [=>............................] - ETA: 8s - loss: 2.2901 - accuracy: 0.1087WARNING:tensorflow:Callback method `on_train_batch_end` is slow compared to the batch time (batch time: 0.0446s vs `on_train_batch_end` time: 0.0549s). Check your callbacks.\n",
            "85/85 [==============================] - 14s 130ms/step - loss: 1.9359 - accuracy: 0.2434 - val_loss: 1.2265 - val_accuracy: 0.4904\n",
            "Epoch 2/20\n",
            "85/85 [==============================] - 10s 115ms/step - loss: 1.2104 - accuracy: 0.5120 - val_loss: 1.0436 - val_accuracy: 0.5841\n",
            "Epoch 3/20\n",
            "85/85 [==============================] - 10s 115ms/step - loss: 1.0374 - accuracy: 0.6055 - val_loss: 0.8744 - val_accuracy: 0.6706\n",
            "Epoch 4/20\n",
            "85/85 [==============================] - 10s 116ms/step - loss: 0.7946 - accuracy: 0.7170 - val_loss: 0.6390 - val_accuracy: 0.7707\n",
            "Epoch 5/20\n",
            "85/85 [==============================] - 10s 115ms/step - loss: 0.6798 - accuracy: 0.7564 - val_loss: 0.5833 - val_accuracy: 0.7874\n",
            "Epoch 6/20\n",
            "85/85 [==============================] - 10s 114ms/step - loss: 0.6454 - accuracy: 0.7660 - val_loss: 0.5122 - val_accuracy: 0.8163\n",
            "Epoch 7/20\n",
            "85/85 [==============================] - 10s 114ms/step - loss: 0.5704 - accuracy: 0.7945 - val_loss: 0.5610 - val_accuracy: 0.8033\n",
            "Epoch 8/20\n",
            "85/85 [==============================] - 10s 114ms/step - loss: 0.5710 - accuracy: 0.7963 - val_loss: 0.5705 - val_accuracy: 0.8004\n",
            "Epoch 9/20\n",
            "85/85 [==============================] - 10s 114ms/step - loss: 0.5194 - accuracy: 0.8141 - val_loss: 0.4873 - val_accuracy: 0.8302\n",
            "Epoch 10/20\n",
            "85/85 [==============================] - 10s 114ms/step - loss: 0.5083 - accuracy: 0.8238 - val_loss: 0.5122 - val_accuracy: 0.8226\n",
            "Epoch 11/20\n",
            "85/85 [==============================] - 10s 114ms/step - loss: 0.5475 - accuracy: 0.8055 - val_loss: 0.4413 - val_accuracy: 0.8441\n",
            "Epoch 12/20\n",
            "85/85 [==============================] - 10s 114ms/step - loss: 0.4632 - accuracy: 0.8365 - val_loss: 0.4489 - val_accuracy: 0.8467\n",
            "Epoch 13/20\n",
            "85/85 [==============================] - 10s 115ms/step - loss: 0.4394 - accuracy: 0.8421 - val_loss: 0.5392 - val_accuracy: 0.8087\n",
            "Epoch 14/20\n",
            "85/85 [==============================] - 10s 115ms/step - loss: 0.4366 - accuracy: 0.8453 - val_loss: 0.4019 - val_accuracy: 0.8609\n",
            "Epoch 15/20\n",
            "85/85 [==============================] - 10s 115ms/step - loss: 0.3962 - accuracy: 0.8615 - val_loss: 0.6295 - val_accuracy: 0.7894\n",
            "Epoch 16/20\n",
            "85/85 [==============================] - 10s 115ms/step - loss: 0.4286 - accuracy: 0.8467 - val_loss: 0.3804 - val_accuracy: 0.8707\n",
            "Epoch 17/20\n",
            "85/85 [==============================] - 10s 114ms/step - loss: 0.3718 - accuracy: 0.8670 - val_loss: 0.4049 - val_accuracy: 0.8570\n",
            "Epoch 18/20\n",
            "85/85 [==============================] - 10s 114ms/step - loss: 0.3758 - accuracy: 0.8651 - val_loss: 0.3847 - val_accuracy: 0.8702\n",
            "Epoch 19/20\n",
            "85/85 [==============================] - 10s 114ms/step - loss: 0.3419 - accuracy: 0.8796 - val_loss: 0.3520 - val_accuracy: 0.8787\n",
            "Epoch 20/20\n",
            "85/85 [==============================] - 10s 115ms/step - loss: 0.3301 - accuracy: 0.8839 - val_loss: 0.4084 - val_accuracy: 0.8607\n",
            "Epoch 1/20\n",
            " 6/85 [=>............................] - ETA: 8s - loss: 2.2897 - accuracy: 0.1082WARNING:tensorflow:Callback method `on_train_batch_end` is slow compared to the batch time (batch time: 0.0421s vs `on_train_batch_end` time: 0.0640s). Check your callbacks.\n",
            "85/85 [==============================] - 11s 118ms/step - loss: 1.9571 - accuracy: 0.2409 - val_loss: 1.3384 - val_accuracy: 0.4496\n",
            "Epoch 2/20\n",
            "85/85 [==============================] - 10s 115ms/step - loss: 1.2366 - accuracy: 0.5029 - val_loss: 0.9445 - val_accuracy: 0.6361\n",
            "Epoch 3/20\n",
            "85/85 [==============================] - 10s 113ms/step - loss: 0.9965 - accuracy: 0.6257 - val_loss: 0.8375 - val_accuracy: 0.6946\n",
            "Epoch 4/20\n",
            "85/85 [==============================] - 10s 115ms/step - loss: 0.8322 - accuracy: 0.7007 - val_loss: 0.6591 - val_accuracy: 0.7557\n",
            "Epoch 5/20\n",
            "85/85 [==============================] - 10s 116ms/step - loss: 0.7178 - accuracy: 0.7423 - val_loss: 0.6059 - val_accuracy: 0.7774\n",
            "Epoch 6/20\n",
            "85/85 [==============================] - 10s 115ms/step - loss: 0.6417 - accuracy: 0.7682 - val_loss: 0.6721 - val_accuracy: 0.7706\n",
            "Epoch 7/20\n",
            "85/85 [==============================] - 10s 115ms/step - loss: 0.6247 - accuracy: 0.7728 - val_loss: 0.5767 - val_accuracy: 0.7978\n",
            "Epoch 8/20\n",
            "85/85 [==============================] - 10s 114ms/step - loss: 0.5666 - accuracy: 0.8047 - val_loss: 0.5953 - val_accuracy: 0.7924\n",
            "Epoch 9/20\n",
            "85/85 [==============================] - 10s 114ms/step - loss: 0.5748 - accuracy: 0.7926 - val_loss: 0.5159 - val_accuracy: 0.8219\n",
            "Epoch 10/20\n",
            "85/85 [==============================] - 10s 114ms/step - loss: 0.5282 - accuracy: 0.8118 - val_loss: 0.5098 - val_accuracy: 0.8196\n",
            "Epoch 11/20\n",
            "85/85 [==============================] - 10s 114ms/step - loss: 0.5197 - accuracy: 0.8127 - val_loss: 0.5320 - val_accuracy: 0.8141\n",
            "Epoch 12/20\n",
            "85/85 [==============================] - 10s 115ms/step - loss: 0.4796 - accuracy: 0.8315 - val_loss: 0.4362 - val_accuracy: 0.8448\n",
            "Epoch 13/20\n",
            "85/85 [==============================] - 10s 113ms/step - loss: 0.4302 - accuracy: 0.8506 - val_loss: 0.4853 - val_accuracy: 0.8372\n",
            "Epoch 14/20\n",
            "85/85 [==============================] - 10s 114ms/step - loss: 0.4495 - accuracy: 0.8415 - val_loss: 0.5009 - val_accuracy: 0.8261\n",
            "Epoch 15/20\n",
            "85/85 [==============================] - 10s 114ms/step - loss: 0.4132 - accuracy: 0.8556 - val_loss: 0.3951 - val_accuracy: 0.8654\n",
            "Epoch 16/20\n",
            "85/85 [==============================] - 10s 115ms/step - loss: 0.3833 - accuracy: 0.8639 - val_loss: 0.4513 - val_accuracy: 0.8478\n",
            "Epoch 17/20\n",
            "85/85 [==============================] - 10s 115ms/step - loss: 0.4199 - accuracy: 0.8525 - val_loss: 0.3863 - val_accuracy: 0.8652\n",
            "Epoch 18/20\n",
            "85/85 [==============================] - 10s 115ms/step - loss: 0.3443 - accuracy: 0.8844 - val_loss: 0.3822 - val_accuracy: 0.8750\n",
            "Epoch 19/20\n",
            "85/85 [==============================] - 10s 116ms/step - loss: 0.3466 - accuracy: 0.8809 - val_loss: 0.3721 - val_accuracy: 0.8796\n",
            "Epoch 20/20\n",
            "85/85 [==============================] - 10s 113ms/step - loss: 0.3493 - accuracy: 0.8747 - val_loss: 0.3516 - val_accuracy: 0.8804\n"
          ],
          "name": "stdout"
        },
        {
          "output_type": "display_data",
          "data": {
            "text/html": [
              "<span style=\"color:#4527A0\"><h1 style=\"font-size:18px\">Trial complete</h1></span>"
            ],
            "text/plain": [
              "<IPython.core.display.HTML object>"
            ]
          },
          "metadata": {
            "tags": []
          }
        },
        {
          "output_type": "display_data",
          "data": {
            "text/html": [
              "<span style=\"color:#4527A0\"><h1 style=\"font-size:18px\">Trial summary</h1></span>"
            ],
            "text/plain": [
              "<IPython.core.display.HTML object>"
            ]
          },
          "metadata": {
            "tags": []
          }
        },
        {
          "output_type": "display_data",
          "data": {
            "text/html": [
              "<span style=\"color:#7E57C2\"><h2 style=\"font-size:16px\">Hp values:</h2></span>"
            ],
            "text/plain": [
              "<IPython.core.display.HTML object>"
            ]
          },
          "metadata": {
            "tags": []
          }
        },
        {
          "output_type": "display_data",
          "data": {
            "text/html": [
              "<span style=\"color:cyan\"> |-conv_0_units: 320</span>"
            ],
            "text/plain": [
              "<IPython.core.display.HTML object>"
            ]
          },
          "metadata": {
            "tags": []
          }
        },
        {
          "output_type": "display_data",
          "data": {
            "text/html": [
              "<span style=\"color:blue\"> |-conv_1_units: 928</span>"
            ],
            "text/plain": [
              "<IPython.core.display.HTML object>"
            ]
          },
          "metadata": {
            "tags": []
          }
        },
        {
          "output_type": "display_data",
          "data": {
            "text/html": [
              "<span style=\"color:cyan\"> |-conv_2_units: 32</span>"
            ],
            "text/plain": [
              "<IPython.core.display.HTML object>"
            ]
          },
          "metadata": {
            "tags": []
          }
        },
        {
          "output_type": "display_data",
          "data": {
            "text/html": [
              "<span style=\"color:blue\"> |-conv_3_units: 896</span>"
            ],
            "text/plain": [
              "<IPython.core.display.HTML object>"
            ]
          },
          "metadata": {
            "tags": []
          }
        },
        {
          "output_type": "display_data",
          "data": {
            "text/html": [
              "<span style=\"color:cyan\"> |-dense_0_units: 128</span>"
            ],
            "text/plain": [
              "<IPython.core.display.HTML object>"
            ]
          },
          "metadata": {
            "tags": []
          }
        },
        {
          "output_type": "display_data",
          "data": {
            "text/html": [
              "<span style=\"color:blue\"> |-dense_1_units: 352</span>"
            ],
            "text/plain": [
              "<IPython.core.display.HTML object>"
            ]
          },
          "metadata": {
            "tags": []
          }
        },
        {
          "output_type": "display_data",
          "data": {
            "text/html": [
              "<span style=\"color:cyan\"> |-dropout: 0.1</span>"
            ],
            "text/plain": [
              "<IPython.core.display.HTML object>"
            ]
          },
          "metadata": {
            "tags": []
          }
        },
        {
          "output_type": "display_data",
          "data": {
            "text/html": [
              "<span style=\"color:blue\"> |-dropout_0: 0.25</span>"
            ],
            "text/plain": [
              "<IPython.core.display.HTML object>"
            ]
          },
          "metadata": {
            "tags": []
          }
        },
        {
          "output_type": "display_data",
          "data": {
            "text/html": [
              "<span style=\"color:cyan\"> |-dropout_1: 0.5</span>"
            ],
            "text/plain": [
              "<IPython.core.display.HTML object>"
            ]
          },
          "metadata": {
            "tags": []
          }
        },
        {
          "output_type": "display_data",
          "data": {
            "text/html": [
              "<span style=\"color:blue\"> |-dropout_2: 0.5</span>"
            ],
            "text/plain": [
              "<IPython.core.display.HTML object>"
            ]
          },
          "metadata": {
            "tags": []
          }
        },
        {
          "output_type": "display_data",
          "data": {
            "text/html": [
              "<span style=\"color:cyan\"> |-dropout_3: 0.5</span>"
            ],
            "text/plain": [
              "<IPython.core.display.HTML object>"
            ]
          },
          "metadata": {
            "tags": []
          }
        },
        {
          "output_type": "display_data",
          "data": {
            "text/html": [
              "<span style=\"color:blue\"> |-input_units: 32</span>"
            ],
            "text/plain": [
              "<IPython.core.display.HTML object>"
            ]
          },
          "metadata": {
            "tags": []
          }
        },
        {
          "output_type": "display_data",
          "data": {
            "text/html": [
              "<span style=\"color:cyan\"> |-learning_rate: 0.001</span>"
            ],
            "text/plain": [
              "<IPython.core.display.HTML object>"
            ]
          },
          "metadata": {
            "tags": []
          }
        },
        {
          "output_type": "display_data",
          "data": {
            "text/html": [
              "<span style=\"color:blue\"> |-n_cnn_layers: 3</span>"
            ],
            "text/plain": [
              "<IPython.core.display.HTML object>"
            ]
          },
          "metadata": {
            "tags": []
          }
        },
        {
          "output_type": "display_data",
          "data": {
            "text/html": [
              "<span style=\"color:cyan\"> |-n_dense_layers: 2</span>"
            ],
            "text/plain": [
              "<IPython.core.display.HTML object>"
            ]
          },
          "metadata": {
            "tags": []
          }
        },
        {
          "output_type": "display_data",
          "data": {
            "text/html": [
              "<span style=\"color:cyan\"> |-Score: 0.879537045955658</span>"
            ],
            "text/plain": [
              "<IPython.core.display.HTML object>"
            ]
          },
          "metadata": {
            "tags": []
          }
        },
        {
          "output_type": "display_data",
          "data": {
            "text/html": [
              "<span style=\"color:cyan\"> |-Best step: 0</span>"
            ],
            "text/plain": [
              "<IPython.core.display.HTML object>"
            ]
          },
          "metadata": {
            "tags": []
          }
        },
        {
          "output_type": "stream",
          "text": [
            "Epoch 1/20\n",
            " 6/85 [=>............................] - ETA: 14s - loss: 3.1451 - accuracy: 0.0999WARNING:tensorflow:Callback method `on_train_batch_end` is slow compared to the batch time (batch time: 0.0615s vs `on_train_batch_end` time: 0.1043s). Check your callbacks.\n",
            "85/85 [==============================] - 21s 208ms/step - loss: 2.2904 - accuracy: 0.1674 - val_loss: 1.8049 - val_accuracy: 0.3050\n",
            "Epoch 2/20\n",
            "85/85 [==============================] - 16s 189ms/step - loss: 1.7547 - accuracy: 0.3184 - val_loss: 1.6878 - val_accuracy: 0.3606\n",
            "Epoch 3/20\n",
            "85/85 [==============================] - 16s 190ms/step - loss: 1.5746 - accuracy: 0.3933 - val_loss: 1.3456 - val_accuracy: 0.5226\n",
            "Epoch 4/20\n",
            "85/85 [==============================] - 16s 190ms/step - loss: 1.2634 - accuracy: 0.5326 - val_loss: 1.5089 - val_accuracy: 0.4794\n",
            "Epoch 5/20\n",
            "85/85 [==============================] - 16s 190ms/step - loss: 1.0559 - accuracy: 0.6178 - val_loss: 0.8284 - val_accuracy: 0.7137\n",
            "Epoch 6/20\n",
            "85/85 [==============================] - 16s 188ms/step - loss: 0.8589 - accuracy: 0.6911 - val_loss: 1.0373 - val_accuracy: 0.6094\n",
            "Epoch 7/20\n",
            "85/85 [==============================] - 16s 189ms/step - loss: 0.8040 - accuracy: 0.7109 - val_loss: 0.7396 - val_accuracy: 0.7367\n",
            "Epoch 8/20\n",
            "85/85 [==============================] - 16s 189ms/step - loss: 0.7417 - accuracy: 0.7289 - val_loss: 0.6677 - val_accuracy: 0.7567\n",
            "Epoch 9/20\n",
            "85/85 [==============================] - 16s 189ms/step - loss: 0.6479 - accuracy: 0.7656 - val_loss: 0.6089 - val_accuracy: 0.7874\n",
            "Epoch 10/20\n",
            "85/85 [==============================] - 16s 189ms/step - loss: 0.6066 - accuracy: 0.7772 - val_loss: 0.6047 - val_accuracy: 0.7904\n",
            "Epoch 11/20\n",
            "85/85 [==============================] - 16s 190ms/step - loss: 0.5697 - accuracy: 0.7976 - val_loss: 0.6907 - val_accuracy: 0.7559\n",
            "Epoch 12/20\n",
            "85/85 [==============================] - 16s 190ms/step - loss: 0.5496 - accuracy: 0.8009 - val_loss: 0.7066 - val_accuracy: 0.7524\n",
            "Epoch 13/20\n",
            "85/85 [==============================] - 16s 189ms/step - loss: 0.5362 - accuracy: 0.8075 - val_loss: 0.5558 - val_accuracy: 0.8059\n",
            "Epoch 14/20\n",
            "85/85 [==============================] - 16s 189ms/step - loss: 0.5483 - accuracy: 0.7975 - val_loss: 0.5273 - val_accuracy: 0.8143\n",
            "Epoch 15/20\n",
            "85/85 [==============================] - 16s 190ms/step - loss: 0.4892 - accuracy: 0.8239 - val_loss: 0.5303 - val_accuracy: 0.8130\n",
            "Epoch 16/20\n",
            "85/85 [==============================] - 16s 189ms/step - loss: 0.4680 - accuracy: 0.8321 - val_loss: 0.4863 - val_accuracy: 0.8346\n",
            "Epoch 17/20\n",
            "85/85 [==============================] - 16s 190ms/step - loss: 0.4653 - accuracy: 0.8335 - val_loss: 0.5144 - val_accuracy: 0.8304\n",
            "Epoch 18/20\n",
            "85/85 [==============================] - 16s 188ms/step - loss: 0.3874 - accuracy: 0.8620 - val_loss: 0.5303 - val_accuracy: 0.8137\n",
            "Epoch 19/20\n",
            "85/85 [==============================] - 16s 188ms/step - loss: 0.4008 - accuracy: 0.8573 - val_loss: 0.5472 - val_accuracy: 0.8122\n",
            "Epoch 20/20\n",
            "85/85 [==============================] - 16s 189ms/step - loss: 0.3751 - accuracy: 0.8649 - val_loss: 0.4546 - val_accuracy: 0.8474\n",
            "Epoch 1/20\n",
            " 6/85 [=>............................] - ETA: 13s - loss: 2.5627 - accuracy: 0.0962WARNING:tensorflow:Callback method `on_train_batch_end` is slow compared to the batch time (batch time: 0.0587s vs `on_train_batch_end` time: 0.1160s). Check your callbacks.\n",
            "85/85 [==============================] - 17s 188ms/step - loss: 2.2234 - accuracy: 0.1747 - val_loss: 1.9928 - val_accuracy: 0.2478\n",
            "Epoch 2/20\n",
            "85/85 [==============================] - 16s 186ms/step - loss: 1.8919 - accuracy: 0.2778 - val_loss: 1.5079 - val_accuracy: 0.3702\n",
            "Epoch 3/20\n",
            "85/85 [==============================] - 16s 186ms/step - loss: 1.4321 - accuracy: 0.4178 - val_loss: 1.1134 - val_accuracy: 0.5635\n",
            "Epoch 4/20\n",
            "85/85 [==============================] - 16s 185ms/step - loss: 1.1855 - accuracy: 0.5537 - val_loss: 0.9933 - val_accuracy: 0.6311\n",
            "Epoch 5/20\n",
            "85/85 [==============================] - 16s 186ms/step - loss: 1.0283 - accuracy: 0.6208 - val_loss: 0.9694 - val_accuracy: 0.6500\n",
            "Epoch 6/20\n",
            "85/85 [==============================] - 16s 185ms/step - loss: 0.9365 - accuracy: 0.6576 - val_loss: 1.0610 - val_accuracy: 0.5980\n",
            "Epoch 7/20\n",
            "85/85 [==============================] - 16s 186ms/step - loss: 0.9119 - accuracy: 0.6547 - val_loss: 0.7843 - val_accuracy: 0.7174\n",
            "Epoch 8/20\n",
            "85/85 [==============================] - 16s 186ms/step - loss: 0.7722 - accuracy: 0.7214 - val_loss: 0.6893 - val_accuracy: 0.7506\n",
            "Epoch 9/20\n",
            "85/85 [==============================] - 16s 187ms/step - loss: 0.7082 - accuracy: 0.7465 - val_loss: 0.7901 - val_accuracy: 0.7115\n",
            "Epoch 10/20\n",
            "85/85 [==============================] - 16s 186ms/step - loss: 0.6679 - accuracy: 0.7578 - val_loss: 0.7767 - val_accuracy: 0.7117\n",
            "Epoch 11/20\n",
            "85/85 [==============================] - 16s 186ms/step - loss: 0.6438 - accuracy: 0.7717 - val_loss: 0.7815 - val_accuracy: 0.7335\n",
            "Epoch 12/20\n",
            "85/85 [==============================] - 16s 186ms/step - loss: 0.6017 - accuracy: 0.7832 - val_loss: 0.5700 - val_accuracy: 0.7987\n",
            "Epoch 13/20\n",
            "85/85 [==============================] - 16s 187ms/step - loss: 0.5333 - accuracy: 0.8077 - val_loss: 0.5704 - val_accuracy: 0.8004\n",
            "Epoch 14/20\n",
            "85/85 [==============================] - 16s 187ms/step - loss: 0.5302 - accuracy: 0.8088 - val_loss: 0.6659 - val_accuracy: 0.7639\n",
            "Epoch 15/20\n",
            "85/85 [==============================] - 16s 186ms/step - loss: 0.5430 - accuracy: 0.8051 - val_loss: 0.5110 - val_accuracy: 0.8274\n",
            "Epoch 16/20\n",
            "85/85 [==============================] - 16s 187ms/step - loss: 0.5116 - accuracy: 0.8185 - val_loss: 0.6528 - val_accuracy: 0.7843\n",
            "Epoch 17/20\n",
            "85/85 [==============================] - 16s 186ms/step - loss: 0.4987 - accuracy: 0.8197 - val_loss: 0.6454 - val_accuracy: 0.7889\n",
            "Epoch 18/20\n",
            "85/85 [==============================] - 16s 186ms/step - loss: 0.4488 - accuracy: 0.8371 - val_loss: 0.5449 - val_accuracy: 0.8170\n",
            "Epoch 19/20\n",
            "85/85 [==============================] - 16s 186ms/step - loss: 0.4092 - accuracy: 0.8533 - val_loss: 0.6051 - val_accuracy: 0.7909\n",
            "Epoch 20/20\n",
            "85/85 [==============================] - 16s 185ms/step - loss: 0.4077 - accuracy: 0.8560 - val_loss: 0.5247 - val_accuracy: 0.8285\n"
          ],
          "name": "stdout"
        },
        {
          "output_type": "display_data",
          "data": {
            "text/html": [
              "<span style=\"color:#4527A0\"><h1 style=\"font-size:18px\">Trial complete</h1></span>"
            ],
            "text/plain": [
              "<IPython.core.display.HTML object>"
            ]
          },
          "metadata": {
            "tags": []
          }
        },
        {
          "output_type": "display_data",
          "data": {
            "text/html": [
              "<span style=\"color:#4527A0\"><h1 style=\"font-size:18px\">Trial summary</h1></span>"
            ],
            "text/plain": [
              "<IPython.core.display.HTML object>"
            ]
          },
          "metadata": {
            "tags": []
          }
        },
        {
          "output_type": "display_data",
          "data": {
            "text/html": [
              "<span style=\"color:#7E57C2\"><h2 style=\"font-size:16px\">Hp values:</h2></span>"
            ],
            "text/plain": [
              "<IPython.core.display.HTML object>"
            ]
          },
          "metadata": {
            "tags": []
          }
        },
        {
          "output_type": "display_data",
          "data": {
            "text/html": [
              "<span style=\"color:cyan\"> |-conv_0_units: 64</span>"
            ],
            "text/plain": [
              "<IPython.core.display.HTML object>"
            ]
          },
          "metadata": {
            "tags": []
          }
        },
        {
          "output_type": "display_data",
          "data": {
            "text/html": [
              "<span style=\"color:blue\"> |-conv_1_units: 352</span>"
            ],
            "text/plain": [
              "<IPython.core.display.HTML object>"
            ]
          },
          "metadata": {
            "tags": []
          }
        },
        {
          "output_type": "display_data",
          "data": {
            "text/html": [
              "<span style=\"color:cyan\"> |-conv_2_units: 448</span>"
            ],
            "text/plain": [
              "<IPython.core.display.HTML object>"
            ]
          },
          "metadata": {
            "tags": []
          }
        },
        {
          "output_type": "display_data",
          "data": {
            "text/html": [
              "<span style=\"color:blue\"> |-conv_3_units: 512</span>"
            ],
            "text/plain": [
              "<IPython.core.display.HTML object>"
            ]
          },
          "metadata": {
            "tags": []
          }
        },
        {
          "output_type": "display_data",
          "data": {
            "text/html": [
              "<span style=\"color:cyan\"> |-dense_0_units: 288</span>"
            ],
            "text/plain": [
              "<IPython.core.display.HTML object>"
            ]
          },
          "metadata": {
            "tags": []
          }
        },
        {
          "output_type": "display_data",
          "data": {
            "text/html": [
              "<span style=\"color:blue\"> |-dense_1_units: 320</span>"
            ],
            "text/plain": [
              "<IPython.core.display.HTML object>"
            ]
          },
          "metadata": {
            "tags": []
          }
        },
        {
          "output_type": "display_data",
          "data": {
            "text/html": [
              "<span style=\"color:cyan\"> |-dropout: 0.25</span>"
            ],
            "text/plain": [
              "<IPython.core.display.HTML object>"
            ]
          },
          "metadata": {
            "tags": []
          }
        },
        {
          "output_type": "display_data",
          "data": {
            "text/html": [
              "<span style=\"color:blue\"> |-dropout_0: 0.1</span>"
            ],
            "text/plain": [
              "<IPython.core.display.HTML object>"
            ]
          },
          "metadata": {
            "tags": []
          }
        },
        {
          "output_type": "display_data",
          "data": {
            "text/html": [
              "<span style=\"color:cyan\"> |-dropout_1: 0.5</span>"
            ],
            "text/plain": [
              "<IPython.core.display.HTML object>"
            ]
          },
          "metadata": {
            "tags": []
          }
        },
        {
          "output_type": "display_data",
          "data": {
            "text/html": [
              "<span style=\"color:blue\"> |-dropout_2: 0.25</span>"
            ],
            "text/plain": [
              "<IPython.core.display.HTML object>"
            ]
          },
          "metadata": {
            "tags": []
          }
        },
        {
          "output_type": "display_data",
          "data": {
            "text/html": [
              "<span style=\"color:cyan\"> |-dropout_3: 0.1</span>"
            ],
            "text/plain": [
              "<IPython.core.display.HTML object>"
            ]
          },
          "metadata": {
            "tags": []
          }
        },
        {
          "output_type": "display_data",
          "data": {
            "text/html": [
              "<span style=\"color:blue\"> |-input_units: 576</span>"
            ],
            "text/plain": [
              "<IPython.core.display.HTML object>"
            ]
          },
          "metadata": {
            "tags": []
          }
        },
        {
          "output_type": "display_data",
          "data": {
            "text/html": [
              "<span style=\"color:cyan\"> |-learning_rate: 0.001</span>"
            ],
            "text/plain": [
              "<IPython.core.display.HTML object>"
            ]
          },
          "metadata": {
            "tags": []
          }
        },
        {
          "output_type": "display_data",
          "data": {
            "text/html": [
              "<span style=\"color:blue\"> |-n_cnn_layers: 4</span>"
            ],
            "text/plain": [
              "<IPython.core.display.HTML object>"
            ]
          },
          "metadata": {
            "tags": []
          }
        },
        {
          "output_type": "display_data",
          "data": {
            "text/html": [
              "<span style=\"color:cyan\"> |-n_dense_layers: 1</span>"
            ],
            "text/plain": [
              "<IPython.core.display.HTML object>"
            ]
          },
          "metadata": {
            "tags": []
          }
        },
        {
          "output_type": "display_data",
          "data": {
            "text/html": [
              "<span style=\"color:cyan\"> |-Score: 0.8379629552364349</span>"
            ],
            "text/plain": [
              "<IPython.core.display.HTML object>"
            ]
          },
          "metadata": {
            "tags": []
          }
        },
        {
          "output_type": "display_data",
          "data": {
            "text/html": [
              "<span style=\"color:cyan\"> |-Best step: 0</span>"
            ],
            "text/plain": [
              "<IPython.core.display.HTML object>"
            ]
          },
          "metadata": {
            "tags": []
          }
        },
        {
          "output_type": "stream",
          "text": [
            "Epoch 1/20\n",
            " 6/85 [=>............................] - ETA: 15s - loss: 143495.0842 - accuracy: 0.0935WARNING:tensorflow:Callback method `on_train_batch_end` is slow compared to the batch time (batch time: 0.0694s vs `on_train_batch_end` time: 0.1115s). Check your callbacks.\n",
            "85/85 [==============================] - 26s 244ms/step - loss: 27880.5243 - accuracy: 0.1063 - val_loss: 2.2942 - val_accuracy: 0.1157\n",
            "Epoch 2/20\n",
            "85/85 [==============================] - 18s 213ms/step - loss: 2.2952 - accuracy: 0.1087 - val_loss: 2.2935 - val_accuracy: 0.1157\n",
            "Epoch 3/20\n",
            "85/85 [==============================] - 18s 212ms/step - loss: 2.2954 - accuracy: 0.1096 - val_loss: 2.2938 - val_accuracy: 0.1131\n",
            "Epoch 4/20\n",
            "85/85 [==============================] - 18s 212ms/step - loss: 2.2951 - accuracy: 0.1046 - val_loss: 2.2937 - val_accuracy: 0.1102\n",
            "Epoch 5/20\n",
            "85/85 [==============================] - 18s 212ms/step - loss: 2.2954 - accuracy: 0.1089 - val_loss: 2.2945 - val_accuracy: 0.1094\n",
            "Epoch 6/20\n",
            "85/85 [==============================] - 18s 211ms/step - loss: 2.2971 - accuracy: 0.1044 - val_loss: 2.2938 - val_accuracy: 0.1102\n",
            "Epoch 7/20\n",
            "85/85 [==============================] - 18s 212ms/step - loss: 2.2957 - accuracy: 0.1119 - val_loss: 2.2937 - val_accuracy: 0.1094\n",
            "Epoch 8/20\n",
            "85/85 [==============================] - 18s 212ms/step - loss: 2.2960 - accuracy: 0.1075 - val_loss: 2.2935 - val_accuracy: 0.1102\n",
            "Epoch 9/20\n",
            "85/85 [==============================] - 18s 211ms/step - loss: 2.2956 - accuracy: 0.1117 - val_loss: 2.2936 - val_accuracy: 0.1157\n",
            "Epoch 10/20\n",
            "85/85 [==============================] - 18s 212ms/step - loss: 2.2950 - accuracy: 0.1149 - val_loss: 2.2944 - val_accuracy: 0.1102\n",
            "Epoch 11/20\n",
            "85/85 [==============================] - 18s 212ms/step - loss: 2.2966 - accuracy: 0.1080 - val_loss: 2.2934 - val_accuracy: 0.1102\n",
            "Epoch 12/20\n",
            "85/85 [==============================] - 18s 212ms/step - loss: 2.2960 - accuracy: 0.1129 - val_loss: 2.2939 - val_accuracy: 0.1157\n",
            "Epoch 13/20\n",
            "85/85 [==============================] - 18s 211ms/step - loss: 2.2960 - accuracy: 0.1116 - val_loss: 2.2936 - val_accuracy: 0.1131\n",
            "Epoch 14/20\n",
            "85/85 [==============================] - 18s 212ms/step - loss: 2.2968 - accuracy: 0.1130 - val_loss: 2.2939 - val_accuracy: 0.1102\n",
            "Epoch 15/20\n",
            "85/85 [==============================] - 18s 212ms/step - loss: 2.2957 - accuracy: 0.1100 - val_loss: 2.2942 - val_accuracy: 0.1094\n",
            "Epoch 16/20\n",
            "85/85 [==============================] - 18s 212ms/step - loss: 2.2946 - accuracy: 0.1117 - val_loss: 2.2943 - val_accuracy: 0.1102\n",
            "Epoch 17/20\n",
            "85/85 [==============================] - 18s 212ms/step - loss: 2.2947 - accuracy: 0.1116 - val_loss: 2.2939 - val_accuracy: 0.1102\n",
            "Epoch 18/20\n",
            "85/85 [==============================] - 18s 212ms/step - loss: 2.2965 - accuracy: 0.1108 - val_loss: 2.2938 - val_accuracy: 0.1094\n",
            "Epoch 19/20\n",
            "85/85 [==============================] - 18s 212ms/step - loss: 2.2956 - accuracy: 0.1114 - val_loss: 2.2939 - val_accuracy: 0.1102\n",
            "Epoch 20/20\n",
            "85/85 [==============================] - 18s 213ms/step - loss: 2.2958 - accuracy: 0.1160 - val_loss: 2.2937 - val_accuracy: 0.1131\n",
            "Epoch 1/20\n",
            " 6/85 [=>............................] - ETA: 15s - loss: 95789.0153 - accuracy: 0.1000 WARNING:tensorflow:Callback method `on_train_batch_end` is slow compared to the batch time (batch time: 0.0708s vs `on_train_batch_end` time: 0.1313s). Check your callbacks.\n",
            "85/85 [==============================] - 19s 215ms/step - loss: 18611.9955 - accuracy: 0.1095 - val_loss: 2.2940 - val_accuracy: 0.1102\n",
            "Epoch 2/20\n",
            "85/85 [==============================] - 18s 211ms/step - loss: 2.2967 - accuracy: 0.1089 - val_loss: 2.2942 - val_accuracy: 0.1102\n",
            "Epoch 3/20\n",
            "85/85 [==============================] - 18s 213ms/step - loss: 2.2952 - accuracy: 0.1102 - val_loss: 2.2940 - val_accuracy: 0.1131\n",
            "Epoch 4/20\n",
            "85/85 [==============================] - 18s 212ms/step - loss: 2.2951 - accuracy: 0.1096 - val_loss: 2.2939 - val_accuracy: 0.1102\n",
            "Epoch 5/20\n",
            "85/85 [==============================] - 18s 212ms/step - loss: 2.2965 - accuracy: 0.1062 - val_loss: 2.2941 - val_accuracy: 0.1157\n",
            "Epoch 6/20\n",
            "85/85 [==============================] - 18s 212ms/step - loss: 2.2963 - accuracy: 0.1131 - val_loss: 2.2942 - val_accuracy: 0.1131\n",
            "Epoch 7/20\n",
            "85/85 [==============================] - 18s 212ms/step - loss: 2.2952 - accuracy: 0.1076 - val_loss: 2.2946 - val_accuracy: 0.1131\n",
            "Epoch 8/20\n",
            "85/85 [==============================] - 18s 212ms/step - loss: 2.2950 - accuracy: 0.1073 - val_loss: 2.2941 - val_accuracy: 0.1131\n",
            "Epoch 9/20\n",
            "85/85 [==============================] - 18s 211ms/step - loss: 2.2942 - accuracy: 0.1087 - val_loss: 2.2941 - val_accuracy: 0.1094\n",
            "Epoch 10/20\n",
            "85/85 [==============================] - 18s 212ms/step - loss: 2.2971 - accuracy: 0.1122 - val_loss: 2.2938 - val_accuracy: 0.1094\n",
            "Epoch 11/20\n",
            "85/85 [==============================] - 18s 212ms/step - loss: 2.2952 - accuracy: 0.1074 - val_loss: 2.2945 - val_accuracy: 0.1102\n",
            "Epoch 12/20\n",
            "85/85 [==============================] - 18s 211ms/step - loss: 2.2950 - accuracy: 0.1097 - val_loss: 2.2947 - val_accuracy: 0.1094\n",
            "Epoch 13/20\n",
            "85/85 [==============================] - 18s 212ms/step - loss: 2.2960 - accuracy: 0.1069 - val_loss: 2.2946 - val_accuracy: 0.1131\n",
            "Epoch 14/20\n",
            "85/85 [==============================] - 18s 212ms/step - loss: 2.2957 - accuracy: 0.1086 - val_loss: 2.2935 - val_accuracy: 0.1094\n",
            "Epoch 15/20\n",
            "85/85 [==============================] - 18s 211ms/step - loss: 2.2951 - accuracy: 0.1120 - val_loss: 2.2939 - val_accuracy: 0.1131\n",
            "Epoch 16/20\n",
            "85/85 [==============================] - 18s 213ms/step - loss: 2.2962 - accuracy: 0.1085 - val_loss: 2.2940 - val_accuracy: 0.1094\n",
            "Epoch 17/20\n",
            "85/85 [==============================] - 18s 213ms/step - loss: 2.2953 - accuracy: 0.1087 - val_loss: 2.2938 - val_accuracy: 0.1102\n",
            "Epoch 18/20\n",
            "85/85 [==============================] - 18s 212ms/step - loss: 2.2951 - accuracy: 0.1071 - val_loss: 2.2941 - val_accuracy: 0.1131\n",
            "Epoch 19/20\n",
            "85/85 [==============================] - 18s 213ms/step - loss: 2.2960 - accuracy: 0.1125 - val_loss: 2.2942 - val_accuracy: 0.1094\n",
            "Epoch 20/20\n",
            "85/85 [==============================] - 18s 213ms/step - loss: 2.2947 - accuracy: 0.1104 - val_loss: 2.2947 - val_accuracy: 0.1131\n"
          ],
          "name": "stdout"
        },
        {
          "output_type": "display_data",
          "data": {
            "text/html": [
              "<span style=\"color:#4527A0\"><h1 style=\"font-size:18px\">Trial complete</h1></span>"
            ],
            "text/plain": [
              "<IPython.core.display.HTML object>"
            ]
          },
          "metadata": {
            "tags": []
          }
        },
        {
          "output_type": "display_data",
          "data": {
            "text/html": [
              "<span style=\"color:#4527A0\"><h1 style=\"font-size:18px\">Trial summary</h1></span>"
            ],
            "text/plain": [
              "<IPython.core.display.HTML object>"
            ]
          },
          "metadata": {
            "tags": []
          }
        },
        {
          "output_type": "display_data",
          "data": {
            "text/html": [
              "<span style=\"color:#7E57C2\"><h2 style=\"font-size:16px\">Hp values:</h2></span>"
            ],
            "text/plain": [
              "<IPython.core.display.HTML object>"
            ]
          },
          "metadata": {
            "tags": []
          }
        },
        {
          "output_type": "display_data",
          "data": {
            "text/html": [
              "<span style=\"color:cyan\"> |-conv_0_units: 576</span>"
            ],
            "text/plain": [
              "<IPython.core.display.HTML object>"
            ]
          },
          "metadata": {
            "tags": []
          }
        },
        {
          "output_type": "display_data",
          "data": {
            "text/html": [
              "<span style=\"color:blue\"> |-conv_1_units: 224</span>"
            ],
            "text/plain": [
              "<IPython.core.display.HTML object>"
            ]
          },
          "metadata": {
            "tags": []
          }
        },
        {
          "output_type": "display_data",
          "data": {
            "text/html": [
              "<span style=\"color:cyan\"> |-conv_2_units: 736</span>"
            ],
            "text/plain": [
              "<IPython.core.display.HTML object>"
            ]
          },
          "metadata": {
            "tags": []
          }
        },
        {
          "output_type": "display_data",
          "data": {
            "text/html": [
              "<span style=\"color:blue\"> |-conv_3_units: 832</span>"
            ],
            "text/plain": [
              "<IPython.core.display.HTML object>"
            ]
          },
          "metadata": {
            "tags": []
          }
        },
        {
          "output_type": "display_data",
          "data": {
            "text/html": [
              "<span style=\"color:cyan\"> |-conv_4_units: 32</span>"
            ],
            "text/plain": [
              "<IPython.core.display.HTML object>"
            ]
          },
          "metadata": {
            "tags": []
          }
        },
        {
          "output_type": "display_data",
          "data": {
            "text/html": [
              "<span style=\"color:blue\"> |-dense_0_units: 768</span>"
            ],
            "text/plain": [
              "<IPython.core.display.HTML object>"
            ]
          },
          "metadata": {
            "tags": []
          }
        },
        {
          "output_type": "display_data",
          "data": {
            "text/html": [
              "<span style=\"color:cyan\"> |-dense_1_units: 448</span>"
            ],
            "text/plain": [
              "<IPython.core.display.HTML object>"
            ]
          },
          "metadata": {
            "tags": []
          }
        },
        {
          "output_type": "display_data",
          "data": {
            "text/html": [
              "<span style=\"color:blue\"> |-dropout: 0.1</span>"
            ],
            "text/plain": [
              "<IPython.core.display.HTML object>"
            ]
          },
          "metadata": {
            "tags": []
          }
        },
        {
          "output_type": "display_data",
          "data": {
            "text/html": [
              "<span style=\"color:cyan\"> |-dropout_0: 0.5</span>"
            ],
            "text/plain": [
              "<IPython.core.display.HTML object>"
            ]
          },
          "metadata": {
            "tags": []
          }
        },
        {
          "output_type": "display_data",
          "data": {
            "text/html": [
              "<span style=\"color:blue\"> |-dropout_1: 0.1</span>"
            ],
            "text/plain": [
              "<IPython.core.display.HTML object>"
            ]
          },
          "metadata": {
            "tags": []
          }
        },
        {
          "output_type": "display_data",
          "data": {
            "text/html": [
              "<span style=\"color:cyan\"> |-dropout_2: 0.1</span>"
            ],
            "text/plain": [
              "<IPython.core.display.HTML object>"
            ]
          },
          "metadata": {
            "tags": []
          }
        },
        {
          "output_type": "display_data",
          "data": {
            "text/html": [
              "<span style=\"color:blue\"> |-dropout_3: 0.1</span>"
            ],
            "text/plain": [
              "<IPython.core.display.HTML object>"
            ]
          },
          "metadata": {
            "tags": []
          }
        },
        {
          "output_type": "display_data",
          "data": {
            "text/html": [
              "<span style=\"color:cyan\"> |-dropout_4: 0.1</span>"
            ],
            "text/plain": [
              "<IPython.core.display.HTML object>"
            ]
          },
          "metadata": {
            "tags": []
          }
        },
        {
          "output_type": "display_data",
          "data": {
            "text/html": [
              "<span style=\"color:blue\"> |-input_units: 160</span>"
            ],
            "text/plain": [
              "<IPython.core.display.HTML object>"
            ]
          },
          "metadata": {
            "tags": []
          }
        },
        {
          "output_type": "display_data",
          "data": {
            "text/html": [
              "<span style=\"color:cyan\"> |-learning_rate: 0.01</span>"
            ],
            "text/plain": [
              "<IPython.core.display.HTML object>"
            ]
          },
          "metadata": {
            "tags": []
          }
        },
        {
          "output_type": "display_data",
          "data": {
            "text/html": [
              "<span style=\"color:blue\"> |-n_cnn_layers: 5</span>"
            ],
            "text/plain": [
              "<IPython.core.display.HTML object>"
            ]
          },
          "metadata": {
            "tags": []
          }
        },
        {
          "output_type": "display_data",
          "data": {
            "text/html": [
              "<span style=\"color:cyan\"> |-n_dense_layers: 2</span>"
            ],
            "text/plain": [
              "<IPython.core.display.HTML object>"
            ]
          },
          "metadata": {
            "tags": []
          }
        },
        {
          "output_type": "display_data",
          "data": {
            "text/html": [
              "<span style=\"color:cyan\"> |-Score: 0.11574073880910873</span>"
            ],
            "text/plain": [
              "<IPython.core.display.HTML object>"
            ]
          },
          "metadata": {
            "tags": []
          }
        },
        {
          "output_type": "display_data",
          "data": {
            "text/html": [
              "<span style=\"color:cyan\"> |-Best step: 0</span>"
            ],
            "text/plain": [
              "<IPython.core.display.HTML object>"
            ]
          },
          "metadata": {
            "tags": []
          }
        },
        {
          "output_type": "stream",
          "text": [
            "Epoch 1/20\n",
            " 6/85 [=>............................] - ETA: 24s - loss: 45540.2762 - accuracy: 0.1156WARNING:tensorflow:Callback method `on_train_batch_end` is slow compared to the batch time (batch time: 0.1033s vs `on_train_batch_end` time: 0.1700s). Check your callbacks.\n",
            "85/85 [==============================] - 39s 369ms/step - loss: 9076.4323 - accuracy: 0.1096 - val_loss: 2.2945 - val_accuracy: 0.1131\n",
            "Epoch 2/20\n",
            "85/85 [==============================] - 28s 326ms/step - loss: 2.2956 - accuracy: 0.1139 - val_loss: 2.2954 - val_accuracy: 0.1131\n",
            "Epoch 3/20\n",
            "85/85 [==============================] - 28s 325ms/step - loss: 2.2960 - accuracy: 0.1077 - val_loss: 2.2938 - val_accuracy: 0.1131\n",
            "Epoch 4/20\n",
            "85/85 [==============================] - 28s 325ms/step - loss: 2.2962 - accuracy: 0.1086 - val_loss: 2.2936 - val_accuracy: 0.1131\n",
            "Epoch 5/20\n",
            "85/85 [==============================] - 28s 325ms/step - loss: 2.2956 - accuracy: 0.1094 - val_loss: 2.2938 - val_accuracy: 0.1131\n",
            "Epoch 6/20\n",
            "85/85 [==============================] - 28s 326ms/step - loss: 2.2938 - accuracy: 0.1094 - val_loss: 2.2940 - val_accuracy: 0.1157\n",
            "Epoch 7/20\n",
            "85/85 [==============================] - 28s 325ms/step - loss: 2.2954 - accuracy: 0.1114 - val_loss: 2.2939 - val_accuracy: 0.1131\n",
            "Epoch 8/20\n",
            "85/85 [==============================] - 28s 326ms/step - loss: 2.2957 - accuracy: 0.1067 - val_loss: 2.2936 - val_accuracy: 0.1157\n",
            "Epoch 9/20\n",
            "85/85 [==============================] - 28s 325ms/step - loss: 2.2962 - accuracy: 0.1126 - val_loss: 2.2942 - val_accuracy: 0.1102\n",
            "Epoch 10/20\n",
            "85/85 [==============================] - 28s 325ms/step - loss: 2.2967 - accuracy: 0.1067 - val_loss: 2.2937 - val_accuracy: 0.1094\n",
            "Epoch 11/20\n",
            "85/85 [==============================] - 28s 327ms/step - loss: 2.2950 - accuracy: 0.1088 - val_loss: 2.2942 - val_accuracy: 0.1131\n",
            "Epoch 12/20\n",
            "85/85 [==============================] - 28s 325ms/step - loss: 2.2965 - accuracy: 0.1101 - val_loss: 2.2934 - val_accuracy: 0.1102\n",
            "Epoch 13/20\n",
            "85/85 [==============================] - 28s 324ms/step - loss: 2.2963 - accuracy: 0.1113 - val_loss: 2.2935 - val_accuracy: 0.1102\n",
            "Epoch 14/20\n",
            "85/85 [==============================] - 28s 326ms/step - loss: 2.2961 - accuracy: 0.1099 - val_loss: 2.2941 - val_accuracy: 0.1102\n",
            "Epoch 15/20\n",
            "85/85 [==============================] - 28s 325ms/step - loss: 2.2965 - accuracy: 0.1055 - val_loss: 2.2940 - val_accuracy: 0.1102\n",
            "Epoch 16/20\n",
            "85/85 [==============================] - 28s 325ms/step - loss: 2.2952 - accuracy: 0.1080 - val_loss: 2.2941 - val_accuracy: 0.1102\n",
            "Epoch 17/20\n",
            "85/85 [==============================] - 28s 325ms/step - loss: 2.2949 - accuracy: 0.1055 - val_loss: 2.2939 - val_accuracy: 0.1102\n",
            "Epoch 18/20\n",
            "85/85 [==============================] - 28s 325ms/step - loss: 2.2941 - accuracy: 0.1113 - val_loss: 2.2939 - val_accuracy: 0.1157\n",
            "Epoch 19/20\n",
            "85/85 [==============================] - 28s 325ms/step - loss: 2.2960 - accuracy: 0.1067 - val_loss: 2.2938 - val_accuracy: 0.1131\n",
            "Epoch 20/20\n",
            "85/85 [==============================] - 28s 326ms/step - loss: 2.2948 - accuracy: 0.1100 - val_loss: 2.2939 - val_accuracy: 0.1157\n",
            "Epoch 1/20\n",
            " 6/85 [=>............................] - ETA: 24s - loss: 177700.6881 - accuracy: 0.1099WARNING:tensorflow:Callback method `on_train_batch_end` is slow compared to the batch time (batch time: 0.1043s vs `on_train_batch_end` time: 0.2056s). Check your callbacks.\n",
            "85/85 [==============================] - 29s 333ms/step - loss: 35012.0250 - accuracy: 0.1058 - val_loss: 2.2938 - val_accuracy: 0.1094\n",
            "Epoch 2/20\n",
            "85/85 [==============================] - 28s 329ms/step - loss: 2.2970 - accuracy: 0.1061 - val_loss: 2.2937 - val_accuracy: 0.1094\n",
            "Epoch 3/20\n",
            "85/85 [==============================] - 28s 328ms/step - loss: 2.2963 - accuracy: 0.1106 - val_loss: 2.2933 - val_accuracy: 0.1131\n",
            "Epoch 4/20\n",
            "85/85 [==============================] - 28s 329ms/step - loss: 2.2978 - accuracy: 0.1077 - val_loss: 2.2938 - val_accuracy: 0.1094\n",
            "Epoch 5/20\n",
            "85/85 [==============================] - 28s 330ms/step - loss: 2.2964 - accuracy: 0.1093 - val_loss: 2.2939 - val_accuracy: 0.1131\n",
            "Epoch 6/20\n",
            "85/85 [==============================] - 28s 329ms/step - loss: 2.2948 - accuracy: 0.1076 - val_loss: 2.2939 - val_accuracy: 0.1131\n",
            "Epoch 7/20\n",
            "85/85 [==============================] - 28s 329ms/step - loss: 2.2952 - accuracy: 0.1084 - val_loss: 2.2941 - val_accuracy: 0.1102\n",
            "Epoch 8/20\n",
            "85/85 [==============================] - 28s 330ms/step - loss: 2.2969 - accuracy: 0.1123 - val_loss: 2.2938 - val_accuracy: 0.1094\n",
            "Epoch 9/20\n",
            "85/85 [==============================] - 28s 329ms/step - loss: 2.2955 - accuracy: 0.1066 - val_loss: 2.2944 - val_accuracy: 0.1131\n",
            "Epoch 10/20\n",
            "85/85 [==============================] - 28s 330ms/step - loss: 2.2955 - accuracy: 0.1075 - val_loss: 2.2941 - val_accuracy: 0.1094\n",
            "Epoch 11/20\n",
            "85/85 [==============================] - 28s 328ms/step - loss: 2.2957 - accuracy: 0.1142 - val_loss: 2.2940 - val_accuracy: 0.1157\n",
            "Epoch 12/20\n",
            "85/85 [==============================] - 28s 329ms/step - loss: 2.2965 - accuracy: 0.1082 - val_loss: 2.2933 - val_accuracy: 0.1157\n",
            "Epoch 13/20\n",
            "85/85 [==============================] - 28s 330ms/step - loss: 2.2966 - accuracy: 0.1013 - val_loss: 2.2936 - val_accuracy: 0.1157\n",
            "Epoch 14/20\n",
            "85/85 [==============================] - 28s 329ms/step - loss: 2.2954 - accuracy: 0.1116 - val_loss: 2.2934 - val_accuracy: 0.1157\n",
            "Epoch 15/20\n",
            "85/85 [==============================] - 28s 330ms/step - loss: 2.2944 - accuracy: 0.1126 - val_loss: 2.2942 - val_accuracy: 0.1094\n",
            "Epoch 16/20\n",
            "85/85 [==============================] - 28s 329ms/step - loss: 2.2959 - accuracy: 0.1081 - val_loss: 2.2937 - val_accuracy: 0.1157\n",
            "Epoch 17/20\n",
            "85/85 [==============================] - 28s 329ms/step - loss: 2.2964 - accuracy: 0.1109 - val_loss: 2.2940 - val_accuracy: 0.1131\n",
            "Epoch 18/20\n",
            "85/85 [==============================] - 28s 330ms/step - loss: 2.2954 - accuracy: 0.1094 - val_loss: 2.2941 - val_accuracy: 0.1102\n",
            "Epoch 19/20\n",
            "85/85 [==============================] - 28s 329ms/step - loss: 2.2958 - accuracy: 0.1106 - val_loss: 2.2941 - val_accuracy: 0.1102\n",
            "Epoch 20/20\n",
            "85/85 [==============================] - 28s 329ms/step - loss: 2.2961 - accuracy: 0.1095 - val_loss: 2.2941 - val_accuracy: 0.1131\n"
          ],
          "name": "stdout"
        },
        {
          "output_type": "display_data",
          "data": {
            "text/html": [
              "<span style=\"color:#4527A0\"><h1 style=\"font-size:18px\">Trial complete</h1></span>"
            ],
            "text/plain": [
              "<IPython.core.display.HTML object>"
            ]
          },
          "metadata": {
            "tags": []
          }
        },
        {
          "output_type": "display_data",
          "data": {
            "text/html": [
              "<span style=\"color:#4527A0\"><h1 style=\"font-size:18px\">Trial summary</h1></span>"
            ],
            "text/plain": [
              "<IPython.core.display.HTML object>"
            ]
          },
          "metadata": {
            "tags": []
          }
        },
        {
          "output_type": "display_data",
          "data": {
            "text/html": [
              "<span style=\"color:#7E57C2\"><h2 style=\"font-size:16px\">Hp values:</h2></span>"
            ],
            "text/plain": [
              "<IPython.core.display.HTML object>"
            ]
          },
          "metadata": {
            "tags": []
          }
        },
        {
          "output_type": "display_data",
          "data": {
            "text/html": [
              "<span style=\"color:cyan\"> |-conv_0_units: 608</span>"
            ],
            "text/plain": [
              "<IPython.core.display.HTML object>"
            ]
          },
          "metadata": {
            "tags": []
          }
        },
        {
          "output_type": "display_data",
          "data": {
            "text/html": [
              "<span style=\"color:blue\"> |-conv_1_units: 736</span>"
            ],
            "text/plain": [
              "<IPython.core.display.HTML object>"
            ]
          },
          "metadata": {
            "tags": []
          }
        },
        {
          "output_type": "display_data",
          "data": {
            "text/html": [
              "<span style=\"color:cyan\"> |-conv_2_units: 352</span>"
            ],
            "text/plain": [
              "<IPython.core.display.HTML object>"
            ]
          },
          "metadata": {
            "tags": []
          }
        },
        {
          "output_type": "display_data",
          "data": {
            "text/html": [
              "<span style=\"color:blue\"> |-conv_3_units: 672</span>"
            ],
            "text/plain": [
              "<IPython.core.display.HTML object>"
            ]
          },
          "metadata": {
            "tags": []
          }
        },
        {
          "output_type": "display_data",
          "data": {
            "text/html": [
              "<span style=\"color:cyan\"> |-conv_4_units: 64</span>"
            ],
            "text/plain": [
              "<IPython.core.display.HTML object>"
            ]
          },
          "metadata": {
            "tags": []
          }
        },
        {
          "output_type": "display_data",
          "data": {
            "text/html": [
              "<span style=\"color:blue\"> |-dense_0_units: 576</span>"
            ],
            "text/plain": [
              "<IPython.core.display.HTML object>"
            ]
          },
          "metadata": {
            "tags": []
          }
        },
        {
          "output_type": "display_data",
          "data": {
            "text/html": [
              "<span style=\"color:cyan\"> |-dense_1_units: 928</span>"
            ],
            "text/plain": [
              "<IPython.core.display.HTML object>"
            ]
          },
          "metadata": {
            "tags": []
          }
        },
        {
          "output_type": "display_data",
          "data": {
            "text/html": [
              "<span style=\"color:blue\"> |-dropout: 0.1</span>"
            ],
            "text/plain": [
              "<IPython.core.display.HTML object>"
            ]
          },
          "metadata": {
            "tags": []
          }
        },
        {
          "output_type": "display_data",
          "data": {
            "text/html": [
              "<span style=\"color:cyan\"> |-dropout_0: 0.1</span>"
            ],
            "text/plain": [
              "<IPython.core.display.HTML object>"
            ]
          },
          "metadata": {
            "tags": []
          }
        },
        {
          "output_type": "display_data",
          "data": {
            "text/html": [
              "<span style=\"color:blue\"> |-dropout_1: 0.25</span>"
            ],
            "text/plain": [
              "<IPython.core.display.HTML object>"
            ]
          },
          "metadata": {
            "tags": []
          }
        },
        {
          "output_type": "display_data",
          "data": {
            "text/html": [
              "<span style=\"color:cyan\"> |-dropout_2: 0.1</span>"
            ],
            "text/plain": [
              "<IPython.core.display.HTML object>"
            ]
          },
          "metadata": {
            "tags": []
          }
        },
        {
          "output_type": "display_data",
          "data": {
            "text/html": [
              "<span style=\"color:blue\"> |-dropout_3: 0.1</span>"
            ],
            "text/plain": [
              "<IPython.core.display.HTML object>"
            ]
          },
          "metadata": {
            "tags": []
          }
        },
        {
          "output_type": "display_data",
          "data": {
            "text/html": [
              "<span style=\"color:cyan\"> |-dropout_4: 0.1</span>"
            ],
            "text/plain": [
              "<IPython.core.display.HTML object>"
            ]
          },
          "metadata": {
            "tags": []
          }
        },
        {
          "output_type": "display_data",
          "data": {
            "text/html": [
              "<span style=\"color:blue\"> |-input_units: 608</span>"
            ],
            "text/plain": [
              "<IPython.core.display.HTML object>"
            ]
          },
          "metadata": {
            "tags": []
          }
        },
        {
          "output_type": "display_data",
          "data": {
            "text/html": [
              "<span style=\"color:cyan\"> |-learning_rate: 0.01</span>"
            ],
            "text/plain": [
              "<IPython.core.display.HTML object>"
            ]
          },
          "metadata": {
            "tags": []
          }
        },
        {
          "output_type": "display_data",
          "data": {
            "text/html": [
              "<span style=\"color:blue\"> |-n_cnn_layers: 3</span>"
            ],
            "text/plain": [
              "<IPython.core.display.HTML object>"
            ]
          },
          "metadata": {
            "tags": []
          }
        },
        {
          "output_type": "display_data",
          "data": {
            "text/html": [
              "<span style=\"color:cyan\"> |-n_dense_layers: 2</span>"
            ],
            "text/plain": [
              "<IPython.core.display.HTML object>"
            ]
          },
          "metadata": {
            "tags": []
          }
        },
        {
          "output_type": "display_data",
          "data": {
            "text/html": [
              "<span style=\"color:cyan\"> |-Score: 0.11574073880910873</span>"
            ],
            "text/plain": [
              "<IPython.core.display.HTML object>"
            ]
          },
          "metadata": {
            "tags": []
          }
        },
        {
          "output_type": "display_data",
          "data": {
            "text/html": [
              "<span style=\"color:cyan\"> |-Best step: 0</span>"
            ],
            "text/plain": [
              "<IPython.core.display.HTML object>"
            ]
          },
          "metadata": {
            "tags": []
          }
        },
        {
          "output_type": "stream",
          "text": [
            "Epoch 1/20\n",
            " 6/85 [=>............................] - ETA: 10s - loss: 2.2949 - accuracy: 0.1039WARNING:tensorflow:Callback method `on_train_batch_end` is slow compared to the batch time (batch time: 0.0536s vs `on_train_batch_end` time: 0.0714s). Check your callbacks.\n",
            "85/85 [==============================] - 18s 168ms/step - loss: 2.1743 - accuracy: 0.1704 - val_loss: 1.7837 - val_accuracy: 0.3000\n",
            "Epoch 2/20\n",
            "85/85 [==============================] - 12s 146ms/step - loss: 1.7091 - accuracy: 0.3049 - val_loss: 1.4927 - val_accuracy: 0.3681\n",
            "Epoch 3/20\n",
            "85/85 [==============================] - 12s 145ms/step - loss: 1.4866 - accuracy: 0.3832 - val_loss: 1.2614 - val_accuracy: 0.4593\n",
            "Epoch 4/20\n",
            "85/85 [==============================] - 12s 145ms/step - loss: 1.3096 - accuracy: 0.4627 - val_loss: 1.1439 - val_accuracy: 0.5439\n",
            "Epoch 5/20\n",
            "85/85 [==============================] - 12s 145ms/step - loss: 1.2285 - accuracy: 0.5130 - val_loss: 1.1181 - val_accuracy: 0.5428\n",
            "Epoch 6/20\n",
            "85/85 [==============================] - 12s 146ms/step - loss: 1.1171 - accuracy: 0.5700 - val_loss: 1.1575 - val_accuracy: 0.5696\n",
            "Epoch 7/20\n",
            "85/85 [==============================] - 12s 146ms/step - loss: 1.0445 - accuracy: 0.6060 - val_loss: 0.9022 - val_accuracy: 0.6763\n",
            "Epoch 8/20\n",
            "85/85 [==============================] - 12s 145ms/step - loss: 0.8920 - accuracy: 0.6823 - val_loss: 0.8338 - val_accuracy: 0.7015\n",
            "Epoch 9/20\n",
            "85/85 [==============================] - 12s 145ms/step - loss: 0.8012 - accuracy: 0.7204 - val_loss: 0.7815 - val_accuracy: 0.7335\n",
            "Epoch 10/20\n",
            "85/85 [==============================] - 12s 144ms/step - loss: 0.7381 - accuracy: 0.7503 - val_loss: 0.6650 - val_accuracy: 0.7717\n",
            "Epoch 11/20\n",
            "85/85 [==============================] - 12s 147ms/step - loss: 0.6795 - accuracy: 0.7662 - val_loss: 0.5985 - val_accuracy: 0.8048\n",
            "Epoch 12/20\n",
            "85/85 [==============================] - 12s 147ms/step - loss: 0.6538 - accuracy: 0.7771 - val_loss: 0.5950 - val_accuracy: 0.8048\n",
            "Epoch 13/20\n",
            "85/85 [==============================] - 12s 146ms/step - loss: 0.6367 - accuracy: 0.7834 - val_loss: 0.5790 - val_accuracy: 0.8009\n",
            "Epoch 14/20\n",
            "85/85 [==============================] - 12s 147ms/step - loss: 0.5701 - accuracy: 0.8051 - val_loss: 0.5578 - val_accuracy: 0.8106\n",
            "Epoch 15/20\n",
            "85/85 [==============================] - 12s 147ms/step - loss: 0.5491 - accuracy: 0.8121 - val_loss: 0.6174 - val_accuracy: 0.8024\n",
            "Epoch 16/20\n",
            "85/85 [==============================] - 12s 146ms/step - loss: 0.5852 - accuracy: 0.8033 - val_loss: 0.5466 - val_accuracy: 0.8161\n",
            "Epoch 17/20\n",
            "85/85 [==============================] - 12s 147ms/step - loss: 0.5262 - accuracy: 0.8187 - val_loss: 0.5489 - val_accuracy: 0.8207\n",
            "Epoch 18/20\n",
            "85/85 [==============================] - 12s 146ms/step - loss: 0.4892 - accuracy: 0.8320 - val_loss: 0.5368 - val_accuracy: 0.8207\n",
            "Epoch 19/20\n",
            "85/85 [==============================] - 12s 146ms/step - loss: 0.4702 - accuracy: 0.8384 - val_loss: 0.4748 - val_accuracy: 0.8444\n",
            "Epoch 20/20\n",
            "85/85 [==============================] - 12s 146ms/step - loss: 0.4733 - accuracy: 0.8380 - val_loss: 0.5211 - val_accuracy: 0.8294\n",
            "Epoch 1/20\n",
            " 6/85 [=>............................] - ETA: 10s - loss: 2.3007 - accuracy: 0.1053WARNING:tensorflow:Callback method `on_train_batch_end` is slow compared to the batch time (batch time: 0.0531s vs `on_train_batch_end` time: 0.0808s). Check your callbacks.\n",
            "85/85 [==============================] - 13s 149ms/step - loss: 2.1324 - accuracy: 0.1901 - val_loss: 1.6848 - val_accuracy: 0.3050\n",
            "Epoch 2/20\n",
            "85/85 [==============================] - 12s 147ms/step - loss: 1.6864 - accuracy: 0.3034 - val_loss: 1.4225 - val_accuracy: 0.3852\n",
            "Epoch 3/20\n",
            "85/85 [==============================] - 12s 147ms/step - loss: 1.3969 - accuracy: 0.4188 - val_loss: 1.3926 - val_accuracy: 0.4483\n",
            "Epoch 4/20\n",
            "85/85 [==============================] - 12s 146ms/step - loss: 1.2958 - accuracy: 0.4824 - val_loss: 1.2103 - val_accuracy: 0.5585\n",
            "Epoch 5/20\n",
            "85/85 [==============================] - 12s 145ms/step - loss: 1.1680 - accuracy: 0.5612 - val_loss: 1.0325 - val_accuracy: 0.6404\n",
            "Epoch 6/20\n",
            "85/85 [==============================] - 12s 144ms/step - loss: 1.0272 - accuracy: 0.6299 - val_loss: 0.8694 - val_accuracy: 0.6835\n",
            "Epoch 7/20\n",
            "85/85 [==============================] - 12s 146ms/step - loss: 0.8930 - accuracy: 0.6913 - val_loss: 0.7696 - val_accuracy: 0.7269\n",
            "Epoch 8/20\n",
            "85/85 [==============================] - 12s 146ms/step - loss: 0.7755 - accuracy: 0.7319 - val_loss: 0.7053 - val_accuracy: 0.7581\n",
            "Epoch 9/20\n",
            "85/85 [==============================] - 12s 147ms/step - loss: 0.6998 - accuracy: 0.7570 - val_loss: 0.6458 - val_accuracy: 0.7787\n",
            "Epoch 10/20\n",
            "85/85 [==============================] - 13s 147ms/step - loss: 0.6661 - accuracy: 0.7702 - val_loss: 0.6405 - val_accuracy: 0.7830\n",
            "Epoch 11/20\n",
            "85/85 [==============================] - 12s 145ms/step - loss: 0.6407 - accuracy: 0.7765 - val_loss: 0.6634 - val_accuracy: 0.7656\n",
            "Epoch 12/20\n",
            "85/85 [==============================] - 12s 146ms/step - loss: 0.6164 - accuracy: 0.7854 - val_loss: 0.5117 - val_accuracy: 0.8252\n",
            "Epoch 13/20\n",
            "85/85 [==============================] - 12s 144ms/step - loss: 0.5834 - accuracy: 0.8011 - val_loss: 0.5372 - val_accuracy: 0.8174\n",
            "Epoch 14/20\n",
            "85/85 [==============================] - 12s 146ms/step - loss: 0.5357 - accuracy: 0.8167 - val_loss: 0.5723 - val_accuracy: 0.8046\n",
            "Epoch 15/20\n",
            "85/85 [==============================] - 12s 146ms/step - loss: 0.5191 - accuracy: 0.8181 - val_loss: 0.5915 - val_accuracy: 0.8111\n",
            "Epoch 16/20\n",
            "85/85 [==============================] - 12s 144ms/step - loss: 0.5018 - accuracy: 0.8253 - val_loss: 0.5407 - val_accuracy: 0.8252\n",
            "Epoch 17/20\n",
            "85/85 [==============================] - 12s 145ms/step - loss: 0.5032 - accuracy: 0.8242 - val_loss: 0.4449 - val_accuracy: 0.8543\n",
            "Epoch 18/20\n",
            "85/85 [==============================] - 12s 144ms/step - loss: 0.4592 - accuracy: 0.8431 - val_loss: 0.4734 - val_accuracy: 0.8472\n",
            "Epoch 19/20\n",
            "85/85 [==============================] - 12s 146ms/step - loss: 0.4331 - accuracy: 0.8521 - val_loss: 0.4639 - val_accuracy: 0.8452\n",
            "Epoch 20/20\n",
            "85/85 [==============================] - 12s 146ms/step - loss: 0.4360 - accuracy: 0.8499 - val_loss: 0.4961 - val_accuracy: 0.8344\n"
          ],
          "name": "stdout"
        },
        {
          "output_type": "display_data",
          "data": {
            "text/html": [
              "<span style=\"color:#4527A0\"><h1 style=\"font-size:18px\">Trial complete</h1></span>"
            ],
            "text/plain": [
              "<IPython.core.display.HTML object>"
            ]
          },
          "metadata": {
            "tags": []
          }
        },
        {
          "output_type": "display_data",
          "data": {
            "text/html": [
              "<span style=\"color:#4527A0\"><h1 style=\"font-size:18px\">Trial summary</h1></span>"
            ],
            "text/plain": [
              "<IPython.core.display.HTML object>"
            ]
          },
          "metadata": {
            "tags": []
          }
        },
        {
          "output_type": "display_data",
          "data": {
            "text/html": [
              "<span style=\"color:#7E57C2\"><h2 style=\"font-size:16px\">Hp values:</h2></span>"
            ],
            "text/plain": [
              "<IPython.core.display.HTML object>"
            ]
          },
          "metadata": {
            "tags": []
          }
        },
        {
          "output_type": "display_data",
          "data": {
            "text/html": [
              "<span style=\"color:cyan\"> |-conv_0_units: 224</span>"
            ],
            "text/plain": [
              "<IPython.core.display.HTML object>"
            ]
          },
          "metadata": {
            "tags": []
          }
        },
        {
          "output_type": "display_data",
          "data": {
            "text/html": [
              "<span style=\"color:blue\"> |-conv_1_units: 320</span>"
            ],
            "text/plain": [
              "<IPython.core.display.HTML object>"
            ]
          },
          "metadata": {
            "tags": []
          }
        },
        {
          "output_type": "display_data",
          "data": {
            "text/html": [
              "<span style=\"color:cyan\"> |-conv_2_units: 224</span>"
            ],
            "text/plain": [
              "<IPython.core.display.HTML object>"
            ]
          },
          "metadata": {
            "tags": []
          }
        },
        {
          "output_type": "display_data",
          "data": {
            "text/html": [
              "<span style=\"color:blue\"> |-conv_3_units: 576</span>"
            ],
            "text/plain": [
              "<IPython.core.display.HTML object>"
            ]
          },
          "metadata": {
            "tags": []
          }
        },
        {
          "output_type": "display_data",
          "data": {
            "text/html": [
              "<span style=\"color:cyan\"> |-conv_4_units: 832</span>"
            ],
            "text/plain": [
              "<IPython.core.display.HTML object>"
            ]
          },
          "metadata": {
            "tags": []
          }
        },
        {
          "output_type": "display_data",
          "data": {
            "text/html": [
              "<span style=\"color:blue\"> |-conv_5_units: 32</span>"
            ],
            "text/plain": [
              "<IPython.core.display.HTML object>"
            ]
          },
          "metadata": {
            "tags": []
          }
        },
        {
          "output_type": "display_data",
          "data": {
            "text/html": [
              "<span style=\"color:cyan\"> |-dense_0_units: 192</span>"
            ],
            "text/plain": [
              "<IPython.core.display.HTML object>"
            ]
          },
          "metadata": {
            "tags": []
          }
        },
        {
          "output_type": "display_data",
          "data": {
            "text/html": [
              "<span style=\"color:blue\"> |-dense_1_units: 512</span>"
            ],
            "text/plain": [
              "<IPython.core.display.HTML object>"
            ]
          },
          "metadata": {
            "tags": []
          }
        },
        {
          "output_type": "display_data",
          "data": {
            "text/html": [
              "<span style=\"color:cyan\"> |-dropout: 0.25</span>"
            ],
            "text/plain": [
              "<IPython.core.display.HTML object>"
            ]
          },
          "metadata": {
            "tags": []
          }
        },
        {
          "output_type": "display_data",
          "data": {
            "text/html": [
              "<span style=\"color:blue\"> |-dropout_0: 0.25</span>"
            ],
            "text/plain": [
              "<IPython.core.display.HTML object>"
            ]
          },
          "metadata": {
            "tags": []
          }
        },
        {
          "output_type": "display_data",
          "data": {
            "text/html": [
              "<span style=\"color:cyan\"> |-dropout_1: 0.1</span>"
            ],
            "text/plain": [
              "<IPython.core.display.HTML object>"
            ]
          },
          "metadata": {
            "tags": []
          }
        },
        {
          "output_type": "display_data",
          "data": {
            "text/html": [
              "<span style=\"color:blue\"> |-dropout_2: 0.25</span>"
            ],
            "text/plain": [
              "<IPython.core.display.HTML object>"
            ]
          },
          "metadata": {
            "tags": []
          }
        },
        {
          "output_type": "display_data",
          "data": {
            "text/html": [
              "<span style=\"color:cyan\"> |-dropout_3: 0.1</span>"
            ],
            "text/plain": [
              "<IPython.core.display.HTML object>"
            ]
          },
          "metadata": {
            "tags": []
          }
        },
        {
          "output_type": "display_data",
          "data": {
            "text/html": [
              "<span style=\"color:blue\"> |-dropout_4: 0.5</span>"
            ],
            "text/plain": [
              "<IPython.core.display.HTML object>"
            ]
          },
          "metadata": {
            "tags": []
          }
        },
        {
          "output_type": "display_data",
          "data": {
            "text/html": [
              "<span style=\"color:cyan\"> |-dropout_5: 0.1</span>"
            ],
            "text/plain": [
              "<IPython.core.display.HTML object>"
            ]
          },
          "metadata": {
            "tags": []
          }
        },
        {
          "output_type": "display_data",
          "data": {
            "text/html": [
              "<span style=\"color:blue\"> |-input_units: 96</span>"
            ],
            "text/plain": [
              "<IPython.core.display.HTML object>"
            ]
          },
          "metadata": {
            "tags": []
          }
        },
        {
          "output_type": "display_data",
          "data": {
            "text/html": [
              "<span style=\"color:cyan\"> |-learning_rate: 0.001</span>"
            ],
            "text/plain": [
              "<IPython.core.display.HTML object>"
            ]
          },
          "metadata": {
            "tags": []
          }
        },
        {
          "output_type": "display_data",
          "data": {
            "text/html": [
              "<span style=\"color:blue\"> |-n_cnn_layers: 6</span>"
            ],
            "text/plain": [
              "<IPython.core.display.HTML object>"
            ]
          },
          "metadata": {
            "tags": []
          }
        },
        {
          "output_type": "display_data",
          "data": {
            "text/html": [
              "<span style=\"color:cyan\"> |-n_dense_layers: 2</span>"
            ],
            "text/plain": [
              "<IPython.core.display.HTML object>"
            ]
          },
          "metadata": {
            "tags": []
          }
        },
        {
          "output_type": "display_data",
          "data": {
            "text/html": [
              "<span style=\"color:cyan\"> |-Score: 0.8493518531322479</span>"
            ],
            "text/plain": [
              "<IPython.core.display.HTML object>"
            ]
          },
          "metadata": {
            "tags": []
          }
        },
        {
          "output_type": "display_data",
          "data": {
            "text/html": [
              "<span style=\"color:cyan\"> |-Best step: 0</span>"
            ],
            "text/plain": [
              "<IPython.core.display.HTML object>"
            ]
          },
          "metadata": {
            "tags": []
          }
        },
        {
          "output_type": "stream",
          "text": [
            "Epoch 1/20\n",
            " 6/85 [=>............................] - ETA: 21s - loss: 3.0945 - accuracy: 0.1057WARNING:tensorflow:Callback method `on_train_batch_end` is slow compared to the batch time (batch time: 0.0944s vs `on_train_batch_end` time: 0.1525s). Check your callbacks.\n",
            "85/85 [==============================] - 34s 328ms/step - loss: 2.4069 - accuracy: 0.1488 - val_loss: 1.9078 - val_accuracy: 0.1943\n",
            "Epoch 2/20\n",
            "85/85 [==============================] - 25s 294ms/step - loss: 1.9666 - accuracy: 0.2209 - val_loss: 1.4725 - val_accuracy: 0.4544\n",
            "Epoch 3/20\n",
            "85/85 [==============================] - 25s 295ms/step - loss: 1.6281 - accuracy: 0.3620 - val_loss: 1.3337 - val_accuracy: 0.5176\n",
            "Epoch 4/20\n",
            "85/85 [==============================] - 25s 292ms/step - loss: 1.4661 - accuracy: 0.4344 - val_loss: 1.3026 - val_accuracy: 0.5172\n",
            "Epoch 5/20\n",
            "85/85 [==============================] - 25s 293ms/step - loss: 1.3618 - accuracy: 0.4898 - val_loss: 1.1649 - val_accuracy: 0.5913\n",
            "Epoch 6/20\n",
            "85/85 [==============================] - 25s 293ms/step - loss: 1.3271 - accuracy: 0.5251 - val_loss: 0.9366 - val_accuracy: 0.6609\n",
            "Epoch 7/20\n",
            "85/85 [==============================] - 25s 293ms/step - loss: 1.1915 - accuracy: 0.5833 - val_loss: 0.9560 - val_accuracy: 0.6585\n",
            "Epoch 8/20\n",
            "85/85 [==============================] - 25s 293ms/step - loss: 1.1034 - accuracy: 0.6203 - val_loss: 0.8178 - val_accuracy: 0.6907\n",
            "Epoch 9/20\n",
            "85/85 [==============================] - 25s 293ms/step - loss: 1.0162 - accuracy: 0.6542 - val_loss: 0.7933 - val_accuracy: 0.7378\n",
            "Epoch 10/20\n",
            "85/85 [==============================] - 25s 293ms/step - loss: 0.9603 - accuracy: 0.6766 - val_loss: 0.8102 - val_accuracy: 0.7106\n",
            "Epoch 11/20\n",
            "85/85 [==============================] - 25s 294ms/step - loss: 0.9369 - accuracy: 0.6830 - val_loss: 0.6977 - val_accuracy: 0.7652\n",
            "Epoch 12/20\n",
            "85/85 [==============================] - 25s 294ms/step - loss: 0.8677 - accuracy: 0.7154 - val_loss: 0.6224 - val_accuracy: 0.7856\n",
            "Epoch 13/20\n",
            "85/85 [==============================] - 25s 294ms/step - loss: 0.8396 - accuracy: 0.7286 - val_loss: 0.6208 - val_accuracy: 0.7863\n",
            "Epoch 14/20\n",
            "85/85 [==============================] - 25s 292ms/step - loss: 0.7944 - accuracy: 0.7382 - val_loss: 0.7553 - val_accuracy: 0.7444\n",
            "Epoch 15/20\n",
            "85/85 [==============================] - 25s 294ms/step - loss: 0.8223 - accuracy: 0.7335 - val_loss: 0.6684 - val_accuracy: 0.7715\n",
            "Epoch 16/20\n",
            "85/85 [==============================] - 25s 293ms/step - loss: 0.7784 - accuracy: 0.7479 - val_loss: 0.5891 - val_accuracy: 0.7991\n",
            "Epoch 17/20\n",
            "85/85 [==============================] - 25s 291ms/step - loss: 0.6700 - accuracy: 0.7776 - val_loss: 0.6505 - val_accuracy: 0.7778\n",
            "Epoch 18/20\n",
            "85/85 [==============================] - 25s 293ms/step - loss: 0.7392 - accuracy: 0.7638 - val_loss: 0.6451 - val_accuracy: 0.7733\n",
            "Epoch 19/20\n",
            "85/85 [==============================] - 25s 295ms/step - loss: 0.6629 - accuracy: 0.7852 - val_loss: 0.5958 - val_accuracy: 0.7983\n",
            "Epoch 20/20\n",
            "85/85 [==============================] - 25s 294ms/step - loss: 0.6580 - accuracy: 0.7893 - val_loss: 0.5637 - val_accuracy: 0.8046\n",
            "Epoch 1/20\n",
            " 6/85 [=>............................] - ETA: 21s - loss: 4.8259 - accuracy: 0.1062WARNING:tensorflow:Callback method `on_train_batch_end` is slow compared to the batch time (batch time: 0.0939s vs `on_train_batch_end` time: 0.1812s). Check your callbacks.\n",
            "85/85 [==============================] - 26s 299ms/step - loss: 2.7409 - accuracy: 0.1430 - val_loss: 1.8080 - val_accuracy: 0.2631\n",
            "Epoch 2/20\n",
            "85/85 [==============================] - 25s 295ms/step - loss: 1.9589 - accuracy: 0.2458 - val_loss: 1.5462 - val_accuracy: 0.3628\n",
            "Epoch 3/20\n",
            "85/85 [==============================] - 25s 297ms/step - loss: 1.7103 - accuracy: 0.3288 - val_loss: 1.3143 - val_accuracy: 0.5000\n",
            "Epoch 4/20\n",
            "85/85 [==============================] - 25s 296ms/step - loss: 1.5097 - accuracy: 0.4309 - val_loss: 1.2168 - val_accuracy: 0.5385\n",
            "Epoch 5/20\n",
            "85/85 [==============================] - 25s 296ms/step - loss: 1.4215 - accuracy: 0.4655 - val_loss: 1.3051 - val_accuracy: 0.5317\n",
            "Epoch 6/20\n",
            "85/85 [==============================] - 25s 297ms/step - loss: 1.3649 - accuracy: 0.4931 - val_loss: 1.0388 - val_accuracy: 0.6356\n",
            "Epoch 7/20\n",
            "85/85 [==============================] - 25s 296ms/step - loss: 1.3248 - accuracy: 0.5222 - val_loss: 1.2287 - val_accuracy: 0.5385\n",
            "Epoch 8/20\n",
            "85/85 [==============================] - 25s 296ms/step - loss: 1.2667 - accuracy: 0.5390 - val_loss: 0.9122 - val_accuracy: 0.6807\n",
            "Epoch 9/20\n",
            "85/85 [==============================] - 25s 296ms/step - loss: 1.1123 - accuracy: 0.6126 - val_loss: 0.8340 - val_accuracy: 0.6983\n",
            "Epoch 10/20\n",
            "85/85 [==============================] - 25s 297ms/step - loss: 1.1197 - accuracy: 0.6138 - val_loss: 0.8944 - val_accuracy: 0.6956\n",
            "Epoch 11/20\n",
            "85/85 [==============================] - 25s 296ms/step - loss: 1.0891 - accuracy: 0.6330 - val_loss: 0.8129 - val_accuracy: 0.7243\n",
            "Epoch 12/20\n",
            "85/85 [==============================] - 25s 295ms/step - loss: 0.9740 - accuracy: 0.6708 - val_loss: 1.0647 - val_accuracy: 0.6230\n",
            "Epoch 13/20\n",
            "85/85 [==============================] - 25s 296ms/step - loss: 1.0025 - accuracy: 0.6633 - val_loss: 0.7524 - val_accuracy: 0.7343\n",
            "Epoch 14/20\n",
            "85/85 [==============================] - 25s 295ms/step - loss: 0.8854 - accuracy: 0.7085 - val_loss: 0.7320 - val_accuracy: 0.7528\n",
            "Epoch 15/20\n",
            "85/85 [==============================] - 25s 294ms/step - loss: 0.8923 - accuracy: 0.7045 - val_loss: 0.6466 - val_accuracy: 0.7724\n",
            "Epoch 16/20\n",
            "85/85 [==============================] - 25s 295ms/step - loss: 0.8007 - accuracy: 0.7356 - val_loss: 0.6311 - val_accuracy: 0.7733\n",
            "Epoch 17/20\n",
            "85/85 [==============================] - 25s 296ms/step - loss: 0.8062 - accuracy: 0.7357 - val_loss: 0.6272 - val_accuracy: 0.7833\n",
            "Epoch 18/20\n",
            "85/85 [==============================] - 25s 296ms/step - loss: 0.7944 - accuracy: 0.7454 - val_loss: 0.6498 - val_accuracy: 0.7769\n",
            "Epoch 19/20\n",
            "85/85 [==============================] - 25s 296ms/step - loss: 0.7557 - accuracy: 0.7557 - val_loss: 0.7292 - val_accuracy: 0.7456\n",
            "Epoch 20/20\n",
            "85/85 [==============================] - 25s 295ms/step - loss: 0.7355 - accuracy: 0.7611 - val_loss: 0.6505 - val_accuracy: 0.7707\n"
          ],
          "name": "stdout"
        },
        {
          "output_type": "display_data",
          "data": {
            "text/html": [
              "<span style=\"color:#4527A0\"><h1 style=\"font-size:18px\">Trial complete</h1></span>"
            ],
            "text/plain": [
              "<IPython.core.display.HTML object>"
            ]
          },
          "metadata": {
            "tags": []
          }
        },
        {
          "output_type": "display_data",
          "data": {
            "text/html": [
              "<span style=\"color:#4527A0\"><h1 style=\"font-size:18px\">Trial summary</h1></span>"
            ],
            "text/plain": [
              "<IPython.core.display.HTML object>"
            ]
          },
          "metadata": {
            "tags": []
          }
        },
        {
          "output_type": "display_data",
          "data": {
            "text/html": [
              "<span style=\"color:#7E57C2\"><h2 style=\"font-size:16px\">Hp values:</h2></span>"
            ],
            "text/plain": [
              "<IPython.core.display.HTML object>"
            ]
          },
          "metadata": {
            "tags": []
          }
        },
        {
          "output_type": "display_data",
          "data": {
            "text/html": [
              "<span style=\"color:cyan\"> |-conv_0_units: 672</span>"
            ],
            "text/plain": [
              "<IPython.core.display.HTML object>"
            ]
          },
          "metadata": {
            "tags": []
          }
        },
        {
          "output_type": "display_data",
          "data": {
            "text/html": [
              "<span style=\"color:blue\"> |-conv_1_units: 352</span>"
            ],
            "text/plain": [
              "<IPython.core.display.HTML object>"
            ]
          },
          "metadata": {
            "tags": []
          }
        },
        {
          "output_type": "display_data",
          "data": {
            "text/html": [
              "<span style=\"color:cyan\"> |-conv_2_units: 576</span>"
            ],
            "text/plain": [
              "<IPython.core.display.HTML object>"
            ]
          },
          "metadata": {
            "tags": []
          }
        },
        {
          "output_type": "display_data",
          "data": {
            "text/html": [
              "<span style=\"color:blue\"> |-conv_3_units: 224</span>"
            ],
            "text/plain": [
              "<IPython.core.display.HTML object>"
            ]
          },
          "metadata": {
            "tags": []
          }
        },
        {
          "output_type": "display_data",
          "data": {
            "text/html": [
              "<span style=\"color:cyan\"> |-conv_4_units: 704</span>"
            ],
            "text/plain": [
              "<IPython.core.display.HTML object>"
            ]
          },
          "metadata": {
            "tags": []
          }
        },
        {
          "output_type": "display_data",
          "data": {
            "text/html": [
              "<span style=\"color:blue\"> |-conv_5_units: 608</span>"
            ],
            "text/plain": [
              "<IPython.core.display.HTML object>"
            ]
          },
          "metadata": {
            "tags": []
          }
        },
        {
          "output_type": "display_data",
          "data": {
            "text/html": [
              "<span style=\"color:cyan\"> |-dense_0_units: 928</span>"
            ],
            "text/plain": [
              "<IPython.core.display.HTML object>"
            ]
          },
          "metadata": {
            "tags": []
          }
        },
        {
          "output_type": "display_data",
          "data": {
            "text/html": [
              "<span style=\"color:blue\"> |-dense_1_units: 672</span>"
            ],
            "text/plain": [
              "<IPython.core.display.HTML object>"
            ]
          },
          "metadata": {
            "tags": []
          }
        },
        {
          "output_type": "display_data",
          "data": {
            "text/html": [
              "<span style=\"color:cyan\"> |-dense_2_units: 32</span>"
            ],
            "text/plain": [
              "<IPython.core.display.HTML object>"
            ]
          },
          "metadata": {
            "tags": []
          }
        },
        {
          "output_type": "display_data",
          "data": {
            "text/html": [
              "<span style=\"color:blue\"> |-dropout: 0.5</span>"
            ],
            "text/plain": [
              "<IPython.core.display.HTML object>"
            ]
          },
          "metadata": {
            "tags": []
          }
        },
        {
          "output_type": "display_data",
          "data": {
            "text/html": [
              "<span style=\"color:cyan\"> |-dropout_0: 0.1</span>"
            ],
            "text/plain": [
              "<IPython.core.display.HTML object>"
            ]
          },
          "metadata": {
            "tags": []
          }
        },
        {
          "output_type": "display_data",
          "data": {
            "text/html": [
              "<span style=\"color:blue\"> |-dropout_1: 0.25</span>"
            ],
            "text/plain": [
              "<IPython.core.display.HTML object>"
            ]
          },
          "metadata": {
            "tags": []
          }
        },
        {
          "output_type": "display_data",
          "data": {
            "text/html": [
              "<span style=\"color:cyan\"> |-dropout_2: 0.1</span>"
            ],
            "text/plain": [
              "<IPython.core.display.HTML object>"
            ]
          },
          "metadata": {
            "tags": []
          }
        },
        {
          "output_type": "display_data",
          "data": {
            "text/html": [
              "<span style=\"color:blue\"> |-dropout_3: 0.25</span>"
            ],
            "text/plain": [
              "<IPython.core.display.HTML object>"
            ]
          },
          "metadata": {
            "tags": []
          }
        },
        {
          "output_type": "display_data",
          "data": {
            "text/html": [
              "<span style=\"color:cyan\"> |-dropout_4: 0.5</span>"
            ],
            "text/plain": [
              "<IPython.core.display.HTML object>"
            ]
          },
          "metadata": {
            "tags": []
          }
        },
        {
          "output_type": "display_data",
          "data": {
            "text/html": [
              "<span style=\"color:blue\"> |-dropout_5: 0.1</span>"
            ],
            "text/plain": [
              "<IPython.core.display.HTML object>"
            ]
          },
          "metadata": {
            "tags": []
          }
        },
        {
          "output_type": "display_data",
          "data": {
            "text/html": [
              "<span style=\"color:cyan\"> |-input_units: 512</span>"
            ],
            "text/plain": [
              "<IPython.core.display.HTML object>"
            ]
          },
          "metadata": {
            "tags": []
          }
        },
        {
          "output_type": "display_data",
          "data": {
            "text/html": [
              "<span style=\"color:blue\"> |-learning_rate: 0.001</span>"
            ],
            "text/plain": [
              "<IPython.core.display.HTML object>"
            ]
          },
          "metadata": {
            "tags": []
          }
        },
        {
          "output_type": "display_data",
          "data": {
            "text/html": [
              "<span style=\"color:cyan\"> |-n_cnn_layers: 3</span>"
            ],
            "text/plain": [
              "<IPython.core.display.HTML object>"
            ]
          },
          "metadata": {
            "tags": []
          }
        },
        {
          "output_type": "display_data",
          "data": {
            "text/html": [
              "<span style=\"color:blue\"> |-n_dense_layers: 3</span>"
            ],
            "text/plain": [
              "<IPython.core.display.HTML object>"
            ]
          },
          "metadata": {
            "tags": []
          }
        },
        {
          "output_type": "display_data",
          "data": {
            "text/html": [
              "<span style=\"color:cyan\"> |-Score: 0.7939814925193787</span>"
            ],
            "text/plain": [
              "<IPython.core.display.HTML object>"
            ]
          },
          "metadata": {
            "tags": []
          }
        },
        {
          "output_type": "display_data",
          "data": {
            "text/html": [
              "<span style=\"color:cyan\"> |-Best step: 0</span>"
            ],
            "text/plain": [
              "<IPython.core.display.HTML object>"
            ]
          },
          "metadata": {
            "tags": []
          }
        },
        {
          "output_type": "stream",
          "text": [
            "Epoch 1/20\n",
            " 6/85 [=>............................] - ETA: 29s - loss: 5.2169 - accuracy: 0.1029WARNING:tensorflow:Callback method `on_train_batch_end` is slow compared to the batch time (batch time: 0.1224s vs `on_train_batch_end` time: 0.2102s). Check your callbacks.\n",
            "85/85 [==============================] - 47s 450ms/step - loss: 2.6687 - accuracy: 0.1706 - val_loss: 1.4869 - val_accuracy: 0.4035\n",
            "Epoch 2/20\n",
            "85/85 [==============================] - 34s 397ms/step - loss: 1.4409 - accuracy: 0.4337 - val_loss: 1.4491 - val_accuracy: 0.4450\n",
            "Epoch 3/20\n",
            "85/85 [==============================] - 34s 397ms/step - loss: 1.2318 - accuracy: 0.5339 - val_loss: 1.0129 - val_accuracy: 0.6219\n",
            "Epoch 4/20\n",
            "85/85 [==============================] - 34s 397ms/step - loss: 1.0650 - accuracy: 0.6006 - val_loss: 0.9723 - val_accuracy: 0.6457\n",
            "Epoch 5/20\n",
            "85/85 [==============================] - 34s 395ms/step - loss: 0.9826 - accuracy: 0.6297 - val_loss: 0.9242 - val_accuracy: 0.6409\n",
            "Epoch 6/20\n",
            "85/85 [==============================] - 33s 394ms/step - loss: 0.8913 - accuracy: 0.6716 - val_loss: 0.7871 - val_accuracy: 0.7069\n",
            "Epoch 7/20\n",
            "85/85 [==============================] - 34s 396ms/step - loss: 0.7896 - accuracy: 0.7151 - val_loss: 0.7116 - val_accuracy: 0.7404\n",
            "Epoch 8/20\n",
            "85/85 [==============================] - 34s 395ms/step - loss: 0.7120 - accuracy: 0.7388 - val_loss: 0.7086 - val_accuracy: 0.7498\n",
            "Epoch 9/20\n",
            "85/85 [==============================] - 34s 395ms/step - loss: 0.6941 - accuracy: 0.7490 - val_loss: 0.6175 - val_accuracy: 0.7813\n",
            "Epoch 10/20\n",
            "85/85 [==============================] - 34s 395ms/step - loss: 0.6648 - accuracy: 0.7617 - val_loss: 0.5739 - val_accuracy: 0.7991\n",
            "Epoch 11/20\n",
            "85/85 [==============================] - 34s 395ms/step - loss: 0.6097 - accuracy: 0.7828 - val_loss: 0.6498 - val_accuracy: 0.7706\n",
            "Epoch 12/20\n",
            "85/85 [==============================] - 34s 395ms/step - loss: 0.6076 - accuracy: 0.7826 - val_loss: 0.5737 - val_accuracy: 0.7972\n",
            "Epoch 13/20\n",
            "85/85 [==============================] - 33s 394ms/step - loss: 0.5807 - accuracy: 0.7941 - val_loss: 0.5311 - val_accuracy: 0.8093\n",
            "Epoch 14/20\n",
            "85/85 [==============================] - 34s 395ms/step - loss: 0.5710 - accuracy: 0.7947 - val_loss: 0.5970 - val_accuracy: 0.7893\n",
            "Epoch 15/20\n",
            "85/85 [==============================] - 33s 394ms/step - loss: 0.5506 - accuracy: 0.8033 - val_loss: 0.5434 - val_accuracy: 0.8091\n",
            "Epoch 16/20\n",
            "85/85 [==============================] - 33s 394ms/step - loss: 0.5296 - accuracy: 0.8069 - val_loss: 0.5347 - val_accuracy: 0.8094\n",
            "Epoch 17/20\n",
            "85/85 [==============================] - 34s 395ms/step - loss: 0.5214 - accuracy: 0.8143 - val_loss: 0.7278 - val_accuracy: 0.7343\n",
            "Epoch 18/20\n",
            "85/85 [==============================] - 33s 394ms/step - loss: 0.5638 - accuracy: 0.7987 - val_loss: 0.4829 - val_accuracy: 0.8265\n",
            "Epoch 19/20\n",
            "85/85 [==============================] - 33s 394ms/step - loss: 0.5080 - accuracy: 0.8183 - val_loss: 0.5036 - val_accuracy: 0.8224\n",
            "Epoch 20/20\n",
            "85/85 [==============================] - 34s 395ms/step - loss: 0.4917 - accuracy: 0.8222 - val_loss: 0.5139 - val_accuracy: 0.8161\n",
            "Epoch 1/20\n",
            " 6/85 [=>............................] - ETA: 29s - loss: 3.8847 - accuracy: 0.1007WARNING:tensorflow:Callback method `on_train_batch_end` is slow compared to the batch time (batch time: 0.1249s vs `on_train_batch_end` time: 0.2501s). Check your callbacks.\n",
            "85/85 [==============================] - 34s 399ms/step - loss: 2.2582 - accuracy: 0.2409 - val_loss: 1.2911 - val_accuracy: 0.5256\n",
            "Epoch 2/20\n",
            "85/85 [==============================] - 34s 396ms/step - loss: 1.3082 - accuracy: 0.5023 - val_loss: 1.0286 - val_accuracy: 0.6170\n",
            "Epoch 3/20\n",
            "85/85 [==============================] - 34s 395ms/step - loss: 1.0899 - accuracy: 0.5915 - val_loss: 0.9474 - val_accuracy: 0.6552\n",
            "Epoch 4/20\n",
            "85/85 [==============================] - 33s 395ms/step - loss: 0.9486 - accuracy: 0.6499 - val_loss: 0.8138 - val_accuracy: 0.7004\n",
            "Epoch 5/20\n",
            "85/85 [==============================] - 33s 394ms/step - loss: 0.7963 - accuracy: 0.7126 - val_loss: 0.8446 - val_accuracy: 0.6856\n",
            "Epoch 6/20\n",
            "85/85 [==============================] - 34s 396ms/step - loss: 0.6906 - accuracy: 0.7424 - val_loss: 0.6716 - val_accuracy: 0.7561\n",
            "Epoch 7/20\n",
            "85/85 [==============================] - 34s 396ms/step - loss: 0.6640 - accuracy: 0.7618 - val_loss: 0.6199 - val_accuracy: 0.7798\n",
            "Epoch 8/20\n",
            "85/85 [==============================] - 34s 397ms/step - loss: 0.6232 - accuracy: 0.7720 - val_loss: 0.7325 - val_accuracy: 0.7254\n",
            "Epoch 9/20\n",
            "85/85 [==============================] - 34s 395ms/step - loss: 0.5937 - accuracy: 0.7863 - val_loss: 0.5941 - val_accuracy: 0.7869\n",
            "Epoch 10/20\n",
            "85/85 [==============================] - 34s 395ms/step - loss: 0.5430 - accuracy: 0.8020 - val_loss: 0.6100 - val_accuracy: 0.7826\n",
            "Epoch 11/20\n",
            "85/85 [==============================] - 33s 394ms/step - loss: 0.5382 - accuracy: 0.8031 - val_loss: 0.5329 - val_accuracy: 0.8178\n",
            "Epoch 12/20\n",
            "85/85 [==============================] - 34s 395ms/step - loss: 0.4630 - accuracy: 0.8344 - val_loss: 0.5175 - val_accuracy: 0.8274\n",
            "Epoch 13/20\n",
            "85/85 [==============================] - 34s 395ms/step - loss: 0.4548 - accuracy: 0.8390 - val_loss: 0.4962 - val_accuracy: 0.8269\n",
            "Epoch 14/20\n",
            "85/85 [==============================] - 34s 395ms/step - loss: 0.4824 - accuracy: 0.8260 - val_loss: 0.5193 - val_accuracy: 0.8102\n",
            "Epoch 15/20\n",
            "85/85 [==============================] - 34s 395ms/step - loss: 0.4039 - accuracy: 0.8556 - val_loss: 0.6085 - val_accuracy: 0.7885\n",
            "Epoch 16/20\n",
            "85/85 [==============================] - 34s 395ms/step - loss: 0.3886 - accuracy: 0.8594 - val_loss: 0.4418 - val_accuracy: 0.8441\n",
            "Epoch 17/20\n",
            "85/85 [==============================] - 33s 394ms/step - loss: 0.3560 - accuracy: 0.8772 - val_loss: 0.4900 - val_accuracy: 0.8248\n",
            "Epoch 18/20\n",
            "85/85 [==============================] - 34s 395ms/step - loss: 0.3206 - accuracy: 0.8874 - val_loss: 0.5116 - val_accuracy: 0.8206\n",
            "Epoch 19/20\n",
            "85/85 [==============================] - 34s 396ms/step - loss: 0.3394 - accuracy: 0.8786 - val_loss: 0.5971 - val_accuracy: 0.8104\n",
            "Epoch 20/20\n",
            "85/85 [==============================] - 33s 394ms/step - loss: 0.3671 - accuracy: 0.8673 - val_loss: 0.5133 - val_accuracy: 0.8319\n"
          ],
          "name": "stdout"
        },
        {
          "output_type": "display_data",
          "data": {
            "text/html": [
              "<span style=\"color:#4527A0\"><h1 style=\"font-size:18px\">Trial complete</h1></span>"
            ],
            "text/plain": [
              "<IPython.core.display.HTML object>"
            ]
          },
          "metadata": {
            "tags": []
          }
        },
        {
          "output_type": "display_data",
          "data": {
            "text/html": [
              "<span style=\"color:#4527A0\"><h1 style=\"font-size:18px\">Trial summary</h1></span>"
            ],
            "text/plain": [
              "<IPython.core.display.HTML object>"
            ]
          },
          "metadata": {
            "tags": []
          }
        },
        {
          "output_type": "display_data",
          "data": {
            "text/html": [
              "<span style=\"color:#7E57C2\"><h2 style=\"font-size:16px\">Hp values:</h2></span>"
            ],
            "text/plain": [
              "<IPython.core.display.HTML object>"
            ]
          },
          "metadata": {
            "tags": []
          }
        },
        {
          "output_type": "display_data",
          "data": {
            "text/html": [
              "<span style=\"color:cyan\"> |-conv_0_units: 992</span>"
            ],
            "text/plain": [
              "<IPython.core.display.HTML object>"
            ]
          },
          "metadata": {
            "tags": []
          }
        },
        {
          "output_type": "display_data",
          "data": {
            "text/html": [
              "<span style=\"color:blue\"> |-conv_1_units: 288</span>"
            ],
            "text/plain": [
              "<IPython.core.display.HTML object>"
            ]
          },
          "metadata": {
            "tags": []
          }
        },
        {
          "output_type": "display_data",
          "data": {
            "text/html": [
              "<span style=\"color:cyan\"> |-conv_2_units: 256</span>"
            ],
            "text/plain": [
              "<IPython.core.display.HTML object>"
            ]
          },
          "metadata": {
            "tags": []
          }
        },
        {
          "output_type": "display_data",
          "data": {
            "text/html": [
              "<span style=\"color:blue\"> |-conv_3_units: 160</span>"
            ],
            "text/plain": [
              "<IPython.core.display.HTML object>"
            ]
          },
          "metadata": {
            "tags": []
          }
        },
        {
          "output_type": "display_data",
          "data": {
            "text/html": [
              "<span style=\"color:cyan\"> |-conv_4_units: 928</span>"
            ],
            "text/plain": [
              "<IPython.core.display.HTML object>"
            ]
          },
          "metadata": {
            "tags": []
          }
        },
        {
          "output_type": "display_data",
          "data": {
            "text/html": [
              "<span style=\"color:blue\"> |-conv_5_units: 64</span>"
            ],
            "text/plain": [
              "<IPython.core.display.HTML object>"
            ]
          },
          "metadata": {
            "tags": []
          }
        },
        {
          "output_type": "display_data",
          "data": {
            "text/html": [
              "<span style=\"color:cyan\"> |-dense_0_units: 288</span>"
            ],
            "text/plain": [
              "<IPython.core.display.HTML object>"
            ]
          },
          "metadata": {
            "tags": []
          }
        },
        {
          "output_type": "display_data",
          "data": {
            "text/html": [
              "<span style=\"color:blue\"> |-dense_1_units: 672</span>"
            ],
            "text/plain": [
              "<IPython.core.display.HTML object>"
            ]
          },
          "metadata": {
            "tags": []
          }
        },
        {
          "output_type": "display_data",
          "data": {
            "text/html": [
              "<span style=\"color:cyan\"> |-dense_2_units: 128</span>"
            ],
            "text/plain": [
              "<IPython.core.display.HTML object>"
            ]
          },
          "metadata": {
            "tags": []
          }
        },
        {
          "output_type": "display_data",
          "data": {
            "text/html": [
              "<span style=\"color:blue\"> |-dropout: 0.1</span>"
            ],
            "text/plain": [
              "<IPython.core.display.HTML object>"
            ]
          },
          "metadata": {
            "tags": []
          }
        },
        {
          "output_type": "display_data",
          "data": {
            "text/html": [
              "<span style=\"color:cyan\"> |-dropout_0: 0.1</span>"
            ],
            "text/plain": [
              "<IPython.core.display.HTML object>"
            ]
          },
          "metadata": {
            "tags": []
          }
        },
        {
          "output_type": "display_data",
          "data": {
            "text/html": [
              "<span style=\"color:blue\"> |-dropout_1: 0.1</span>"
            ],
            "text/plain": [
              "<IPython.core.display.HTML object>"
            ]
          },
          "metadata": {
            "tags": []
          }
        },
        {
          "output_type": "display_data",
          "data": {
            "text/html": [
              "<span style=\"color:cyan\"> |-dropout_2: 0.25</span>"
            ],
            "text/plain": [
              "<IPython.core.display.HTML object>"
            ]
          },
          "metadata": {
            "tags": []
          }
        },
        {
          "output_type": "display_data",
          "data": {
            "text/html": [
              "<span style=\"color:blue\"> |-dropout_3: 0.25</span>"
            ],
            "text/plain": [
              "<IPython.core.display.HTML object>"
            ]
          },
          "metadata": {
            "tags": []
          }
        },
        {
          "output_type": "display_data",
          "data": {
            "text/html": [
              "<span style=\"color:cyan\"> |-dropout_4: 0.5</span>"
            ],
            "text/plain": [
              "<IPython.core.display.HTML object>"
            ]
          },
          "metadata": {
            "tags": []
          }
        },
        {
          "output_type": "display_data",
          "data": {
            "text/html": [
              "<span style=\"color:blue\"> |-dropout_5: 0.1</span>"
            ],
            "text/plain": [
              "<IPython.core.display.HTML object>"
            ]
          },
          "metadata": {
            "tags": []
          }
        },
        {
          "output_type": "display_data",
          "data": {
            "text/html": [
              "<span style=\"color:cyan\"> |-input_units: 896</span>"
            ],
            "text/plain": [
              "<IPython.core.display.HTML object>"
            ]
          },
          "metadata": {
            "tags": []
          }
        },
        {
          "output_type": "display_data",
          "data": {
            "text/html": [
              "<span style=\"color:blue\"> |-learning_rate: 0.001</span>"
            ],
            "text/plain": [
              "<IPython.core.display.HTML object>"
            ]
          },
          "metadata": {
            "tags": []
          }
        },
        {
          "output_type": "display_data",
          "data": {
            "text/html": [
              "<span style=\"color:cyan\"> |-n_cnn_layers: 2</span>"
            ],
            "text/plain": [
              "<IPython.core.display.HTML object>"
            ]
          },
          "metadata": {
            "tags": []
          }
        },
        {
          "output_type": "display_data",
          "data": {
            "text/html": [
              "<span style=\"color:blue\"> |-n_dense_layers: 1</span>"
            ],
            "text/plain": [
              "<IPython.core.display.HTML object>"
            ]
          },
          "metadata": {
            "tags": []
          }
        },
        {
          "output_type": "display_data",
          "data": {
            "text/html": [
              "<span style=\"color:cyan\"> |-Score: 0.8352777659893036</span>"
            ],
            "text/plain": [
              "<IPython.core.display.HTML object>"
            ]
          },
          "metadata": {
            "tags": []
          }
        },
        {
          "output_type": "display_data",
          "data": {
            "text/html": [
              "<span style=\"color:cyan\"> |-Best step: 0</span>"
            ],
            "text/plain": [
              "<IPython.core.display.HTML object>"
            ]
          },
          "metadata": {
            "tags": []
          }
        },
        {
          "output_type": "stream",
          "text": [
            "Epoch 1/20\n",
            " 6/85 [=>............................] - ETA: 21s - loss: 9.7122 - accuracy: 0.1030 WARNING:tensorflow:Callback method `on_train_batch_end` is slow compared to the batch time (batch time: 0.0954s vs `on_train_batch_end` time: 0.1504s). Check your callbacks.\n",
            "85/85 [==============================] - 34s 329ms/step - loss: 3.4654 - accuracy: 0.1999 - val_loss: 1.8474 - val_accuracy: 0.3687\n",
            "Epoch 2/20\n",
            "85/85 [==============================] - 25s 293ms/step - loss: 1.4184 - accuracy: 0.4688 - val_loss: 1.0943 - val_accuracy: 0.5926\n",
            "Epoch 3/20\n",
            "85/85 [==============================] - 25s 291ms/step - loss: 1.1250 - accuracy: 0.5825 - val_loss: 0.9241 - val_accuracy: 0.6546\n",
            "Epoch 4/20\n",
            "85/85 [==============================] - 25s 293ms/step - loss: 0.9444 - accuracy: 0.6529 - val_loss: 1.0793 - val_accuracy: 0.6091\n",
            "Epoch 5/20\n",
            "85/85 [==============================] - 25s 293ms/step - loss: 0.9803 - accuracy: 0.6380 - val_loss: 0.7856 - val_accuracy: 0.7109\n",
            "Epoch 6/20\n",
            "85/85 [==============================] - 25s 292ms/step - loss: 0.7640 - accuracy: 0.7191 - val_loss: 0.6461 - val_accuracy: 0.7650\n",
            "Epoch 7/20\n",
            "85/85 [==============================] - 25s 294ms/step - loss: 0.7044 - accuracy: 0.7451 - val_loss: 0.7355 - val_accuracy: 0.7361\n",
            "Epoch 8/20\n",
            "85/85 [==============================] - 25s 294ms/step - loss: 0.6807 - accuracy: 0.7500 - val_loss: 0.5275 - val_accuracy: 0.8165\n",
            "Epoch 9/20\n",
            "85/85 [==============================] - 25s 293ms/step - loss: 0.5733 - accuracy: 0.7928 - val_loss: 0.5754 - val_accuracy: 0.7928\n",
            "Epoch 10/20\n",
            "85/85 [==============================] - 25s 293ms/step - loss: 0.5458 - accuracy: 0.8007 - val_loss: 0.5833 - val_accuracy: 0.7989\n",
            "Epoch 11/20\n",
            "85/85 [==============================] - 25s 292ms/step - loss: 0.5094 - accuracy: 0.8160 - val_loss: 0.5367 - val_accuracy: 0.8117\n",
            "Epoch 12/20\n",
            "85/85 [==============================] - 25s 293ms/step - loss: 0.5075 - accuracy: 0.8113 - val_loss: 0.6778 - val_accuracy: 0.7631\n",
            "Epoch 13/20\n",
            "85/85 [==============================] - 25s 294ms/step - loss: 0.5176 - accuracy: 0.8127 - val_loss: 0.5952 - val_accuracy: 0.7878\n",
            "Epoch 14/20\n",
            "85/85 [==============================] - 25s 293ms/step - loss: 0.4419 - accuracy: 0.8395 - val_loss: 0.4961 - val_accuracy: 0.8233\n",
            "Epoch 15/20\n",
            "85/85 [==============================] - 25s 295ms/step - loss: 0.4512 - accuracy: 0.8379 - val_loss: 0.4916 - val_accuracy: 0.8254\n",
            "Epoch 16/20\n",
            "85/85 [==============================] - 25s 293ms/step - loss: 0.4064 - accuracy: 0.8554 - val_loss: 0.4691 - val_accuracy: 0.8376\n",
            "Epoch 17/20\n",
            "85/85 [==============================] - 25s 293ms/step - loss: 0.3760 - accuracy: 0.8667 - val_loss: 0.5421 - val_accuracy: 0.8152\n",
            "Epoch 18/20\n",
            "85/85 [==============================] - 25s 292ms/step - loss: 0.3492 - accuracy: 0.8757 - val_loss: 0.6064 - val_accuracy: 0.7944\n",
            "Epoch 19/20\n",
            "85/85 [==============================] - 25s 292ms/step - loss: 0.3850 - accuracy: 0.8600 - val_loss: 0.4896 - val_accuracy: 0.8269\n",
            "Epoch 20/20\n",
            "85/85 [==============================] - 25s 294ms/step - loss: 0.3074 - accuracy: 0.8922 - val_loss: 0.6393 - val_accuracy: 0.7800\n",
            "Epoch 1/20\n",
            " 6/85 [=>............................] - ETA: 22s - loss: 6.5412 - accuracy: 0.0976WARNING:tensorflow:Callback method `on_train_batch_end` is slow compared to the batch time (batch time: 0.0994s vs `on_train_batch_end` time: 0.1793s). Check your callbacks.\n",
            "85/85 [==============================] - 26s 295ms/step - loss: 2.8374 - accuracy: 0.2080 - val_loss: 1.3496 - val_accuracy: 0.4770\n",
            "Epoch 2/20\n",
            "85/85 [==============================] - 25s 292ms/step - loss: 1.2922 - accuracy: 0.4948 - val_loss: 0.9995 - val_accuracy: 0.6244\n",
            "Epoch 3/20\n",
            "85/85 [==============================] - 25s 293ms/step - loss: 1.0754 - accuracy: 0.5932 - val_loss: 0.9539 - val_accuracy: 0.6450\n",
            "Epoch 4/20\n",
            "85/85 [==============================] - 25s 293ms/step - loss: 0.9072 - accuracy: 0.6635 - val_loss: 0.7749 - val_accuracy: 0.7152\n",
            "Epoch 5/20\n",
            "85/85 [==============================] - 25s 293ms/step - loss: 0.8237 - accuracy: 0.6973 - val_loss: 0.6410 - val_accuracy: 0.7681\n",
            "Epoch 6/20\n",
            "85/85 [==============================] - 25s 293ms/step - loss: 0.7388 - accuracy: 0.7332 - val_loss: 0.6599 - val_accuracy: 0.7543\n",
            "Epoch 7/20\n",
            "85/85 [==============================] - 25s 292ms/step - loss: 0.6425 - accuracy: 0.7601 - val_loss: 0.6083 - val_accuracy: 0.7794\n",
            "Epoch 8/20\n",
            "85/85 [==============================] - 25s 291ms/step - loss: 0.6055 - accuracy: 0.7779 - val_loss: 0.6062 - val_accuracy: 0.7861\n",
            "Epoch 9/20\n",
            "85/85 [==============================] - 25s 292ms/step - loss: 0.5800 - accuracy: 0.7908 - val_loss: 0.5717 - val_accuracy: 0.7959\n",
            "Epoch 10/20\n",
            "85/85 [==============================] - 25s 293ms/step - loss: 0.5381 - accuracy: 0.8026 - val_loss: 0.5182 - val_accuracy: 0.8111\n",
            "Epoch 11/20\n",
            "85/85 [==============================] - 25s 293ms/step - loss: 0.5026 - accuracy: 0.8197 - val_loss: 0.7081 - val_accuracy: 0.7398\n",
            "Epoch 12/20\n",
            "85/85 [==============================] - 25s 291ms/step - loss: 0.5222 - accuracy: 0.8145 - val_loss: 0.5634 - val_accuracy: 0.8054\n",
            "Epoch 13/20\n",
            "85/85 [==============================] - 25s 293ms/step - loss: 0.4772 - accuracy: 0.8286 - val_loss: 0.5310 - val_accuracy: 0.8096\n",
            "Epoch 14/20\n",
            "85/85 [==============================] - 25s 293ms/step - loss: 0.4400 - accuracy: 0.8434 - val_loss: 0.4507 - val_accuracy: 0.8398\n",
            "Epoch 15/20\n",
            "85/85 [==============================] - 25s 294ms/step - loss: 0.4401 - accuracy: 0.8434 - val_loss: 0.4597 - val_accuracy: 0.8354\n",
            "Epoch 16/20\n",
            "85/85 [==============================] - 25s 293ms/step - loss: 0.3793 - accuracy: 0.8650 - val_loss: 0.4429 - val_accuracy: 0.8467\n",
            "Epoch 17/20\n",
            "85/85 [==============================] - 25s 292ms/step - loss: 0.3555 - accuracy: 0.8731 - val_loss: 0.5295 - val_accuracy: 0.8117\n",
            "Epoch 18/20\n",
            "85/85 [==============================] - 25s 293ms/step - loss: 0.4105 - accuracy: 0.8519 - val_loss: 0.5340 - val_accuracy: 0.8172\n",
            "Epoch 19/20\n",
            "85/85 [==============================] - 25s 293ms/step - loss: 0.3803 - accuracy: 0.8660 - val_loss: 0.5058 - val_accuracy: 0.8270\n",
            "Epoch 20/20\n",
            "30/85 [=========>....................] - ETA: 15s - loss: 0.3328 - accuracy: 0.8839"
          ],
          "name": "stdout"
        }
      ]
    },
    {
      "cell_type": "code",
      "metadata": {
        "colab": {
          "base_uri": "https://localhost:8080/",
          "height": 1000
        },
        "id": "12i4YXL3jhyx",
        "outputId": "c0b9ff70-bee3-4558-c426-0185d1406620"
      },
      "source": [
        "tuner=BayesianOptimization(build,objective='val_accuracy',\n",
        "    max_trials=5,executions_per_trial=1)\n",
        "\n",
        "tuner.search(x=trainx,\n",
        "             y=trainy,\n",
        "             epochs=20,\n",
        "             batch_size=256,\n",
        "             validation_data=(testx,testy))"
      ],
      "execution_count": null,
      "outputs": [
        {
          "output_type": "stream",
          "text": [
            "INFO:tensorflow:Reloading Oracle from ./untitled_project/oracle.json\n",
            "INFO:tensorflow:Reloading Tuner from ./untitled_project/tuner0.json\n",
            "Epoch 1/20\n",
            " 6/85 [=>............................] - ETA: 38s - loss: 2.8791 - accuracy: 0.0859WARNING:tensorflow:Callback method `on_train_batch_end` is slow compared to the batch time (batch time: 0.1516s vs `on_train_batch_end` time: 0.2863s). Check your callbacks.\n",
            "85/85 [==============================] - 65s 561ms/step - loss: 2.3329 - accuracy: 0.1548 - val_loss: 2.3972 - val_accuracy: 0.1533\n",
            "Epoch 2/20\n",
            "85/85 [==============================] - 40s 474ms/step - loss: 1.6982 - accuracy: 0.2989 - val_loss: 1.7210 - val_accuracy: 0.2580\n",
            "Epoch 3/20\n",
            "85/85 [==============================] - 40s 470ms/step - loss: 1.4627 - accuracy: 0.3948 - val_loss: 1.6882 - val_accuracy: 0.3609\n",
            "Epoch 4/20\n",
            "85/85 [==============================] - 40s 472ms/step - loss: 1.3203 - accuracy: 0.4870 - val_loss: 1.1734 - val_accuracy: 0.5580\n",
            "Epoch 5/20\n",
            "85/85 [==============================] - 40s 472ms/step - loss: 1.2519 - accuracy: 0.5358 - val_loss: 1.1172 - val_accuracy: 0.5889\n",
            "Epoch 6/20\n",
            "85/85 [==============================] - 40s 471ms/step - loss: 1.0838 - accuracy: 0.6129 - val_loss: 1.1771 - val_accuracy: 0.5580\n",
            "Epoch 7/20\n",
            "85/85 [==============================] - 40s 471ms/step - loss: 1.0051 - accuracy: 0.6473 - val_loss: 1.2618 - val_accuracy: 0.5793\n",
            "Epoch 8/20\n",
            "85/85 [==============================] - 40s 471ms/step - loss: 0.9494 - accuracy: 0.6739 - val_loss: 1.0074 - val_accuracy: 0.6613\n",
            "Epoch 9/20\n",
            "85/85 [==============================] - 40s 471ms/step - loss: 0.8533 - accuracy: 0.7038 - val_loss: 1.2075 - val_accuracy: 0.6543\n",
            "Epoch 10/20\n",
            "85/85 [==============================] - 40s 471ms/step - loss: 0.8457 - accuracy: 0.7106 - val_loss: 1.1416 - val_accuracy: 0.6409\n",
            "Epoch 11/20\n",
            "85/85 [==============================] - 40s 471ms/step - loss: 0.7706 - accuracy: 0.7330 - val_loss: 1.0977 - val_accuracy: 0.6796\n",
            "Epoch 12/20\n",
            "85/85 [==============================] - 40s 473ms/step - loss: 0.7633 - accuracy: 0.7330 - val_loss: 0.9638 - val_accuracy: 0.6946\n",
            "Epoch 13/20\n",
            "85/85 [==============================] - 40s 473ms/step - loss: 0.7466 - accuracy: 0.7385 - val_loss: 1.0323 - val_accuracy: 0.6863\n",
            "Epoch 14/20\n",
            "85/85 [==============================] - 40s 472ms/step - loss: 0.7271 - accuracy: 0.7470 - val_loss: 1.0162 - val_accuracy: 0.6602\n",
            "Epoch 15/20\n",
            "85/85 [==============================] - 40s 472ms/step - loss: 0.7284 - accuracy: 0.7496 - val_loss: 1.0816 - val_accuracy: 0.6765\n",
            "Epoch 16/20\n",
            "85/85 [==============================] - 40s 473ms/step - loss: 0.6911 - accuracy: 0.7608 - val_loss: 0.9735 - val_accuracy: 0.7256\n",
            "Epoch 17/20\n",
            "85/85 [==============================] - 40s 473ms/step - loss: 0.6418 - accuracy: 0.7777 - val_loss: 0.7986 - val_accuracy: 0.7357\n",
            "Epoch 18/20\n",
            "85/85 [==============================] - 40s 473ms/step - loss: 0.6899 - accuracy: 0.7566 - val_loss: 1.1741 - val_accuracy: 0.6831\n",
            "Epoch 19/20\n",
            "85/85 [==============================] - 40s 474ms/step - loss: 0.6553 - accuracy: 0.7744 - val_loss: 1.1846 - val_accuracy: 0.6733\n",
            "Epoch 20/20\n",
            "85/85 [==============================] - 40s 472ms/step - loss: 0.6534 - accuracy: 0.7670 - val_loss: 0.9039 - val_accuracy: 0.7311\n"
          ],
          "name": "stdout"
        },
        {
          "output_type": "display_data",
          "data": {
            "text/html": [
              "<span style=\"color:#4527A0\"><h1 style=\"font-size:18px\">Trial complete</h1></span>"
            ],
            "text/plain": [
              "<IPython.core.display.HTML object>"
            ]
          },
          "metadata": {
            "tags": []
          }
        },
        {
          "output_type": "display_data",
          "data": {
            "text/html": [
              "<span style=\"color:#4527A0\"><h1 style=\"font-size:18px\">Trial summary</h1></span>"
            ],
            "text/plain": [
              "<IPython.core.display.HTML object>"
            ]
          },
          "metadata": {
            "tags": []
          }
        },
        {
          "output_type": "display_data",
          "data": {
            "text/html": [
              "<span style=\"color:#7E57C2\"><h2 style=\"font-size:16px\">Hp values:</h2></span>"
            ],
            "text/plain": [
              "<IPython.core.display.HTML object>"
            ]
          },
          "metadata": {
            "tags": []
          }
        },
        {
          "output_type": "display_data",
          "data": {
            "text/html": [
              "<span style=\"color:cyan\"> |-conv_0_units: 416</span>"
            ],
            "text/plain": [
              "<IPython.core.display.HTML object>"
            ]
          },
          "metadata": {
            "tags": []
          }
        },
        {
          "output_type": "display_data",
          "data": {
            "text/html": [
              "<span style=\"color:blue\"> |-conv_1_units: 128</span>"
            ],
            "text/plain": [
              "<IPython.core.display.HTML object>"
            ]
          },
          "metadata": {
            "tags": []
          }
        },
        {
          "output_type": "display_data",
          "data": {
            "text/html": [
              "<span style=\"color:cyan\"> |-conv_2_units: 544</span>"
            ],
            "text/plain": [
              "<IPython.core.display.HTML object>"
            ]
          },
          "metadata": {
            "tags": []
          }
        },
        {
          "output_type": "display_data",
          "data": {
            "text/html": [
              "<span style=\"color:blue\"> |-conv_3_units: 960</span>"
            ],
            "text/plain": [
              "<IPython.core.display.HTML object>"
            ]
          },
          "metadata": {
            "tags": []
          }
        },
        {
          "output_type": "display_data",
          "data": {
            "text/html": [
              "<span style=\"color:cyan\"> |-conv_4_units: 320</span>"
            ],
            "text/plain": [
              "<IPython.core.display.HTML object>"
            ]
          },
          "metadata": {
            "tags": []
          }
        },
        {
          "output_type": "display_data",
          "data": {
            "text/html": [
              "<span style=\"color:blue\"> |-conv_5_units: 1024</span>"
            ],
            "text/plain": [
              "<IPython.core.display.HTML object>"
            ]
          },
          "metadata": {
            "tags": []
          }
        },
        {
          "output_type": "display_data",
          "data": {
            "text/html": [
              "<span style=\"color:cyan\"> |-dense_0_units: 608</span>"
            ],
            "text/plain": [
              "<IPython.core.display.HTML object>"
            ]
          },
          "metadata": {
            "tags": []
          }
        },
        {
          "output_type": "display_data",
          "data": {
            "text/html": [
              "<span style=\"color:blue\"> |-dense_1_units: 640</span>"
            ],
            "text/plain": [
              "<IPython.core.display.HTML object>"
            ]
          },
          "metadata": {
            "tags": []
          }
        },
        {
          "output_type": "display_data",
          "data": {
            "text/html": [
              "<span style=\"color:cyan\"> |-dropout: 0.5</span>"
            ],
            "text/plain": [
              "<IPython.core.display.HTML object>"
            ]
          },
          "metadata": {
            "tags": []
          }
        },
        {
          "output_type": "display_data",
          "data": {
            "text/html": [
              "<span style=\"color:blue\"> |-dropout_0: 0.5</span>"
            ],
            "text/plain": [
              "<IPython.core.display.HTML object>"
            ]
          },
          "metadata": {
            "tags": []
          }
        },
        {
          "output_type": "display_data",
          "data": {
            "text/html": [
              "<span style=\"color:cyan\"> |-dropout_1: 0.5</span>"
            ],
            "text/plain": [
              "<IPython.core.display.HTML object>"
            ]
          },
          "metadata": {
            "tags": []
          }
        },
        {
          "output_type": "display_data",
          "data": {
            "text/html": [
              "<span style=\"color:blue\"> |-dropout_2: 0.5</span>"
            ],
            "text/plain": [
              "<IPython.core.display.HTML object>"
            ]
          },
          "metadata": {
            "tags": []
          }
        },
        {
          "output_type": "display_data",
          "data": {
            "text/html": [
              "<span style=\"color:cyan\"> |-dropout_3: 0.25</span>"
            ],
            "text/plain": [
              "<IPython.core.display.HTML object>"
            ]
          },
          "metadata": {
            "tags": []
          }
        },
        {
          "output_type": "display_data",
          "data": {
            "text/html": [
              "<span style=\"color:blue\"> |-dropout_4: 0.5</span>"
            ],
            "text/plain": [
              "<IPython.core.display.HTML object>"
            ]
          },
          "metadata": {
            "tags": []
          }
        },
        {
          "output_type": "display_data",
          "data": {
            "text/html": [
              "<span style=\"color:cyan\"> |-dropout_5: 0.25</span>"
            ],
            "text/plain": [
              "<IPython.core.display.HTML object>"
            ]
          },
          "metadata": {
            "tags": []
          }
        },
        {
          "output_type": "display_data",
          "data": {
            "text/html": [
              "<span style=\"color:blue\"> |-input_units: 320</span>"
            ],
            "text/plain": [
              "<IPython.core.display.HTML object>"
            ]
          },
          "metadata": {
            "tags": []
          }
        },
        {
          "output_type": "display_data",
          "data": {
            "text/html": [
              "<span style=\"color:cyan\"> |-learning_rate: 0.001</span>"
            ],
            "text/plain": [
              "<IPython.core.display.HTML object>"
            ]
          },
          "metadata": {
            "tags": []
          }
        },
        {
          "output_type": "display_data",
          "data": {
            "text/html": [
              "<span style=\"color:blue\"> |-n_cnn_layers: 6</span>"
            ],
            "text/plain": [
              "<IPython.core.display.HTML object>"
            ]
          },
          "metadata": {
            "tags": []
          }
        },
        {
          "output_type": "display_data",
          "data": {
            "text/html": [
              "<span style=\"color:cyan\"> |-n_dense_layers: 1</span>"
            ],
            "text/plain": [
              "<IPython.core.display.HTML object>"
            ]
          },
          "metadata": {
            "tags": []
          }
        },
        {
          "output_type": "display_data",
          "data": {
            "text/html": [
              "<span style=\"color:cyan\"> |-Score: 0.7357407212257385</span>"
            ],
            "text/plain": [
              "<IPython.core.display.HTML object>"
            ]
          },
          "metadata": {
            "tags": []
          }
        },
        {
          "output_type": "display_data",
          "data": {
            "text/html": [
              "<span style=\"color:cyan\"> |-Best step: 0</span>"
            ],
            "text/plain": [
              "<IPython.core.display.HTML object>"
            ]
          },
          "metadata": {
            "tags": []
          }
        },
        {
          "output_type": "stream",
          "text": [
            "Epoch 1/20\n",
            " 6/85 [=>............................] - ETA: 25s - loss: 2.2735 - accuracy: 0.0980WARNING:tensorflow:Callback method `on_train_batch_end` is slow compared to the batch time (batch time: 0.1023s vs `on_train_batch_end` time: 0.1857s). Check your callbacks.\n",
            "85/85 [==============================] - 41s 394ms/step - loss: 1.9413 - accuracy: 0.2546 - val_loss: 1.2998 - val_accuracy: 0.5385\n",
            "Epoch 2/20\n",
            "85/85 [==============================] - 29s 345ms/step - loss: 1.3143 - accuracy: 0.5033 - val_loss: 1.0794 - val_accuracy: 0.6270\n",
            "Epoch 3/20\n",
            "85/85 [==============================] - 29s 345ms/step - loss: 1.1477 - accuracy: 0.5878 - val_loss: 0.9743 - val_accuracy: 0.6674\n",
            "Epoch 4/20\n",
            "85/85 [==============================] - 29s 345ms/step - loss: 1.0095 - accuracy: 0.6464 - val_loss: 0.8985 - val_accuracy: 0.6789\n",
            "Epoch 5/20\n",
            "85/85 [==============================] - 29s 346ms/step - loss: 0.9216 - accuracy: 0.6698 - val_loss: 0.7631 - val_accuracy: 0.7344\n",
            "Epoch 6/20\n",
            "85/85 [==============================] - 29s 346ms/step - loss: 0.8337 - accuracy: 0.7041 - val_loss: 0.7127 - val_accuracy: 0.7531\n",
            "Epoch 7/20\n",
            "85/85 [==============================] - 29s 347ms/step - loss: 0.7869 - accuracy: 0.7254 - val_loss: 0.6704 - val_accuracy: 0.7654\n",
            "Epoch 8/20\n",
            "85/85 [==============================] - 29s 346ms/step - loss: 0.7302 - accuracy: 0.7472 - val_loss: 0.6484 - val_accuracy: 0.7741\n",
            "Epoch 9/20\n",
            "85/85 [==============================] - 29s 346ms/step - loss: 0.7156 - accuracy: 0.7443 - val_loss: 0.6385 - val_accuracy: 0.7826\n",
            "Epoch 10/20\n",
            "85/85 [==============================] - 29s 346ms/step - loss: 0.6733 - accuracy: 0.7579 - val_loss: 0.5975 - val_accuracy: 0.7974\n",
            "Epoch 11/20\n",
            "85/85 [==============================] - 29s 346ms/step - loss: 0.6353 - accuracy: 0.7761 - val_loss: 0.5798 - val_accuracy: 0.7972\n",
            "Epoch 12/20\n",
            "85/85 [==============================] - 29s 346ms/step - loss: 0.6090 - accuracy: 0.7844 - val_loss: 0.6005 - val_accuracy: 0.7967\n",
            "Epoch 13/20\n",
            "85/85 [==============================] - 29s 347ms/step - loss: 0.6301 - accuracy: 0.7794 - val_loss: 0.5775 - val_accuracy: 0.7954\n",
            "Epoch 14/20\n",
            "85/85 [==============================] - 29s 346ms/step - loss: 0.5771 - accuracy: 0.7929 - val_loss: 0.5336 - val_accuracy: 0.8131\n",
            "Epoch 15/20\n",
            "85/85 [==============================] - 29s 347ms/step - loss: 0.5709 - accuracy: 0.7989 - val_loss: 0.5379 - val_accuracy: 0.8069\n",
            "Epoch 16/20\n",
            "85/85 [==============================] - 29s 347ms/step - loss: 0.5667 - accuracy: 0.8000 - val_loss: 0.5550 - val_accuracy: 0.8069\n",
            "Epoch 17/20\n",
            "85/85 [==============================] - 29s 346ms/step - loss: 0.5345 - accuracy: 0.8106 - val_loss: 0.5254 - val_accuracy: 0.8213\n",
            "Epoch 18/20\n",
            "85/85 [==============================] - 29s 346ms/step - loss: 0.5186 - accuracy: 0.8184 - val_loss: 0.4891 - val_accuracy: 0.8274\n",
            "Epoch 19/20\n",
            "85/85 [==============================] - 29s 346ms/step - loss: 0.5238 - accuracy: 0.8163 - val_loss: 0.5004 - val_accuracy: 0.8365\n",
            "Epoch 20/20\n",
            "85/85 [==============================] - 29s 347ms/step - loss: 0.4994 - accuracy: 0.8251 - val_loss: 0.4964 - val_accuracy: 0.8276\n"
          ],
          "name": "stdout"
        },
        {
          "output_type": "display_data",
          "data": {
            "text/html": [
              "<span style=\"color:#4527A0\"><h1 style=\"font-size:18px\">Trial complete</h1></span>"
            ],
            "text/plain": [
              "<IPython.core.display.HTML object>"
            ]
          },
          "metadata": {
            "tags": []
          }
        },
        {
          "output_type": "display_data",
          "data": {
            "text/html": [
              "<span style=\"color:#4527A0\"><h1 style=\"font-size:18px\">Trial summary</h1></span>"
            ],
            "text/plain": [
              "<IPython.core.display.HTML object>"
            ]
          },
          "metadata": {
            "tags": []
          }
        },
        {
          "output_type": "display_data",
          "data": {
            "text/html": [
              "<span style=\"color:#7E57C2\"><h2 style=\"font-size:16px\">Hp values:</h2></span>"
            ],
            "text/plain": [
              "<IPython.core.display.HTML object>"
            ]
          },
          "metadata": {
            "tags": []
          }
        },
        {
          "output_type": "display_data",
          "data": {
            "text/html": [
              "<span style=\"color:cyan\"> |-conv_0_units: 544</span>"
            ],
            "text/plain": [
              "<IPython.core.display.HTML object>"
            ]
          },
          "metadata": {
            "tags": []
          }
        },
        {
          "output_type": "display_data",
          "data": {
            "text/html": [
              "<span style=\"color:blue\"> |-conv_1_units: 448</span>"
            ],
            "text/plain": [
              "<IPython.core.display.HTML object>"
            ]
          },
          "metadata": {
            "tags": []
          }
        },
        {
          "output_type": "display_data",
          "data": {
            "text/html": [
              "<span style=\"color:cyan\"> |-conv_2_units: 960</span>"
            ],
            "text/plain": [
              "<IPython.core.display.HTML object>"
            ]
          },
          "metadata": {
            "tags": []
          }
        },
        {
          "output_type": "display_data",
          "data": {
            "text/html": [
              "<span style=\"color:blue\"> |-conv_3_units: 352</span>"
            ],
            "text/plain": [
              "<IPython.core.display.HTML object>"
            ]
          },
          "metadata": {
            "tags": []
          }
        },
        {
          "output_type": "display_data",
          "data": {
            "text/html": [
              "<span style=\"color:cyan\"> |-conv_4_units: 64</span>"
            ],
            "text/plain": [
              "<IPython.core.display.HTML object>"
            ]
          },
          "metadata": {
            "tags": []
          }
        },
        {
          "output_type": "display_data",
          "data": {
            "text/html": [
              "<span style=\"color:blue\"> |-conv_5_units: 960</span>"
            ],
            "text/plain": [
              "<IPython.core.display.HTML object>"
            ]
          },
          "metadata": {
            "tags": []
          }
        },
        {
          "output_type": "display_data",
          "data": {
            "text/html": [
              "<span style=\"color:cyan\"> |-dense_0_units: 96</span>"
            ],
            "text/plain": [
              "<IPython.core.display.HTML object>"
            ]
          },
          "metadata": {
            "tags": []
          }
        },
        {
          "output_type": "display_data",
          "data": {
            "text/html": [
              "<span style=\"color:blue\"> |-dense_1_units: 256</span>"
            ],
            "text/plain": [
              "<IPython.core.display.HTML object>"
            ]
          },
          "metadata": {
            "tags": []
          }
        },
        {
          "output_type": "display_data",
          "data": {
            "text/html": [
              "<span style=\"color:cyan\"> |-dropout: 0.1</span>"
            ],
            "text/plain": [
              "<IPython.core.display.HTML object>"
            ]
          },
          "metadata": {
            "tags": []
          }
        },
        {
          "output_type": "display_data",
          "data": {
            "text/html": [
              "<span style=\"color:blue\"> |-dropout_0: 0.1</span>"
            ],
            "text/plain": [
              "<IPython.core.display.HTML object>"
            ]
          },
          "metadata": {
            "tags": []
          }
        },
        {
          "output_type": "display_data",
          "data": {
            "text/html": [
              "<span style=\"color:cyan\"> |-dropout_1: 0.25</span>"
            ],
            "text/plain": [
              "<IPython.core.display.HTML object>"
            ]
          },
          "metadata": {
            "tags": []
          }
        },
        {
          "output_type": "display_data",
          "data": {
            "text/html": [
              "<span style=\"color:blue\"> |-dropout_2: 0.5</span>"
            ],
            "text/plain": [
              "<IPython.core.display.HTML object>"
            ]
          },
          "metadata": {
            "tags": []
          }
        },
        {
          "output_type": "display_data",
          "data": {
            "text/html": [
              "<span style=\"color:cyan\"> |-dropout_3: 0.1</span>"
            ],
            "text/plain": [
              "<IPython.core.display.HTML object>"
            ]
          },
          "metadata": {
            "tags": []
          }
        },
        {
          "output_type": "display_data",
          "data": {
            "text/html": [
              "<span style=\"color:blue\"> |-dropout_4: 0.25</span>"
            ],
            "text/plain": [
              "<IPython.core.display.HTML object>"
            ]
          },
          "metadata": {
            "tags": []
          }
        },
        {
          "output_type": "display_data",
          "data": {
            "text/html": [
              "<span style=\"color:cyan\"> |-dropout_5: 0.5</span>"
            ],
            "text/plain": [
              "<IPython.core.display.HTML object>"
            ]
          },
          "metadata": {
            "tags": []
          }
        },
        {
          "output_type": "display_data",
          "data": {
            "text/html": [
              "<span style=\"color:blue\"> |-input_units: 544</span>"
            ],
            "text/plain": [
              "<IPython.core.display.HTML object>"
            ]
          },
          "metadata": {
            "tags": []
          }
        },
        {
          "output_type": "display_data",
          "data": {
            "text/html": [
              "<span style=\"color:cyan\"> |-learning_rate: 0.0001</span>"
            ],
            "text/plain": [
              "<IPython.core.display.HTML object>"
            ]
          },
          "metadata": {
            "tags": []
          }
        },
        {
          "output_type": "display_data",
          "data": {
            "text/html": [
              "<span style=\"color:blue\"> |-n_cnn_layers: 1</span>"
            ],
            "text/plain": [
              "<IPython.core.display.HTML object>"
            ]
          },
          "metadata": {
            "tags": []
          }
        },
        {
          "output_type": "display_data",
          "data": {
            "text/html": [
              "<span style=\"color:cyan\"> |-n_dense_layers: 1</span>"
            ],
            "text/plain": [
              "<IPython.core.display.HTML object>"
            ]
          },
          "metadata": {
            "tags": []
          }
        },
        {
          "output_type": "display_data",
          "data": {
            "text/html": [
              "<span style=\"color:cyan\"> |-Score: 0.8364814519882202</span>"
            ],
            "text/plain": [
              "<IPython.core.display.HTML object>"
            ]
          },
          "metadata": {
            "tags": []
          }
        },
        {
          "output_type": "display_data",
          "data": {
            "text/html": [
              "<span style=\"color:cyan\"> |-Best step: 0</span>"
            ],
            "text/plain": [
              "<IPython.core.display.HTML object>"
            ]
          },
          "metadata": {
            "tags": []
          }
        },
        {
          "output_type": "stream",
          "text": [
            "Epoch 1/20\n",
            " 6/85 [=>............................] - ETA: 22s - loss: 2.7440 - accuracy: 0.0976WARNING:tensorflow:Callback method `on_train_batch_end` is slow compared to the batch time (batch time: 0.0891s vs `on_train_batch_end` time: 0.1611s). Check your callbacks.\n",
            "85/85 [==============================] - 31s 316ms/step - loss: 2.1623 - accuracy: 0.1928 - val_loss: 1.7268 - val_accuracy: 0.3450\n",
            "Epoch 2/20\n",
            "85/85 [==============================] - 25s 289ms/step - loss: 1.6935 - accuracy: 0.3548 - val_loss: 1.4072 - val_accuracy: 0.4469\n",
            "Epoch 3/20\n",
            "85/85 [==============================] - 24s 287ms/step - loss: 1.3719 - accuracy: 0.4864 - val_loss: 1.1120 - val_accuracy: 0.5880\n",
            "Epoch 4/20\n",
            "85/85 [==============================] - 24s 288ms/step - loss: 1.1286 - accuracy: 0.5896 - val_loss: 0.9718 - val_accuracy: 0.6491\n",
            "Epoch 5/20\n",
            "85/85 [==============================] - 25s 289ms/step - loss: 1.0290 - accuracy: 0.6282 - val_loss: 0.7989 - val_accuracy: 0.7169\n",
            "Epoch 6/20\n",
            "85/85 [==============================] - 25s 289ms/step - loss: 0.9399 - accuracy: 0.6675 - val_loss: 0.9612 - val_accuracy: 0.6620\n",
            "Epoch 7/20\n",
            "85/85 [==============================] - 25s 289ms/step - loss: 0.8835 - accuracy: 0.6903 - val_loss: 0.7208 - val_accuracy: 0.7435\n",
            "Epoch 8/20\n",
            "85/85 [==============================] - 25s 289ms/step - loss: 0.7504 - accuracy: 0.7288 - val_loss: 0.6452 - val_accuracy: 0.7748\n",
            "Epoch 9/20\n",
            "85/85 [==============================] - 24s 288ms/step - loss: 0.6922 - accuracy: 0.7490 - val_loss: 0.6329 - val_accuracy: 0.7667\n",
            "Epoch 10/20\n",
            "85/85 [==============================] - 25s 289ms/step - loss: 0.6175 - accuracy: 0.7794 - val_loss: 1.2518 - val_accuracy: 0.6059\n",
            "Epoch 11/20\n",
            "85/85 [==============================] - 25s 289ms/step - loss: 0.6338 - accuracy: 0.7788 - val_loss: 0.6473 - val_accuracy: 0.7663\n",
            "Epoch 12/20\n",
            "85/85 [==============================] - 25s 290ms/step - loss: 0.5638 - accuracy: 0.7981 - val_loss: 0.5418 - val_accuracy: 0.8161\n",
            "Epoch 13/20\n",
            "85/85 [==============================] - 25s 289ms/step - loss: 0.5077 - accuracy: 0.8241 - val_loss: 0.7938 - val_accuracy: 0.7252\n",
            "Epoch 14/20\n",
            "85/85 [==============================] - 24s 287ms/step - loss: 0.5548 - accuracy: 0.8089 - val_loss: 0.5747 - val_accuracy: 0.8037\n",
            "Epoch 15/20\n",
            "85/85 [==============================] - 24s 288ms/step - loss: 0.4304 - accuracy: 0.8509 - val_loss: 0.5083 - val_accuracy: 0.8265\n",
            "Epoch 16/20\n",
            "85/85 [==============================] - 25s 289ms/step - loss: 0.4072 - accuracy: 0.8576 - val_loss: 0.5537 - val_accuracy: 0.8159\n",
            "Epoch 17/20\n",
            "85/85 [==============================] - 25s 289ms/step - loss: 0.4050 - accuracy: 0.8570 - val_loss: 0.5622 - val_accuracy: 0.8152\n",
            "Epoch 18/20\n",
            "85/85 [==============================] - 25s 289ms/step - loss: 0.3383 - accuracy: 0.8819 - val_loss: 0.5351 - val_accuracy: 0.8315\n",
            "Epoch 19/20\n",
            "85/85 [==============================] - 25s 290ms/step - loss: 0.3007 - accuracy: 0.9016 - val_loss: 0.5580 - val_accuracy: 0.8267\n",
            "Epoch 20/20\n",
            "85/85 [==============================] - 24s 288ms/step - loss: 0.2862 - accuracy: 0.9015 - val_loss: 0.6139 - val_accuracy: 0.8131\n"
          ],
          "name": "stdout"
        },
        {
          "output_type": "display_data",
          "data": {
            "text/html": [
              "<span style=\"color:#4527A0\"><h1 style=\"font-size:18px\">Trial complete</h1></span>"
            ],
            "text/plain": [
              "<IPython.core.display.HTML object>"
            ]
          },
          "metadata": {
            "tags": []
          }
        },
        {
          "output_type": "display_data",
          "data": {
            "text/html": [
              "<span style=\"color:#4527A0\"><h1 style=\"font-size:18px\">Trial summary</h1></span>"
            ],
            "text/plain": [
              "<IPython.core.display.HTML object>"
            ]
          },
          "metadata": {
            "tags": []
          }
        },
        {
          "output_type": "display_data",
          "data": {
            "text/html": [
              "<span style=\"color:#7E57C2\"><h2 style=\"font-size:16px\">Hp values:</h2></span>"
            ],
            "text/plain": [
              "<IPython.core.display.HTML object>"
            ]
          },
          "metadata": {
            "tags": []
          }
        },
        {
          "output_type": "display_data",
          "data": {
            "text/html": [
              "<span style=\"color:cyan\"> |-conv_0_units: 96</span>"
            ],
            "text/plain": [
              "<IPython.core.display.HTML object>"
            ]
          },
          "metadata": {
            "tags": []
          }
        },
        {
          "output_type": "display_data",
          "data": {
            "text/html": [
              "<span style=\"color:blue\"> |-conv_1_units: 128</span>"
            ],
            "text/plain": [
              "<IPython.core.display.HTML object>"
            ]
          },
          "metadata": {
            "tags": []
          }
        },
        {
          "output_type": "display_data",
          "data": {
            "text/html": [
              "<span style=\"color:cyan\"> |-conv_2_units: 992</span>"
            ],
            "text/plain": [
              "<IPython.core.display.HTML object>"
            ]
          },
          "metadata": {
            "tags": []
          }
        },
        {
          "output_type": "display_data",
          "data": {
            "text/html": [
              "<span style=\"color:blue\"> |-conv_3_units: 320</span>"
            ],
            "text/plain": [
              "<IPython.core.display.HTML object>"
            ]
          },
          "metadata": {
            "tags": []
          }
        },
        {
          "output_type": "display_data",
          "data": {
            "text/html": [
              "<span style=\"color:cyan\"> |-conv_4_units: 768</span>"
            ],
            "text/plain": [
              "<IPython.core.display.HTML object>"
            ]
          },
          "metadata": {
            "tags": []
          }
        },
        {
          "output_type": "display_data",
          "data": {
            "text/html": [
              "<span style=\"color:blue\"> |-conv_5_units: 192</span>"
            ],
            "text/plain": [
              "<IPython.core.display.HTML object>"
            ]
          },
          "metadata": {
            "tags": []
          }
        },
        {
          "output_type": "display_data",
          "data": {
            "text/html": [
              "<span style=\"color:cyan\"> |-dense_0_units: 672</span>"
            ],
            "text/plain": [
              "<IPython.core.display.HTML object>"
            ]
          },
          "metadata": {
            "tags": []
          }
        },
        {
          "output_type": "display_data",
          "data": {
            "text/html": [
              "<span style=\"color:blue\"> |-dense_1_units: 32</span>"
            ],
            "text/plain": [
              "<IPython.core.display.HTML object>"
            ]
          },
          "metadata": {
            "tags": []
          }
        },
        {
          "output_type": "display_data",
          "data": {
            "text/html": [
              "<span style=\"color:cyan\"> |-dropout: 0.1</span>"
            ],
            "text/plain": [
              "<IPython.core.display.HTML object>"
            ]
          },
          "metadata": {
            "tags": []
          }
        },
        {
          "output_type": "display_data",
          "data": {
            "text/html": [
              "<span style=\"color:blue\"> |-dropout_0: 0.1</span>"
            ],
            "text/plain": [
              "<IPython.core.display.HTML object>"
            ]
          },
          "metadata": {
            "tags": []
          }
        },
        {
          "output_type": "display_data",
          "data": {
            "text/html": [
              "<span style=\"color:cyan\"> |-dropout_1: 0.1</span>"
            ],
            "text/plain": [
              "<IPython.core.display.HTML object>"
            ]
          },
          "metadata": {
            "tags": []
          }
        },
        {
          "output_type": "display_data",
          "data": {
            "text/html": [
              "<span style=\"color:blue\"> |-dropout_2: 0.25</span>"
            ],
            "text/plain": [
              "<IPython.core.display.HTML object>"
            ]
          },
          "metadata": {
            "tags": []
          }
        },
        {
          "output_type": "display_data",
          "data": {
            "text/html": [
              "<span style=\"color:cyan\"> |-dropout_3: 0.25</span>"
            ],
            "text/plain": [
              "<IPython.core.display.HTML object>"
            ]
          },
          "metadata": {
            "tags": []
          }
        },
        {
          "output_type": "display_data",
          "data": {
            "text/html": [
              "<span style=\"color:blue\"> |-dropout_4: 0.1</span>"
            ],
            "text/plain": [
              "<IPython.core.display.HTML object>"
            ]
          },
          "metadata": {
            "tags": []
          }
        },
        {
          "output_type": "display_data",
          "data": {
            "text/html": [
              "<span style=\"color:cyan\"> |-dropout_5: 0.5</span>"
            ],
            "text/plain": [
              "<IPython.core.display.HTML object>"
            ]
          },
          "metadata": {
            "tags": []
          }
        },
        {
          "output_type": "display_data",
          "data": {
            "text/html": [
              "<span style=\"color:blue\"> |-input_units: 768</span>"
            ],
            "text/plain": [
              "<IPython.core.display.HTML object>"
            ]
          },
          "metadata": {
            "tags": []
          }
        },
        {
          "output_type": "display_data",
          "data": {
            "text/html": [
              "<span style=\"color:cyan\"> |-learning_rate: 0.001</span>"
            ],
            "text/plain": [
              "<IPython.core.display.HTML object>"
            ]
          },
          "metadata": {
            "tags": []
          }
        },
        {
          "output_type": "display_data",
          "data": {
            "text/html": [
              "<span style=\"color:blue\"> |-n_cnn_layers: 2</span>"
            ],
            "text/plain": [
              "<IPython.core.display.HTML object>"
            ]
          },
          "metadata": {
            "tags": []
          }
        },
        {
          "output_type": "display_data",
          "data": {
            "text/html": [
              "<span style=\"color:cyan\"> |-n_dense_layers: 2</span>"
            ],
            "text/plain": [
              "<IPython.core.display.HTML object>"
            ]
          },
          "metadata": {
            "tags": []
          }
        },
        {
          "output_type": "display_data",
          "data": {
            "text/html": [
              "<span style=\"color:cyan\"> |-Score: 0.8314814567565918</span>"
            ],
            "text/plain": [
              "<IPython.core.display.HTML object>"
            ]
          },
          "metadata": {
            "tags": []
          }
        },
        {
          "output_type": "display_data",
          "data": {
            "text/html": [
              "<span style=\"color:cyan\"> |-Best step: 0</span>"
            ],
            "text/plain": [
              "<IPython.core.display.HTML object>"
            ]
          },
          "metadata": {
            "tags": []
          }
        },
        {
          "output_type": "stream",
          "text": [
            "Epoch 1/20\n",
            " 6/85 [=>............................] - ETA: 55s - loss: 2.3022 - accuracy: 0.0892WARNING:tensorflow:Callback method `on_train_batch_end` is slow compared to the batch time (batch time: 0.2321s vs `on_train_batch_end` time: 0.3923s). Check your callbacks.\n",
            "85/85 [==============================] - 94s 865ms/step - loss: 2.1991 - accuracy: 0.1334 - val_loss: 1.5211 - val_accuracy: 0.3546\n",
            "Epoch 2/20\n",
            "85/85 [==============================] - 62s 731ms/step - loss: 1.4923 - accuracy: 0.3975 - val_loss: 1.1990 - val_accuracy: 0.5474\n",
            "Epoch 3/20\n",
            "85/85 [==============================] - 62s 731ms/step - loss: 1.2496 - accuracy: 0.5045 - val_loss: 1.0346 - val_accuracy: 0.6152\n",
            "Epoch 4/20\n",
            "85/85 [==============================] - 62s 732ms/step - loss: 1.1052 - accuracy: 0.5786 - val_loss: 0.9135 - val_accuracy: 0.6496\n",
            "Epoch 5/20\n",
            "85/85 [==============================] - 62s 734ms/step - loss: 0.9874 - accuracy: 0.6290 - val_loss: 0.7289 - val_accuracy: 0.7387\n",
            "Epoch 6/20\n",
            "85/85 [==============================] - 62s 734ms/step - loss: 0.8735 - accuracy: 0.6850 - val_loss: 1.0923 - val_accuracy: 0.6265\n",
            "Epoch 7/20\n",
            "85/85 [==============================] - 62s 734ms/step - loss: 0.7381 - accuracy: 0.7336 - val_loss: 0.6011 - val_accuracy: 0.7830\n",
            "Epoch 8/20\n",
            "85/85 [==============================] - 62s 736ms/step - loss: 0.6757 - accuracy: 0.7598 - val_loss: 0.7524 - val_accuracy: 0.7370\n",
            "Epoch 9/20\n",
            "85/85 [==============================] - 62s 735ms/step - loss: 0.6067 - accuracy: 0.7842 - val_loss: 0.6888 - val_accuracy: 0.7580\n",
            "Epoch 10/20\n",
            "85/85 [==============================] - 62s 733ms/step - loss: 0.5781 - accuracy: 0.8008 - val_loss: 0.9372 - val_accuracy: 0.7024\n",
            "Epoch 11/20\n",
            "85/85 [==============================] - 62s 734ms/step - loss: 0.6113 - accuracy: 0.7888 - val_loss: 0.7475 - val_accuracy: 0.7622\n",
            "Epoch 12/20\n",
            "85/85 [==============================] - 62s 733ms/step - loss: 0.5513 - accuracy: 0.8091 - val_loss: 0.5733 - val_accuracy: 0.8070\n",
            "Epoch 13/20\n",
            "85/85 [==============================] - 62s 734ms/step - loss: 0.5059 - accuracy: 0.8243 - val_loss: 0.6836 - val_accuracy: 0.7641\n",
            "Epoch 14/20\n",
            "85/85 [==============================] - 62s 733ms/step - loss: 0.4893 - accuracy: 0.8288 - val_loss: 0.6132 - val_accuracy: 0.7859\n",
            "Epoch 15/20\n",
            "85/85 [==============================] - 62s 733ms/step - loss: 0.4905 - accuracy: 0.8296 - val_loss: 0.4688 - val_accuracy: 0.8407\n",
            "Epoch 16/20\n",
            "85/85 [==============================] - 62s 731ms/step - loss: 0.4572 - accuracy: 0.8379 - val_loss: 0.6736 - val_accuracy: 0.7763\n",
            "Epoch 17/20\n",
            "85/85 [==============================] - 62s 733ms/step - loss: 0.4470 - accuracy: 0.8447 - val_loss: 0.4120 - val_accuracy: 0.8591\n",
            "Epoch 18/20\n",
            "85/85 [==============================] - 62s 733ms/step - loss: 0.4341 - accuracy: 0.8468 - val_loss: 0.5286 - val_accuracy: 0.8248\n",
            "Epoch 19/20\n",
            "85/85 [==============================] - 62s 731ms/step - loss: 0.4076 - accuracy: 0.8599 - val_loss: 0.5061 - val_accuracy: 0.8233\n",
            "Epoch 20/20\n",
            "85/85 [==============================] - 62s 733ms/step - loss: 0.3952 - accuracy: 0.8656 - val_loss: 0.4071 - val_accuracy: 0.8646\n"
          ],
          "name": "stdout"
        },
        {
          "output_type": "display_data",
          "data": {
            "text/html": [
              "<span style=\"color:#4527A0\"><h1 style=\"font-size:18px\">Trial complete</h1></span>"
            ],
            "text/plain": [
              "<IPython.core.display.HTML object>"
            ]
          },
          "metadata": {
            "tags": []
          }
        },
        {
          "output_type": "display_data",
          "data": {
            "text/html": [
              "<span style=\"color:#4527A0\"><h1 style=\"font-size:18px\">Trial summary</h1></span>"
            ],
            "text/plain": [
              "<IPython.core.display.HTML object>"
            ]
          },
          "metadata": {
            "tags": []
          }
        },
        {
          "output_type": "display_data",
          "data": {
            "text/html": [
              "<span style=\"color:#7E57C2\"><h2 style=\"font-size:16px\">Hp values:</h2></span>"
            ],
            "text/plain": [
              "<IPython.core.display.HTML object>"
            ]
          },
          "metadata": {
            "tags": []
          }
        },
        {
          "output_type": "display_data",
          "data": {
            "text/html": [
              "<span style=\"color:cyan\"> |-conv_0_units: 960</span>"
            ],
            "text/plain": [
              "<IPython.core.display.HTML object>"
            ]
          },
          "metadata": {
            "tags": []
          }
        },
        {
          "output_type": "display_data",
          "data": {
            "text/html": [
              "<span style=\"color:blue\"> |-conv_1_units: 416</span>"
            ],
            "text/plain": [
              "<IPython.core.display.HTML object>"
            ]
          },
          "metadata": {
            "tags": []
          }
        },
        {
          "output_type": "display_data",
          "data": {
            "text/html": [
              "<span style=\"color:cyan\"> |-conv_2_units: 64</span>"
            ],
            "text/plain": [
              "<IPython.core.display.HTML object>"
            ]
          },
          "metadata": {
            "tags": []
          }
        },
        {
          "output_type": "display_data",
          "data": {
            "text/html": [
              "<span style=\"color:blue\"> |-conv_3_units: 1024</span>"
            ],
            "text/plain": [
              "<IPython.core.display.HTML object>"
            ]
          },
          "metadata": {
            "tags": []
          }
        },
        {
          "output_type": "display_data",
          "data": {
            "text/html": [
              "<span style=\"color:cyan\"> |-conv_4_units: 160</span>"
            ],
            "text/plain": [
              "<IPython.core.display.HTML object>"
            ]
          },
          "metadata": {
            "tags": []
          }
        },
        {
          "output_type": "display_data",
          "data": {
            "text/html": [
              "<span style=\"color:blue\"> |-conv_5_units: 160</span>"
            ],
            "text/plain": [
              "<IPython.core.display.HTML object>"
            ]
          },
          "metadata": {
            "tags": []
          }
        },
        {
          "output_type": "display_data",
          "data": {
            "text/html": [
              "<span style=\"color:cyan\"> |-dense_0_units: 768</span>"
            ],
            "text/plain": [
              "<IPython.core.display.HTML object>"
            ]
          },
          "metadata": {
            "tags": []
          }
        },
        {
          "output_type": "display_data",
          "data": {
            "text/html": [
              "<span style=\"color:blue\"> |-dense_1_units: 704</span>"
            ],
            "text/plain": [
              "<IPython.core.display.HTML object>"
            ]
          },
          "metadata": {
            "tags": []
          }
        },
        {
          "output_type": "display_data",
          "data": {
            "text/html": [
              "<span style=\"color:cyan\"> |-dropout: 0.5</span>"
            ],
            "text/plain": [
              "<IPython.core.display.HTML object>"
            ]
          },
          "metadata": {
            "tags": []
          }
        },
        {
          "output_type": "display_data",
          "data": {
            "text/html": [
              "<span style=\"color:blue\"> |-dropout_0: 0.1</span>"
            ],
            "text/plain": [
              "<IPython.core.display.HTML object>"
            ]
          },
          "metadata": {
            "tags": []
          }
        },
        {
          "output_type": "display_data",
          "data": {
            "text/html": [
              "<span style=\"color:cyan\"> |-dropout_1: 0.25</span>"
            ],
            "text/plain": [
              "<IPython.core.display.HTML object>"
            ]
          },
          "metadata": {
            "tags": []
          }
        },
        {
          "output_type": "display_data",
          "data": {
            "text/html": [
              "<span style=\"color:blue\"> |-dropout_2: 0.5</span>"
            ],
            "text/plain": [
              "<IPython.core.display.HTML object>"
            ]
          },
          "metadata": {
            "tags": []
          }
        },
        {
          "output_type": "display_data",
          "data": {
            "text/html": [
              "<span style=\"color:cyan\"> |-dropout_3: 0.5</span>"
            ],
            "text/plain": [
              "<IPython.core.display.HTML object>"
            ]
          },
          "metadata": {
            "tags": []
          }
        },
        {
          "output_type": "display_data",
          "data": {
            "text/html": [
              "<span style=\"color:blue\"> |-dropout_4: 0.5</span>"
            ],
            "text/plain": [
              "<IPython.core.display.HTML object>"
            ]
          },
          "metadata": {
            "tags": []
          }
        },
        {
          "output_type": "display_data",
          "data": {
            "text/html": [
              "<span style=\"color:cyan\"> |-dropout_5: 0.25</span>"
            ],
            "text/plain": [
              "<IPython.core.display.HTML object>"
            ]
          },
          "metadata": {
            "tags": []
          }
        },
        {
          "output_type": "display_data",
          "data": {
            "text/html": [
              "<span style=\"color:blue\"> |-input_units: 704</span>"
            ],
            "text/plain": [
              "<IPython.core.display.HTML object>"
            ]
          },
          "metadata": {
            "tags": []
          }
        },
        {
          "output_type": "display_data",
          "data": {
            "text/html": [
              "<span style=\"color:cyan\"> |-learning_rate: 0.0001</span>"
            ],
            "text/plain": [
              "<IPython.core.display.HTML object>"
            ]
          },
          "metadata": {
            "tags": []
          }
        },
        {
          "output_type": "display_data",
          "data": {
            "text/html": [
              "<span style=\"color:blue\"> |-n_cnn_layers: 3</span>"
            ],
            "text/plain": [
              "<IPython.core.display.HTML object>"
            ]
          },
          "metadata": {
            "tags": []
          }
        },
        {
          "output_type": "display_data",
          "data": {
            "text/html": [
              "<span style=\"color:cyan\"> |-n_dense_layers: 2</span>"
            ],
            "text/plain": [
              "<IPython.core.display.HTML object>"
            ]
          },
          "metadata": {
            "tags": []
          }
        },
        {
          "output_type": "display_data",
          "data": {
            "text/html": [
              "<span style=\"color:cyan\"> |-Score: 0.8646296262741089</span>"
            ],
            "text/plain": [
              "<IPython.core.display.HTML object>"
            ]
          },
          "metadata": {
            "tags": []
          }
        },
        {
          "output_type": "display_data",
          "data": {
            "text/html": [
              "<span style=\"color:cyan\"> |-Best step: 0</span>"
            ],
            "text/plain": [
              "<IPython.core.display.HTML object>"
            ]
          },
          "metadata": {
            "tags": []
          }
        },
        {
          "output_type": "stream",
          "text": [
            "Epoch 1/20\n",
            " 6/85 [=>............................] - ETA: 40s - loss: 2.2955 - accuracy: 0.1155WARNING:tensorflow:Callback method `on_train_batch_end` is slow compared to the batch time (batch time: 0.1620s vs `on_train_batch_end` time: 0.3020s). Check your callbacks.\n",
            "85/85 [==============================] - 62s 604ms/step - loss: 2.1679 - accuracy: 0.1531 - val_loss: 1.7290 - val_accuracy: 0.3031\n",
            "Epoch 2/20\n",
            "85/85 [==============================] - 46s 538ms/step - loss: 1.6598 - accuracy: 0.3339 - val_loss: 1.1687 - val_accuracy: 0.5531\n",
            "Epoch 3/20\n",
            "85/85 [==============================] - 46s 538ms/step - loss: 1.2940 - accuracy: 0.4994 - val_loss: 0.9933 - val_accuracy: 0.6050\n",
            "Epoch 4/20\n",
            "85/85 [==============================] - 46s 539ms/step - loss: 1.1450 - accuracy: 0.5587 - val_loss: 1.2033 - val_accuracy: 0.5648\n",
            "Epoch 5/20\n",
            "85/85 [==============================] - 46s 540ms/step - loss: 1.0557 - accuracy: 0.6177 - val_loss: 1.6781 - val_accuracy: 0.4919\n",
            "Epoch 6/20\n",
            "85/85 [==============================] - 46s 539ms/step - loss: 1.0154 - accuracy: 0.6429 - val_loss: 0.9575 - val_accuracy: 0.6761\n",
            "Epoch 7/20\n",
            "85/85 [==============================] - 46s 540ms/step - loss: 0.7830 - accuracy: 0.7258 - val_loss: 0.7713 - val_accuracy: 0.7243\n",
            "Epoch 8/20\n",
            "85/85 [==============================] - 46s 541ms/step - loss: 0.7473 - accuracy: 0.7355 - val_loss: 0.7336 - val_accuracy: 0.7426\n",
            "Epoch 9/20\n",
            "85/85 [==============================] - 46s 540ms/step - loss: 0.6911 - accuracy: 0.7586 - val_loss: 0.8919 - val_accuracy: 0.7072\n",
            "Epoch 10/20\n",
            "85/85 [==============================] - 46s 539ms/step - loss: 0.6545 - accuracy: 0.7676 - val_loss: 0.6277 - val_accuracy: 0.7796\n",
            "Epoch 11/20\n",
            "85/85 [==============================] - 46s 542ms/step - loss: 0.6271 - accuracy: 0.7787 - val_loss: 0.7244 - val_accuracy: 0.7463\n",
            "Epoch 12/20\n",
            "85/85 [==============================] - 46s 541ms/step - loss: 0.6224 - accuracy: 0.7814 - val_loss: 0.5424 - val_accuracy: 0.8048\n",
            "Epoch 13/20\n",
            "85/85 [==============================] - 46s 541ms/step - loss: 0.5799 - accuracy: 0.8027 - val_loss: 0.7063 - val_accuracy: 0.7633\n",
            "Epoch 14/20\n",
            "85/85 [==============================] - 46s 539ms/step - loss: 0.5732 - accuracy: 0.8045 - val_loss: 0.6314 - val_accuracy: 0.7806\n",
            "Epoch 15/20\n",
            "85/85 [==============================] - 46s 541ms/step - loss: 0.5524 - accuracy: 0.8095 - val_loss: 0.4925 - val_accuracy: 0.8300\n",
            "Epoch 16/20\n",
            "85/85 [==============================] - 46s 541ms/step - loss: 0.5165 - accuracy: 0.8207 - val_loss: 0.5719 - val_accuracy: 0.8067\n",
            "Epoch 17/20\n",
            "85/85 [==============================] - 46s 541ms/step - loss: 0.5208 - accuracy: 0.8196 - val_loss: 0.5319 - val_accuracy: 0.8152\n",
            "Epoch 18/20\n",
            "85/85 [==============================] - 46s 540ms/step - loss: 0.5157 - accuracy: 0.8218 - val_loss: 0.5447 - val_accuracy: 0.8156\n",
            "Epoch 19/20\n",
            "85/85 [==============================] - 46s 539ms/step - loss: 0.4604 - accuracy: 0.8430 - val_loss: 0.4751 - val_accuracy: 0.8339\n",
            "Epoch 20/20\n",
            "85/85 [==============================] - 46s 540ms/step - loss: 0.4810 - accuracy: 0.8343 - val_loss: 0.5044 - val_accuracy: 0.8265\n"
          ],
          "name": "stdout"
        },
        {
          "output_type": "display_data",
          "data": {
            "text/html": [
              "<span style=\"color:#4527A0\"><h1 style=\"font-size:18px\">Trial complete</h1></span>"
            ],
            "text/plain": [
              "<IPython.core.display.HTML object>"
            ]
          },
          "metadata": {
            "tags": []
          }
        },
        {
          "output_type": "display_data",
          "data": {
            "text/html": [
              "<span style=\"color:#4527A0\"><h1 style=\"font-size:18px\">Trial summary</h1></span>"
            ],
            "text/plain": [
              "<IPython.core.display.HTML object>"
            ]
          },
          "metadata": {
            "tags": []
          }
        },
        {
          "output_type": "display_data",
          "data": {
            "text/html": [
              "<span style=\"color:#7E57C2\"><h2 style=\"font-size:16px\">Hp values:</h2></span>"
            ],
            "text/plain": [
              "<IPython.core.display.HTML object>"
            ]
          },
          "metadata": {
            "tags": []
          }
        },
        {
          "output_type": "display_data",
          "data": {
            "text/html": [
              "<span style=\"color:cyan\"> |-conv_0_units: 64</span>"
            ],
            "text/plain": [
              "<IPython.core.display.HTML object>"
            ]
          },
          "metadata": {
            "tags": []
          }
        },
        {
          "output_type": "display_data",
          "data": {
            "text/html": [
              "<span style=\"color:blue\"> |-conv_1_units: 480</span>"
            ],
            "text/plain": [
              "<IPython.core.display.HTML object>"
            ]
          },
          "metadata": {
            "tags": []
          }
        },
        {
          "output_type": "display_data",
          "data": {
            "text/html": [
              "<span style=\"color:cyan\"> |-conv_2_units: 608</span>"
            ],
            "text/plain": [
              "<IPython.core.display.HTML object>"
            ]
          },
          "metadata": {
            "tags": []
          }
        },
        {
          "output_type": "display_data",
          "data": {
            "text/html": [
              "<span style=\"color:blue\"> |-conv_3_units: 352</span>"
            ],
            "text/plain": [
              "<IPython.core.display.HTML object>"
            ]
          },
          "metadata": {
            "tags": []
          }
        },
        {
          "output_type": "display_data",
          "data": {
            "text/html": [
              "<span style=\"color:cyan\"> |-conv_4_units: 832</span>"
            ],
            "text/plain": [
              "<IPython.core.display.HTML object>"
            ]
          },
          "metadata": {
            "tags": []
          }
        },
        {
          "output_type": "display_data",
          "data": {
            "text/html": [
              "<span style=\"color:blue\"> |-conv_5_units: 576</span>"
            ],
            "text/plain": [
              "<IPython.core.display.HTML object>"
            ]
          },
          "metadata": {
            "tags": []
          }
        },
        {
          "output_type": "display_data",
          "data": {
            "text/html": [
              "<span style=\"color:cyan\"> |-dense_0_units: 576</span>"
            ],
            "text/plain": [
              "<IPython.core.display.HTML object>"
            ]
          },
          "metadata": {
            "tags": []
          }
        },
        {
          "output_type": "display_data",
          "data": {
            "text/html": [
              "<span style=\"color:blue\"> |-dense_1_units: 608</span>"
            ],
            "text/plain": [
              "<IPython.core.display.HTML object>"
            ]
          },
          "metadata": {
            "tags": []
          }
        },
        {
          "output_type": "display_data",
          "data": {
            "text/html": [
              "<span style=\"color:cyan\"> |-dropout: 0.5</span>"
            ],
            "text/plain": [
              "<IPython.core.display.HTML object>"
            ]
          },
          "metadata": {
            "tags": []
          }
        },
        {
          "output_type": "display_data",
          "data": {
            "text/html": [
              "<span style=\"color:blue\"> |-dropout_0: 0.1</span>"
            ],
            "text/plain": [
              "<IPython.core.display.HTML object>"
            ]
          },
          "metadata": {
            "tags": []
          }
        },
        {
          "output_type": "display_data",
          "data": {
            "text/html": [
              "<span style=\"color:cyan\"> |-dropout_1: 0.1</span>"
            ],
            "text/plain": [
              "<IPython.core.display.HTML object>"
            ]
          },
          "metadata": {
            "tags": []
          }
        },
        {
          "output_type": "display_data",
          "data": {
            "text/html": [
              "<span style=\"color:blue\"> |-dropout_2: 0.1</span>"
            ],
            "text/plain": [
              "<IPython.core.display.HTML object>"
            ]
          },
          "metadata": {
            "tags": []
          }
        },
        {
          "output_type": "display_data",
          "data": {
            "text/html": [
              "<span style=\"color:cyan\"> |-dropout_3: 0.1</span>"
            ],
            "text/plain": [
              "<IPython.core.display.HTML object>"
            ]
          },
          "metadata": {
            "tags": []
          }
        },
        {
          "output_type": "display_data",
          "data": {
            "text/html": [
              "<span style=\"color:blue\"> |-dropout_4: 0.25</span>"
            ],
            "text/plain": [
              "<IPython.core.display.HTML object>"
            ]
          },
          "metadata": {
            "tags": []
          }
        },
        {
          "output_type": "display_data",
          "data": {
            "text/html": [
              "<span style=\"color:cyan\"> |-dropout_5: 0.25</span>"
            ],
            "text/plain": [
              "<IPython.core.display.HTML object>"
            ]
          },
          "metadata": {
            "tags": []
          }
        },
        {
          "output_type": "display_data",
          "data": {
            "text/html": [
              "<span style=\"color:blue\"> |-input_units: 1024</span>"
            ],
            "text/plain": [
              "<IPython.core.display.HTML object>"
            ]
          },
          "metadata": {
            "tags": []
          }
        },
        {
          "output_type": "display_data",
          "data": {
            "text/html": [
              "<span style=\"color:cyan\"> |-learning_rate: 0.0001</span>"
            ],
            "text/plain": [
              "<IPython.core.display.HTML object>"
            ]
          },
          "metadata": {
            "tags": []
          }
        },
        {
          "output_type": "display_data",
          "data": {
            "text/html": [
              "<span style=\"color:blue\"> |-n_cnn_layers: 4</span>"
            ],
            "text/plain": [
              "<IPython.core.display.HTML object>"
            ]
          },
          "metadata": {
            "tags": []
          }
        },
        {
          "output_type": "display_data",
          "data": {
            "text/html": [
              "<span style=\"color:cyan\"> |-n_dense_layers: 2</span>"
            ],
            "text/plain": [
              "<IPython.core.display.HTML object>"
            ]
          },
          "metadata": {
            "tags": []
          }
        },
        {
          "output_type": "display_data",
          "data": {
            "text/html": [
              "<span style=\"color:cyan\"> |-Score: 0.8338888883590698</span>"
            ],
            "text/plain": [
              "<IPython.core.display.HTML object>"
            ]
          },
          "metadata": {
            "tags": []
          }
        },
        {
          "output_type": "display_data",
          "data": {
            "text/html": [
              "<span style=\"color:cyan\"> |-Best step: 0</span>"
            ],
            "text/plain": [
              "<IPython.core.display.HTML object>"
            ]
          },
          "metadata": {
            "tags": []
          }
        },
        {
          "output_type": "stream",
          "text": [
            "Epoch 1/20\n",
            " 6/85 [=>............................] - ETA: 23s - loss: 6165.3567 - accuracy: 0.0920WARNING:tensorflow:Callback method `on_train_batch_end` is slow compared to the batch time (batch time: 0.0953s vs `on_train_batch_end` time: 0.1682s). Check your callbacks.\n",
            "85/85 [==============================] - 34s 330ms/step - loss: 1368.7060 - accuracy: 0.1049 - val_loss: 2.2949 - val_accuracy: 0.1157\n"
          ],
          "name": "stdout"
        }
      ]
    },
    {
      "cell_type": "code",
      "metadata": {
        "colab": {
          "base_uri": "https://localhost:8080/",
          "height": 1000
        },
        "id": "RcRJbh3_Gxrd",
        "outputId": "39a32ca1-374a-459c-95e4-dc66510df655"
      },
      "source": [
        "tuner=BayesianOptimization(build,objective='val_accuracy',\n",
        "    max_trials=50,executions_per_trial=1)\n",
        "\n",
        "tuner.search(x=trainx,\n",
        "             y=trainy,\n",
        "             epochs=20,\n",
        "             batch_size=256,\n",
        "             validation_data=(testx,testy))"
      ],
      "execution_count": null,
      "outputs": [
        {
          "output_type": "stream",
          "text": [
            "INFO:tensorflow:Reloading Oracle from ./untitled_project/oracle.json\n",
            "INFO:tensorflow:Reloading Tuner from ./untitled_project/tuner0.json\n",
            "Epoch 1/20\n",
            " 6/85 [=>............................] - ETA: 20s - loss: 21325.6761 - accuracy: 0.1000WARNING:tensorflow:Callback method `on_train_batch_end` is slow compared to the batch time (batch time: 0.0881s vs `on_train_batch_end` time: 0.1472s). Check your callbacks.\n",
            "85/85 [==============================] - 63s 310ms/step - loss: 4148.2301 - accuracy: 0.1115 - val_loss: 2.2954 - val_accuracy: 0.1157\n",
            "Epoch 2/20\n",
            "85/85 [==============================] - 24s 281ms/step - loss: 2.2966 - accuracy: 0.1084 - val_loss: 2.2942 - val_accuracy: 0.1131\n",
            "Epoch 3/20\n",
            "85/85 [==============================] - 24s 283ms/step - loss: 2.2971 - accuracy: 0.1096 - val_loss: 2.2941 - val_accuracy: 0.1102\n",
            "Epoch 4/20\n",
            "85/85 [==============================] - 24s 286ms/step - loss: 2.2960 - accuracy: 0.1062 - val_loss: 2.2939 - val_accuracy: 0.1131\n",
            "Epoch 5/20\n",
            "85/85 [==============================] - 24s 288ms/step - loss: 2.2955 - accuracy: 0.1142 - val_loss: 2.2939 - val_accuracy: 0.1131\n",
            "Epoch 6/20\n",
            "85/85 [==============================] - 25s 290ms/step - loss: 2.2965 - accuracy: 0.1062 - val_loss: 2.2936 - val_accuracy: 0.1094\n",
            "Epoch 7/20\n",
            "85/85 [==============================] - 25s 292ms/step - loss: 2.2965 - accuracy: 0.1127 - val_loss: 2.2938 - val_accuracy: 0.1157\n",
            "Epoch 8/20\n",
            "85/85 [==============================] - 25s 294ms/step - loss: 2.2950 - accuracy: 0.1076 - val_loss: 2.2938 - val_accuracy: 0.1102\n",
            "Epoch 9/20\n",
            "85/85 [==============================] - 25s 295ms/step - loss: 2.2955 - accuracy: 0.1151 - val_loss: 2.2937 - val_accuracy: 0.1094\n",
            "Epoch 10/20\n",
            "85/85 [==============================] - 25s 296ms/step - loss: 2.2960 - accuracy: 0.1078 - val_loss: 2.2936 - val_accuracy: 0.1157\n",
            "Epoch 11/20\n",
            "85/85 [==============================] - 25s 296ms/step - loss: 2.2952 - accuracy: 0.1077 - val_loss: 2.2940 - val_accuracy: 0.1102\n",
            "Epoch 12/20\n",
            "85/85 [==============================] - 25s 296ms/step - loss: 2.2957 - accuracy: 0.1078 - val_loss: 2.2935 - val_accuracy: 0.1157\n",
            "Epoch 13/20\n",
            "85/85 [==============================] - 25s 297ms/step - loss: 2.2938 - accuracy: 0.1169 - val_loss: 2.2946 - val_accuracy: 0.1094\n",
            "Epoch 14/20\n",
            "85/85 [==============================] - 25s 298ms/step - loss: 2.2966 - accuracy: 0.1068 - val_loss: 2.2938 - val_accuracy: 0.1102\n",
            "Epoch 15/20\n",
            "85/85 [==============================] - 25s 297ms/step - loss: 2.2969 - accuracy: 0.1106 - val_loss: 2.2938 - val_accuracy: 0.1131\n",
            "Epoch 16/20\n",
            "85/85 [==============================] - 25s 298ms/step - loss: 2.2951 - accuracy: 0.1065 - val_loss: 2.2937 - val_accuracy: 0.1102\n",
            "Epoch 17/20\n",
            "85/85 [==============================] - 25s 299ms/step - loss: 2.2954 - accuracy: 0.1101 - val_loss: 2.2940 - val_accuracy: 0.1102\n",
            "Epoch 18/20\n",
            "85/85 [==============================] - 25s 298ms/step - loss: 2.2970 - accuracy: 0.1100 - val_loss: 2.2940 - val_accuracy: 0.1157\n",
            "Epoch 19/20\n",
            "85/85 [==============================] - 25s 298ms/step - loss: 2.2959 - accuracy: 0.1062 - val_loss: 2.2939 - val_accuracy: 0.1102\n",
            "Epoch 20/20\n",
            "85/85 [==============================] - 25s 298ms/step - loss: 2.2945 - accuracy: 0.1094 - val_loss: 2.2939 - val_accuracy: 0.1157\n"
          ],
          "name": "stdout"
        },
        {
          "output_type": "display_data",
          "data": {
            "text/html": [
              "<span style=\"color:#4527A0\"><h1 style=\"font-size:18px\">Trial complete</h1></span>"
            ],
            "text/plain": [
              "<IPython.core.display.HTML object>"
            ]
          },
          "metadata": {
            "tags": []
          }
        },
        {
          "output_type": "display_data",
          "data": {
            "text/html": [
              "<span style=\"color:#4527A0\"><h1 style=\"font-size:18px\">Trial summary</h1></span>"
            ],
            "text/plain": [
              "<IPython.core.display.HTML object>"
            ]
          },
          "metadata": {
            "tags": []
          }
        },
        {
          "output_type": "display_data",
          "data": {
            "text/html": [
              "<span style=\"color:#7E57C2\"><h2 style=\"font-size:16px\">Hp values:</h2></span>"
            ],
            "text/plain": [
              "<IPython.core.display.HTML object>"
            ]
          },
          "metadata": {
            "tags": []
          }
        },
        {
          "output_type": "display_data",
          "data": {
            "text/html": [
              "<span style=\"color:cyan\"> |-conv_0_units: 576</span>"
            ],
            "text/plain": [
              "<IPython.core.display.HTML object>"
            ]
          },
          "metadata": {
            "tags": []
          }
        },
        {
          "output_type": "display_data",
          "data": {
            "text/html": [
              "<span style=\"color:blue\"> |-conv_1_units: 96</span>"
            ],
            "text/plain": [
              "<IPython.core.display.HTML object>"
            ]
          },
          "metadata": {
            "tags": []
          }
        },
        {
          "output_type": "display_data",
          "data": {
            "text/html": [
              "<span style=\"color:cyan\"> |-conv_2_units: 864</span>"
            ],
            "text/plain": [
              "<IPython.core.display.HTML object>"
            ]
          },
          "metadata": {
            "tags": []
          }
        },
        {
          "output_type": "display_data",
          "data": {
            "text/html": [
              "<span style=\"color:blue\"> |-conv_3_units: 800</span>"
            ],
            "text/plain": [
              "<IPython.core.display.HTML object>"
            ]
          },
          "metadata": {
            "tags": []
          }
        },
        {
          "output_type": "display_data",
          "data": {
            "text/html": [
              "<span style=\"color:cyan\"> |-conv_4_units: 192</span>"
            ],
            "text/plain": [
              "<IPython.core.display.HTML object>"
            ]
          },
          "metadata": {
            "tags": []
          }
        },
        {
          "output_type": "display_data",
          "data": {
            "text/html": [
              "<span style=\"color:blue\"> |-conv_5_units: 448</span>"
            ],
            "text/plain": [
              "<IPython.core.display.HTML object>"
            ]
          },
          "metadata": {
            "tags": []
          }
        },
        {
          "output_type": "display_data",
          "data": {
            "text/html": [
              "<span style=\"color:cyan\"> |-dense_0_units: 992</span>"
            ],
            "text/plain": [
              "<IPython.core.display.HTML object>"
            ]
          },
          "metadata": {
            "tags": []
          }
        },
        {
          "output_type": "display_data",
          "data": {
            "text/html": [
              "<span style=\"color:blue\"> |-dense_1_units: 608</span>"
            ],
            "text/plain": [
              "<IPython.core.display.HTML object>"
            ]
          },
          "metadata": {
            "tags": []
          }
        },
        {
          "output_type": "display_data",
          "data": {
            "text/html": [
              "<span style=\"color:cyan\"> |-dropout: 0.1</span>"
            ],
            "text/plain": [
              "<IPython.core.display.HTML object>"
            ]
          },
          "metadata": {
            "tags": []
          }
        },
        {
          "output_type": "display_data",
          "data": {
            "text/html": [
              "<span style=\"color:blue\"> |-dropout_0: 0.1</span>"
            ],
            "text/plain": [
              "<IPython.core.display.HTML object>"
            ]
          },
          "metadata": {
            "tags": []
          }
        },
        {
          "output_type": "display_data",
          "data": {
            "text/html": [
              "<span style=\"color:cyan\"> |-dropout_1: 0.25</span>"
            ],
            "text/plain": [
              "<IPython.core.display.HTML object>"
            ]
          },
          "metadata": {
            "tags": []
          }
        },
        {
          "output_type": "display_data",
          "data": {
            "text/html": [
              "<span style=\"color:blue\"> |-dropout_2: 0.5</span>"
            ],
            "text/plain": [
              "<IPython.core.display.HTML object>"
            ]
          },
          "metadata": {
            "tags": []
          }
        },
        {
          "output_type": "display_data",
          "data": {
            "text/html": [
              "<span style=\"color:cyan\"> |-dropout_3: 0.5</span>"
            ],
            "text/plain": [
              "<IPython.core.display.HTML object>"
            ]
          },
          "metadata": {
            "tags": []
          }
        },
        {
          "output_type": "display_data",
          "data": {
            "text/html": [
              "<span style=\"color:blue\"> |-dropout_4: 0.1</span>"
            ],
            "text/plain": [
              "<IPython.core.display.HTML object>"
            ]
          },
          "metadata": {
            "tags": []
          }
        },
        {
          "output_type": "display_data",
          "data": {
            "text/html": [
              "<span style=\"color:cyan\"> |-dropout_5: 0.1</span>"
            ],
            "text/plain": [
              "<IPython.core.display.HTML object>"
            ]
          },
          "metadata": {
            "tags": []
          }
        },
        {
          "output_type": "display_data",
          "data": {
            "text/html": [
              "<span style=\"color:blue\"> |-input_units: 160</span>"
            ],
            "text/plain": [
              "<IPython.core.display.HTML object>"
            ]
          },
          "metadata": {
            "tags": []
          }
        },
        {
          "output_type": "display_data",
          "data": {
            "text/html": [
              "<span style=\"color:cyan\"> |-learning_rate: 0.01</span>"
            ],
            "text/plain": [
              "<IPython.core.display.HTML object>"
            ]
          },
          "metadata": {
            "tags": []
          }
        },
        {
          "output_type": "display_data",
          "data": {
            "text/html": [
              "<span style=\"color:blue\"> |-n_cnn_layers: 3</span>"
            ],
            "text/plain": [
              "<IPython.core.display.HTML object>"
            ]
          },
          "metadata": {
            "tags": []
          }
        },
        {
          "output_type": "display_data",
          "data": {
            "text/html": [
              "<span style=\"color:cyan\"> |-n_dense_layers: 2</span>"
            ],
            "text/plain": [
              "<IPython.core.display.HTML object>"
            ]
          },
          "metadata": {
            "tags": []
          }
        },
        {
          "output_type": "display_data",
          "data": {
            "text/html": [
              "<span style=\"color:cyan\"> |-Score: 0.11574073880910873</span>"
            ],
            "text/plain": [
              "<IPython.core.display.HTML object>"
            ]
          },
          "metadata": {
            "tags": []
          }
        },
        {
          "output_type": "display_data",
          "data": {
            "text/html": [
              "<span style=\"color:cyan\"> |-Best step: 0</span>"
            ],
            "text/plain": [
              "<IPython.core.display.HTML object>"
            ]
          },
          "metadata": {
            "tags": []
          }
        },
        {
          "output_type": "stream",
          "text": [
            "Epoch 1/20\n",
            " 6/85 [=>............................] - ETA: 33s - loss: 6.9202 - accuracy: 0.1046WARNING:tensorflow:Callback method `on_train_batch_end` is slow compared to the batch time (batch time: 0.1369s vs `on_train_batch_end` time: 0.2423s). Check your callbacks.\n",
            "85/85 [==============================] - 56s 504ms/step - loss: 3.0086 - accuracy: 0.1989 - val_loss: 1.5711 - val_accuracy: 0.4291\n",
            "Epoch 2/20\n",
            "85/85 [==============================] - 36s 427ms/step - loss: 1.5711 - accuracy: 0.4107 - val_loss: 1.1556 - val_accuracy: 0.5420\n",
            "Epoch 3/20\n",
            "85/85 [==============================] - 35s 414ms/step - loss: 1.1582 - accuracy: 0.5680 - val_loss: 0.9795 - val_accuracy: 0.6437\n",
            "Epoch 4/20\n",
            "85/85 [==============================] - 35s 417ms/step - loss: 0.9597 - accuracy: 0.6538 - val_loss: 0.8760 - val_accuracy: 0.6876\n",
            "Epoch 5/20\n",
            "85/85 [==============================] - 36s 418ms/step - loss: 0.8624 - accuracy: 0.6881 - val_loss: 0.6604 - val_accuracy: 0.7596\n",
            "Epoch 6/20\n",
            "85/85 [==============================] - 36s 421ms/step - loss: 0.8156 - accuracy: 0.7020 - val_loss: 0.6036 - val_accuracy: 0.7876\n",
            "Epoch 7/20\n",
            "85/85 [==============================] - 35s 413ms/step - loss: 0.6573 - accuracy: 0.7632 - val_loss: 0.5887 - val_accuracy: 0.7937\n",
            "Epoch 8/20\n",
            "85/85 [==============================] - 36s 417ms/step - loss: 0.6335 - accuracy: 0.7680 - val_loss: 0.5508 - val_accuracy: 0.8085\n",
            "Epoch 9/20\n",
            "85/85 [==============================] - 36s 420ms/step - loss: 0.6271 - accuracy: 0.7745 - val_loss: 0.5986 - val_accuracy: 0.7885\n",
            "Epoch 10/20\n",
            "85/85 [==============================] - 36s 425ms/step - loss: 0.5911 - accuracy: 0.7896 - val_loss: 0.5308 - val_accuracy: 0.8122\n",
            "Epoch 11/20\n",
            "85/85 [==============================] - 35s 411ms/step - loss: 0.5720 - accuracy: 0.7968 - val_loss: 0.5401 - val_accuracy: 0.8076\n",
            "Epoch 12/20\n",
            "85/85 [==============================] - 36s 419ms/step - loss: 0.5117 - accuracy: 0.8188 - val_loss: 0.7983 - val_accuracy: 0.7333\n",
            "Epoch 13/20\n",
            "85/85 [==============================] - 36s 423ms/step - loss: 0.5752 - accuracy: 0.7911 - val_loss: 0.4981 - val_accuracy: 0.8263\n",
            "Epoch 14/20\n",
            "85/85 [==============================] - 36s 423ms/step - loss: 0.5066 - accuracy: 0.8218 - val_loss: 0.5187 - val_accuracy: 0.8183\n",
            "Epoch 15/20\n",
            "85/85 [==============================] - 36s 426ms/step - loss: 0.4854 - accuracy: 0.8238 - val_loss: 0.5100 - val_accuracy: 0.8144\n",
            "Epoch 16/20\n",
            "85/85 [==============================] - 36s 429ms/step - loss: 0.4482 - accuracy: 0.8393 - val_loss: 0.5752 - val_accuracy: 0.7980\n",
            "Epoch 17/20\n",
            "85/85 [==============================] - 36s 430ms/step - loss: 0.4956 - accuracy: 0.8234 - val_loss: 0.4907 - val_accuracy: 0.8276\n",
            "Epoch 18/20\n",
            "85/85 [==============================] - 36s 428ms/step - loss: 0.4384 - accuracy: 0.8427 - val_loss: 0.4336 - val_accuracy: 0.8467\n",
            "Epoch 19/20\n",
            "85/85 [==============================] - 36s 427ms/step - loss: 0.4062 - accuracy: 0.8563 - val_loss: 0.4377 - val_accuracy: 0.8409\n",
            "Epoch 20/20\n",
            "85/85 [==============================] - 37s 432ms/step - loss: 0.3867 - accuracy: 0.8624 - val_loss: 0.4566 - val_accuracy: 0.8385\n"
          ],
          "name": "stdout"
        },
        {
          "output_type": "display_data",
          "data": {
            "text/html": [
              "<span style=\"color:#4527A0\"><h1 style=\"font-size:18px\">Trial complete</h1></span>"
            ],
            "text/plain": [
              "<IPython.core.display.HTML object>"
            ]
          },
          "metadata": {
            "tags": []
          }
        },
        {
          "output_type": "display_data",
          "data": {
            "text/html": [
              "<span style=\"color:#4527A0\"><h1 style=\"font-size:18px\">Trial summary</h1></span>"
            ],
            "text/plain": [
              "<IPython.core.display.HTML object>"
            ]
          },
          "metadata": {
            "tags": []
          }
        },
        {
          "output_type": "display_data",
          "data": {
            "text/html": [
              "<span style=\"color:#7E57C2\"><h2 style=\"font-size:16px\">Hp values:</h2></span>"
            ],
            "text/plain": [
              "<IPython.core.display.HTML object>"
            ]
          },
          "metadata": {
            "tags": []
          }
        },
        {
          "output_type": "display_data",
          "data": {
            "text/html": [
              "<span style=\"color:cyan\"> |-conv_0_units: 704</span>"
            ],
            "text/plain": [
              "<IPython.core.display.HTML object>"
            ]
          },
          "metadata": {
            "tags": []
          }
        },
        {
          "output_type": "display_data",
          "data": {
            "text/html": [
              "<span style=\"color:blue\"> |-conv_1_units: 576</span>"
            ],
            "text/plain": [
              "<IPython.core.display.HTML object>"
            ]
          },
          "metadata": {
            "tags": []
          }
        },
        {
          "output_type": "display_data",
          "data": {
            "text/html": [
              "<span style=\"color:cyan\"> |-conv_2_units: 352</span>"
            ],
            "text/plain": [
              "<IPython.core.display.HTML object>"
            ]
          },
          "metadata": {
            "tags": []
          }
        },
        {
          "output_type": "display_data",
          "data": {
            "text/html": [
              "<span style=\"color:blue\"> |-conv_3_units: 672</span>"
            ],
            "text/plain": [
              "<IPython.core.display.HTML object>"
            ]
          },
          "metadata": {
            "tags": []
          }
        },
        {
          "output_type": "display_data",
          "data": {
            "text/html": [
              "<span style=\"color:cyan\"> |-conv_4_units: 832</span>"
            ],
            "text/plain": [
              "<IPython.core.display.HTML object>"
            ]
          },
          "metadata": {
            "tags": []
          }
        },
        {
          "output_type": "display_data",
          "data": {
            "text/html": [
              "<span style=\"color:blue\"> |-conv_5_units: 992</span>"
            ],
            "text/plain": [
              "<IPython.core.display.HTML object>"
            ]
          },
          "metadata": {
            "tags": []
          }
        },
        {
          "output_type": "display_data",
          "data": {
            "text/html": [
              "<span style=\"color:cyan\"> |-dense_0_units: 768</span>"
            ],
            "text/plain": [
              "<IPython.core.display.HTML object>"
            ]
          },
          "metadata": {
            "tags": []
          }
        },
        {
          "output_type": "display_data",
          "data": {
            "text/html": [
              "<span style=\"color:blue\"> |-dense_1_units: 736</span>"
            ],
            "text/plain": [
              "<IPython.core.display.HTML object>"
            ]
          },
          "metadata": {
            "tags": []
          }
        },
        {
          "output_type": "display_data",
          "data": {
            "text/html": [
              "<span style=\"color:cyan\"> |-dropout: 0.5</span>"
            ],
            "text/plain": [
              "<IPython.core.display.HTML object>"
            ]
          },
          "metadata": {
            "tags": []
          }
        },
        {
          "output_type": "display_data",
          "data": {
            "text/html": [
              "<span style=\"color:blue\"> |-dropout_0: 0.25</span>"
            ],
            "text/plain": [
              "<IPython.core.display.HTML object>"
            ]
          },
          "metadata": {
            "tags": []
          }
        },
        {
          "output_type": "display_data",
          "data": {
            "text/html": [
              "<span style=\"color:cyan\"> |-dropout_1: 0.25</span>"
            ],
            "text/plain": [
              "<IPython.core.display.HTML object>"
            ]
          },
          "metadata": {
            "tags": []
          }
        },
        {
          "output_type": "display_data",
          "data": {
            "text/html": [
              "<span style=\"color:blue\"> |-dropout_2: 0.1</span>"
            ],
            "text/plain": [
              "<IPython.core.display.HTML object>"
            ]
          },
          "metadata": {
            "tags": []
          }
        },
        {
          "output_type": "display_data",
          "data": {
            "text/html": [
              "<span style=\"color:cyan\"> |-dropout_3: 0.1</span>"
            ],
            "text/plain": [
              "<IPython.core.display.HTML object>"
            ]
          },
          "metadata": {
            "tags": []
          }
        },
        {
          "output_type": "display_data",
          "data": {
            "text/html": [
              "<span style=\"color:blue\"> |-dropout_4: 0.1</span>"
            ],
            "text/plain": [
              "<IPython.core.display.HTML object>"
            ]
          },
          "metadata": {
            "tags": []
          }
        },
        {
          "output_type": "display_data",
          "data": {
            "text/html": [
              "<span style=\"color:cyan\"> |-dropout_5: 0.5</span>"
            ],
            "text/plain": [
              "<IPython.core.display.HTML object>"
            ]
          },
          "metadata": {
            "tags": []
          }
        },
        {
          "output_type": "display_data",
          "data": {
            "text/html": [
              "<span style=\"color:blue\"> |-input_units: 320</span>"
            ],
            "text/plain": [
              "<IPython.core.display.HTML object>"
            ]
          },
          "metadata": {
            "tags": []
          }
        },
        {
          "output_type": "display_data",
          "data": {
            "text/html": [
              "<span style=\"color:cyan\"> |-learning_rate: 0.001</span>"
            ],
            "text/plain": [
              "<IPython.core.display.HTML object>"
            ]
          },
          "metadata": {
            "tags": []
          }
        },
        {
          "output_type": "display_data",
          "data": {
            "text/html": [
              "<span style=\"color:blue\"> |-n_cnn_layers: 2</span>"
            ],
            "text/plain": [
              "<IPython.core.display.HTML object>"
            ]
          },
          "metadata": {
            "tags": []
          }
        },
        {
          "output_type": "display_data",
          "data": {
            "text/html": [
              "<span style=\"color:cyan\"> |-n_dense_layers: 1</span>"
            ],
            "text/plain": [
              "<IPython.core.display.HTML object>"
            ]
          },
          "metadata": {
            "tags": []
          }
        },
        {
          "output_type": "display_data",
          "data": {
            "text/html": [
              "<span style=\"color:cyan\"> |-Score: 0.846666693687439</span>"
            ],
            "text/plain": [
              "<IPython.core.display.HTML object>"
            ]
          },
          "metadata": {
            "tags": []
          }
        },
        {
          "output_type": "display_data",
          "data": {
            "text/html": [
              "<span style=\"color:cyan\"> |-Best step: 0</span>"
            ],
            "text/plain": [
              "<IPython.core.display.HTML object>"
            ]
          },
          "metadata": {
            "tags": []
          }
        },
        {
          "output_type": "stream",
          "text": [
            "Epoch 1/20\n",
            " 6/85 [=>............................] - ETA: 53s - loss: 816.8518 - accuracy: 0.0996WARNING:tensorflow:Callback method `on_train_batch_end` is slow compared to the batch time (batch time: 0.2295s vs `on_train_batch_end` time: 0.3800s). Check your callbacks.\n",
            "85/85 [==============================] - 83s 784ms/step - loss: 197.2110 - accuracy: 0.1035 - val_loss: 2.2939 - val_accuracy: 0.1131\n",
            "Epoch 2/20\n",
            "85/85 [==============================] - 59s 699ms/step - loss: 2.2965 - accuracy: 0.1107 - val_loss: 2.2936 - val_accuracy: 0.1131\n",
            "Epoch 3/20\n",
            "85/85 [==============================] - 58s 689ms/step - loss: 2.2947 - accuracy: 0.1110 - val_loss: 2.2940 - val_accuracy: 0.1157\n",
            "Epoch 4/20\n",
            "85/85 [==============================] - 59s 696ms/step - loss: 2.2960 - accuracy: 0.1123 - val_loss: 2.2938 - val_accuracy: 0.1094\n",
            "Epoch 5/20\n",
            "85/85 [==============================] - 59s 690ms/step - loss: 2.2962 - accuracy: 0.1078 - val_loss: 2.2939 - val_accuracy: 0.1094\n",
            "Epoch 6/20\n",
            "85/85 [==============================] - 59s 690ms/step - loss: 2.2952 - accuracy: 0.1083 - val_loss: 2.2938 - val_accuracy: 0.1102\n",
            "Epoch 7/20\n",
            "85/85 [==============================] - 59s 693ms/step - loss: 2.2959 - accuracy: 0.1066 - val_loss: 2.2938 - val_accuracy: 0.1131\n",
            "Epoch 8/20\n",
            "85/85 [==============================] - 59s 692ms/step - loss: 2.2969 - accuracy: 0.1050 - val_loss: 2.2939 - val_accuracy: 0.1131\n",
            "Epoch 9/20\n",
            "85/85 [==============================] - 59s 690ms/step - loss: 2.2945 - accuracy: 0.1096 - val_loss: 2.2941 - val_accuracy: 0.1094\n",
            "Epoch 10/20\n",
            "85/85 [==============================] - 58s 689ms/step - loss: 2.2950 - accuracy: 0.1094 - val_loss: 2.2943 - val_accuracy: 0.1102\n",
            "Epoch 11/20\n",
            "85/85 [==============================] - 58s 689ms/step - loss: 2.2953 - accuracy: 0.1090 - val_loss: 2.2938 - val_accuracy: 0.1094\n",
            "Epoch 12/20\n",
            "85/85 [==============================] - 58s 688ms/step - loss: 2.2956 - accuracy: 0.1103 - val_loss: 2.2938 - val_accuracy: 0.1131\n",
            "Epoch 13/20\n",
            "85/85 [==============================] - 59s 689ms/step - loss: 2.2945 - accuracy: 0.1129 - val_loss: 2.2940 - val_accuracy: 0.1094\n",
            "Epoch 14/20\n",
            "85/85 [==============================] - 58s 688ms/step - loss: 2.2951 - accuracy: 0.1085 - val_loss: 2.2935 - val_accuracy: 0.1157\n",
            "Epoch 15/20\n",
            "85/85 [==============================] - 58s 689ms/step - loss: 2.2954 - accuracy: 0.1103 - val_loss: 2.2938 - val_accuracy: 0.1102\n",
            "Epoch 16/20\n",
            "85/85 [==============================] - 58s 688ms/step - loss: 2.2974 - accuracy: 0.1077 - val_loss: 2.2935 - val_accuracy: 0.1102\n",
            "Epoch 17/20\n",
            "85/85 [==============================] - 58s 687ms/step - loss: 2.2949 - accuracy: 0.1151 - val_loss: 2.2942 - val_accuracy: 0.1157\n",
            "Epoch 18/20\n",
            "85/85 [==============================] - 58s 688ms/step - loss: 2.2963 - accuracy: 0.1115 - val_loss: 2.2933 - val_accuracy: 0.1157\n",
            "Epoch 19/20\n",
            "85/85 [==============================] - 58s 686ms/step - loss: 2.2951 - accuracy: 0.1119 - val_loss: 2.2942 - val_accuracy: 0.1157\n",
            "Epoch 20/20\n",
            "85/85 [==============================] - 58s 682ms/step - loss: 2.2959 - accuracy: 0.1086 - val_loss: 2.2935 - val_accuracy: 0.1157\n"
          ],
          "name": "stdout"
        },
        {
          "output_type": "display_data",
          "data": {
            "text/html": [
              "<span style=\"color:#4527A0\"><h1 style=\"font-size:18px\">Trial complete</h1></span>"
            ],
            "text/plain": [
              "<IPython.core.display.HTML object>"
            ]
          },
          "metadata": {
            "tags": []
          }
        },
        {
          "output_type": "display_data",
          "data": {
            "text/html": [
              "<span style=\"color:#4527A0\"><h1 style=\"font-size:18px\">Trial summary</h1></span>"
            ],
            "text/plain": [
              "<IPython.core.display.HTML object>"
            ]
          },
          "metadata": {
            "tags": []
          }
        },
        {
          "output_type": "display_data",
          "data": {
            "text/html": [
              "<span style=\"color:#7E57C2\"><h2 style=\"font-size:16px\">Hp values:</h2></span>"
            ],
            "text/plain": [
              "<IPython.core.display.HTML object>"
            ]
          },
          "metadata": {
            "tags": []
          }
        },
        {
          "output_type": "display_data",
          "data": {
            "text/html": [
              "<span style=\"color:cyan\"> |-conv_0_units: 832</span>"
            ],
            "text/plain": [
              "<IPython.core.display.HTML object>"
            ]
          },
          "metadata": {
            "tags": []
          }
        },
        {
          "output_type": "display_data",
          "data": {
            "text/html": [
              "<span style=\"color:blue\"> |-conv_1_units: 128</span>"
            ],
            "text/plain": [
              "<IPython.core.display.HTML object>"
            ]
          },
          "metadata": {
            "tags": []
          }
        },
        {
          "output_type": "display_data",
          "data": {
            "text/html": [
              "<span style=\"color:cyan\"> |-conv_2_units: 480</span>"
            ],
            "text/plain": [
              "<IPython.core.display.HTML object>"
            ]
          },
          "metadata": {
            "tags": []
          }
        },
        {
          "output_type": "display_data",
          "data": {
            "text/html": [
              "<span style=\"color:blue\"> |-conv_3_units: 256</span>"
            ],
            "text/plain": [
              "<IPython.core.display.HTML object>"
            ]
          },
          "metadata": {
            "tags": []
          }
        },
        {
          "output_type": "display_data",
          "data": {
            "text/html": [
              "<span style=\"color:cyan\"> |-conv_4_units: 320</span>"
            ],
            "text/plain": [
              "<IPython.core.display.HTML object>"
            ]
          },
          "metadata": {
            "tags": []
          }
        },
        {
          "output_type": "display_data",
          "data": {
            "text/html": [
              "<span style=\"color:blue\"> |-conv_5_units: 448</span>"
            ],
            "text/plain": [
              "<IPython.core.display.HTML object>"
            ]
          },
          "metadata": {
            "tags": []
          }
        },
        {
          "output_type": "display_data",
          "data": {
            "text/html": [
              "<span style=\"color:cyan\"> |-dense_0_units: 576</span>"
            ],
            "text/plain": [
              "<IPython.core.display.HTML object>"
            ]
          },
          "metadata": {
            "tags": []
          }
        },
        {
          "output_type": "display_data",
          "data": {
            "text/html": [
              "<span style=\"color:blue\"> |-dense_1_units: 480</span>"
            ],
            "text/plain": [
              "<IPython.core.display.HTML object>"
            ]
          },
          "metadata": {
            "tags": []
          }
        },
        {
          "output_type": "display_data",
          "data": {
            "text/html": [
              "<span style=\"color:cyan\"> |-dense_2_units: 32</span>"
            ],
            "text/plain": [
              "<IPython.core.display.HTML object>"
            ]
          },
          "metadata": {
            "tags": []
          }
        },
        {
          "output_type": "display_data",
          "data": {
            "text/html": [
              "<span style=\"color:blue\"> |-dropout: 0.25</span>"
            ],
            "text/plain": [
              "<IPython.core.display.HTML object>"
            ]
          },
          "metadata": {
            "tags": []
          }
        },
        {
          "output_type": "display_data",
          "data": {
            "text/html": [
              "<span style=\"color:cyan\"> |-dropout_0: 0.25</span>"
            ],
            "text/plain": [
              "<IPython.core.display.HTML object>"
            ]
          },
          "metadata": {
            "tags": []
          }
        },
        {
          "output_type": "display_data",
          "data": {
            "text/html": [
              "<span style=\"color:blue\"> |-dropout_1: 0.1</span>"
            ],
            "text/plain": [
              "<IPython.core.display.HTML object>"
            ]
          },
          "metadata": {
            "tags": []
          }
        },
        {
          "output_type": "display_data",
          "data": {
            "text/html": [
              "<span style=\"color:cyan\"> |-dropout_2: 0.5</span>"
            ],
            "text/plain": [
              "<IPython.core.display.HTML object>"
            ]
          },
          "metadata": {
            "tags": []
          }
        },
        {
          "output_type": "display_data",
          "data": {
            "text/html": [
              "<span style=\"color:blue\"> |-dropout_3: 0.25</span>"
            ],
            "text/plain": [
              "<IPython.core.display.HTML object>"
            ]
          },
          "metadata": {
            "tags": []
          }
        },
        {
          "output_type": "display_data",
          "data": {
            "text/html": [
              "<span style=\"color:cyan\"> |-dropout_4: 0.1</span>"
            ],
            "text/plain": [
              "<IPython.core.display.HTML object>"
            ]
          },
          "metadata": {
            "tags": []
          }
        },
        {
          "output_type": "display_data",
          "data": {
            "text/html": [
              "<span style=\"color:blue\"> |-dropout_5: 0.25</span>"
            ],
            "text/plain": [
              "<IPython.core.display.HTML object>"
            ]
          },
          "metadata": {
            "tags": []
          }
        },
        {
          "output_type": "display_data",
          "data": {
            "text/html": [
              "<span style=\"color:cyan\"> |-input_units: 928</span>"
            ],
            "text/plain": [
              "<IPython.core.display.HTML object>"
            ]
          },
          "metadata": {
            "tags": []
          }
        },
        {
          "output_type": "display_data",
          "data": {
            "text/html": [
              "<span style=\"color:blue\"> |-learning_rate: 0.01</span>"
            ],
            "text/plain": [
              "<IPython.core.display.HTML object>"
            ]
          },
          "metadata": {
            "tags": []
          }
        },
        {
          "output_type": "display_data",
          "data": {
            "text/html": [
              "<span style=\"color:cyan\"> |-n_cnn_layers: 1</span>"
            ],
            "text/plain": [
              "<IPython.core.display.HTML object>"
            ]
          },
          "metadata": {
            "tags": []
          }
        },
        {
          "output_type": "display_data",
          "data": {
            "text/html": [
              "<span style=\"color:blue\"> |-n_dense_layers: 3</span>"
            ],
            "text/plain": [
              "<IPython.core.display.HTML object>"
            ]
          },
          "metadata": {
            "tags": []
          }
        },
        {
          "output_type": "display_data",
          "data": {
            "text/html": [
              "<span style=\"color:cyan\"> |-Score: 0.11574073880910873</span>"
            ],
            "text/plain": [
              "<IPython.core.display.HTML object>"
            ]
          },
          "metadata": {
            "tags": []
          }
        },
        {
          "output_type": "display_data",
          "data": {
            "text/html": [
              "<span style=\"color:cyan\"> |-Best step: 0</span>"
            ],
            "text/plain": [
              "<IPython.core.display.HTML object>"
            ]
          },
          "metadata": {
            "tags": []
          }
        },
        {
          "output_type": "stream",
          "text": [
            "Epoch 1/20\n",
            " 6/85 [=>............................] - ETA: 24s - loss: 2.2908 - accuracy: 0.0905WARNING:tensorflow:Callback method `on_train_batch_end` is slow compared to the batch time (batch time: 0.1015s vs `on_train_batch_end` time: 0.1792s). Check your callbacks.\n",
            "85/85 [==============================] - 38s 368ms/step - loss: 2.0656 - accuracy: 0.1871 - val_loss: 1.3405 - val_accuracy: 0.4441\n",
            "Epoch 2/20\n",
            "85/85 [==============================] - 28s 326ms/step - loss: 1.2876 - accuracy: 0.4880 - val_loss: 1.2083 - val_accuracy: 0.5239\n",
            "Epoch 3/20\n",
            "85/85 [==============================] - 28s 327ms/step - loss: 1.0825 - accuracy: 0.5876 - val_loss: 0.8932 - val_accuracy: 0.6793\n",
            "Epoch 4/20\n",
            "85/85 [==============================] - 28s 328ms/step - loss: 0.8994 - accuracy: 0.6631 - val_loss: 0.8622 - val_accuracy: 0.6907\n",
            "Epoch 5/20\n",
            "85/85 [==============================] - 28s 325ms/step - loss: 0.7971 - accuracy: 0.7111 - val_loss: 1.2744 - val_accuracy: 0.5880\n",
            "Epoch 6/20\n",
            "85/85 [==============================] - 28s 326ms/step - loss: 0.7240 - accuracy: 0.7314 - val_loss: 0.7266 - val_accuracy: 0.7424\n",
            "Epoch 7/20\n",
            "85/85 [==============================] - 28s 326ms/step - loss: 0.6961 - accuracy: 0.7415 - val_loss: 0.8820 - val_accuracy: 0.6850\n",
            "Epoch 8/20\n",
            "85/85 [==============================] - 28s 328ms/step - loss: 0.6532 - accuracy: 0.7594 - val_loss: 0.7036 - val_accuracy: 0.7485\n",
            "Epoch 9/20\n",
            "85/85 [==============================] - 28s 328ms/step - loss: 0.6020 - accuracy: 0.7823 - val_loss: 0.7580 - val_accuracy: 0.7394\n",
            "Epoch 10/20\n",
            "85/85 [==============================] - 28s 331ms/step - loss: 0.5647 - accuracy: 0.7922 - val_loss: 0.8222 - val_accuracy: 0.7185\n",
            "Epoch 11/20\n",
            "85/85 [==============================] - 28s 330ms/step - loss: 0.5820 - accuracy: 0.7917 - val_loss: 0.8255 - val_accuracy: 0.7337\n",
            "Epoch 12/20\n",
            "85/85 [==============================] - 28s 331ms/step - loss: 0.5262 - accuracy: 0.8051 - val_loss: 0.5750 - val_accuracy: 0.7970\n",
            "Epoch 13/20\n",
            "85/85 [==============================] - 28s 329ms/step - loss: 0.5215 - accuracy: 0.8134 - val_loss: 0.6923 - val_accuracy: 0.7656\n",
            "Epoch 14/20\n",
            "85/85 [==============================] - 28s 329ms/step - loss: 0.4700 - accuracy: 0.8314 - val_loss: 0.5988 - val_accuracy: 0.7994\n",
            "Epoch 15/20\n",
            "85/85 [==============================] - 28s 328ms/step - loss: 0.4516 - accuracy: 0.8366 - val_loss: 0.9279 - val_accuracy: 0.6985\n",
            "Epoch 16/20\n",
            "85/85 [==============================] - 28s 329ms/step - loss: 0.4994 - accuracy: 0.8186 - val_loss: 0.6821 - val_accuracy: 0.7757\n",
            "Epoch 17/20\n",
            "85/85 [==============================] - 28s 329ms/step - loss: 0.4193 - accuracy: 0.8501 - val_loss: 0.4770 - val_accuracy: 0.8289\n",
            "Epoch 18/20\n",
            "85/85 [==============================] - 28s 327ms/step - loss: 0.4574 - accuracy: 0.8376 - val_loss: 0.5840 - val_accuracy: 0.8006\n",
            "Epoch 19/20\n",
            "85/85 [==============================] - 28s 329ms/step - loss: 0.4421 - accuracy: 0.8423 - val_loss: 0.5182 - val_accuracy: 0.8291\n",
            "Epoch 20/20\n",
            "85/85 [==============================] - 28s 329ms/step - loss: 0.3903 - accuracy: 0.8603 - val_loss: 0.6488 - val_accuracy: 0.7913\n"
          ],
          "name": "stdout"
        },
        {
          "output_type": "display_data",
          "data": {
            "text/html": [
              "<span style=\"color:#4527A0\"><h1 style=\"font-size:18px\">Trial complete</h1></span>"
            ],
            "text/plain": [
              "<IPython.core.display.HTML object>"
            ]
          },
          "metadata": {
            "tags": []
          }
        },
        {
          "output_type": "display_data",
          "data": {
            "text/html": [
              "<span style=\"color:#4527A0\"><h1 style=\"font-size:18px\">Trial summary</h1></span>"
            ],
            "text/plain": [
              "<IPython.core.display.HTML object>"
            ]
          },
          "metadata": {
            "tags": []
          }
        },
        {
          "output_type": "display_data",
          "data": {
            "text/html": [
              "<span style=\"color:#7E57C2\"><h2 style=\"font-size:16px\">Hp values:</h2></span>"
            ],
            "text/plain": [
              "<IPython.core.display.HTML object>"
            ]
          },
          "metadata": {
            "tags": []
          }
        },
        {
          "output_type": "display_data",
          "data": {
            "text/html": [
              "<span style=\"color:cyan\"> |-conv_0_units: 160</span>"
            ],
            "text/plain": [
              "<IPython.core.display.HTML object>"
            ]
          },
          "metadata": {
            "tags": []
          }
        },
        {
          "output_type": "display_data",
          "data": {
            "text/html": [
              "<span style=\"color:blue\"> |-conv_1_units: 256</span>"
            ],
            "text/plain": [
              "<IPython.core.display.HTML object>"
            ]
          },
          "metadata": {
            "tags": []
          }
        },
        {
          "output_type": "display_data",
          "data": {
            "text/html": [
              "<span style=\"color:cyan\"> |-conv_2_units: 320</span>"
            ],
            "text/plain": [
              "<IPython.core.display.HTML object>"
            ]
          },
          "metadata": {
            "tags": []
          }
        },
        {
          "output_type": "display_data",
          "data": {
            "text/html": [
              "<span style=\"color:blue\"> |-conv_3_units: 512</span>"
            ],
            "text/plain": [
              "<IPython.core.display.HTML object>"
            ]
          },
          "metadata": {
            "tags": []
          }
        },
        {
          "output_type": "display_data",
          "data": {
            "text/html": [
              "<span style=\"color:cyan\"> |-conv_4_units: 736</span>"
            ],
            "text/plain": [
              "<IPython.core.display.HTML object>"
            ]
          },
          "metadata": {
            "tags": []
          }
        },
        {
          "output_type": "display_data",
          "data": {
            "text/html": [
              "<span style=\"color:blue\"> |-conv_5_units: 608</span>"
            ],
            "text/plain": [
              "<IPython.core.display.HTML object>"
            ]
          },
          "metadata": {
            "tags": []
          }
        },
        {
          "output_type": "display_data",
          "data": {
            "text/html": [
              "<span style=\"color:cyan\"> |-dense_0_units: 448</span>"
            ],
            "text/plain": [
              "<IPython.core.display.HTML object>"
            ]
          },
          "metadata": {
            "tags": []
          }
        },
        {
          "output_type": "display_data",
          "data": {
            "text/html": [
              "<span style=\"color:blue\"> |-dense_1_units: 448</span>"
            ],
            "text/plain": [
              "<IPython.core.display.HTML object>"
            ]
          },
          "metadata": {
            "tags": []
          }
        },
        {
          "output_type": "display_data",
          "data": {
            "text/html": [
              "<span style=\"color:cyan\"> |-dense_2_units: 864</span>"
            ],
            "text/plain": [
              "<IPython.core.display.HTML object>"
            ]
          },
          "metadata": {
            "tags": []
          }
        },
        {
          "output_type": "display_data",
          "data": {
            "text/html": [
              "<span style=\"color:blue\"> |-dropout: 0.1</span>"
            ],
            "text/plain": [
              "<IPython.core.display.HTML object>"
            ]
          },
          "metadata": {
            "tags": []
          }
        },
        {
          "output_type": "display_data",
          "data": {
            "text/html": [
              "<span style=\"color:cyan\"> |-dropout_0: 0.25</span>"
            ],
            "text/plain": [
              "<IPython.core.display.HTML object>"
            ]
          },
          "metadata": {
            "tags": []
          }
        },
        {
          "output_type": "display_data",
          "data": {
            "text/html": [
              "<span style=\"color:blue\"> |-dropout_1: 0.25</span>"
            ],
            "text/plain": [
              "<IPython.core.display.HTML object>"
            ]
          },
          "metadata": {
            "tags": []
          }
        },
        {
          "output_type": "display_data",
          "data": {
            "text/html": [
              "<span style=\"color:cyan\"> |-dropout_2: 0.1</span>"
            ],
            "text/plain": [
              "<IPython.core.display.HTML object>"
            ]
          },
          "metadata": {
            "tags": []
          }
        },
        {
          "output_type": "display_data",
          "data": {
            "text/html": [
              "<span style=\"color:blue\"> |-dropout_3: 0.1</span>"
            ],
            "text/plain": [
              "<IPython.core.display.HTML object>"
            ]
          },
          "metadata": {
            "tags": []
          }
        },
        {
          "output_type": "display_data",
          "data": {
            "text/html": [
              "<span style=\"color:cyan\"> |-dropout_4: 0.1</span>"
            ],
            "text/plain": [
              "<IPython.core.display.HTML object>"
            ]
          },
          "metadata": {
            "tags": []
          }
        },
        {
          "output_type": "display_data",
          "data": {
            "text/html": [
              "<span style=\"color:blue\"> |-dropout_5: 0.25</span>"
            ],
            "text/plain": [
              "<IPython.core.display.HTML object>"
            ]
          },
          "metadata": {
            "tags": []
          }
        },
        {
          "output_type": "display_data",
          "data": {
            "text/html": [
              "<span style=\"color:cyan\"> |-input_units: 480</span>"
            ],
            "text/plain": [
              "<IPython.core.display.HTML object>"
            ]
          },
          "metadata": {
            "tags": []
          }
        },
        {
          "output_type": "display_data",
          "data": {
            "text/html": [
              "<span style=\"color:blue\"> |-learning_rate: 0.0001</span>"
            ],
            "text/plain": [
              "<IPython.core.display.HTML object>"
            ]
          },
          "metadata": {
            "tags": []
          }
        },
        {
          "output_type": "display_data",
          "data": {
            "text/html": [
              "<span style=\"color:cyan\"> |-n_cnn_layers: 4</span>"
            ],
            "text/plain": [
              "<IPython.core.display.HTML object>"
            ]
          },
          "metadata": {
            "tags": []
          }
        },
        {
          "output_type": "display_data",
          "data": {
            "text/html": [
              "<span style=\"color:blue\"> |-n_dense_layers: 2</span>"
            ],
            "text/plain": [
              "<IPython.core.display.HTML object>"
            ]
          },
          "metadata": {
            "tags": []
          }
        },
        {
          "output_type": "display_data",
          "data": {
            "text/html": [
              "<span style=\"color:cyan\"> |-Score: 0.8290740847587585</span>"
            ],
            "text/plain": [
              "<IPython.core.display.HTML object>"
            ]
          },
          "metadata": {
            "tags": []
          }
        },
        {
          "output_type": "display_data",
          "data": {
            "text/html": [
              "<span style=\"color:cyan\"> |-Best step: 0</span>"
            ],
            "text/plain": [
              "<IPython.core.display.HTML object>"
            ]
          },
          "metadata": {
            "tags": []
          }
        },
        {
          "output_type": "stream",
          "text": [
            "Epoch 1/20\n",
            " 6/85 [=>............................] - ETA: 57s - loss: 934458.8215 - accuracy: 0.1195WARNING:tensorflow:Callback method `on_train_batch_end` is slow compared to the batch time (batch time: 0.2506s vs `on_train_batch_end` time: 0.4002s). Check your callbacks.\n",
            "85/85 [==============================] - 99s 878ms/step - loss: 181714.9825 - accuracy: 0.1165 - val_loss: 2.2942 - val_accuracy: 0.1157\n",
            "Epoch 2/20\n",
            "85/85 [==============================] - 62s 734ms/step - loss: 2.2967 - accuracy: 0.1100 - val_loss: 2.2938 - val_accuracy: 0.1157\n",
            "Epoch 3/20\n",
            "85/85 [==============================] - 62s 733ms/step - loss: 2.2954 - accuracy: 0.1116 - val_loss: 2.2951 - val_accuracy: 0.1102\n",
            "Epoch 4/20\n",
            "85/85 [==============================] - 63s 736ms/step - loss: 2.2955 - accuracy: 0.1129 - val_loss: 2.2936 - val_accuracy: 0.1094\n",
            "Epoch 5/20\n",
            "85/85 [==============================] - 62s 733ms/step - loss: 2.2947 - accuracy: 0.1072 - val_loss: 2.2938 - val_accuracy: 0.1102\n",
            "Epoch 6/20\n",
            "85/85 [==============================] - 62s 735ms/step - loss: 2.2961 - accuracy: 0.1099 - val_loss: 2.2940 - val_accuracy: 0.1102\n",
            "Epoch 7/20\n",
            "85/85 [==============================] - 63s 737ms/step - loss: 2.2967 - accuracy: 0.1029 - val_loss: 2.2943 - val_accuracy: 0.1094\n",
            "Epoch 8/20\n",
            "85/85 [==============================] - 63s 736ms/step - loss: 2.2961 - accuracy: 0.1086 - val_loss: 2.2947 - val_accuracy: 0.1094\n",
            "Epoch 9/20\n",
            "85/85 [==============================] - 63s 738ms/step - loss: 2.2965 - accuracy: 0.1143 - val_loss: 2.2937 - val_accuracy: 0.1157\n",
            "Epoch 10/20\n",
            "85/85 [==============================] - 63s 737ms/step - loss: 2.2953 - accuracy: 0.1141 - val_loss: 2.2942 - val_accuracy: 0.1094\n",
            "Epoch 11/20\n",
            "85/85 [==============================] - 63s 736ms/step - loss: 2.2945 - accuracy: 0.1169 - val_loss: 2.2938 - val_accuracy: 0.1102\n",
            "Epoch 12/20\n",
            "85/85 [==============================] - 62s 735ms/step - loss: 2.2955 - accuracy: 0.1066 - val_loss: 2.2945 - val_accuracy: 0.1102\n",
            "Epoch 13/20\n",
            "85/85 [==============================] - 62s 734ms/step - loss: 2.2959 - accuracy: 0.1068 - val_loss: 2.2938 - val_accuracy: 0.1157\n",
            "Epoch 14/20\n",
            "85/85 [==============================] - 62s 734ms/step - loss: 2.2960 - accuracy: 0.1122 - val_loss: 2.2942 - val_accuracy: 0.1094\n",
            "Epoch 15/20\n",
            "85/85 [==============================] - 62s 734ms/step - loss: 2.2963 - accuracy: 0.1100 - val_loss: 2.2941 - val_accuracy: 0.1094\n",
            "Epoch 16/20\n",
            "85/85 [==============================] - 62s 734ms/step - loss: 2.2957 - accuracy: 0.1113 - val_loss: 2.2936 - val_accuracy: 0.1102\n",
            "Epoch 17/20\n",
            "85/85 [==============================] - 62s 735ms/step - loss: 2.2960 - accuracy: 0.1089 - val_loss: 2.2937 - val_accuracy: 0.1131\n",
            "Epoch 18/20\n",
            "85/85 [==============================] - 62s 734ms/step - loss: 2.2947 - accuracy: 0.1090 - val_loss: 2.2942 - val_accuracy: 0.1094\n",
            "Epoch 19/20\n",
            "85/85 [==============================] - 62s 733ms/step - loss: 2.2970 - accuracy: 0.1064 - val_loss: 2.2935 - val_accuracy: 0.1131\n",
            "Epoch 20/20\n",
            "85/85 [==============================] - 62s 734ms/step - loss: 2.2946 - accuracy: 0.1096 - val_loss: 2.2941 - val_accuracy: 0.1131\n"
          ],
          "name": "stdout"
        },
        {
          "output_type": "display_data",
          "data": {
            "text/html": [
              "<span style=\"color:#4527A0\"><h1 style=\"font-size:18px\">Trial complete</h1></span>"
            ],
            "text/plain": [
              "<IPython.core.display.HTML object>"
            ]
          },
          "metadata": {
            "tags": []
          }
        },
        {
          "output_type": "display_data",
          "data": {
            "text/html": [
              "<span style=\"color:#4527A0\"><h1 style=\"font-size:18px\">Trial summary</h1></span>"
            ],
            "text/plain": [
              "<IPython.core.display.HTML object>"
            ]
          },
          "metadata": {
            "tags": []
          }
        },
        {
          "output_type": "display_data",
          "data": {
            "text/html": [
              "<span style=\"color:#7E57C2\"><h2 style=\"font-size:16px\">Hp values:</h2></span>"
            ],
            "text/plain": [
              "<IPython.core.display.HTML object>"
            ]
          },
          "metadata": {
            "tags": []
          }
        },
        {
          "output_type": "display_data",
          "data": {
            "text/html": [
              "<span style=\"color:cyan\"> |-conv_0_units: 544</span>"
            ],
            "text/plain": [
              "<IPython.core.display.HTML object>"
            ]
          },
          "metadata": {
            "tags": []
          }
        },
        {
          "output_type": "display_data",
          "data": {
            "text/html": [
              "<span style=\"color:blue\"> |-conv_1_units: 480</span>"
            ],
            "text/plain": [
              "<IPython.core.display.HTML object>"
            ]
          },
          "metadata": {
            "tags": []
          }
        },
        {
          "output_type": "display_data",
          "data": {
            "text/html": [
              "<span style=\"color:cyan\"> |-conv_2_units: 704</span>"
            ],
            "text/plain": [
              "<IPython.core.display.HTML object>"
            ]
          },
          "metadata": {
            "tags": []
          }
        },
        {
          "output_type": "display_data",
          "data": {
            "text/html": [
              "<span style=\"color:blue\"> |-conv_3_units: 352</span>"
            ],
            "text/plain": [
              "<IPython.core.display.HTML object>"
            ]
          },
          "metadata": {
            "tags": []
          }
        },
        {
          "output_type": "display_data",
          "data": {
            "text/html": [
              "<span style=\"color:cyan\"> |-conv_4_units: 864</span>"
            ],
            "text/plain": [
              "<IPython.core.display.HTML object>"
            ]
          },
          "metadata": {
            "tags": []
          }
        },
        {
          "output_type": "display_data",
          "data": {
            "text/html": [
              "<span style=\"color:blue\"> |-conv_5_units: 160</span>"
            ],
            "text/plain": [
              "<IPython.core.display.HTML object>"
            ]
          },
          "metadata": {
            "tags": []
          }
        },
        {
          "output_type": "display_data",
          "data": {
            "text/html": [
              "<span style=\"color:cyan\"> |-dense_0_units: 576</span>"
            ],
            "text/plain": [
              "<IPython.core.display.HTML object>"
            ]
          },
          "metadata": {
            "tags": []
          }
        },
        {
          "output_type": "display_data",
          "data": {
            "text/html": [
              "<span style=\"color:blue\"> |-dense_1_units: 704</span>"
            ],
            "text/plain": [
              "<IPython.core.display.HTML object>"
            ]
          },
          "metadata": {
            "tags": []
          }
        },
        {
          "output_type": "display_data",
          "data": {
            "text/html": [
              "<span style=\"color:cyan\"> |-dense_2_units: 416</span>"
            ],
            "text/plain": [
              "<IPython.core.display.HTML object>"
            ]
          },
          "metadata": {
            "tags": []
          }
        },
        {
          "output_type": "display_data",
          "data": {
            "text/html": [
              "<span style=\"color:blue\"> |-dropout: 0.5</span>"
            ],
            "text/plain": [
              "<IPython.core.display.HTML object>"
            ]
          },
          "metadata": {
            "tags": []
          }
        },
        {
          "output_type": "display_data",
          "data": {
            "text/html": [
              "<span style=\"color:cyan\"> |-dropout_0: 0.25</span>"
            ],
            "text/plain": [
              "<IPython.core.display.HTML object>"
            ]
          },
          "metadata": {
            "tags": []
          }
        },
        {
          "output_type": "display_data",
          "data": {
            "text/html": [
              "<span style=\"color:blue\"> |-dropout_1: 0.25</span>"
            ],
            "text/plain": [
              "<IPython.core.display.HTML object>"
            ]
          },
          "metadata": {
            "tags": []
          }
        },
        {
          "output_type": "display_data",
          "data": {
            "text/html": [
              "<span style=\"color:cyan\"> |-dropout_2: 0.1</span>"
            ],
            "text/plain": [
              "<IPython.core.display.HTML object>"
            ]
          },
          "metadata": {
            "tags": []
          }
        },
        {
          "output_type": "display_data",
          "data": {
            "text/html": [
              "<span style=\"color:blue\"> |-dropout_3: 0.5</span>"
            ],
            "text/plain": [
              "<IPython.core.display.HTML object>"
            ]
          },
          "metadata": {
            "tags": []
          }
        },
        {
          "output_type": "display_data",
          "data": {
            "text/html": [
              "<span style=\"color:cyan\"> |-dropout_4: 0.25</span>"
            ],
            "text/plain": [
              "<IPython.core.display.HTML object>"
            ]
          },
          "metadata": {
            "tags": []
          }
        },
        {
          "output_type": "display_data",
          "data": {
            "text/html": [
              "<span style=\"color:blue\"> |-dropout_5: 0.5</span>"
            ],
            "text/plain": [
              "<IPython.core.display.HTML object>"
            ]
          },
          "metadata": {
            "tags": []
          }
        },
        {
          "output_type": "display_data",
          "data": {
            "text/html": [
              "<span style=\"color:cyan\"> |-input_units: 768</span>"
            ],
            "text/plain": [
              "<IPython.core.display.HTML object>"
            ]
          },
          "metadata": {
            "tags": []
          }
        },
        {
          "output_type": "display_data",
          "data": {
            "text/html": [
              "<span style=\"color:blue\"> |-learning_rate: 0.01</span>"
            ],
            "text/plain": [
              "<IPython.core.display.HTML object>"
            ]
          },
          "metadata": {
            "tags": []
          }
        },
        {
          "output_type": "display_data",
          "data": {
            "text/html": [
              "<span style=\"color:cyan\"> |-n_cnn_layers: 5</span>"
            ],
            "text/plain": [
              "<IPython.core.display.HTML object>"
            ]
          },
          "metadata": {
            "tags": []
          }
        },
        {
          "output_type": "display_data",
          "data": {
            "text/html": [
              "<span style=\"color:blue\"> |-n_dense_layers: 2</span>"
            ],
            "text/plain": [
              "<IPython.core.display.HTML object>"
            ]
          },
          "metadata": {
            "tags": []
          }
        },
        {
          "output_type": "display_data",
          "data": {
            "text/html": [
              "<span style=\"color:cyan\"> |-Score: 0.11574073880910873</span>"
            ],
            "text/plain": [
              "<IPython.core.display.HTML object>"
            ]
          },
          "metadata": {
            "tags": []
          }
        },
        {
          "output_type": "display_data",
          "data": {
            "text/html": [
              "<span style=\"color:cyan\"> |-Best step: 0</span>"
            ],
            "text/plain": [
              "<IPython.core.display.HTML object>"
            ]
          },
          "metadata": {
            "tags": []
          }
        },
        {
          "output_type": "stream",
          "text": [
            "Epoch 1/20\n",
            " 6/85 [=>............................] - ETA: 28s - loss: 52480.7217 - accuracy: 0.0880WARNING:tensorflow:Callback method `on_train_batch_end` is slow compared to the batch time (batch time: 0.1619s vs `on_train_batch_end` time: 0.1646s). Check your callbacks.\n",
            "85/85 [==============================] - 50s 429ms/step - loss: 10197.6443 - accuracy: 0.1063 - val_loss: 2.2953 - val_accuracy: 0.1094\n",
            "Epoch 2/20\n",
            "85/85 [==============================] - 31s 360ms/step - loss: 2.2962 - accuracy: 0.1111 - val_loss: 2.2944 - val_accuracy: 0.1094\n",
            "Epoch 3/20\n",
            "85/85 [==============================] - 31s 360ms/step - loss: 2.2946 - accuracy: 0.1141 - val_loss: 2.2946 - val_accuracy: 0.1131\n",
            "Epoch 4/20\n",
            "62/85 [====================>.........] - ETA: 7s - loss: 2.2946 - accuracy: 0.1155"
          ],
          "name": "stdout"
        }
      ]
    },
    {
      "cell_type": "code",
      "metadata": {
        "id": "3Ne1oz7wwhHL"
      },
      "source": [
        "def build_model(height, width,depth, classes):\n",
        "  input_shape = (height, width, depth)\n",
        "  channel_dim = -1 # last position \n",
        "  if backend.image_data_format() == 'channels_first':\n",
        "    input_shape = (depth, height, width)\n",
        "    channel_dim = 1\n",
        "    \n",
        "  model = keras.models.Sequential()\n",
        "  # BLOCK1\n",
        "  model.add(Conv2D(32,(3,3),padding='same', input_shape=input_shape))\n",
        "  model.add(Activation('relu'))\n",
        "  model.add(BatchNormalization(axis=channel_dim))\n",
        "  model.add(MaxPooling2D(pool_size=(3, 3)))\n",
        "  \n",
        "\n",
        "  model.add(Conv2D(64,(3,3),padding='same'))\n",
        "  model.add(Activation('relu'))\n",
        "  model.add(BatchNormalization(axis=channel_dim))\n",
        "  \n",
        "  model.add(Dropout(0.25))\n",
        "\n",
        "  model.add(Conv2D(128,(3,3),padding='same'))\n",
        "  model.add(Activation('relu'))\n",
        "  model.add(BatchNormalization(axis=channel_dim))\n",
        "  model.add(MaxPooling2D(pool_size=(2, 2)))\n",
        "  model.add(Dropout(0.25))\n",
        "  \n",
        "  model.add(Conv2D(256,(3,3),padding='same'))\n",
        "  model.add(Activation('relu'))\n",
        "  model.add(BatchNormalization(axis=channel_dim))\n",
        "  model.add(Dropout(0.5))\n",
        "\n",
        "\n",
        "\n",
        "    # BLOCK 5\n",
        "  model.add(Flatten()) # this converts our 3D feature maps to 1D feature vectors\n",
        "  \n",
        "  model.add(Dense(1024))\n",
        "  model.add(Activation(\"relu\"))\n",
        "  model.add(BatchNormalization(axis=channel_dim))\n",
        "  model.add(Dropout(0.5))\n",
        "  \n",
        "  \n",
        "  \n",
        "  \n",
        "\n",
        "  model.add(Dense(classes))\n",
        "  model.add(Activation(\"softmax\"))\n",
        "  \n",
        "    \n",
        "\n",
        "    \n",
        "  return model\n",
        "\n",
        "trainx=trainx.reshape(trainx.shape[0],64,64,3)\n",
        "testx=testx.reshape(testx.shape[0],64,64,3)"
      ],
      "execution_count": null,
      "outputs": []
    },
    {
      "cell_type": "code",
      "metadata": {
        "id": "sfBbmwIVw6S0",
        "colab": {
          "base_uri": "https://localhost:8080/"
        },
        "outputId": "170de857-a5a0-4a57-9af7-2512f8fb0cc6"
      },
      "source": [
        "epochs_needed=[]\n",
        "model =build_model(height=img_dims[0], width=img_dims[1],depth=img_dims[2],classes = len(lb.classes_))\n",
        "\n",
        "model.compile(optimizer=keras.optimizers.Adam(learning_rate=0.0001),loss='categorical_crossentropy', metrics=['accuracy'])\n",
        "hist = model.fit(aug.flow(trainx, trainy, batch_size=batch_size),\n",
        "                 validation_data=(testx, testy),\n",
        "                 steps_per_epoch= len(trainx) // batch_size,\n",
        "                 epochs=100, verbose=1)\n"
      ],
      "execution_count": null,
      "outputs": [
        {
          "output_type": "stream",
          "text": [
            "Epoch 1/100\n",
            "337/337 [==============================] - 71s 120ms/step - loss: 1.5489 - accuracy: 0.5513 - val_loss: 4.0934 - val_accuracy: 0.1996\n",
            "Epoch 2/100\n",
            "337/337 [==============================] - 39s 116ms/step - loss: 0.8573 - accuracy: 0.7192 - val_loss: 2.3691 - val_accuracy: 0.4730\n",
            "Epoch 3/100\n",
            "337/337 [==============================] - 38s 113ms/step - loss: 0.7449 - accuracy: 0.7484 - val_loss: 2.2838 - val_accuracy: 0.5570\n",
            "Epoch 4/100\n",
            "337/337 [==============================] - 40s 117ms/step - loss: 0.6379 - accuracy: 0.7828 - val_loss: 2.2270 - val_accuracy: 0.5974\n",
            "Epoch 5/100\n",
            "337/337 [==============================] - 39s 115ms/step - loss: 0.5990 - accuracy: 0.7899 - val_loss: 2.0773 - val_accuracy: 0.5606\n",
            "Epoch 6/100\n",
            "337/337 [==============================] - 38s 114ms/step - loss: 0.5544 - accuracy: 0.8054 - val_loss: 2.2997 - val_accuracy: 0.5193\n",
            "Epoch 7/100\n",
            "337/337 [==============================] - 38s 112ms/step - loss: 0.5372 - accuracy: 0.8127 - val_loss: 2.8061 - val_accuracy: 0.4852\n",
            "Epoch 8/100\n",
            "337/337 [==============================] - 39s 116ms/step - loss: 0.5161 - accuracy: 0.8262 - val_loss: 0.8657 - val_accuracy: 0.7530\n",
            "Epoch 9/100\n",
            "337/337 [==============================] - 38s 112ms/step - loss: 0.4747 - accuracy: 0.8348 - val_loss: 1.5555 - val_accuracy: 0.6359\n",
            "Epoch 10/100\n",
            "337/337 [==============================] - 38s 112ms/step - loss: 0.4575 - accuracy: 0.8423 - val_loss: 0.6591 - val_accuracy: 0.8019\n",
            "Epoch 11/100\n",
            "337/337 [==============================] - 38s 112ms/step - loss: 0.4323 - accuracy: 0.8500 - val_loss: 2.7493 - val_accuracy: 0.5457\n",
            "Epoch 12/100\n",
            "337/337 [==============================] - 39s 115ms/step - loss: 0.4096 - accuracy: 0.8578 - val_loss: 2.0561 - val_accuracy: 0.5852\n",
            "Epoch 13/100\n",
            "337/337 [==============================] - 38s 111ms/step - loss: 0.3900 - accuracy: 0.8618 - val_loss: 0.9633 - val_accuracy: 0.7409\n",
            "Epoch 14/100\n",
            "337/337 [==============================] - 39s 115ms/step - loss: 0.3747 - accuracy: 0.8721 - val_loss: 1.4610 - val_accuracy: 0.7002\n",
            "Epoch 15/100\n",
            "337/337 [==============================] - 38s 112ms/step - loss: 0.3657 - accuracy: 0.8746 - val_loss: 0.6953 - val_accuracy: 0.8106\n",
            "Epoch 16/100\n",
            "337/337 [==============================] - 37s 110ms/step - loss: 0.3354 - accuracy: 0.8848 - val_loss: 0.6212 - val_accuracy: 0.8281\n",
            "Epoch 17/100\n",
            "337/337 [==============================] - 37s 110ms/step - loss: 0.3211 - accuracy: 0.8881 - val_loss: 0.6615 - val_accuracy: 0.8172\n",
            "Epoch 18/100\n",
            "337/337 [==============================] - 39s 114ms/step - loss: 0.3226 - accuracy: 0.8895 - val_loss: 3.2412 - val_accuracy: 0.5400\n",
            "Epoch 19/100\n",
            "337/337 [==============================] - 37s 111ms/step - loss: 0.3063 - accuracy: 0.8932 - val_loss: 0.9400 - val_accuracy: 0.7791\n",
            "Epoch 20/100\n",
            "337/337 [==============================] - 37s 110ms/step - loss: 0.2921 - accuracy: 0.8979 - val_loss: 0.7356 - val_accuracy: 0.8181\n",
            "Epoch 21/100\n",
            "337/337 [==============================] - 39s 114ms/step - loss: 0.2774 - accuracy: 0.9049 - val_loss: 2.9562 - val_accuracy: 0.5911\n",
            "Epoch 22/100\n",
            "337/337 [==============================] - 37s 111ms/step - loss: 0.2639 - accuracy: 0.9078 - val_loss: 1.2583 - val_accuracy: 0.7398\n",
            "Epoch 23/100\n",
            "337/337 [==============================] - 37s 110ms/step - loss: 0.2685 - accuracy: 0.9079 - val_loss: 0.7722 - val_accuracy: 0.8131\n",
            "Epoch 24/100\n",
            "337/337 [==============================] - 38s 112ms/step - loss: 0.2459 - accuracy: 0.9171 - val_loss: 1.0472 - val_accuracy: 0.7733\n",
            "Epoch 25/100\n",
            "337/337 [==============================] - 37s 111ms/step - loss: 0.2532 - accuracy: 0.9148 - val_loss: 1.1942 - val_accuracy: 0.7541\n",
            "Epoch 26/100\n",
            "337/337 [==============================] - 37s 110ms/step - loss: 0.2410 - accuracy: 0.9163 - val_loss: 0.4590 - val_accuracy: 0.8780\n",
            "Epoch 27/100\n",
            "337/337 [==============================] - 37s 109ms/step - loss: 0.2174 - accuracy: 0.9250 - val_loss: 0.6223 - val_accuracy: 0.8417\n",
            "Epoch 28/100\n",
            "337/337 [==============================] - 36s 108ms/step - loss: 0.2332 - accuracy: 0.9190 - val_loss: 1.2950 - val_accuracy: 0.7448\n",
            "Epoch 29/100\n",
            "337/337 [==============================] - 37s 111ms/step - loss: 0.2174 - accuracy: 0.9237 - val_loss: 2.7002 - val_accuracy: 0.6307\n",
            "Epoch 30/100\n",
            "337/337 [==============================] - 37s 111ms/step - loss: 0.2167 - accuracy: 0.9263 - val_loss: 0.8808 - val_accuracy: 0.8326\n",
            "Epoch 31/100\n",
            "337/337 [==============================] - 37s 109ms/step - loss: 0.1982 - accuracy: 0.9325 - val_loss: 0.4557 - val_accuracy: 0.8907\n",
            "Epoch 32/100\n",
            "337/337 [==============================] - 37s 109ms/step - loss: 0.1959 - accuracy: 0.9336 - val_loss: 0.5845 - val_accuracy: 0.8552\n",
            "Epoch 33/100\n",
            "337/337 [==============================] - 38s 112ms/step - loss: 0.2004 - accuracy: 0.9313 - val_loss: 0.7699 - val_accuracy: 0.8261\n",
            "Epoch 34/100\n",
            "337/337 [==============================] - 37s 109ms/step - loss: 0.2026 - accuracy: 0.9301 - val_loss: 0.7753 - val_accuracy: 0.8172\n",
            "Epoch 35/100\n",
            "337/337 [==============================] - 38s 112ms/step - loss: 0.1929 - accuracy: 0.9309 - val_loss: 0.3684 - val_accuracy: 0.8996\n",
            "Epoch 36/100\n",
            "337/337 [==============================] - 37s 110ms/step - loss: 0.1828 - accuracy: 0.9354 - val_loss: 0.3419 - val_accuracy: 0.9063\n",
            "Epoch 37/100\n",
            "337/337 [==============================] - 37s 109ms/step - loss: 0.1721 - accuracy: 0.9398 - val_loss: 0.4135 - val_accuracy: 0.8865\n",
            "Epoch 38/100\n",
            "337/337 [==============================] - 36s 108ms/step - loss: 0.1732 - accuracy: 0.9377 - val_loss: 0.7667 - val_accuracy: 0.8050\n",
            "Epoch 39/100\n",
            "337/337 [==============================] - 37s 110ms/step - loss: 0.1757 - accuracy: 0.9395 - val_loss: 2.0388 - val_accuracy: 0.7500\n",
            "Epoch 40/100\n",
            "337/337 [==============================] - 37s 110ms/step - loss: 0.1691 - accuracy: 0.9413 - val_loss: 0.4595 - val_accuracy: 0.8863\n",
            "Epoch 41/100\n",
            "337/337 [==============================] - 37s 108ms/step - loss: 0.1691 - accuracy: 0.9405 - val_loss: 0.4855 - val_accuracy: 0.8826\n",
            "Epoch 42/100\n",
            "337/337 [==============================] - 37s 111ms/step - loss: 0.1674 - accuracy: 0.9425 - val_loss: 1.5008 - val_accuracy: 0.7587\n",
            "Epoch 43/100\n",
            "337/337 [==============================] - 40s 118ms/step - loss: 0.1659 - accuracy: 0.9403 - val_loss: 2.3535 - val_accuracy: 0.7289\n",
            "Epoch 44/100\n",
            "337/337 [==============================] - 38s 111ms/step - loss: 0.1649 - accuracy: 0.9430 - val_loss: 0.3774 - val_accuracy: 0.8959\n",
            "Epoch 45/100\n",
            "337/337 [==============================] - 37s 111ms/step - loss: 0.1539 - accuracy: 0.9457 - val_loss: 0.2486 - val_accuracy: 0.9330\n",
            "Epoch 46/100\n",
            "337/337 [==============================] - 37s 110ms/step - loss: 0.1509 - accuracy: 0.9468 - val_loss: 0.7268 - val_accuracy: 0.8533\n",
            "Epoch 47/100\n",
            "337/337 [==============================] - 38s 112ms/step - loss: 0.1446 - accuracy: 0.9492 - val_loss: 0.6282 - val_accuracy: 0.8539\n",
            "Epoch 48/100\n",
            "337/337 [==============================] - 37s 111ms/step - loss: 0.1474 - accuracy: 0.9504 - val_loss: 0.8059 - val_accuracy: 0.8248\n",
            "Epoch 49/100\n",
            "337/337 [==============================] - 37s 110ms/step - loss: 0.1516 - accuracy: 0.9463 - val_loss: 0.7309 - val_accuracy: 0.8402\n",
            "Epoch 50/100\n",
            "337/337 [==============================] - 38s 111ms/step - loss: 0.1351 - accuracy: 0.9539 - val_loss: 0.5099 - val_accuracy: 0.8767\n",
            "Epoch 51/100\n",
            "337/337 [==============================] - 40s 118ms/step - loss: 0.1306 - accuracy: 0.9544 - val_loss: 1.0626 - val_accuracy: 0.8131\n",
            "Epoch 52/100\n",
            "337/337 [==============================] - 38s 113ms/step - loss: 0.1372 - accuracy: 0.9522 - val_loss: 0.3150 - val_accuracy: 0.9230\n",
            "Epoch 53/100\n",
            "337/337 [==============================] - 37s 110ms/step - loss: 0.1396 - accuracy: 0.9541 - val_loss: 0.7575 - val_accuracy: 0.8485\n",
            "Epoch 54/100\n",
            "337/337 [==============================] - 38s 114ms/step - loss: 0.1364 - accuracy: 0.9527 - val_loss: 0.2593 - val_accuracy: 0.9313\n",
            "Epoch 55/100\n",
            "337/337 [==============================] - 37s 110ms/step - loss: 0.1316 - accuracy: 0.9543 - val_loss: 0.3989 - val_accuracy: 0.9011\n",
            "Epoch 56/100\n",
            "337/337 [==============================] - 38s 113ms/step - loss: 0.1284 - accuracy: 0.9550 - val_loss: 0.3339 - val_accuracy: 0.9165\n",
            "Epoch 57/100\n",
            "337/337 [==============================] - 37s 110ms/step - loss: 0.1240 - accuracy: 0.9558 - val_loss: 0.4031 - val_accuracy: 0.8856\n",
            "Epoch 58/100\n",
            "337/337 [==============================] - 38s 112ms/step - loss: 0.1245 - accuracy: 0.9571 - val_loss: 1.3332 - val_accuracy: 0.8089\n",
            "Epoch 59/100\n",
            "337/337 [==============================] - 39s 115ms/step - loss: 0.1269 - accuracy: 0.9553 - val_loss: 0.5251 - val_accuracy: 0.8915\n",
            "Epoch 60/100\n",
            "337/337 [==============================] - 38s 112ms/step - loss: 0.1221 - accuracy: 0.9556 - val_loss: 2.0691 - val_accuracy: 0.7493\n",
            "Epoch 61/100\n",
            "337/337 [==============================] - 37s 111ms/step - loss: 0.1177 - accuracy: 0.9598 - val_loss: 1.2007 - val_accuracy: 0.8274\n",
            "Epoch 62/100\n",
            "337/337 [==============================] - 39s 116ms/step - loss: 0.1130 - accuracy: 0.9601 - val_loss: 0.3001 - val_accuracy: 0.9206\n",
            "Epoch 63/100\n",
            "337/337 [==============================] - 38s 112ms/step - loss: 0.1171 - accuracy: 0.9581 - val_loss: 0.6408 - val_accuracy: 0.8809\n",
            "Epoch 64/100\n",
            "337/337 [==============================] - 37s 111ms/step - loss: 0.1104 - accuracy: 0.9609 - val_loss: 2.1321 - val_accuracy: 0.7741\n",
            "Epoch 65/100\n",
            "337/337 [==============================] - 39s 115ms/step - loss: 0.1104 - accuracy: 0.9632 - val_loss: 0.6123 - val_accuracy: 0.8670\n",
            "Epoch 66/100\n",
            "337/337 [==============================] - 38s 114ms/step - loss: 0.1099 - accuracy: 0.9619 - val_loss: 1.8694 - val_accuracy: 0.7726\n",
            "Epoch 67/100\n",
            "337/337 [==============================] - 37s 111ms/step - loss: 0.1097 - accuracy: 0.9616 - val_loss: 2.1444 - val_accuracy: 0.7691\n",
            "Epoch 68/100\n",
            "337/337 [==============================] - 37s 111ms/step - loss: 0.1104 - accuracy: 0.9608 - val_loss: 2.3694 - val_accuracy: 0.7806\n",
            "Epoch 69/100\n",
            "337/337 [==============================] - 39s 115ms/step - loss: 0.1099 - accuracy: 0.9595 - val_loss: 1.6350 - val_accuracy: 0.8141\n",
            "Epoch 70/100\n",
            "337/337 [==============================] - 38s 112ms/step - loss: 0.1077 - accuracy: 0.9630 - val_loss: 1.2688 - val_accuracy: 0.8135\n",
            "Epoch 71/100\n",
            "337/337 [==============================] - 37s 110ms/step - loss: 0.1041 - accuracy: 0.9649 - val_loss: 0.3129 - val_accuracy: 0.9189\n",
            "Epoch 72/100\n",
            "337/337 [==============================] - 39s 114ms/step - loss: 0.1207 - accuracy: 0.9593 - val_loss: 0.5773 - val_accuracy: 0.8839\n",
            "Epoch 73/100\n",
            "337/337 [==============================] - 38s 112ms/step - loss: 0.1058 - accuracy: 0.9630 - val_loss: 0.5046 - val_accuracy: 0.8826\n",
            "Epoch 74/100\n",
            "337/337 [==============================] - 37s 111ms/step - loss: 0.0991 - accuracy: 0.9674 - val_loss: 3.1580 - val_accuracy: 0.7285\n",
            "Epoch 75/100\n",
            "337/337 [==============================] - 37s 111ms/step - loss: 0.1039 - accuracy: 0.9623 - val_loss: 1.0352 - val_accuracy: 0.8257\n",
            "Epoch 76/100\n",
            "337/337 [==============================] - 38s 114ms/step - loss: 0.1088 - accuracy: 0.9619 - val_loss: 1.0141 - val_accuracy: 0.8109\n",
            "Epoch 77/100\n",
            "337/337 [==============================] - 37s 111ms/step - loss: 0.0976 - accuracy: 0.9642 - val_loss: 0.5866 - val_accuracy: 0.8739\n",
            "Epoch 78/100\n",
            "337/337 [==============================] - 37s 111ms/step - loss: 0.1029 - accuracy: 0.9639 - val_loss: 0.1564 - val_accuracy: 0.9519\n",
            "Epoch 79/100\n",
            "337/337 [==============================] - 39s 114ms/step - loss: 0.0891 - accuracy: 0.9687 - val_loss: 0.2953 - val_accuracy: 0.9233\n",
            "Epoch 80/100\n",
            "337/337 [==============================] - 38s 112ms/step - loss: 0.0954 - accuracy: 0.9668 - val_loss: 1.1646 - val_accuracy: 0.8102\n",
            "Epoch 81/100\n",
            "337/337 [==============================] - 38s 112ms/step - loss: 0.0858 - accuracy: 0.9710 - val_loss: 0.7839 - val_accuracy: 0.8698\n",
            "Epoch 82/100\n",
            "337/337 [==============================] - 39s 115ms/step - loss: 0.0960 - accuracy: 0.9657 - val_loss: 0.4371 - val_accuracy: 0.9063\n",
            "Epoch 83/100\n",
            "337/337 [==============================] - 38s 112ms/step - loss: 0.0941 - accuracy: 0.9685 - val_loss: 0.7117 - val_accuracy: 0.8794\n",
            "Epoch 84/100\n",
            "337/337 [==============================] - 38s 111ms/step - loss: 0.0974 - accuracy: 0.9661 - val_loss: 0.4420 - val_accuracy: 0.8991\n",
            "Epoch 85/100\n",
            "337/337 [==============================] - 37s 110ms/step - loss: 0.0909 - accuracy: 0.9680 - val_loss: 2.0811 - val_accuracy: 0.8030\n",
            "Epoch 86/100\n",
            "337/337 [==============================] - 38s 113ms/step - loss: 0.0918 - accuracy: 0.9675 - val_loss: 0.3189 - val_accuracy: 0.9180\n",
            "Epoch 87/100\n",
            "337/337 [==============================] - 37s 111ms/step - loss: 0.0939 - accuracy: 0.9675 - val_loss: 0.3377 - val_accuracy: 0.9194\n",
            "Epoch 88/100\n",
            "337/337 [==============================] - 37s 109ms/step - loss: 0.0927 - accuracy: 0.9664 - val_loss: 0.2462 - val_accuracy: 0.9391\n",
            "Epoch 89/100\n",
            "337/337 [==============================] - 38s 112ms/step - loss: 0.0829 - accuracy: 0.9699 - val_loss: 1.2275 - val_accuracy: 0.8387\n",
            "Epoch 90/100\n",
            "337/337 [==============================] - 38s 112ms/step - loss: 0.0912 - accuracy: 0.9673 - val_loss: 0.4234 - val_accuracy: 0.9072\n",
            "Epoch 91/100\n",
            "337/337 [==============================] - 37s 110ms/step - loss: 0.0834 - accuracy: 0.9697 - val_loss: 0.9882 - val_accuracy: 0.8328\n",
            "Epoch 92/100\n",
            "337/337 [==============================] - 38s 114ms/step - loss: 0.0820 - accuracy: 0.9714 - val_loss: 2.0367 - val_accuracy: 0.7702\n",
            "Epoch 93/100\n",
            "337/337 [==============================] - 38s 111ms/step - loss: 0.0828 - accuracy: 0.9713 - val_loss: 1.6877 - val_accuracy: 0.8054\n",
            "Epoch 94/100\n",
            "337/337 [==============================] - 37s 110ms/step - loss: 0.0800 - accuracy: 0.9720 - val_loss: 1.1703 - val_accuracy: 0.8257\n",
            "Epoch 95/100\n",
            "337/337 [==============================] - 37s 109ms/step - loss: 0.0836 - accuracy: 0.9711 - val_loss: 0.4833 - val_accuracy: 0.9011\n",
            "Epoch 96/100\n",
            "337/337 [==============================] - 38s 113ms/step - loss: 0.0775 - accuracy: 0.9726 - val_loss: 1.0110 - val_accuracy: 0.8394\n",
            "Epoch 97/100\n",
            "337/337 [==============================] - 38s 111ms/step - loss: 0.0802 - accuracy: 0.9724 - val_loss: 1.5904 - val_accuracy: 0.8261\n",
            "Epoch 98/100\n",
            "337/337 [==============================] - 37s 109ms/step - loss: 0.0936 - accuracy: 0.9683 - val_loss: 0.4001 - val_accuracy: 0.9083\n",
            "Epoch 99/100\n",
            "337/337 [==============================] - 38s 112ms/step - loss: 0.0776 - accuracy: 0.9730 - val_loss: 0.6429 - val_accuracy: 0.8811\n",
            "Epoch 100/100\n",
            "337/337 [==============================] - 37s 111ms/step - loss: 0.0812 - accuracy: 0.9719 - val_loss: 0.4397 - val_accuracy: 0.9069\n"
          ],
          "name": "stdout"
        }
      ]
    }
  ]
}